{
 "cells": [
  {
   "cell_type": "markdown",
   "id": "654eb5ea",
   "metadata": {},
   "source": [
    "## googog"
   ]
  },
  {
   "cell_type": "markdown",
   "id": "074acbd7",
   "metadata": {},
   "source": [
    "Paramètre point"
   ]
  },
  {
   "cell_type": "markdown",
   "id": "ec957a0d",
   "metadata": {},
   "source": [
    "zefpojzefpojzepojfpozejpojzepojf"
   ]
  },
  {
   "cell_type": "code",
   "execution_count": 2,
   "id": "87d29418",
   "metadata": {},
   "outputs": [
    {
     "ename": "NameError",
     "evalue": "name 'dj_create_db' is not defined",
     "output_type": "error",
     "traceback": [
      "\u001b[0;31m---------------------------------------------------------------------------\u001b[0m",
      "\u001b[0;31mNameError\u001b[0m                                 Traceback (most recent call last)",
      "Cell \u001b[0;32mIn[2], line 1\u001b[0m\n\u001b[0;32m----> 1\u001b[0m \u001b[43mdj_create_db\u001b[49m()\n",
      "\u001b[0;31mNameError\u001b[0m: name 'dj_create_db' is not defined"
     ]
    }
   ],
   "source": [
    "clear_village_territory()\n",
    "build_village()"
   ]
  },
  {
   "cell_type": "code",
   "execution_count": null,
   "id": "f181a494",
   "metadata": {},
   "outputs": [],
   "source": []
  }
 ],
 "metadata": {
  "kernelspec": {
   "display_name": "Django Shell-Plus",
   "language": "python",
   "name": "django_extensions"
  },
  "language_info": {
   "codemirror_mode": {
    "name": "ipython",
    "version": 3
   },
   "file_extension": ".py",
   "mimetype": "text/x-python",
   "name": "python",
   "nbconvert_exporter": "python",
   "pygments_lexer": "ipython3",
   "version": "3.10.13"
  }
 },
 "nbformat": 4,
 "nbformat_minor": 5
}
