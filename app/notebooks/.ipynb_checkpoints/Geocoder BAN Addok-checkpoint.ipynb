{
 "cells": [
  {
   "cell_type": "code",
   "execution_count": 13,
   "id": "e9b76cb8",
   "metadata": {},
   "outputs": [],
   "source": [
    "import os\n",
    "from pprint import pprint\n",
    "from batid.services.ban import BanFetcher\n",
    "# necessary for SQL query execution from Jupyter\n",
    "os.environ[\"DJANGO_ALLOW_ASYNC_UNSAFE\"] = \"true\""
   ]
  },
  {
   "cell_type": "code",
   "execution_count": 14,
   "id": "c4fff5a8",
   "metadata": {},
   "outputs": [
    {
     "name": "stdout",
     "output_type": "stream",
     "text": [
      "{'attribution': 'BAN',\n",
      " 'features': [{'geometry': {'coordinates': [-0.453223, 44.777765],\n",
      "                            'type': 'Point'},\n",
      "               'properties': {'city': 'Cénac',\n",
      "                              'citycode': '33118',\n",
      "                              'context': '33, Gironde, Nouvelle-Aquitaine',\n",
      "                              'housenumber': '52bis',\n",
      "                              'id': '33118_0060_00052_bis',\n",
      "                              'importance': 0.55192,\n",
      "                              'label': '52bis Avenue de Moutille 33360 Cénac',\n",
      "                              'name': '52bis Avenue de Moutille',\n",
      "                              'postcode': '33360',\n",
      "                              'score': 0.789177478005865,\n",
      "                              'street': 'Avenue de Moutille',\n",
      "                              'type': 'housenumber',\n",
      "                              'x': 426895.8,\n",
      "                              'y': 6414708.37},\n",
      "               'type': 'Feature'},\n",
      "              {'geometry': {'coordinates': [-0.454336, 44.777001],\n",
      "                            'type': 'Point'},\n",
      "               'properties': {'city': 'Cénac',\n",
      "                              'citycode': '33118',\n",
      "                              'context': '33, Gironde, Nouvelle-Aquitaine',\n",
      "                              'id': '33118_afh081',\n",
      "                              'importance': 0.42535,\n",
      "                              'label': 'Clos Moutille 33360 Cénac',\n",
      "                              'name': 'Clos Moutille',\n",
      "                              'postcode': '33360',\n",
      "                              'score': 0.41056900826446274,\n",
      "                              'street': 'Clos Moutille',\n",
      "                              'type': 'street',\n",
      "                              'x': 426804.12,\n",
      "                              'y': 6414627.44},\n",
      "               'type': 'Feature'},\n",
      "              {'geometry': {'coordinates': [-0.454159, 44.776707],\n",
      "                            'type': 'Point'},\n",
      "               'properties': {'city': 'Cénac',\n",
      "                              'citycode': '33118',\n",
      "                              'context': '33, Gironde, Nouvelle-Aquitaine',\n",
      "                              'id': '33118_A230',\n",
      "                              'importance': 0.41764,\n",
      "                              'label': 'Lotissement le Clos Moutille 33360 '\n",
      "                                       'Cénac',\n",
      "                              'name': 'Lotissement le Clos Moutille',\n",
      "                              'postcode': '33360',\n",
      "                              'score': 0.36524,\n",
      "                              'street': 'Lotissement le Clos Moutille',\n",
      "                              'type': 'street',\n",
      "                              'x': 426816.68,\n",
      "                              'y': 6414594.2},\n",
      "               'type': 'Feature'}],\n",
      " 'licence': 'ETALAB-2.0',\n",
      " 'limit': 5,\n",
      " 'query': '52 bis avenue de moutille cénac',\n",
      " 'type': 'FeatureCollection',\n",
      " 'version': 'draft'}\n"
     ]
    }
   ],
   "source": [
    "fetcher = BanFetcher()\n",
    "results = fetcher.geocode(\"52 bis avenue de moutille cénac\")\n",
    "pprint(results)"
   ]
  },
  {
   "cell_type": "code",
   "execution_count": 15,
   "id": "e657f9f3",
   "metadata": {},
   "outputs": [
    {
     "ename": "AttributeError",
     "evalue": "'BanFetcher' object has no attribute 'reverse'",
     "output_type": "error",
     "traceback": [
      "\u001b[0;31m---------------------------------------------------------------------------\u001b[0m",
      "\u001b[0;31mAttributeError\u001b[0m                            Traceback (most recent call last)",
      "Cell \u001b[0;32mIn[15], line 1\u001b[0m\n\u001b[0;32m----> 1\u001b[0m \u001b[43mfetcher\u001b[49m\u001b[38;5;241;43m.\u001b[39;49m\u001b[43mreverse\u001b[49m(\u001b[38;5;241m45.5640102\u001b[39m, \u001b[38;5;241m5.4411663\u001b[39m)\n",
      "\u001b[0;31mAttributeError\u001b[0m: 'BanFetcher' object has no attribute 'reverse'"
     ]
    }
   ],
   "source": [
    "fetcher.reverse(lat=45.5640102, lng=5.4411663)"
   ]
  },
  {
   "cell_type": "code",
   "execution_count": null,
   "id": "971ab39e",
   "metadata": {},
   "outputs": [],
   "source": []
  }
 ],
 "metadata": {
  "kernelspec": {
   "display_name": "Django Shell-Plus",
   "language": "python",
   "name": "django_extensions"
  },
  "language_info": {
   "codemirror_mode": {
    "name": "ipython",
    "version": 3
   },
   "file_extension": ".py",
   "mimetype": "text/x-python",
   "name": "python",
   "nbconvert_exporter": "python",
   "pygments_lexer": "ipython3",
   "version": "3.10.13"
  }
 },
 "nbformat": 4,
 "nbformat_minor": 5
}
