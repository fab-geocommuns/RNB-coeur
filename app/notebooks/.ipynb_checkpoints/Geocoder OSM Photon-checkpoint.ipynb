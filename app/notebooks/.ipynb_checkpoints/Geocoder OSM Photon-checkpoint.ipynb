{
 "cells": [
  {
   "cell_type": "code",
   "execution_count": 1,
   "id": "5305f871",
   "metadata": {},
   "outputs": [],
   "source": [
    "import os\n",
    "from pprint import pprint\n",
    "from batid.services.geocoders import PhotonGeocoder\n",
    "# necessary for SQL query execution from Jupyter\n",
    "os.environ[\"DJANGO_ALLOW_ASYNC_UNSAFE\"] = \"true\""
   ]
  },
  {
   "cell_type": "code",
   "execution_count": 9,
   "id": "50ab28c8",
   "metadata": {},
   "outputs": [
    {
     "name": "stdout",
     "output_type": "stream",
     "text": [
      "https://photon.komoot.io/api/?q=GYMNASE+DE+L%27HOTEL+DE+VILLE&limit=1\n",
      "<Response [200]>\n",
      "{'features': [{'geometry': {'coordinates': [6.020834582373032, 46.5208369], 'type': 'Point'}, 'type': 'Feature', 'properties': {'osm_id': 98443887, 'extent': [6.020435, 46.5211, 6.0211868, 46.5206039], 'country': 'France', 'city': 'Morez', 'countrycode': 'FR', 'postcode': '39400', 'locality': 'Villedieu', 'county': 'Jura', 'type': 'house', 'osm_type': 'W', 'osm_key': 'leisure', 'street': 'Quai Jobez', 'district': 'Morez', 'osm_value': 'sports_hall', 'name': \"Gymnase de l'Hôtel de Ville\", 'state': 'Bourgogne-Franche-Comté'}}], 'type': 'FeatureCollection'}\n"
     ]
    }
   ],
   "source": [
    "q = \"GYMNASE DE L'HOTEL DE VILLE\"\n",
    "lat_lng = \"46.10722,5.82611\"\n",
    "lat_lng = lat_lng.replace(\" \", \"\")\n",
    "lat, lng = lat_lng.split(\",\")\n",
    "\n",
    "params = {\n",
    "    'q': q,\n",
    "    'lat': lat,\n",
    "    'lon': lng,\n",
    "    \"limit\": 1\n",
    "}\n",
    "\n",
    "g = PhotonGeocoder()\n",
    "r = g.geocode(params)\n",
    "print(r.url)\n",
    "pprint(r)\n",
    "print(r.json())"
   ]
  },
  {
   "cell_type": "code",
   "execution_count": null,
   "id": "203d7655",
   "metadata": {},
   "outputs": [],
   "source": []
  }
 ],
 "metadata": {
  "kernelspec": {
   "display_name": "Django Shell-Plus",
   "language": "python",
   "name": "django_extensions"
  },
  "language_info": {
   "codemirror_mode": {
    "name": "ipython",
    "version": 3
   },
   "file_extension": ".py",
   "mimetype": "text/x-python",
   "name": "python",
   "nbconvert_exporter": "python",
   "pygments_lexer": "ipython3",
   "version": "3.10.13"
  }
 },
 "nbformat": 4,
 "nbformat_minor": 5
}
