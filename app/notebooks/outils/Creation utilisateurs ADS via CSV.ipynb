{
 "cells": [
  {
   "metadata": {},
   "cell_type": "markdown",
   "source": [
    "# Création d'utilisateurs ADS via un CSV\n",
    "Ce notebook sert à créer des utilisateurs ADS via l'API `POST /api/alpha/ads/token/`>\n",
    "\n",
    "Il est à modifier si besoin en fonction du format de CSV en entrée."
   ],
   "id": "8b52c291324a915c"
  },
  {
   "metadata": {},
   "cell_type": "code",
   "outputs": [],
   "execution_count": null,
   "source": [
    "import csv\n",
    "import json\n",
    "import re\n",
    "import requests\n",
    "import os\n",
    "\n",
    "csv_path_input = os.environ['INPUT_CSV_FILE']\n",
    "csv_path_output = os.environ['OUTPUT_CSV_FILE']\n",
    "base_url = 'https://rnb-api.beta.gouv.fr/api/alpha/'\n",
    "token_superuser = os.environ['SUPERUSER_TOKEN']"
   ],
   "id": "7c7615e4be2a607e"
  },
  {
   "metadata": {},
   "cell_type": "code",
   "outputs": [],
   "execution_count": null,
   "source": [
    "# Open the input csv file\n",
    "with open(csv_path_input, newline='') as csvfile:\n",
    "    csvreader = csv.reader(csvfile, delimiter=',')\n",
    "\n",
    "    # Skip headers\n",
    "    next(csvreader, None)\n",
    "\n",
    "    # Build our model from the CSV file. CSV format:\n",
    "    # ['4z0bXY', 'lWj245', '2024-06-17 15:25:29', 'some@gmail.com', 'Test org', '75056;93048;93006']\n",
    "    all_users = []\n",
    "    for row in csvreader:\n",
    "        delimiter = ' '\n",
    "        if ',' in row[5]:\n",
    "            delimiter = ','\n",
    "        elif ';' in row[5]:\n",
    "            delimiter = ';'\n",
    "\n",
    "        codes_insee = [element.strip() for element in re.split(delimiter, row[5]) if element.strip()]\n",
    "\n",
    "        all_users.append({\n",
    "            \"username\": row[3],\n",
    "            \"email\": row[3],\n",
    "            \"organization_name\": row[4],\n",
    "            \"organization_managed_cities\": codes_insee\n",
    "        })\n",
    "\n",
    "    # Create users using API\n",
    "    response = requests.post(base_url + 'ads/token/',\n",
    "                             data=json.dumps(all_users),\n",
    "                             headers={'Authorization': 'Token ' + token_superuser})\n",
    "\n",
    "    all_created_users = response.json()['created_users']\n",
    "\n",
    "    # Write the result in the CSV output file\n",
    "    with open(csv_path_output, 'w', encoding='UTF8', newline='') as csvfile_output:\n",
    "        writer = csv.writer(csvfile_output)\n",
    "        writer.writerow(['username', 'organization_name', 'email', 'password', 'token'])\n",
    "        for user in all_created_users:\n",
    "            writer.writerow(list(user.values()))\n"
   ],
   "id": "114e27874407549e"
  }
 ],
 "metadata": {
  "kernelspec": {
   "display_name": "Python 3",
   "language": "python",
   "name": "python3"
  },
  "language_info": {
   "codemirror_mode": {
    "name": "ipython",
    "version": 2
   },
   "file_extension": ".py",
   "mimetype": "text/x-python",
   "name": "python",
   "nbconvert_exporter": "python",
   "pygments_lexer": "ipython2",
   "version": "2.7.6"
  }
 },
 "nbformat": 4,
 "nbformat_minor": 5
}
