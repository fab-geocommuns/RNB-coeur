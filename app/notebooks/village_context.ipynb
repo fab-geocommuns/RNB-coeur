{
 "cells": [
  {
   "cell_type": "markdown",
   "id": "81af01fa",
   "metadata": {},
   "source": [
    "## Travailler avec un Notebook dans le village\n",
    "\n",
    "J'expérimente ici pour voir comment il est possible de travailler avec une base qui ne contient que notre \"village\", faire des requêtes dedans mais sans toucher au contenu de la base."
   ]
  },
  {
   "cell_type": "code",
   "execution_count": 6,
   "id": "7eef1dc6",
   "metadata": {},
   "outputs": [],
   "source": [
    "import os\n",
    "os.environ[\"DJANGO_ALLOW_ASYNC_UNSAFE\"] = \"true\""
   ]
  },
  {
   "cell_type": "code",
   "execution_count": 7,
   "id": "e120a98d",
   "metadata": {},
   "outputs": [],
   "source": [
    "from batid.models import Building"
   ]
  },
  {
   "cell_type": "code",
   "execution_count": 8,
   "id": "b96cd8aa",
   "metadata": {},
   "outputs": [],
   "source": [
    "from contextlib import ContextDecorator\n",
    "from django.db import transaction\n",
    "from django.db import connection\n",
    "from batid.tests.test_search import create_village\n",
    "\n",
    "# création d'un décorateur qui vide la table building (et les tables associées en cascade)\n",
    "class insert_village(ContextDecorator):\n",
    "    def __enter__(self):\n",
    "        cursor = connection.cursor()\n",
    "        cursor.execute('BEGIN TRANSACTION')\n",
    "        cursor.execute('TRUNCATE TABLE batid_building CASCADE')\n",
    "        create_village()\n",
    "        return self\n",
    "\n",
    "    def __exit__(self, *exc):\n",
    "        cursor.execute('ROLLBACK TRANSACTION')\n",
    "        return False\n",
    "\n",
    "# le décorateur précédent est appelé par le décorateur transaction.atomic() qui permet de ne pas faire de commit \n",
    "# dans la base après chaque execution SQL, mais de tout wrapper dans une transaction que l'on peut rollback \n",
    "# une fois terminée\n",
    "def in_village(func):\n",
    "    from django.db import transaction\n",
    "    return transaction.atomic(insert_village()(func))"
   ]
  },
  {
   "cell_type": "markdown",
   "id": "93952520",
   "metadata": {},
   "source": [
    "rajout d'une fonction de display de carte à titre d'exemple"
   ]
  },
  {
   "cell_type": "code",
   "execution_count": 9,
   "id": "7a6c0669",
   "metadata": {},
   "outputs": [],
   "source": [
    "import json\n",
    "from ipyleaflet import Map, Marker, GeoJSON\n",
    "\n",
    "def show_building(building):\n",
    "    shape = building.shape\n",
    "    shape_4326 = shape.transform(4326)\n",
    "    geojson = json.loads(shape.geojson)\n",
    "    building.point.transform(4326)\n",
    "\n",
    "    [lon, lat] = building.point.coords\n",
    "    m = Map(center=[lat, lon], zoom=17)\n",
    "    geojson = GeoJSON(data=geojson)\n",
    "    m.add_layer(geojson)\n",
    "    display(m)"
   ]
  },
  {
   "cell_type": "markdown",
   "id": "40dfc8d7",
   "metadata": {},
   "source": [
    "exemple de création d'une fonction que l'on décore avec @in_village, ce qui la place automatiquement dans un contexte où la base ne contient que le village"
   ]
  },
  {
   "cell_type": "code",
   "execution_count": 10,
   "id": "2854e3aa",
   "metadata": {},
   "outputs": [],
   "source": [
    "from django.db import transaction\n",
    "\n",
    "@in_village\n",
    "def test():\n",
    "    building = Building.objects.all()[0]\n",
    "    return building"
   ]
  },
  {
   "cell_type": "code",
   "execution_count": 14,
   "id": "4ad106cc",
   "metadata": {
    "scrolled": true
   },
   "outputs": [
    {
     "name": "stdout",
     "output_type": "stream",
     "text": [
      "la base contient 0 batiments\n",
      "je fais une requête dans le village\n"
     ]
    },
    {
     "data": {
      "application/vnd.jupyter.widget-view+json": {
       "model_id": "c2f501ebe2474fa2883e042efb82bb8a",
       "version_major": 2,
       "version_minor": 0
      },
      "text/plain": [
       "Map(center=[45.12729386087943, 5.5252574166289214], controls=(ZoomControl(options=['position', 'zoom_in_text',…"
      ]
     },
     "metadata": {},
     "output_type": "display_data"
    },
    {
     "name": "stdout",
     "output_type": "stream",
     "text": [
      "la base contient à la fin de l'opération 0 batiments\n"
     ]
    }
   ],
   "source": [
    "print(f\"la base contient {len(Building.objects.all())} batiments\")\n",
    "print(\"je fais une requête dans le village\")\n",
    "building = test()\n",
    "show_building(building)\n",
    "print(f\"la base contient à la fin de l'opération {len(Building.objects.all())} batiments, comme initialement\")"
   ]
  },
  {
   "cell_type": "code",
   "execution_count": null,
   "id": "1e637cc3",
   "metadata": {},
   "outputs": [],
   "source": []
  }
 ],
 "metadata": {
  "kernelspec": {
   "display_name": "Django Shell-Plus",
   "language": "python",
   "name": "django_extensions"
  },
  "language_info": {
   "codemirror_mode": {
    "name": "ipython",
    "version": 3
   },
   "file_extension": ".py",
   "mimetype": "text/x-python",
   "name": "python",
   "nbconvert_exporter": "python",
   "pygments_lexer": "ipython3",
   "version": "3.10.13"
  }
 },
 "nbformat": 4,
 "nbformat_minor": 5
}
