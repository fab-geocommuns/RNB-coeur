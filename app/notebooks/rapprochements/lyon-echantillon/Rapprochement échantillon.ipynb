{
 "cells": [
  {
   "cell_type": "code",
   "execution_count": 1,
   "id": "c6ad7dd0",
   "metadata": {},
   "outputs": [],
   "source": [
    "import json\n",
    "import geopandas as gpd\n",
    "import pandas as pd\n",
    "from django.contrib.gis.geos import GEOSGeometry\n",
    "from shapely.geometry import mapping\n",
    "from batid.services.guess_bdg_new import Guesser, PartialRoofHandler\n",
    "os.environ[\"DJANGO_ALLOW_ASYNC_UNSAFE\"] = \"true\"\n",
    "\n",
    "f_path = './export_rnb.gpkg'\n",
    "workfile_path = \"./guess.json\""
   ]
  },
  {
   "cell_type": "code",
   "execution_count": 2,
   "id": "b1788a30",
   "metadata": {},
   "outputs": [
    {
     "name": "stdout",
     "output_type": "stream",
     "text": [
      "SRID\n",
      "3946\n",
      "Get a sneakpeak of the data\n",
      "   gid  fid     id        parcelle       typetoit  hfacade  ztoitmini  \\\n",
      "0  NaN    1  42119  69259000CA0036  Toit non plan      5.6      217.0   \n",
      "1  NaN    1  37869  69259000CE0104      Toit plan     20.2      231.8   \n",
      "2  NaN    1  37885  69259000BY0082  Toit non plan      4.4      207.7   \n",
      "3  NaN    1  37886  69259000BY0093      Toit plan      2.7      207.3   \n",
      "4  NaN    1  37887  69259000BY0093  Toit non plan      4.4      207.7   \n",
      "\n",
      "   ztoitmaxi  hmax  millesime  _predicate  \\\n",
      "0      219.8   8.4       2018  INTERSECTS   \n",
      "1      231.8  20.2       2018  INTERSECTS   \n",
      "2      209.1   5.8       2018  INTERSECTS   \n",
      "3      207.3   2.7       2018  INTERSECTS   \n",
      "4      209.1   5.8       2018  INTERSECTS   \n",
      "\n",
      "                                            geometry  \n",
      "0  POLYGON ((1844725.515 5168325.123, 1844724.025...  \n",
      "1  POLYGON ((1845761.464 5167720.974, 1845759.953...  \n",
      "2  POLYGON ((1845879.239 5168615.414, 1845879.364...  \n",
      "3  POLYGON ((1845882.089 5168610.394, 1845884.432...  \n",
      "4  POLYGON ((1845887.997 5168602.088, 1845888.030...  \n",
      "Rows count\n",
      "9862\n"
     ]
    }
   ],
   "source": [
    "gdf = gpd.read_file(f_path, layer=\"toit\")\n",
    "\n",
    "print('SRID')\n",
    "srid = gdf.crs.to_epsg()\n",
    "print(srid)\n",
    "\n",
    "print(\"Get a sneakpeak of the data\")\n",
    "print(gdf.head())\n",
    "\n",
    "print(\"Rows count\")\n",
    "print(len(gdf))\n",
    "\n"
   ]
  },
  {
   "cell_type": "code",
   "execution_count": 3,
   "id": "17318702",
   "metadata": {},
   "outputs": [],
   "source": [
    "# Define function to transform geopackage rows into guess work file inputs\n",
    "def to_input(row):\n",
    "    \n",
    "    geom_geojson = mapping(row[\"geometry\"])\n",
    "    geom = GEOSGeometry(json.dumps(geom_geojson))\n",
    "    geom.srid = srid\n",
    "    geom.transform(4326)\n",
    "    \n",
    "    \n",
    "    return {\n",
    "        'ext_id': row[\"id\"],\n",
    "        'polygon': json.loads(geom.json)\n",
    "    }"
   ]
  },
  {
   "cell_type": "code",
   "execution_count": 4,
   "id": "9c2fd5c6",
   "metadata": {},
   "outputs": [
    {
     "name": "stdout",
     "output_type": "stream",
     "text": [
      "Sneak peak of row to inputs transformation\n",
      "[{'ext_id': 42119, 'polygon': {'type': 'Polygon', 'coordinates': [[[4.858588636054994, 45.699804623187475], [4.8585692463174, 45.69979684270552], [4.858548765629505, 45.69980366416946], [4.858588636054994, 45.699804623187475]]]}}]\n",
      "Guesser had 9862 guesses\n"
     ]
    }
   ],
   "source": [
    "# Build inputs\n",
    "inputs = []\n",
    "max_len = None\n",
    "\n",
    "for idx, row in gdf.iterrows():\n",
    "    inputs.append(to_input(row))\n",
    "    \n",
    "    if max_len and len(inputs) >= max_len:\n",
    "        break\n",
    "\n",
    "print('Sneak peak of row to inputs transformation')\n",
    "print(inputs[:1])\n",
    "\n",
    "\n",
    "# Add just a few guesses to check first results\n",
    "guesser = Guesser()\n",
    "guesser.create_work_file(inputs, workfile_path)\n",
    "\n",
    "print(f\"Guesser had {len(guesser.guesses)} guesses\")\n",
    "\n"
   ]
  },
  {
   "cell_type": "code",
   "execution_count": 5,
   "id": "5e944323",
   "metadata": {},
   "outputs": [
    {
     "name": "stdout",
     "output_type": "stream",
     "text": [
      "Worked on 9862 guesses\n",
      "Duration : 318.26511293899966 seconds\n"
     ]
    }
   ],
   "source": [
    "import time\n",
    "\n",
    "# Launch the guess work with specific handlers\n",
    "guesser = Guesser()\n",
    "guesser.handlers = [PartialRoofHandler()]\n",
    "\n",
    "start = time.perf_counter()\n",
    "guesser.guess_work_file(workfile_path)\n",
    "end = time.perf_counter()\n",
    "\n",
    "\n",
    "print(f\"Worked on {len(guesser.guesses)} guesses\")\n",
    "print(f\"Duration : {end - start} seconds\")"
   ]
  },
  {
   "cell_type": "code",
   "execution_count": 6,
   "id": "a5c5b1f5",
   "metadata": {},
   "outputs": [
    {
     "name": "stdout",
     "output_type": "stream",
     "text": [
      "-- Report --\n",
      "Number of rows: 9862\n",
      "Number of match: 7720 (78.28%)\n",
      "\n",
      "-- match_reasons : absolute --\n",
      "sole_bdg_intersects_roof_enough     7371\n",
      "isolated_bdg_intersects_roof         185\n",
      "many_bdgs_covered_enough_by_roof     164\n",
      "Name: match_reason, dtype: int64\n",
      "\n",
      "-- match_reasons : % --\n",
      "sole_bdg_intersects_roof_enough     74.741432\n",
      "isolated_bdg_intersects_roof         1.875887\n",
      "many_bdgs_covered_enough_by_roof     1.662949\n",
      "Name: match_reason, dtype: float64\n"
     ]
    }
   ],
   "source": [
    "# Report\n",
    "\n",
    "guesser = Guesser()\n",
    "guesser.load_work_file(workfile_path)\n",
    "\n",
    "guesser.report()"
   ]
  },
  {
   "cell_type": "markdown",
   "id": "1259ebbf",
   "metadata": {},
   "source": [
    "## Vérification de la présence de faux positifs"
   ]
  },
  {
   "cell_type": "code",
   "execution_count": 7,
   "id": "e48c106b",
   "metadata": {},
   "outputs": [
    {
     "ename": "KeyError",
     "evalue": "('input_ext_id', 'match_rnb_id', 'match_reason')",
     "output_type": "error",
     "traceback": [
      "\u001b[0;31m---------------------------------------------------------------------------\u001b[0m",
      "\u001b[0;31mKeyError\u001b[0m                                  Traceback (most recent call last)",
      "File \u001b[0;32m/usr/local/lib/python3.10/site-packages/pandas/core/indexes/base.py:3802\u001b[0m, in \u001b[0;36mIndex.get_loc\u001b[0;34m(self, key, method, tolerance)\u001b[0m\n\u001b[1;32m   3801\u001b[0m \u001b[38;5;28;01mtry\u001b[39;00m:\n\u001b[0;32m-> 3802\u001b[0m     \u001b[38;5;28;01mreturn\u001b[39;00m \u001b[38;5;28;43mself\u001b[39;49m\u001b[38;5;241;43m.\u001b[39;49m\u001b[43m_engine\u001b[49m\u001b[38;5;241;43m.\u001b[39;49m\u001b[43mget_loc\u001b[49m\u001b[43m(\u001b[49m\u001b[43mcasted_key\u001b[49m\u001b[43m)\u001b[49m\n\u001b[1;32m   3803\u001b[0m \u001b[38;5;28;01mexcept\u001b[39;00m \u001b[38;5;167;01mKeyError\u001b[39;00m \u001b[38;5;28;01mas\u001b[39;00m err:\n",
      "File \u001b[0;32m/usr/local/lib/python3.10/site-packages/pandas/_libs/index.pyx:138\u001b[0m, in \u001b[0;36mpandas._libs.index.IndexEngine.get_loc\u001b[0;34m()\u001b[0m\n",
      "File \u001b[0;32m/usr/local/lib/python3.10/site-packages/pandas/_libs/index.pyx:165\u001b[0m, in \u001b[0;36mpandas._libs.index.IndexEngine.get_loc\u001b[0;34m()\u001b[0m\n",
      "File \u001b[0;32mpandas/_libs/hashtable_class_helper.pxi:5745\u001b[0m, in \u001b[0;36mpandas._libs.hashtable.PyObjectHashTable.get_item\u001b[0;34m()\u001b[0m\n",
      "File \u001b[0;32mpandas/_libs/hashtable_class_helper.pxi:5753\u001b[0m, in \u001b[0;36mpandas._libs.hashtable.PyObjectHashTable.get_item\u001b[0;34m()\u001b[0m\n",
      "\u001b[0;31mKeyError\u001b[0m: ('input_ext_id', 'match_rnb_id', 'match_reason')",
      "\nThe above exception was the direct cause of the following exception:\n",
      "\u001b[0;31mKeyError\u001b[0m                                  Traceback (most recent call last)",
      "Cell \u001b[0;32mIn[7], line 5\u001b[0m\n\u001b[1;32m      1\u001b[0m guesser \u001b[38;5;241m=\u001b[39m Guesser()\n\u001b[1;32m      2\u001b[0m guesser\u001b[38;5;241m.\u001b[39mload_work_file(workfile_path)\n\u001b[0;32m----> 5\u001b[0m \u001b[43mguesser\u001b[49m\u001b[38;5;241;43m.\u001b[39;49m\u001b[43mdisplay_reason\u001b[49m\u001b[43m(\u001b[49m\u001b[38;5;124;43m\"\u001b[39;49m\u001b[38;5;124;43msole_bdg_intersects_roof_enough\u001b[39;49m\u001b[38;5;124;43m\"\u001b[39;49m\u001b[43m,\u001b[49m\u001b[43m \u001b[49m\u001b[38;5;241;43m50\u001b[39;49m\u001b[43m)\u001b[49m\n",
      "File \u001b[0;32m/app/batid/services/guess_bdg_new.py:108\u001b[0m, in \u001b[0;36mGuesser.display_reason\u001b[0;34m(self, reason, count, cols)\u001b[0m\n\u001b[1;32m    105\u001b[0m df \u001b[38;5;241m=\u001b[39m pd\u001b[38;5;241m.\u001b[39mjson_normalize(data, sep\u001b[38;5;241m=\u001b[39m\u001b[38;5;124m\"\u001b[39m\u001b[38;5;124m_\u001b[39m\u001b[38;5;124m\"\u001b[39m)\n\u001b[1;32m    107\u001b[0m reasons \u001b[38;5;241m=\u001b[39m df[df[\u001b[38;5;124m\"\u001b[39m\u001b[38;5;124mmatch_reason\u001b[39m\u001b[38;5;124m\"\u001b[39m] \u001b[38;5;241m==\u001b[39m reason]\n\u001b[0;32m--> 108\u001b[0m reasons \u001b[38;5;241m=\u001b[39m \u001b[43mreasons\u001b[49m\u001b[43m[\u001b[49m\u001b[43mcols\u001b[49m\u001b[43m]\u001b[49m\n\u001b[1;32m    110\u001b[0m \u001b[38;5;28mprint\u001b[39m(reasons\u001b[38;5;241m.\u001b[39msample(count))\n",
      "File \u001b[0;32m/usr/local/lib/python3.10/site-packages/pandas/core/frame.py:3807\u001b[0m, in \u001b[0;36mDataFrame.__getitem__\u001b[0;34m(self, key)\u001b[0m\n\u001b[1;32m   3805\u001b[0m \u001b[38;5;28;01mif\u001b[39;00m \u001b[38;5;28mself\u001b[39m\u001b[38;5;241m.\u001b[39mcolumns\u001b[38;5;241m.\u001b[39mnlevels \u001b[38;5;241m>\u001b[39m \u001b[38;5;241m1\u001b[39m:\n\u001b[1;32m   3806\u001b[0m     \u001b[38;5;28;01mreturn\u001b[39;00m \u001b[38;5;28mself\u001b[39m\u001b[38;5;241m.\u001b[39m_getitem_multilevel(key)\n\u001b[0;32m-> 3807\u001b[0m indexer \u001b[38;5;241m=\u001b[39m \u001b[38;5;28;43mself\u001b[39;49m\u001b[38;5;241;43m.\u001b[39;49m\u001b[43mcolumns\u001b[49m\u001b[38;5;241;43m.\u001b[39;49m\u001b[43mget_loc\u001b[49m\u001b[43m(\u001b[49m\u001b[43mkey\u001b[49m\u001b[43m)\u001b[49m\n\u001b[1;32m   3808\u001b[0m \u001b[38;5;28;01mif\u001b[39;00m is_integer(indexer):\n\u001b[1;32m   3809\u001b[0m     indexer \u001b[38;5;241m=\u001b[39m [indexer]\n",
      "File \u001b[0;32m/usr/local/lib/python3.10/site-packages/pandas/core/indexes/base.py:3804\u001b[0m, in \u001b[0;36mIndex.get_loc\u001b[0;34m(self, key, method, tolerance)\u001b[0m\n\u001b[1;32m   3802\u001b[0m     \u001b[38;5;28;01mreturn\u001b[39;00m \u001b[38;5;28mself\u001b[39m\u001b[38;5;241m.\u001b[39m_engine\u001b[38;5;241m.\u001b[39mget_loc(casted_key)\n\u001b[1;32m   3803\u001b[0m \u001b[38;5;28;01mexcept\u001b[39;00m \u001b[38;5;167;01mKeyError\u001b[39;00m \u001b[38;5;28;01mas\u001b[39;00m err:\n\u001b[0;32m-> 3804\u001b[0m     \u001b[38;5;28;01mraise\u001b[39;00m \u001b[38;5;167;01mKeyError\u001b[39;00m(key) \u001b[38;5;28;01mfrom\u001b[39;00m \u001b[38;5;21;01merr\u001b[39;00m\n\u001b[1;32m   3805\u001b[0m \u001b[38;5;28;01mexcept\u001b[39;00m \u001b[38;5;167;01mTypeError\u001b[39;00m:\n\u001b[1;32m   3806\u001b[0m     \u001b[38;5;66;03m# If we have a listlike key, _check_indexing_error will raise\u001b[39;00m\n\u001b[1;32m   3807\u001b[0m     \u001b[38;5;66;03m#  InvalidIndexError. Otherwise we fall through and re-raise\u001b[39;00m\n\u001b[1;32m   3808\u001b[0m     \u001b[38;5;66;03m#  the TypeError.\u001b[39;00m\n\u001b[1;32m   3809\u001b[0m     \u001b[38;5;28mself\u001b[39m\u001b[38;5;241m.\u001b[39m_check_indexing_error(key)\n",
      "\u001b[0;31mKeyError\u001b[0m: ('input_ext_id', 'match_rnb_id', 'match_reason')"
     ]
    }
   ],
   "source": [
    "guesser = Guesser()\n",
    "guesser.load_work_file(workfile_path)\n",
    "\n",
    "\n",
    "guesser.display_reason(\"sole_bdg_intersects_roof_enough\", 50)"
   ]
  },
  {
   "cell_type": "markdown",
   "id": "c9f34629",
   "metadata": {},
   "source": [
    "Après inspection d'une quarantaine de résultats ayant une raison `one_bdg_intersects_roof_enough`, on constate l'absence de faux positifs.\n",
    "On peut se demander jusqu'à combien on peut descendre le taux de recouvrement minimum (pour le moment 50%) avant d'obtenir des faux positifs."
   ]
  },
  {
   "cell_type": "code",
   "execution_count": null,
   "id": "cfbd46a1",
   "metadata": {},
   "outputs": [],
   "source": [
    "guesser = Guesser()\n",
    "guesser.load_work_file(workfile_path)\n",
    "\n",
    "\n",
    "guesser.display_reason(\"isolated_bdg_intersects_roof\", 50)"
   ]
  },
  {
   "cell_type": "markdown",
   "id": "2f75bb78",
   "metadata": {},
   "source": [
    "Après inspection de 50 match pour raison `isolated_closest_bdg_intersects_roof` pris de façon aléatoire, on ne constate pas de faux positifs"
   ]
  },
  {
   "cell_type": "code",
   "execution_count": null,
   "id": "f059fc05",
   "metadata": {},
   "outputs": [],
   "source": [
    "guesser = Guesser()\n",
    "guesser.load_work_file(workfile_path)\n",
    "\n",
    "\n",
    "guesser.display_reason(\"many_bdgs_covered_enough_by_roof\", 20, [\"input_ext_id\", \"match_rnb_id\", \"match_match_details_rnb_ids\"])"
   ]
  },
  {
   "cell_type": "markdown",
   "id": "08074eff",
   "metadata": {},
   "source": [
    "## Inspection des non-match"
   ]
  },
  {
   "cell_type": "code",
   "execution_count": null,
   "id": "10e5d1f7",
   "metadata": {},
   "outputs": [],
   "source": [
    "guesser = Guesser()\n",
    "guesser.load_work_file(workfile_path)\n",
    "guesser.display_nomatches(30)"
   ]
  },
  {
   "cell_type": "markdown",
   "id": "3b650e0f",
   "metadata": {},
   "source": [
    "## Vérification de cas de non-match\n",
    "\n",
    "\n",
    "\n",
    "### 404787 -> 79QT2KSPZTYT \n",
    "- Je ne comprends pas pourquoi le résultat ne sort pas, à l'oeil je pense qu'il devrait sortir.\n",
    "- Après investigation, il apparait que le bon resultat de sortait pas car nous ne retenions que les deux premiers bâtiments les plus proche, hors dans ce cas nous avions plusieurs bâtiments ayant une distance à zéro. Le bon bâtiment ne se trouvait pas parmis les deux premiers bâtiments et n'était tout simple pas retenu. Pour corriger, nous avons gardé les 20 premiers bâtiments plutot que seulement les deux premiers\n",
    "\n",
    "\n",
    "### 429191 -> KAA6XQQXB91N\n",
    "- il devrait sortir je pense\n",
    "- après investigation : c'était un cas similaire à \"404787 -> 79QT2KSPZTYT\".\n",
    "- NB : on avait un bug important. Si on avait un seul bâtiment intersectant assez le toit parmi la liste des plus proches, alors on retournait le premier batiment de cette liste en résultat. Le souci est que ce n'est pas forcément ce bâtiment qui était celui qui correspondait.\n",
    "\n",
    "\n",
    "### 127551 -> None \n",
    "- aucun bâtiment dans le RNB\n",
    "- rien à faire\n",
    "\n",
    "### 446291 -> None \n",
    "- ne touche aucun bâtiment dans le rnb\n",
    "- rien à faire\n",
    "\n",
    "### 373773 -> RPETQK6PF2P8\n",
    "- devrait sortir. Est-ce que le second bâtiment le plus proche est trop proche ? Il est à environ 6,72 mètres. Le plafond est à 10m, est-ce qu'on l'abaisse ??\n",
    "- Solution : en descendant la distance minimum à 6 mètre, on obtient le bon résultat\n",
    "\n",
    "### 441662 -> F9VWBTYH4V24 : \n",
    "- devrait sortir. Est-ce que le second bâtiment le plus proche est trop proche ? Il est environ à 6,29m !\n",
    "- Solution : en descendant la distance minimum à 6 mètre, on obtient le bon résultat\n",
    "\n",
    "### 516611 -> SSY88WB5H2ZH : \n",
    "- devrait sortir. Pourquoi il ne sort pas ?\n",
    "- Solution : idem \"404787 -> 79QT2KSPZTYT\"\n",
    "\n",
    "### 138328 -> WZPJ61B6Z53K \n",
    "- devrait sortir. Pourquoi il ne sort pas ?\n",
    "- Solution : idem \"404787 -> 79QT2KSPZTYT\"\n"
   ]
  },
  {
   "cell_type": "code",
   "execution_count": 10,
   "id": "f223c74c",
   "metadata": {},
   "outputs": [],
   "source": [
    "# Livraison CSV\n",
    "import csv\n",
    "\n",
    "guesser = Guesser()\n",
    "guesser.load_work_file(workfile_path)\n",
    "\n",
    "data = []\n",
    "\n",
    "for guess in guesser.guesses.values():\n",
    "    \n",
    "    matches = None\n",
    "    if guess['matches']:\n",
    "        matches = guess['matches']\n",
    "    \n",
    "    \n",
    "    data.append((guess['input']['ext_id'], matches))\n",
    "\n",
    "with open('./rnb_lyon_toits.csv', 'w', newline='') as file:\n",
    "    writer = csv.writer(file)\n",
    "    # Write the header\n",
    "    writer.writerow(['id', 'rnb_ids'])\n",
    "    # Write the data\n",
    "    writer.writerows(data)\n"
   ]
  },
  {
   "cell_type": "code",
   "execution_count": null,
   "id": "905f6b82",
   "metadata": {},
   "outputs": [],
   "source": []
  }
 ],
 "metadata": {
  "kernelspec": {
   "display_name": "Django Shell-Plus",
   "language": "python",
   "name": "django_extensions"
  },
  "language_info": {
   "codemirror_mode": {
    "name": "ipython",
    "version": 3
   },
   "file_extension": ".py",
   "mimetype": "text/x-python",
   "name": "python",
   "nbconvert_exporter": "python",
   "pygments_lexer": "ipython3",
   "version": "3.12.4"
  }
 },
 "nbformat": 4,
 "nbformat_minor": 5
}
