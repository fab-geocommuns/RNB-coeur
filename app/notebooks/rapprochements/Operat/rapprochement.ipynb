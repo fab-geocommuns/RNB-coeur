{
 "cells": [
  {
   "cell_type": "markdown",
   "metadata": {},
   "source": [
    "# load the data from excel"
   ]
  },
  {
   "cell_type": "code",
   "execution_count": 1,
   "metadata": {},
   "outputs": [],
   "source": [
    "import pandas as pd\n",
    "\n",
    "pd.set_option('display.max_columns', None)\n",
    "pd.set_option('display.max_rows', None)"
   ]
  },
  {
   "cell_type": "code",
   "execution_count": 5,
   "metadata": {},
   "outputs": [
    {
     "name": "stdout",
     "output_type": "stream",
     "text": [
      "The length of the dataframe is:  294047\n"
     ]
    }
   ],
   "source": [
    "# read the excel data\n",
    "df = pd.read_excel('/app/notebooks/rapprochements/Operat/EFA.xlsx')\n",
    "\n",
    "# print the df length\n",
    "print('The length of the dataframe is: ', len(df))"
   ]
  },
  {
   "cell_type": "code",
   "execution_count": 2,
   "metadata": {},
   "outputs": [
    {
     "name": "stdout",
     "output_type": "stream",
     "text": [
      "Index(['id_EFA', 'etablissement_occupant_type',\n",
      "       'etablissement - etablissement_id → identifiant',\n",
      "       'etablissement - etablissement_id → nom', 'occupant_siren_id',\n",
      "       'structure - occupant_siren_id → nom',\n",
      "       'structure - occupant_siren_id → identifiant',\n",
      "       'structure - occupant_siren_id → type',\n",
      "       'denomination EFA si SIREN occupant', 'complement_nom_EFA',\n",
      "       'adresse - adresse_id → commune_id', 'adresse - adresse_id → adresse',\n",
      "       'adresse - adresse_id → complement_adresse',\n",
      "       'adresse - adresse_id → latitude', 'adresse - adresse_id → longitude',\n",
      "       'adresse - adresse_id → numero_insee',\n",
      "       'commune - commune_id → code_postal', 'commune - commune_id → nom'],\n",
      "      dtype='object')\n"
     ]
    }
   ],
   "source": [
    "# display df columns\n",
    "print(df.columns)"
   ]
  },
  {
   "cell_type": "markdown",
   "metadata": {},
   "source": [
    "# clean the addresses"
   ]
  },
  {
   "cell_type": "code",
   "execution_count": 8,
   "metadata": {},
   "outputs": [],
   "source": [
    "df_for_geocoding = df[[\"id_EFA\", \"adresse - adresse_id → adresse\", \"commune - commune_id → code_postal\", \"commune - commune_id → nom\", \"adresse - adresse_id → numero_insee\"]].copy()\n",
    "\n",
    "# rename columns\n",
    "df_for_geocoding.columns = [\"id_EFA\", \"adresse\", \"code_postal\", \"commune\", \"cle_ban_initiale\"]\n",
    "\n",
    "# df_for_geocoding = df_for_geocoding.copy()\n",
    "\n",
    "df_for_geocoding[\"adresse_clean\"] = df_for_geocoding[\"adresse\"].str.replace(\" BD \", \" BOULEVARD \")\n",
    "df_for_geocoding[\"adresse_clean\"] = df_for_geocoding[\"adresse_clean\"].str.replace(\" PL \", \" PLACE \")\n",
    "df_for_geocoding[\"adresse_clean\"] = df_for_geocoding[\"adresse_clean\"].str.replace(\" AV \", \" AVENUE \")\n",
    "\n",
    "df_for_geocoding[\"adresse_clean\"] = df_for_geocoding[\"adresse_clean\"].str.replace(\" ALL \", \" ALLÉE \")\n",
    "df_for_geocoding[\"adresse_clean\"] = df_for_geocoding[\"adresse_clean\"].str.replace(\" IMP \", \" IMPASSE \")\n",
    "df_for_geocoding[\"adresse_clean\"] = df_for_geocoding[\"adresse_clean\"].str.replace(\" SQ \", \" SQUARE \")\n",
    "df_for_geocoding[\"adresse_clean\"] = df_for_geocoding[\"adresse_clean\"].str.replace(\" RTE \", \" ROUTE \")\n",
    "df_for_geocoding[\"adresse_clean\"] = df_for_geocoding[\"adresse_clean\"].str.replace(\" CHE \", \" CHEMIN \")\n",
    "df_for_geocoding[\"adresse_clean\"] = df_for_geocoding[\"adresse_clean\"].str.replace(\" QU \", \" QUAI \")\n",
    "df_for_geocoding[\"adresse_clean\"] = df_for_geocoding[\"adresse_clean\"].str.replace(\" GAL DE GAULLE \", \" GENERAL DE GAULLE \")\n",
    "df_for_geocoding[\"adresse_clean\"] = df_for_geocoding[\"adresse_clean\"].str.replace(\"CENTRE CIAL \", \"CENTRE COMMERCIAL \")\n",
    "df_for_geocoding[\"adresse_clean\"] = df_for_geocoding[\"adresse_clean\"].str.replace(\"C CIAL \", \"CENTRE COMMERCIAL \")\n",
    "\n",
    "\n",
    "df_for_geocoding.to_csv('/app/notebooks/rapprochements/Operat/EFA_for_geocoding.csv', index=False)"
   ]
  },
  {
   "cell_type": "markdown",
   "metadata": {},
   "source": [
    "# geocode the addresses with BAN"
   ]
  },
  {
   "cell_type": "code",
   "execution_count": 9,
   "metadata": {},
   "outputs": [
    {
     "name": "stderr",
     "output_type": "stream",
     "text": [
      "/tmp/ipykernel_1686/2859717419.py:7: DtypeWarning: Columns (2) have mixed types. Specify dtype option on import or set low_memory=False.\n",
      "  df_geocoded = pd.read_csv(response_csv, sep=',')\n"
     ]
    }
   ],
   "source": [
    "from batid.services.geocoders import BanBatchGeocoder\n",
    "from io import StringIO\n",
    "\n",
    "geocoder = BanBatchGeocoder()\n",
    "response = geocoder.geocode_file('/app/notebooks/rapprochements/Operat/EFA_for_geocoding.csv', columns=['adresse_clean', 'code_postal', 'commune'])\n",
    "response_csv = StringIO(response.text)\n",
    "df_geocoded = pd.read_csv(response_csv, sep=',')\n",
    "df_geocoded.to_csv('/app/notebooks/rapprochements/Operat/EFA_geocoded.csv', index=False)"
   ]
  },
  {
   "cell_type": "markdown",
   "metadata": {},
   "source": [
    "# join the data with OPERAT_RNB_Cas_EFA.xlsx"
   ]
  },
  {
   "cell_type": "code",
   "execution_count": 7,
   "metadata": {},
   "outputs": [
    {
     "name": "stderr",
     "output_type": "stream",
     "text": [
      "/tmp/ipykernel_19283/62312270.py:1: DtypeWarning: Columns (2) have mixed types. Specify dtype option on import or set low_memory=False.\n",
      "  df_efa = pd.read_csv('/app/notebooks/rapprochements/Operat/EFA_geocoded.csv')\n"
     ]
    },
    {
     "name": "stdout",
     "output_type": "stream",
     "text": [
      "   id_EFA                       adresse code_postal     commune  \\\n",
      "0       5  RUE DE ST MICHEL A ANGOULEME     16000.0   ANGOULEME   \n",
      "1       6         17 BD AUGUSTE BLANQUI     75013.0    PARIS 13   \n",
      "2       8          LA CROIX DES ARCHERS     56200.0  LA GACILLY   \n",
      "3       9          LA CROIX DES ARCHERS     56200.0  LA GACILLY   \n",
      "4      11                       PL FOCH     20000.0     AJACCIO   \n",
      "\n",
      "  cle_ban_initiale                 adresse_clean   latitude  longitude  \\\n",
      "0              NaN  RUE DE ST MICHEL A ANGOULEME  45.642992   0.114138   \n",
      "1              NaN  17 BOULEVARD AUGUSTE BLANQUI  48.830380   2.353515   \n",
      "2              NaN          LA CROIX DES ARCHERS  47.773274  -2.134821   \n",
      "3              NaN          LA CROIX DES ARCHERS  47.773274  -2.134821   \n",
      "4              NaN                       PL FOCH  41.918998   8.738901   \n",
      "\n",
      "                                   result_label  result_score  \\\n",
      "0  Rue Saint Michel a Angouleme 16000 Angoulême      0.812457   \n",
      "1      17 Boulevard Auguste Blanqui 75013 Paris      0.917728   \n",
      "2         La Croix des Archers 56200 La Gacilly      0.946786   \n",
      "3         La Croix des Archers 56200 La Gacilly      0.946786   \n",
      "4             Place Maréchal Foch 20000 Ajaccio      0.624127   \n",
      "\n",
      "   result_score_next  result_type         result_id result_housenumber  \\\n",
      "0           0.565125       street        16015_3748                NaN   \n",
      "1           0.784343  housenumber  75113_0541_00017                 17   \n",
      "2           0.653015       street        56061_B340                NaN   \n",
      "3           0.653015       street        56061_B340                NaN   \n",
      "4           0.353982       street        2A004_0866                NaN   \n",
      "\n",
      "                    result_name                 result_street  \\\n",
      "0  Rue Saint Michel a Angouleme  Rue Saint Michel a Angouleme   \n",
      "1  17 Boulevard Auguste Blanqui     Boulevard Auguste Blanqui   \n",
      "2          La Croix des Archers          La Croix des Archers   \n",
      "3          La Croix des Archers          La Croix des Archers   \n",
      "4           Place Maréchal Foch           Place Maréchal Foch   \n",
      "\n",
      "   result_postcode result_city                    result_context  \\\n",
      "0          16000.0   Angoulême  16, Charente, Nouvelle-Aquitaine   \n",
      "1          75013.0       Paris          75, Paris, Île-de-France   \n",
      "2          56200.0  La Gacilly            56, Morbihan, Bretagne   \n",
      "3          56200.0  La Gacilly            56, Morbihan, Bretagne   \n",
      "4          20000.0     Ajaccio           2A, Corse-du-Sud, Corse   \n",
      "\n",
      "  result_citycode  result_oldcitycode result_oldcity  \\\n",
      "0           16015                 NaN            NaN   \n",
      "1           75113                 NaN            NaN   \n",
      "2           56061             56061.0     La Gacilly   \n",
      "3           56061             56061.0     La Gacilly   \n",
      "4           2A004                 NaN            NaN   \n",
      "\n",
      "            result_district result_status cas_assujetissement  \n",
      "0                       NaN            ok                   3  \n",
      "1  Paris 13e Arrondissement            ok                  1A  \n",
      "2                       NaN            ok                   2  \n",
      "3                       NaN            ok                   2  \n",
      "4                       NaN            ok                  1A  \n"
     ]
    }
   ],
   "source": [
    "df_efa = pd.read_csv('/app/notebooks/rapprochements/Operat/EFA_geocoded.csv')\n",
    "df_cas = pd.read_excel('/app/notebooks/rapprochements/Operat/OPERAT_RNB_Cas_EFA.xlsx')\n",
    "\n",
    "# join the two dataframes with the id_EFA column\n",
    "df = pd.merge(df_efa, df_cas, on='id_EFA', how='left')\n",
    "print(df.head())"
   ]
  },
  {
   "cell_type": "markdown",
   "metadata": {},
   "source": [
    "# find the corresponding buildings in the RNB"
   ]
  },
  {
   "cell_type": "code",
   "execution_count": 9,
   "metadata": {},
   "outputs": [],
   "source": [
    "from batid.models import Building\n",
    "import os\n",
    "os.environ[\"DJANGO_ALLOW_ASYNC_UNSAFE\"] = \"true\"\n",
    "from concurrent.futures import ThreadPoolExecutor\n",
    "\n",
    "# split the dataframe in 10 smaller dataframes\n",
    "dfs = np.array_split(df, 10)\n",
    "\n",
    "def get_buildings(row):\n",
    "    ban_id = None\n",
    "    # first choice, we pick the ban_id provided by Operat if value is not NaN\n",
    "    if not pd.isnull(row['cle_ban_initiale']):\n",
    "        ban_id = row['cle_ban_initiale']\n",
    "    # second choice, we pick the ban_id provided by the geocoder\n",
    "    elif row['result_score'] > 0.75 and row['result_type'] == 'housenumber':\n",
    "        ban_id = row['result_id']\n",
    "    \n",
    "    if ban_id is None:\n",
    "        return []\n",
    "    else:\n",
    "        buildings = Building.objects.filter(addresses_read_only__id=ban_id).values('rnb_id')\n",
    "        return [b['rnb_id'] for b in buildings]\n",
    "\n",
    "def execute(df):\n",
    "    df_copy = df.copy()\n",
    "    df_copy['rnb_ids'] = df_copy.apply(get_buildings, axis=1)\n",
    "    return df_copy\n",
    "\n",
    "with ThreadPoolExecutor(max_workers=10) as executor:\n",
    "    results = executor.map(execute, dfs)\n",
    "    df_results = pd.concat(results)\n",
    "    df_results.to_csv('/app/notebooks/rapprochements/Operat/EFA_results.csv', index=False)"
   ]
  },
  {
   "cell_type": "markdown",
   "metadata": {},
   "source": [
    "## prendre le cas EFA en compte pour l'interprétation des résultats"
   ]
  },
  {
   "cell_type": "code",
   "execution_count": 11,
   "metadata": {},
   "outputs": [],
   "source": [
    "def coherence_cas_efa(row):\n",
    "    cas_efa = row['cas_assujetissement']\n",
    "    rnb_ids = row['rnb_ids']\n",
    "\n",
    "    if cas_efa in ['1A', '1B', '2'] and len(rnb_ids) > 1:\n",
    "        return 1\n",
    "    elif cas_efa == '3' and len(rnb_ids) == 1:\n",
    "        return 1\n",
    "    else:\n",
    "        return 0\n",
    "\n",
    "df_results['incoherence_rnb_ids_avec_cas_efa'] = df_results.apply(coherence_cas_efa, axis=1)\n",
    "df_results.to_csv('/app/notebooks/rapprochements/Operat/EFA_results.csv', index=False)\n"
   ]
  },
  {
   "cell_type": "markdown",
   "metadata": {},
   "source": [
    "## quelques stats"
   ]
  },
  {
   "cell_type": "code",
   "execution_count": 15,
   "metadata": {},
   "outputs": [
    {
     "name": "stdout",
     "output_type": "stream",
     "text": [
      "Number of lines:  294047\n",
      "Number of lines with rnb_ids:  163762\n",
      "Number of inconsistencies:  62976\n",
      "Percentage of lines with rnb_ids:  0.5569245732825024\n"
     ]
    }
   ],
   "source": [
    "# number of lines\n",
    "print('Number of lines: ', len(df_results))\n",
    "# count number of lines with rnb_ids\n",
    "print('Number of lines with rnb_ids: ', len(df_results[df_results['rnb_ids'].apply(lambda x: len(x) > 0)]))\n",
    "# count number of inconsistencies\n",
    "print('Number of inconsistencies: ', len(df_results[df_results['incoherence_rnb_ids_avec_cas_efa'] == 1]))\n",
    "\n",
    "# percentage of of lines with rnb_ids\n",
    "print('Percentage of lines with rnb_ids: ', len(df_results[df_results['rnb_ids'].apply(lambda x: len(x) > 0)]) / len(df_results))"
   ]
  },
  {
   "cell_type": "code",
   "execution_count": 16,
   "metadata": {},
   "outputs": [],
   "source": [
    "# samples of the results\n",
    "df_sample = df_results.sample(30)\n",
    "df_sample.to_csv('/app/notebooks/rapprochements/Operat/EFA_results_sample.csv', index=False)"
   ]
  },
  {
   "cell_type": "markdown",
   "metadata": {},
   "source": [
    "## Export résultat final"
   ]
  },
  {
   "cell_type": "code",
   "execution_count": 18,
   "metadata": {},
   "outputs": [],
   "source": [
    "df_results[['id_EFA', 'rnb_ids', 'cas_assujetissement']].to_csv('/app/notebooks/rapprochements/Operat/EFA_results_final.csv', index=False)"
   ]
  }
 ],
 "metadata": {
  "kernelspec": {
   "display_name": "Django Shell-Plus",
   "language": "python",
   "name": "django_extensions"
  },
  "language_info": {
   "codemirror_mode": {
    "name": "ipython",
    "version": 3
   },
   "file_extension": ".py",
   "mimetype": "text/x-python",
   "name": "python",
   "nbconvert_exporter": "python",
   "pygments_lexer": "ipython3",
   "version": "3.12.4"
  }
 },
 "nbformat": 4,
 "nbformat_minor": 2
}
