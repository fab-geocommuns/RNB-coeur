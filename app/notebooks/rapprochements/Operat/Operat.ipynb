{
 "cells": [
  {
   "cell_type": "code",
   "execution_count": 11,
   "metadata": {},
   "outputs": [
    {
     "name": "stderr",
     "output_type": "stream",
     "text": [
      "/tmp/ipykernel_4507/948396588.py:12: DtypeWarning: Columns (2,6,16) have mixed types. Specify dtype option on import or set low_memory=False.\n",
      "  df = pd.read_csv(csvfile, sep=';')\n"
     ]
    }
   ],
   "source": [
    "import csv\n",
    "from django.db import connection\n",
    "import os\n",
    "os.environ[\"DJANGO_ALLOW_ASYNC_UNSAFE\"] = \"true\"\n",
    "from batid.models import Building\n",
    "# from django.contrib.gis.geos import GEOSGeometry\n",
    "# from django.contrib.gis.db.models.functions import Distance\n",
    "import pandas as pd\n",
    "\n",
    "df = pd.DataFrame()\n",
    "with open('EFA_Operat.csv', newline='') as csvfile:\n",
    "    df = pd.read_csv(csvfile, sep=';')"
   ]
  },
  {
   "cell_type": "code",
   "execution_count": 12,
   "id": "943c21f9",
   "metadata": {},
   "outputs": [
    {
     "name": "stdout",
     "output_type": "stream",
     "text": [
      "nombre de lignes\n",
      "294047\n"
     ]
    }
   ],
   "source": [
    "print(\"nombre de lignes\")\n",
    "print(len(df))"
   ]
  },
  {
   "cell_type": "code",
   "execution_count": 17,
   "id": "23977654",
   "metadata": {},
   "outputs": [
    {
     "name": "stdout",
     "output_type": "stream",
     "text": [
      "nombre de lignes pour lesquelles le geocodage renvoie un résultat\n",
      "292467\n",
      "nombre de lignes pour lesquelles le geocodage ne renvoie pas de résultat\n",
      "1580\n",
      "nombre de résultats de type housenumber\n",
      "181633\n",
      "nombre de résultats de type housenumber et précision > 0.75\n",
      "126951\n"
     ]
    }
   ],
   "source": [
    "print(\"nombre de lignes pour lesquelles le geocodage renvoie un résultat\")\n",
    "print(len(df[df['result_status'] == \"ok\"]))\n",
    "\n",
    "print(\"nombre de lignes pour lesquelles le geocodage ne renvoie pas de résultat\")\n",
    "print(len(df[df['result_status'] != \"ok\"]))\n",
    "\n",
    "print(\"nombre de résultats de type housenumber\")\n",
    "print(len(df[df['result_type'] == \"housenumber\"]))\n",
    "\n",
    "print(\"nombre de résultats de type housenumber et précision > 0.75\")\n",
    "print(len(df[(df['result_type'] == \"housenumber\") & (df['result_score'] > 0.75)]))"
   ]
  },
  {
   "cell_type": "code",
   "execution_count": 19,
   "id": "a60cfbca",
   "metadata": {},
   "outputs": [],
   "source": [
    "# on garde les geocodages de qualité\n",
    "df_qual = df[(df['result_type'] == \"housenumber\") & (df['result_score'] > 0.75)]\n",
    "\n",
    "df_requests = df_qual['result_id'].apply(lambda x: f\"select * from batid_building bb left join batid_building_addresses bba on bba.building_id  = bb.id where bba.address_id = '{x}';\")\n",
    "\n",
    "# write the result in a csv file\n",
    "df_requests.to_csv('requests.csv', index=False)"
   ]
  }
 ],
 "metadata": {
  "kernelspec": {
   "display_name": "Django Shell-Plus",
   "language": "python",
   "name": "django_extensions"
  },
  "language_info": {
   "codemirror_mode": {
    "name": "ipython",
    "version": 3
   },
   "file_extension": ".py",
   "mimetype": "text/x-python",
   "name": "python",
   "nbconvert_exporter": "python",
   "pygments_lexer": "ipython3",
   "version": "3.10.14"
  }
 },
 "nbformat": 4,
 "nbformat_minor": 5
}
