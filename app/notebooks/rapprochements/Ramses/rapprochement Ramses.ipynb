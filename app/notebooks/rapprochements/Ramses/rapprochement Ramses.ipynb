{
 "cells": [
  {
   "cell_type": "markdown",
   "metadata": {},
   "source": [
    "# load the data from excel"
   ]
  },
  {
   "cell_type": "code",
   "execution_count": 1,
   "metadata": {},
   "outputs": [],
   "source": [
    "import pandas as pd\n",
    "\n",
    "pd.set_option('display.max_columns', None)\n",
    "pd.set_option('display.max_rows', None)"
   ]
  },
  {
   "cell_type": "code",
   "execution_count": 2,
   "metadata": {},
   "outputs": [],
   "source": [
    "import os\n",
    "os.environ[\"DJANGO_ALLOW_ASYNC_UNSAFE\"] = \"true\""
   ]
  },
  {
   "cell_type": "code",
   "execution_count": 3,
   "metadata": {},
   "outputs": [
    {
     "name": "stdout",
     "output_type": "stream",
     "text": [
      "The length of the dataframe is:  64460\n"
     ]
    }
   ],
   "source": [
    "# read the excel data\n",
    "df = pd.read_csv('/app/notebooks/rapprochements/Ramses/fr-en-adresse-et-geolocalisation-etablissements-premier-et-second-degre.csv', sep=\";\",\n",
    "                 dtype={\"adresse_uai\": \"string\"})\n",
    "\n",
    "# print the df length\n",
    "print('The length of the dataframe is: ', len(df))"
   ]
  },
  {
   "cell_type": "code",
   "execution_count": 4,
   "metadata": {},
   "outputs": [
    {
     "name": "stdout",
     "output_type": "stream",
     "text": [
      "Index(['numero_uai', 'appellation_officielle', 'denomination_principale',\n",
      "       'patronyme_uai', 'secteur_public_prive_libe', 'adresse_uai',\n",
      "       'lieu_dit_uai', 'boite_postale_uai', 'code_postal_uai',\n",
      "       'localite_acheminement_uai', 'libelle_commune', 'coordonnee_x',\n",
      "       'coordonnee_y', 'EPSG', 'latitude', 'longitude', 'appariement',\n",
      "       'localisation', 'nature_uai', 'nature_uai_libe', 'etat_etablissement',\n",
      "       'etat_etablissement_libe', 'code_departement', 'code_region',\n",
      "       'code_academie', 'code_commune', 'libelle_departement',\n",
      "       'libelle_region', 'libelle_academie', 'position',\n",
      "       'secteur_prive_code_type_contrat', 'secteur_prive_libelle_type_contrat',\n",
      "       'code_ministere', 'libelle_ministere', 'date_ouverture', 'sigle'],\n",
      "      dtype='object')\n"
     ]
    }
   ],
   "source": [
    "# display df columns\n",
    "print(df.columns)"
   ]
  },
  {
   "cell_type": "markdown",
   "metadata": {},
   "source": [
    "# map to inputs"
   ]
  },
  {
   "cell_type": "code",
   "execution_count": 5,
   "metadata": {},
   "outputs": [],
   "source": [
    "filtered_df = df"
   ]
  },
  {
   "cell_type": "code",
   "execution_count": 6,
   "metadata": {},
   "outputs": [],
   "source": [
    "def row_to_input(df_row_raw):\n",
    "    df_row = dict(df_row_raw)\n",
    "    lat = df_row[\"latitude\"]\n",
    "    lng = df_row[\"longitude\"]\n",
    "    address = None\n",
    "    if pd.isna(df_row[\"adresse_uai\"]):\n",
    "        address = None\n",
    "    else:\n",
    "        address = f\"{df_row[\"adresse_uai\"]}, {df_row[\"localite_acheminement_uai\"]}\"\n",
    "        \n",
    "        address = address.strip()\n",
    "        if not address[0].isdigit():\n",
    "            address = None\n",
    "        \n",
    "    return {\n",
    "        \"ext_id\" : df_row[\"numero_uai\"],\n",
    "        \"name\": df_row[\"appellation_officielle\"],\n",
    "        \"address\": address,\n",
    "        \"lat\": float(lat),\n",
    "        \"lng\": float(lng)\n",
    "    }\n",
    "\n",
    "inputs = list(filtered_df.apply(row_to_input, axis=1))"
   ]
  },
  {
   "cell_type": "code",
   "execution_count": 7,
   "metadata": {},
   "outputs": [
    {
     "name": "stdout",
     "output_type": "stream",
     "text": [
      "64460\n",
      "{'ext_id': '0131201K', 'name': \"Ecole élémentaire d'application Frédéric Mistral\", 'address': '2 avenue Doyen Guyon, AIX EN PROVENCE', 'lat': 43.534916145595616, 'lng': 5.434260408273862}\n"
     ]
    }
   ],
   "source": [
    "import random\n",
    "#inputs = random.sample(inputs, 1000)\n",
    "print(len(inputs))\n",
    "print(inputs[0])"
   ]
  },
  {
   "cell_type": "code",
   "execution_count": 8,
   "metadata": {},
   "outputs": [
    {
     "data": {
      "application/vnd.jupyter.widget-view+json": {
       "model_id": "518a984144e3440cbb86f9ff0cb68838",
       "version_major": 2,
       "version_minor": 0
      },
      "text/plain": [
       "  0%|          | 0/65 [00:00<?, ?it/s]"
      ]
     },
     "metadata": {},
     "output_type": "display_data"
    }
   ],
   "source": [
    "from batid.services.guess_bdg_new import Guesser, GeocodeNameHandler, GeocodeAddressHandler, ClosestFromPointHandler\n",
    "guesses_path = \"./guesses_v6.json\"\n",
    "guesser = Guesser(batch_size=1000)\n",
    "guesser.handlers = [\n",
    "    GeocodeNameHandler(sleep_time=0, photon_url=\"http://host.docker.internal:2322/api/\", bbox_apothem_in_meters=1000),\n",
    "    GeocodeAddressHandler(closest_radius=200)\n",
    "]\n",
    "guesser.create_work_file(list(inputs), guesses_path)\n",
    "guesser.guess_work_file(guesses_path)"
   ]
  },
  {
   "cell_type": "code",
   "execution_count": 9,
   "metadata": {},
   "outputs": [
    {
     "name": "stdout",
     "output_type": "stream",
     "text": [
      "-- Report --\n",
      "Number of rows: 64460\n",
      "Number of match: 43846 (68.02%)\n",
      "\n",
      "-- finished_steps --\n",
      "Rows with finished_steps closest_from_point: 0 (0.00%)\n",
      "Rows with finished_steps geocode_address: 64460 (100.00%)\n",
      "Rows with finished_steps geocode_name: 64460 (100.00%)\n",
      "Rows with empty finished_steps: 0 (0.00%)\n",
      "\n",
      "-- match_reasons : absolute --\n",
      "match_reason\n",
      "found_name_in_osm_point_on_bdg            20888\n",
      "precise_address_match                     17758\n",
      "found_name_in_osm_isolated_closest_bdg     5200\n",
      "Name: count, dtype: int64\n",
      "\n",
      "-- match_reasons : % --\n",
      "match_reason\n",
      "found_name_in_osm_point_on_bdg            32.404592\n",
      "precise_address_match                     27.548868\n",
      "found_name_in_osm_isolated_closest_bdg     8.067018\n",
      "Name: count, dtype: float64\n",
      "\n",
      "-- Inputs --\n",
      "rows with ban_id: 21242 (32.95%)\n"
     ]
    }
   ],
   "source": [
    "guesser = Guesser()\n",
    "guesser.load_work_file(guesses_path)\n",
    "guesser.report()"
   ]
  },
  {
   "cell_type": "code",
   "execution_count": 10,
   "metadata": {},
   "outputs": [],
   "source": [
    "guesser.to_csv(\"/app/notebooks/rapprochements/Ramses/Ramses_out_2.csv\", ext_id_col_name=\"ext_id\")"
   ]
  },
  {
   "cell_type": "code",
   "execution_count": null,
   "metadata": {},
   "outputs": [],
   "source": []
  }
 ],
 "metadata": {
  "kernelspec": {
   "display_name": "Django Shell-Plus",
   "language": "python",
   "name": "django_extensions"
  },
  "language_info": {
   "codemirror_mode": {
    "name": "ipython",
    "version": 3
   },
   "file_extension": ".py",
   "mimetype": "text/x-python",
   "name": "python",
   "nbconvert_exporter": "python",
   "pygments_lexer": "ipython3",
   "version": "3.12.4"
  }
 },
 "nbformat": 4,
 "nbformat_minor": 2
}
