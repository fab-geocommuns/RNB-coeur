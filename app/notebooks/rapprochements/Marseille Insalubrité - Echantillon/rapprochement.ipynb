{
 "cells": [
  {
   "cell_type": "code",
   "execution_count": 3,
   "id": "4cf5158d",
   "metadata": {},
   "outputs": [
    {
     "name": "stdout",
     "output_type": "stream",
     "text": [
      "     gid  result_score  num_voie ind_rep  \\\n",
      "48    42      0.572445         4     NaN   \n",
      "49    43      0.572445         4     NaN   \n",
      "44    40      0.693765      5094     NaN   \n",
      "101   98      0.694023         3     NaN   \n",
      "78    76      0.694023         3     NaN   \n",
      "74    69      0.768660         7     NaN   \n",
      "68    62      0.768801       NaN     NaN   \n",
      "45    41      0.819088        26     NaN   \n",
      "82    78      0.821048         7     NaN   \n",
      "18    28      0.821048         7     NaN   \n",
      "60    55      0.821048         7     NaN   \n",
      "29    31      0.838524  76-78-80     NaN   \n",
      "85    82      0.838524  76-78-80     NaN   \n",
      "69    63      0.838524  76-78-80     NaN   \n",
      "51    47      0.867625         1       A   \n",
      "3    109      0.869314        24       B   \n",
      "58    53      0.871664       129     NaN   \n",
      "50    45      0.875895        74     NaN   \n",
      "90    87      0.894869        89     NaN   \n",
      "13    44      0.899561         1     NaN   \n",
      "\n",
      "                                      nom_voie  code_postal          commune  \\\n",
      "48                     ALLÉE DE LA MONTAGNETTE        13015       MARSEILLE    \n",
      "49                     ALLÉE DE LA MONTAGNETTE        13015       MARSEILLE    \n",
      "44                 CHEMIN DE LA GRANDE BASTIDE        13170          FUVEAU    \n",
      "101                   AVENUE DE LA MONTAGNETTE        13015       MARSEILLE    \n",
      "78                    AVENUE DE LA MONTAGNETTE        13015       MARSEILLE    \n",
      "74                                COURS LEYDET        13710          FUVEAU    \n",
      "68   AVENUE DES COMBATTANTS EN AFRIQUE DU NORD        13700       MARIGNANE    \n",
      "45                     AVENUE DE LA RÉPUBLIQUE        13400          AUBAGNE   \n",
      "82                          TRAVERSE DU MOULIN        13015       MARSEILLE    \n",
      "18                          TRAVERSE DU MOULIN        13015       MARSEILLE    \n",
      "60                          TRAVERSE DU MOULIN        13015       MARSEILLE    \n",
      "29                            RUE BELLE DE MAI        13003       MARSEILLE    \n",
      "85                            RUE BELLE DE MAI        13003       MARSEILLE    \n",
      "69                            RUE BELLE DE MAI        13003       MARSEILLE    \n",
      "51                        CHEMIN DE BLAQUEIRON        13800          ISTRES    \n",
      "3                      AVENUE DES PÈRES BLANCS        13380  PLAN-DE-CUQUES    \n",
      "58                          RUE DE LA GRANIÈRE        13011       MARSEILLE    \n",
      "50                     BOULEVARD DE LA BARASSE        13011       MARSEILLE    \n",
      "90                       BOULEVARD MARCEL PAUL        13500       MARTIGUES    \n",
      "13                                RUE ARISTOTE        13370       MARIGNANE    \n",
      "\n",
      "                                          result_label  \n",
      "48                4 Rue de la damiette 13015 Marseille  \n",
      "49                4 Rue de la damiette 13015 Marseille  \n",
      "44             Chemin de la Grand'Bastide 13710 Fuveau  \n",
      "101               3 Avenue de la viste 13015 Marseille  \n",
      "78                3 Avenue de la viste 13015 Marseille  \n",
      "74                  7 Cours Victor Leydet 13710 Fuveau  \n",
      "68    Av Combattants d’Afrique du Nord 13700 Marignane  \n",
      "45               26 Rue de la Republique 13400 Aubagne  \n",
      "82         7 Traverse du moulin a vent 13015 Marseille  \n",
      "18         7 Traverse du moulin a vent 13015 Marseille  \n",
      "60         7 Traverse du moulin a vent 13015 Marseille  \n",
      "29                 80 Rue belle de mai 13003 Marseille  \n",
      "85                 80 Rue belle de mai 13003 Marseille  \n",
      "69                 80 Rue belle de mai 13003 Marseille  \n",
      "51                   Chemin de Blaqueiron 13800 Istres  \n",
      "3    24bis Avenue des Pères Blancs 13380 Plan-de-Cu...  \n",
      "58                  Rue de la graniere 13011 Marseille  \n",
      "50     74 Boulevard de la barasse rn 8 13011 Marseille  \n",
      "90               Boulevard Marcel Paul 13500 Martigues  \n",
      "13                      1 Rue Aristote 13700 Marignane  \n"
     ]
    }
   ],
   "source": [
    "import csv\n",
    "from django.db import connection\n",
    "import os\n",
    "os.environ[\"DJANGO_ALLOW_ASYNC_UNSAFE\"] = \"true\"\n",
    "from batid.models import Building\n",
    "# from django.contrib.gis.geos import GEOSGeometry\n",
    "# from django.contrib.gis.db.models.functions import Distance\n",
    "import pandas as pd\n",
    "\n",
    "df = pd.DataFrame()\n",
    "with open('test_arretes_insa_2023_rnb.geocoded.csv', newline='') as csvfile:\n",
    "    df = pd.read_csv(csvfile)\n",
    "    # filter the df with the lowest result_score\n",
    "    df_poor_geocoding = df.sort_values(by=['result_score'])\n",
    "    print(df_poor_geocoding[['gid', 'result_score', 'num_voie',\t'ind_rep',\t'nom_voie',\t'code_postal',\t'commune', 'result_label']].head(20))"
   ]
  },
  {
   "cell_type": "markdown",
   "id": "b18eff4e",
   "metadata": {},
   "source": [
    "Il semble sur cet échantillon que tous les résultats dont le score BAN est inférieur à 75% sont faux. Nous allons donc les exclure."
   ]
  },
  {
   "cell_type": "code",
   "execution_count": 22,
   "id": "7a2fd02c",
   "metadata": {},
   "outputs": [
    {
     "name": "stdout",
     "output_type": "stream",
     "text": [
      "104\n",
      "adresses sur\n",
      "117\n",
      "initiales sont gardées\n"
     ]
    }
   ],
   "source": [
    "df_valid_geocoding = df[(df['result_score'] > 0.75) & (df['result_type'] == 'housenumber')]\n",
    "print(len(df_valid_geocoding))\n",
    "print('adresses sur')\n",
    "print(len(df))\n",
    "print('initiales sont gardées')"
   ]
  },
  {
   "cell_type": "code",
   "execution_count": 23,
   "id": "b6527148",
   "metadata": {},
   "outputs": [
    {
     "name": "stdout",
     "output_type": "stream",
     "text": [
      "    gid                                 rnb_id_from_ban_id\n",
      "0    46                       [DGSYNWEXS5AZ, QE86Y194MZHX]\n",
      "1    65                       [FGHSF5PTF4ZY, TCSN8X19NNSA]\n",
      "2    80                                     [TSTMGJVZXZ56]\n",
      "3   109                       [1D5156HMPQFH, ZK61ZY35424K]\n",
      "4   110                       [QHBXCBBP32GQ, ZEC4KC5N57J3]\n",
      "5    18                                     [8835STW2T6X7]\n",
      "6    19                                     [SSJW6GQ5GHD2]\n",
      "7    20                                     [QWPV5DJY4J8C]\n",
      "8   108                                     [ET7T8PEX5J7H]\n",
      "9    21                       [65PRGM9NQTJR, XJHY1B48X6A9]\n",
      "10   22  [49QT7Z6FDGW6, 7CY7E5T65N7M, GBF486JWVSJQ, HVV...\n",
      "12   24  [1XDPJ8NAK7K6, 1ZF7DP9NSCK6, 2Z28ZCT4PQQS, 4MK...\n",
      "13   44                                     [19PH91AG6M7K]\n",
      "14    7                                     [B5BVR2TFKYJW]\n",
      "15   25                                     [1PEABG4EK95E]\n",
      "16   26                       [H8BM73235NV3, MKCZ7V7PZNB8]\n",
      "17   27                       [6PMVJ1JG9SMQ, TN729SG5SEGE]\n",
      "18   28                                     [F3YWTB18TN3E]\n",
      "19    9                       [6B9VQQSNPTSD, SASM11TJMN2T]\n",
      "20   10                                     [W8EX99GEZFJM]\n"
     ]
    },
    {
     "name": "stderr",
     "output_type": "stream",
     "text": [
      "/tmp/ipykernel_1215/4065385847.py:6: SettingWithCopyWarning: \n",
      "A value is trying to be set on a copy of a slice from a DataFrame.\n",
      "Try using .loc[row_indexer,col_indexer] = value instead\n",
      "\n",
      "See the caveats in the documentation: https://pandas.pydata.org/pandas-docs/stable/user_guide/indexing.html#returning-a-view-versus-a-copy\n",
      "  df_valid_geocoding['rnb_id_from_ban_id'] = df_valid_geocoding['result_id'].apply(get_buildings_from_ban_id)\n"
     ]
    }
   ],
   "source": [
    "def get_buildings_from_ban_id(ban_id):\n",
    "    buildings = Building.objects.filter(addresses__id=ban_id)\n",
    "    return [b.rnb_id for b in buildings]\n",
    "\n",
    "# call the function for each row of the dataframe\n",
    "df_valid_geocoding['rnb_id_from_ban_id'] = df_valid_geocoding['result_id'].apply(get_buildings_from_ban_id)\n",
    "\n",
    "print(df_valid_geocoding[['gid', 'rnb_id_from_ban_id']].head(20))\n"
   ]
  },
  {
   "cell_type": "markdown",
   "id": "9a8455bb",
   "metadata": {},
   "source": [
    "Combien trouvons nous de batiment(s) pour chaque adresse localisée ?"
   ]
  },
  {
   "cell_type": "code",
   "execution_count": 24,
   "id": "61a6d0bc",
   "metadata": {},
   "outputs": [
    {
     "data": {
      "text/plain": [
       "1     59\n",
       "2     24\n",
       "4      6\n",
       "3      4\n",
       "5      2\n",
       "8      2\n",
       "6      1\n",
       "29     1\n",
       "0      1\n",
       "33     1\n",
       "7      1\n",
       "11     1\n",
       "10     1\n",
       "Name: rnb_id_from_ban_id, dtype: int64"
      ]
     },
     "execution_count": 24,
     "metadata": {},
     "output_type": "execute_result"
    }
   ],
   "source": [
    "df_valid_geocoding['rnb_id_from_ban_id'].apply(lambda x: len(x)).value_counts()\n",
    "\n",
    "# select the row where we have 33 buildings\n",
    "#df_valid_geocoding[df_valid_geocoding['rnb_id_from_ban_id'].apply(lambda x: len(x)) == 33]"
   ]
  },
  {
   "cell_type": "code",
   "execution_count": 28,
   "id": "91b70b40",
   "metadata": {},
   "outputs": [],
   "source": [
    "# merge the results with the original dataframe\n",
    "df = df.merge(df_valid_geocoding[['gid', 'rnb_id_from_ban_id']], on='gid', how='left')\n",
    "\n",
    "# save the results\n",
    "df.to_csv('test_arretes_insa_2023_rnb.rapproche.csv', index=False)"
   ]
  },
  {
   "cell_type": "code",
   "execution_count": 27,
   "id": "8f5ace50",
   "metadata": {},
   "outputs": [],
   "source": [
    "df_requests = df_valid_geocoding['result_id'].apply(lambda x: f\"select * from batid_building bb left join batid_building_addresses bba on bba.building_id  = bb.id where bba.address_id = '{x}';\")\n",
    "\n",
    "# write the result in a csv file\n",
    "df_requests.to_csv('test_arretes_insa_2023_rnb.geocoded.valid.requests.csv', index=False)"
   ]
  }
 ],
 "metadata": {
  "kernelspec": {
   "display_name": "Django Shell-Plus",
   "language": "python",
   "name": "django_extensions"
  },
  "language_info": {
   "codemirror_mode": {
    "name": "ipython",
    "version": 3
   },
   "file_extension": ".py",
   "mimetype": "text/x-python",
   "name": "python",
   "nbconvert_exporter": "python",
   "pygments_lexer": "ipython3",
   "version": "3.12.4"
  }
 },
 "nbformat": 4,
 "nbformat_minor": 5
}
