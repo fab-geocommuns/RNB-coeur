{
 "cells": [
  {
   "cell_type": "markdown",
   "id": "7dc6388b",
   "metadata": {},
   "source": [
    "# 0 Download data from S3 "
   ]
  },
  {
   "cell_type": "code",
   "execution_count": 3,
   "id": "faebc117",
   "metadata": {},
   "outputs": [
    {
     "name": "stdout",
     "output_type": "stream",
     "text": [
      "file is ready\n",
      "file is ready\n",
      "file is ready\n",
      "file is ready\n"
     ]
    }
   ],
   "source": [
    "from notebooks.rapprochements.S3 import download_from_s3, upload_to_s3\n",
    "\n",
    "data = ['bat_rnb_mesr.csv', 'bat_rnb_mesr_with_id.csv']\n",
    "results = ['results-closest.json', 'results-guess.json']\n",
    "\n",
    "def upload():\n",
    "    for d in data:\n",
    "        upload_to_s3(f'data/{d}', f'rapprochements/Enseignement supérieur/data/{d}')\n",
    "\n",
    "    for r in results:\n",
    "        upload_to_s3(f'results/{r}', f'rapprochements/Enseignement supérieur/results/{r}')\n",
    "\n",
    "        \n",
    "def download():\n",
    "    for d in data:\n",
    "        download_from_s3(f'rapprochements/Enseignement supérieur/data/{d}', f'data/{d}')\n",
    "\n",
    "    for r in results:\n",
    "        download_from_s3(f'rapprochements/Enseignement supérieur/results/{r}', f'results/{r}')\n",
    "\n",
    "\n",
    "# fonction utilisée pour uploader les data et les résultats sur S3\n",
    "#upload()\n",
    "\n",
    "# Si vous n'avez pas encore les fichiers en local, vous pouvez les télécharger en lançant cette fonction.\n",
    "download()"
   ]
  },
  {
   "cell_type": "code",
   "execution_count": null,
   "id": "14551020",
   "metadata": {},
   "outputs": [],
   "source": [
    "from notebooks.rapprochements.closest import find_closest_building\n",
    "import csv\n",
    "from pprint import pprint\n",
    "import json"
   ]
  },
  {
   "cell_type": "markdown",
   "id": "70e9b0ff",
   "metadata": {},
   "source": [
    "## 1 Creation d'un identifiant unique par ligne"
   ]
  },
  {
   "cell_type": "code",
   "execution_count": null,
   "id": "6de4525a",
   "metadata": {},
   "outputs": [],
   "source": [
    "with open(\"bat_rnb_mesr.csv\", \"r\") as f, open(\"data/bat_rnb_mesr_with_id.csv\", \"w\") as f_output:\n",
    "    reader = csv.DictReader(f, delimiter=\";\")\n",
    "    \n",
    "    rapprochement_id = 1\n",
    "    rows_output = []\n",
    "    \n",
    "    for row in reader:\n",
    "        row[\"rapprochement_id\"] = rapprochement_id\n",
    "        rapprochement_id += 1\n",
    "        rows_output.append(row)\n",
    "    \n",
    "    writer = csv.DictWriter(f_output, fieldnames=rows_output[0].keys() , delimiter=\";\")\n",
    "    writer.writeheader()\n",
    "    writer.writerows(rows_output)\n",
    "        \n",
    "        "
   ]
  },
  {
   "cell_type": "markdown",
   "id": "a0b3a020",
   "metadata": {},
   "source": [
    "#### Mini exploration du fichier input"
   ]
  },
  {
   "cell_type": "code",
   "execution_count": null,
   "id": "716acd88",
   "metadata": {},
   "outputs": [],
   "source": [
    "import pandas as pd\n",
    "import csv\n",
    "\n",
    "with open(\"data/bat_rnb_mesr_with_id.csv\", \"r\") as f:\n",
    "    reader = csv.DictReader(f, delimiter=\";\")\n",
    "    df = pd.DataFrame(reader)\n",
    "    df"
   ]
  },
  {
   "cell_type": "code",
   "execution_count": null,
   "id": "893c70cf",
   "metadata": {},
   "outputs": [],
   "source": [
    "# liste de colonnes\n",
    "list(df)"
   ]
  },
  {
   "cell_type": "code",
   "execution_count": null,
   "id": "ba23f770",
   "metadata": {},
   "outputs": [],
   "source": [
    "# Code bât/ter est il un identifiant unique ?\n",
    "df.groupby('Code bât/ter')['Code bât/ter'].count().value_counts().sort_values(ascending=False)\n",
    "# => pas trop"
   ]
  },
  {
   "cell_type": "code",
   "execution_count": null,
   "id": "d50281ca",
   "metadata": {},
   "outputs": [],
   "source": [
    "df['Code bât/ter'].nunique()"
   ]
  },
  {
   "cell_type": "code",
   "execution_count": null,
   "id": "c9a6bda8",
   "metadata": {},
   "outputs": [],
   "source": [
    "df['Code bât/ter'].count()"
   ]
  },
  {
   "cell_type": "code",
   "execution_count": null,
   "id": "baba6d63",
   "metadata": {},
   "outputs": [],
   "source": [
    "# un cas particulier\n",
    "pd.set_option('display.max_columns', None)\n",
    "df[df['Code bât/ter'] == '105864']"
   ]
  },
  {
   "cell_type": "markdown",
   "id": "b4bcd2d9",
   "metadata": {},
   "source": [
    "## 2 Rapprochement par closest building"
   ]
  },
  {
   "cell_type": "code",
   "execution_count": null,
   "id": "b25a1d74",
   "metadata": {},
   "outputs": [],
   "source": [
    "with open(\"data/bat_rnb_mesr_with_id.csv\", \"r\") as f:\n",
    "    reader = csv.DictReader(f, delimiter=\";\")\n",
    "    results = {}\n",
    "    \n",
    "    \n",
    "    c = 0\n",
    "    for row in reader:\n",
    "        \n",
    "        c += 1\n",
    "        \n",
    "        # print(c)\n",
    "        \n",
    "        id_es = row[\"rapprochement_id\"]\n",
    "        lat = row[\"lat\"]\n",
    "        lon = row[\"long\"]\n",
    "            \n",
    "        url, closest_bdgs = find_closest_building(lat, lon, 20)            \n",
    "        \n",
    "        results[id_es] = {\n",
    "            'query': url,\n",
    "            'input': row,\n",
    "            'result': closest_bdgs\n",
    "        }\n",
    "        \n",
    "    with open('results/results-closest.json', 'w') as f:\n",
    "        json.dump(results, f)\n",
    "        \n",
    "    "
   ]
  },
  {
   "cell_type": "markdown",
   "id": "58d958de",
   "metadata": {},
   "source": [
    "## 3 Rapprochement par guess"
   ]
  },
  {
   "cell_type": "code",
   "execution_count": null,
   "id": "23d67e4f",
   "metadata": {},
   "outputs": [],
   "source": [
    "import csv\n",
    "import json\n",
    "from pprint import pprint\n",
    "from notebooks.rapprochements.guess import guess_all\n",
    "\n",
    "def guess():\n",
    "    with open(\"data/bat_rnb_mesr_with_id.csv\", \"r\") as f:\n",
    "        reader = csv.DictReader(f, delimiter=\";\")\n",
    "        all = []\n",
    "        \n",
    "        for i, line in enumerate(list(reader)):\n",
    "\n",
    "            # Address\n",
    "            address = [\n",
    "                line[\"Adresse\"],\n",
    "                line[\"CP\"],\n",
    "                line[\"Ville\"]\n",
    "            ]\n",
    "            address = [x for x in address if x != \"\"]\n",
    "\n",
    "            # Point\n",
    "            point = None\n",
    "            if line[\"lat\"] and line[\"long\"]:\n",
    "                point = f\"{line['lat']},{line['long']}\"\n",
    "\n",
    "            all.append({\n",
    "                \"ext_id\": line[\"rapprochement_id\"],\n",
    "                \"name\": line[\"Libellé bât/ter\"],\n",
    "                \"address\": \" \".join(address),\n",
    "                \"point\": point,\n",
    "            })\n",
    "\n",
    "        results = guess_all(all, avoid_throttling=True)\n",
    "        json.dump(results, open(\"results/results_guess.json\", \"w\"), indent=4)"
   ]
  },
  {
   "cell_type": "code",
   "execution_count": null,
   "id": "c7a85723",
   "metadata": {},
   "outputs": [],
   "source": [
    "guess()"
   ]
  },
  {
   "cell_type": "markdown",
   "id": "d6633906",
   "metadata": {},
   "source": [
    "   ## 4 Analyse"
   ]
  },
  {
   "cell_type": "markdown",
   "id": "696c9e20",
   "metadata": {},
   "source": [
    "### Histogramme de la distance entre le batiment trouvé et les coordonnées trouvées"
   ]
  },
  {
   "cell_type": "code",
   "execution_count": null,
   "id": "a8d84d5c",
   "metadata": {},
   "outputs": [],
   "source": [
    "import json\n",
    "import pandas as pd\n",
    "# count 0 distance results\n",
    "\n",
    "on_bdg_count = 0\n",
    "with open('results/results-closest.json', 'r') as f:\n",
    "    distances = []\n",
    "\n",
    "    data = json.load(f).items()\n",
    "    for key, row in data:\n",
    "        \n",
    "        result = row['result']\n",
    "        \n",
    "        if isinstance(result, dict):\n",
    "            distances.append(result.get('distance', None))\n",
    "        else:\n",
    "            distances.append(None)\n",
    "        \n",
    "\n",
    "    df = pd.DataFrame(distances)\n",
    "    \n",
    "    total = len(distances)\n",
    "    d_zero = (df[0] == 0).sum()\n",
    "    d_max_one = (df[0] <= 1).sum()\n",
    "    with_result = (df[0].notnull()).sum()\n",
    "    \n",
    "    print('-- Rows')\n",
    "    print(total)\n",
    "    \n",
    "    print('-- Distance = 0')\n",
    "    print(d_zero)\n",
    "    print(f\"{round(d_zero / total * 100, 2)}%\")\n",
    "    \n",
    "    print('-- Distance <= 1')\n",
    "    print(d_max_one)\n",
    "    print(f\"{round(d_max_one / total * 100, 2)}%\")\n",
    "    \n",
    "    print('-- No results')\n",
    "    print(total - with_result)\n",
    "    \n",
    "    \n",
    "    print('-- Repartition')\n",
    "    df.hist(bins=10)\n",
    "    \n",
    "    "
   ]
  },
  {
   "cell_type": "markdown",
   "id": "2d25c754",
   "metadata": {},
   "source": [
    "### Quelques stats sur les batiments identifiés par closest"
   ]
  },
  {
   "cell_type": "code",
   "execution_count": null,
   "id": "56537a8b",
   "metadata": {},
   "outputs": [],
   "source": [
    "import pandas as pd\n",
    "from urllib.parse import urlparse, parse_qs\n",
    "\n",
    "def get_lat_lon_from_query(query):\n",
    "    parsed_url = urlparse(query)\n",
    "    query_params = parse_qs(parsed_url.query)\n",
    "    lat, lon = query_params['point'][0].split(\",\")\n",
    "    lat = float(lat)\n",
    "    lon = float(lon)\n",
    "    return lat, lon\n",
    "\n",
    "\n",
    "def get_data(item):\n",
    "    lat, lon = get_lat_lon_from_query(item['query'])\n",
    "    #data = {'lat_input': lat, 'lon_input': lon}\n",
    "    #if isinstance(item['result'], dict):\n",
    "    #    data = {**data, **result}\n",
    "    data = item.get('result', {})\n",
    "    if data is None:\n",
    "        data = {}\n",
    "    data.update({'lat_input': lat, 'lon_input': lon})\n",
    "    return data\n",
    "\n",
    "with open('results/results-closest.json', 'r') as f:\n",
    "    data = json.load(f)\n",
    "    \n",
    "    # Extract the IDs and 'result' values from each item\n",
    "    result_values = [{'id': id, 'data': get_data(item)} for id, item in data.items()]\n",
    "\n",
    "    # Convert the list of dictionaries to a DataFrame\n",
    "    df = pd.DataFrame(result_values)\n",
    "    # split the unique column to a multiple columns\n",
    "    df_closest = pd.json_normalize(df['data'])\n",
    "    \n",
    "    # je rajoute une colonne qui donne le nombre de fois que un rnb_id a été identifié\n",
    "    # ce qui peut donner des indices sur de \"mauvais\" découpages de bâtiments \n",
    "    df_closest[\"count\"] = df_closest.groupby('rnb_id')['rnb_id'].transform('count')\n",
    "    df_closest"
   ]
  },
  {
   "cell_type": "markdown",
   "id": "316d58d6",
   "metadata": {},
   "source": [
    "### occurences du même rnb_id dans les résultats"
   ]
  },
  {
   "cell_type": "code",
   "execution_count": null,
   "id": "8a1a10ca",
   "metadata": {},
   "outputs": [],
   "source": [
    " print(df_closest[[\"rnb_id\", \"count\"]].groupby(\"count\").count())"
   ]
  },
  {
   "cell_type": "markdown",
   "id": "45a8b3a1",
   "metadata": {},
   "source": [
    "### nombre de batiments identifiés avec distance à 0 et unique résultat"
   ]
  },
  {
   "cell_type": "code",
   "execution_count": null,
   "id": "0dd9448c",
   "metadata": {},
   "outputs": [],
   "source": [
    "filtered_df = df_closest[(expanded_df[\"count\"] == 1.0) & (df_closest[\"distance\"] == 0.0)]\n",
    "print(filtered_df.count())"
   ]
  },
  {
   "cell_type": "markdown",
   "id": "aafe7bdf",
   "metadata": {},
   "source": [
    "### Comparaison des résultats exactes et fuzzy"
   ]
  },
  {
   "cell_type": "code",
   "execution_count": null,
   "id": "69010b5f",
   "metadata": {},
   "outputs": [],
   "source": [
    "def first_result(item):\n",
    "    #print(item)\n",
    "    if 'result' in item and len(item['result']) > 0:\n",
    "        #print('result found')\n",
    "        return item['result'][0]\n",
    "    else:\n",
    "        return {}\n",
    "\n",
    "with open(\"results/results_guess.json\") as f_guess:\n",
    "    data = json.load(f_guess)\n",
    "    #print(data[\"1\"])\n",
    "    result_values = [{'id': id, 'result': first_result(item)} for id, item in data.items()]\n",
    "    df = pd.DataFrame(result_values)\n",
    "    df_guess = pd.json_normalize(df['result'])\n",
    "    "
   ]
  },
  {
   "cell_type": "code",
   "execution_count": null,
   "id": "f1d966dc",
   "metadata": {},
   "outputs": [],
   "source": [
    "# merge the closest and guess results in a single dataframe\n",
    "df_merge = df_closest.join(df_guess, how='inner', lsuffix='_closest', rsuffix='_guess')\n",
    "df_merge"
   ]
  },
  {
   "cell_type": "code",
   "execution_count": null,
   "id": "070d71da",
   "metadata": {},
   "outputs": [],
   "source": [
    "# count the number of case where the two approaches match\n",
    "df_merge[df_merge['rnb_id_closest'] == df_merge['rnb_id_guess']]['rnb_id_closest'].count()"
   ]
  },
  {
   "cell_type": "markdown",
   "id": "fa4063e4",
   "metadata": {},
   "source": [
    "#### Cas où l'input tombe sur un batiment"
   ]
  },
  {
   "cell_type": "code",
   "execution_count": null,
   "id": "602904bb",
   "metadata": {},
   "outputs": [],
   "source": [
    "# count the number of time input point is on the building\n",
    "df_merge[df_merge['distance'] == 0.0]['rnb_id_closest'].count()"
   ]
  },
  {
   "cell_type": "code",
   "execution_count": null,
   "id": "8108b189",
   "metadata": {},
   "outputs": [],
   "source": [
    "# count the number of time input point is on the building and the two approaches match\n",
    "df_merge[(df_merge['distance'] == 0.0) & (df_merge['rnb_id_closest'] == df_merge['rnb_id_guess'])]['rnb_id_closest'].count()"
   ]
  },
  {
   "cell_type": "code",
   "execution_count": null,
   "id": "1f750d84",
   "metadata": {
    "scrolled": true
   },
   "outputs": [],
   "source": [
    "# list cases where the input is on the building, but guess said something else\n",
    "pd.set_option('display.max_columns', None)\n",
    "df_why_guess_different = df_merge[(df_merge['distance'] == 0.0) & (df_merge['rnb_id_closest'] != df_merge['rnb_id_guess'])]\n",
    "df_why_guess_different.count()"
   ]
  },
  {
   "cell_type": "code",
   "execution_count": null,
   "id": "ae268639",
   "metadata": {},
   "outputs": [],
   "source": [
    "def diff_geojson(df):\n",
    "    geojson = {\n",
    "        \"type\": \"FeatureCollection\",\n",
    "        \"features\": []\n",
    "    }\n",
    "\n",
    "    for i, row in df.iterrows():\n",
    "        #print(row)\n",
    "        input_feature = {\n",
    "            \"type\": \"Feature\",\n",
    "            \"geometry\": {\"type\": \"Point\", \"coordinates\": [row[\"lon_input\"], row[\"lat_input\"]]},\n",
    "            \"properties\": {\"type\": \"input\", \"id\": i, **row},\n",
    "        }\n",
    "\n",
    "        closest_feature = {\n",
    "            \"type\": \"Feature\",\n",
    "            \"geometry\": {\"type\": \"Point\", \"coordinates\": row[\"point.coordinates_closest\"]},\n",
    "            \"properties\": {\"type\": \"closest\", \"rnb_id\": row[\"rnb_id_closest\"]},\n",
    "        }\n",
    "\n",
    "        guess_feature = {\n",
    "            \"type\": \"Feature\",\n",
    "            \"geometry\": {\"type\": \"Point\", \"coordinates\": row[\"point.coordinates_guess\"]},\n",
    "            \"properties\": {\"type\": \"guess\", \"rnb_id\": row[\"rnb_id_guess\"]},\n",
    "        }\n",
    "\n",
    "        line_feature_closest = {\n",
    "            \"type\": \"Feature\",\n",
    "            \"geometry\": {\n",
    "            \"type\": \"LineString\",\n",
    "            \"coordinates\": [\n",
    "                [row[\"lon_input\"], row[\"lat_input\"]],\n",
    "                row[\"point.coordinates_closest\"]\n",
    "            ]},\n",
    "            \"properties\": {},\n",
    "\n",
    "        }\n",
    "\n",
    "        line_feature_guess = {\n",
    "            \"type\": \"Feature\",\n",
    "            \"geometry\": {\n",
    "            \"type\": \"LineString\",\n",
    "            \"coordinates\": [\n",
    "                [row[\"lon_input\"], row[\"lat_input\"]],\n",
    "                row[\"point.coordinates_guess\"]\n",
    "            ]},\n",
    "            \"properties\": {},\n",
    "        }\n",
    "\n",
    "        geojson[\"features\"].append(input_feature)\n",
    "        geojson[\"features\"].append(closest_feature)    \n",
    "        geojson[\"features\"].append(guess_feature)    \n",
    "        geojson[\"features\"].append(line_feature_closest)    \n",
    "        geojson[\"features\"].append(line_feature_guess)    \n",
    "\n",
    "\n",
    "    return json.dumps(geojson).replace(\"NaN\", '\"NaN\"').replace(\"\\'\", \"'\")\n",
    "\n",
    "diff_geojson(df_why_guess_different)"
   ]
  },
  {
   "cell_type": "markdown",
   "id": "781f6dd3",
   "metadata": {},
   "source": [
    "#### différence guess / closest cas général (l'input tombe sur un batiment ou pas)"
   ]
  },
  {
   "cell_type": "code",
   "execution_count": null,
   "id": "e6d9ee51",
   "metadata": {},
   "outputs": [],
   "source": [
    "# number of cases where closest gave no results\n",
    "df_merge[(df_merge['rnb_id_closest'] != df_merge['rnb_id_guess']) & (df_merge['rnb_id_closest'].isna())]['lat_input'].count()"
   ]
  },
  {
   "cell_type": "code",
   "execution_count": null,
   "id": "16ff578c",
   "metadata": {},
   "outputs": [],
   "source": [
    "# list cases where the input is on the building, but guess said something else\n",
    "df_why_guess_different_all = df_merge[(df_merge['rnb_id_closest'] != df_merge['rnb_id_guess']) & (df_merge['rnb_id_closest'].notna()) & (df_merge['rnb_id_guess'].notna())]\n",
    "df_why_guess_different_all\n",
    "\n",
    "diff_geojson(df_why_guess_different_all)"
   ]
  },
  {
   "cell_type": "code",
   "execution_count": null,
   "id": "fa7dfa28",
   "metadata": {},
   "outputs": [],
   "source": []
  }
 ],
 "metadata": {
  "kernelspec": {
   "display_name": "Django Shell-Plus",
   "language": "python",
   "name": "django_extensions"
  },
  "language_info": {
   "codemirror_mode": {
    "name": "ipython",
    "version": 3
   },
   "file_extension": ".py",
   "mimetype": "text/x-python",
   "name": "python",
   "nbconvert_exporter": "python",
   "pygments_lexer": "ipython3",
   "version": "3.10.13"
  }
 },
 "nbformat": 4,
 "nbformat_minor": 5
}
