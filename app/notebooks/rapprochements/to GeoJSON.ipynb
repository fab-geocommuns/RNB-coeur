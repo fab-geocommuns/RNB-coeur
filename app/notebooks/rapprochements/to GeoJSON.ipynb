{
 "cells": [
  {
   "cell_type": "code",
   "execution_count": 49,
   "id": "fa18bcb3",
   "metadata": {},
   "outputs": [],
   "source": [
    "import json\n",
    "from urllib.parse import urlparse, parse_qs\n",
    "\n",
    "# get the result json file and convert it to geojson to ease the debugging with QGIS\n",
    "def closest_results_create_geojson(file_path):\n",
    "    # Open the JSON file and load the data into a dictionary\n",
    "    with open(file_path, 'r') as f:\n",
    "        data = json.load(f)\n",
    "\n",
    "    # Create a new dictionary for the GeoJSON data\n",
    "    geojson = {\n",
    "        \"type\": \"FeatureCollection\",\n",
    "        \"features\": []\n",
    "    }\n",
    "\n",
    "    # Iterate over the keys and values in the original dictionary\n",
    "    for key, value in data.items():\n",
    "        query = value['query']\n",
    "        parsed_url = urlparse(query)\n",
    "\n",
    "        # Get the query parameters\n",
    "        query_params = parse_qs(parsed_url.query)\n",
    "        lat, lon = query_params['point'][0].split(\",\")\n",
    "        lat = float(lat)\n",
    "        lon = float(lon)\n",
    "        \n",
    "        if isinstance(value, dict) and value.get('result', {}):\n",
    "            # create a feature for the input\n",
    "            input_feature = {\n",
    "                \"type\": \"Feature\",\n",
    "                \"geometry\": {\"type\": \"Point\", \"coordinates\": [lon, lat]},\n",
    "                \"properties\": {\"type\": \"input\", \"distance\": value['result']['distance']},\n",
    "            }\n",
    "        \n",
    "            output_feature = {\n",
    "                \"type\": \"Feature\",\n",
    "                \"geometry\": value['result']['point'],\n",
    "                \"properties\": value['result'],\n",
    "            }\n",
    "            \n",
    "            line_feature = {\n",
    "                \"type\": \"Feature\",\n",
    "                \"geometry\": {\n",
    "                \"type\": \"LineString\",\n",
    "                \"coordinates\": [\n",
    "                    [lon, lat],\n",
    "                    value['result']['point']['coordinates']\n",
    "                ]},\n",
    "                \"properties\": value['result']['distance']\n",
    "            }\n",
    "\n",
    "            # Add the feature dictionary to the features list\n",
    "            geojson['features'].append(input_feature)\n",
    "            geojson['features'].append(output_feature)\n",
    "            geojson['features'].append(line_feature)\n",
    "\n",
    "    return geojson\n",
    "\n",
    "def save_geojson(geojson, file_name):\n",
    "    with open(file_name, 'w') as f:\n",
    "        json.dump(geojson, f)\n",
    "\n",
    "def convert_closest_to_geojson_file(file_path):\n",
    "    geojson = closest_results_create_geojson(file_path)\n",
    "    save_geojson(geojson, file_path + \".geojson\")"
   ]
  },
  {
   "cell_type": "code",
   "execution_count": 50,
   "id": "9964769d",
   "metadata": {},
   "outputs": [],
   "source": [
    "convert_closest_to_geojson_file(\"Enseignement supérieur/results/results-closest.json\")"
   ]
  },
  {
   "cell_type": "code",
   "execution_count": null,
   "id": "53a20535",
   "metadata": {},
   "outputs": [],
   "source": []
  }
 ],
 "metadata": {
  "kernelspec": {
   "display_name": "Python 3 (ipykernel)",
   "language": "python",
   "name": "python3"
  },
  "language_info": {
   "codemirror_mode": {
    "name": "ipython",
    "version": 3
   },
   "file_extension": ".py",
   "mimetype": "text/x-python",
   "name": "python",
   "nbconvert_exporter": "python",
   "pygments_lexer": "ipython3",
   "version": "3.10.13"
  }
 },
 "nbformat": 4,
 "nbformat_minor": 5
}
