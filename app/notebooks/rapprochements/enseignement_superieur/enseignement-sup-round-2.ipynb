{
 "cells": [
  {
   "cell_type": "markdown",
   "id": "439a49df",
   "metadata": {},
   "source": [
    "# Enseignement supérieur - round 2\n",
    "\n",
    "Nous avons reçu un fichier plus complet et avons également amélioré l'outil de rapprochement. Nous faisons tourner cet outil sur le nouveau fichier.\n"
   ]
  },
  {
   "cell_type": "code",
   "execution_count": 9,
   "id": "ab7acba0",
   "metadata": {},
   "outputs": [],
   "source": [
    "import csv\n",
    "import json\n",
    "import pandas as pd\n",
    "import os\n",
    "from batid.utils.misc import is_float\n",
    "from batid.services.guess_bdg_new import Guesser\n",
    "\n",
    "raw_file = \"data/bat_rnb_mesr_complet.csv\"\n",
    "work_file = \"results/guess.json\"\n",
    "final_file = \"results/enseignement_superieur_w_rnb_id.csv\"\n",
    "\n",
    "os.environ[\"DJANGO_ALLOW_ASYNC_UNSAFE\"] = \"true\"\n"
   ]
  },
  {
   "cell_type": "markdown",
   "id": "eb6aee84",
   "metadata": {},
   "source": [
    "## Fonction pour transformer les données brutes en \"row\" pour l'objet Guesser\n"
   ]
  },
  {
   "cell_type": "code",
   "execution_count": null,
   "id": "12fd297e",
   "metadata": {},
   "outputs": [],
   "source": [
    "def _row_to_guess_params(row):\n",
    "    # Address\n",
    "    address = f\"{row['Adresse']}, {row['CP']} {row['Ville']}\".strip()\n",
    "\n",
    "    # Coords\n",
    "    lat = float(row[\"lat\"]) if is_float(row[\"lat\"]) else None\n",
    "    lng = float(row[\"long\"]) if is_float(row[\"long\"]) else None\n",
    "\n",
    "    # Name\n",
    "    big_place_name = row.get(\"Etablissement\", None)\n",
    "    bdg_name = row.get(\"Libellé bât/ter\", None)\n",
    "    name = f\"{big_place_name} {bdg_name}\".strip()\n",
    "\n",
    "    return {\n",
    "        \"ext_id\": row.get(\"clef\", None),\n",
    "        \"lat\": lat,\n",
    "        \"lng\": lng,\n",
    "        \"name\": name,\n",
    "        \"address\": address,\n",
    "    }"
   ]
  },
  {
   "cell_type": "markdown",
   "id": "7f2c980b",
   "metadata": {},
   "source": [
    "### Création du fichier de travail si nécessaire"
   ]
  },
  {
   "cell_type": "code",
   "execution_count": null,
   "id": "efdf4750",
   "metadata": {},
   "outputs": [],
   "source": [
    "if not os.path.exists(work_file):\n",
    "    with open(raw_file, \"r\") as f:\n",
    "        print(\"- creating work file -\")\n",
    "\n",
    "        reader = csv.DictReader(f, delimiter=\";\")\n",
    "        data = [_row_to_guess_params(row) for row in reader]\n",
    "\n",
    "        guesser = Guesser()\n",
    "        guesser.create_work_file(data, work_file)"
   ]
  },
  {
   "cell_type": "markdown",
   "id": "59b5d24e",
   "metadata": {},
   "source": [
    "### Rapprochement"
   ]
  },
  {
   "cell_type": "code",
   "execution_count": null,
   "id": "76eaa757",
   "metadata": {},
   "outputs": [],
   "source": [
    "guesser = Guesser()\n",
    "guesser.guess_work_file(work_file)"
   ]
  },
  {
   "cell_type": "markdown",
   "id": "68b545f8",
   "metadata": {},
   "source": [
    "### Rapport"
   ]
  },
  {
   "cell_type": "code",
   "execution_count": 3,
   "id": "3dc65bf1",
   "metadata": {},
   "outputs": [
    {
     "name": "stdout",
     "output_type": "stream",
     "text": [
      "-- Report --\n",
      "Number of rows: 9499\n",
      "Number of match: 5915 (62.27%)\n",
      "\n",
      "-- match_reasons : absolute --\n",
      "point_on_bdg             5248\n",
      "isolated_closest_bdg      573\n",
      "found_name_in_osm          48\n",
      "precise_address_match      46\n",
      "Name: match_reason, dtype: int64\n",
      "\n",
      "-- match_reasons : % --\n",
      "point_on_bdg             55.247921\n",
      "isolated_closest_bdg      6.032214\n",
      "found_name_in_osm         0.505316\n",
      "precise_address_match     0.484262\n",
      "Name: match_reason, dtype: float64\n"
     ]
    }
   ],
   "source": [
    "guesser = Guesser()\n",
    "guesser.load_work_file(work_file)\n",
    "guesser.report()"
   ]
  },
  {
   "cell_type": "markdown",
   "id": "3bd7e760",
   "metadata": {},
   "source": [
    "### Conversion au format enseignement supérieur"
   ]
  },
  {
   "cell_type": "code",
   "execution_count": 11,
   "id": "c8b5c2b3",
   "metadata": {},
   "outputs": [
    {
     "name": "stdout",
     "output_type": "stream",
     "text": [
      "- done -\n"
     ]
    }
   ],
   "source": [
    "guesser = Guesser()\n",
    "guesser.load_work_file(work_file)\n",
    "\n",
    "final_data = []\n",
    "\n",
    "with open(raw_file, \"r\") as f:\n",
    "    reader = csv.DictReader(f, delimiter=\";\")\n",
    "\n",
    "    for row in reader:\n",
    "        ext_id = row[\"clef\"]\n",
    "        \n",
    "        row['rnb_id'] = None\n",
    "        row['rnb_shape'] = None\n",
    "        \n",
    "        if ext_id in guesser.guesses:\n",
    "            match = guesser.guesses[ext_id][\"match\"]\n",
    "            if match:\n",
    "                \n",
    "                bdg = Building.objects.get(rnb_id=match['rnb_id'])\n",
    "                \n",
    "                \n",
    "                row['rnb_id'] = match['rnb_id']\n",
    "                row['rnb_shape'] = bdg.shape.wkt\n",
    "                \n",
    "        final_data.append(row)\n",
    "        \n",
    "\n",
    "with open(final_file, \"w\") as f:\n",
    "    \n",
    "    writer = csv.DictWriter(f, fieldnames=final_data[0].keys(), delimiter=\";\")\n",
    "    writer.writeheader()\n",
    "    writer.writerows(final_data)\n",
    "                \n",
    "print('- done -')    "
   ]
  },
  {
   "cell_type": "code",
   "execution_count": null,
   "id": "377793f2",
   "metadata": {},
   "outputs": [],
   "source": []
  }
 ],
 "metadata": {
  "kernelspec": {
   "display_name": "Django Shell-Plus",
   "language": "python",
   "name": "django_extensions"
  },
  "language_info": {
   "codemirror_mode": {
    "name": "ipython",
    "version": 3
   },
   "file_extension": ".py",
   "mimetype": "text/x-python",
   "name": "python",
   "nbconvert_exporter": "python",
   "pygments_lexer": "ipython3",
   "version": "3.10.13"
  }
 },
 "nbformat": 4,
 "nbformat_minor": 5
}
