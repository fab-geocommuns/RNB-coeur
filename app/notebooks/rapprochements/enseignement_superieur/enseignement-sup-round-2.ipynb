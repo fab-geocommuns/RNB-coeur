{
 "cells": [
  {
   "cell_type": "markdown",
   "id": "439a49df",
   "metadata": {},
   "source": [
    "# Enseignement supérieur - round 2\n",
    "\n",
    "Nous avons reçu un fichier plus complet et avons également amélioré l'outil de rapprochement. Nous faisons tourner cet outil sur le nouveau fichier.\n"
   ]
  },
  {
   "cell_type": "code",
   "execution_count": null,
   "id": "ab7acba0",
   "metadata": {},
   "outputs": [],
   "source": [
    "import csv\n",
    "import json\n",
    "import pandas as pd\n",
    "from batid.services.guess_bdg_new import guess_all, report_format\n",
    "from batid.utils.misc import is_float\n",
    "\n",
    "raw_data_path = \"data/bat_rnb_mesr_complet.csv\"    \n",
    "report_path = \"results/results.json\"\n"
   ]
  },
  {
   "cell_type": "markdown",
   "id": "eb6aee84",
   "metadata": {},
   "source": [
    "## Rapprochement\n",
    "\n",
    "rows = []\n",
    "\n",
    "with open(raw_data_path, \"r\") as file:\n",
    "    reader = csv.DictReader(file, delimiter=\";\")\n",
    "\n",
    "for row in reader:\n",
    "    rows.append(_row_to_guess_params(row))\n",
    "\n",
    "results = guess_all(rows)\n",
    "report_data = report_format(results)\n",
    "\n",
    "with open(self.report_path, \"w\") as file:\n",
    "    json.dump(report_data, file)\n"
   ]
  },
  {
   "cell_type": "code",
   "execution_count": null,
   "id": "788a6208",
   "metadata": {},
   "outputs": [],
   "source": [
    "## Résultats"
   ]
  },
  {
   "cell_type": "code",
   "execution_count": null,
   "id": "efdf4750",
   "metadata": {},
   "outputs": [],
   "source": [
    "with open(self.report_path, \"r\") as file:\n",
    "    df = pd.json_normalize(json.load(file), sep=\"_\")\n",
    "\n",
    "# print total number of rows\n",
    "total = len(df)\n",
    "print(f\"Total number of rows: {total}\")\n",
    "\n",
    "# How many have a match\n",
    "matched = df[df[\"match_rnb_id\"].notnull()]\n",
    "matched_total = len(matched)\n",
    "print(f\"Total number of rows with a match: {matched_total}\")\n",
    "\n",
    "# List all possible values of matched_on_step and count rows for each\n",
    "print(df[\"matched_on_step\"].value_counts())"
   ]
  }
 ],
 "metadata": {
  "kernelspec": {
   "display_name": "Django Shell-Plus",
   "language": "python",
   "name": "django_extensions"
  },
  "language_info": {
   "codemirror_mode": {
    "name": "ipython",
    "version": 3
   },
   "file_extension": ".py",
   "mimetype": "text/x-python",
   "name": "python",
   "nbconvert_exporter": "python",
   "pygments_lexer": "ipython3",
   "version": "3.10.13"
  }
 },
 "nbformat": 4,
 "nbformat_minor": 5
}
