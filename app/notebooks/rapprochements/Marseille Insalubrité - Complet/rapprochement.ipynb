{
 "cells": [
  {
   "cell_type": "code",
   "execution_count": 1,
   "id": "239ba72f",
   "metadata": {},
   "outputs": [],
   "source": [
    "from batid.services.guess_bdg_new import Guesser,GeocodeAddressHandler\n",
    "from batid.models import Building\n",
    "import csv\n",
    "import os\n",
    "\n",
    "os.environ[\"DJANGO_ALLOW_ASYNC_UNSAFE\"] = \"true\""
   ]
  },
  {
   "cell_type": "code",
   "execution_count": 2,
   "id": "97ef5850",
   "metadata": {},
   "outputs": [],
   "source": [
    "def row_to_input(line_number, row) -> dict:\n",
    "    \n",
    "    address_infos = [\n",
    "        row['num_voie'],\n",
    "        row['ind_rep'],\n",
    "        row['nom_voie'],\n",
    "        row['code_postal'],\n",
    "        row['commune']\n",
    "    ]\n",
    "    \n",
    "    address_infos = [i for i in address_infos if i]\n",
    "    address = \" \".join(address_infos)\n",
    "    \n",
    "    return {\n",
    "        'ext_id': f\"{row['num_arrete']}--ligne{line_number}\",\n",
    "        'address': address\n",
    "    }\n",
    "    "
   ]
  },
  {
   "cell_type": "code",
   "execution_count": 3,
   "id": "9a17e16e",
   "metadata": {},
   "outputs": [],
   "source": [
    "os.remove(\"guess.json\")\n",
    "\n",
    "with open(\"historique_insa_rnb.csv\", \"r\") as f:\n",
    "    \n",
    "    reader = csv.DictReader(f)\n",
    "    inputs = []\n",
    "    \n",
    "    for i, row in enumerate(list(reader)):\n",
    "        inputs.append(row_to_input(i+2, row))\n",
    "        \n",
    "    \n",
    "    guesser = Guesser()\n",
    "    guesser.load_inputs(inputs)\n",
    "    guesser.save_work_file('guess.json')"
   ]
  },
  {
   "cell_type": "code",
   "execution_count": 4,
   "id": "5d90478a",
   "metadata": {},
   "outputs": [
    {
     "name": "stdout",
     "output_type": "stream",
     "text": [
      "-- Report --\n",
      "Number of rows: 277\n",
      "Number of match: 225 (81.23%)\n",
      "\n",
      "-- match_reasons : absolute --\n",
      "precise_address_match    225\n",
      "Name: match_reason, dtype: int64\n",
      "\n",
      "-- match_reasons : % --\n",
      "precise_address_match    81.227437\n",
      "Name: match_reason, dtype: float64\n",
      "\n",
      "-- Inputs --\n",
      "rows with ban_id: 228 (82.31%)\n"
     ]
    }
   ],
   "source": [
    "guesser = Guesser()\n",
    "\n",
    "\n",
    "guesser.handlers = [GeocodeAddressHandler()]\n",
    "guesser.guess_work_file('guess.json')\n",
    "\n",
    "guesser.report()\n",
    "\n",
    "\n"
   ]
  },
  {
   "cell_type": "code",
   "execution_count": 5,
   "id": "6063680e",
   "metadata": {},
   "outputs": [
    {
     "name": "stdout",
     "output_type": "stream",
     "text": [
      "    matches match_reason     finished_steps        input_ext_id  \\\n",
      "92                  None  [geocode_address]    2022-54--ligne94   \n",
      "56                  None  [geocode_address]    2022-06--ligne58   \n",
      "128                 None  [geocode_address]   2022-93--ligne130   \n",
      "43                  None  [geocode_address]    2021-67--ligne45   \n",
      "182                 None  [geocode_address]   2023-25--ligne184   \n",
      "96                  None  [geocode_address]    2022-58--ligne98   \n",
      "77                  None  [geocode_address]    2022-29--ligne79   \n",
      "129                 None  [geocode_address]   2022-94--ligne131   \n",
      "153                 None  [geocode_address]  2022-132--ligne155   \n",
      "257                 None  [geocode_address]  2023-116--ligne259   \n",
      "199                 None  [geocode_address]   2023-42--ligne201   \n",
      "67                  None  [geocode_address]    2022-18--ligne69   \n",
      "246                 None  [geocode_address]   2023-99--ligne248   \n",
      "17                  None  [geocode_address]    2021-21--ligne19   \n",
      "155                 None  [geocode_address]  2022-134--ligne157   \n",
      "154                 None  [geocode_address]  2022-133--ligne156   \n",
      "235                 None  [geocode_address]   2023-83--ligne237   \n",
      "83                  None  [geocode_address]    2022-36--ligne85   \n",
      "261                 None  [geocode_address]  2023-124--ligne263   \n",
      "81                  None  [geocode_address]    2022-34--ligne83   \n",
      "18                  None  [geocode_address]    2021-22--ligne20   \n",
      "228                 None  [geocode_address]   2023-78--ligne230   \n",
      "152                 None  [geocode_address]  2022-130--ligne154   \n",
      "131                 None  [geocode_address]   2022-96--ligne133   \n",
      "57                  None  [geocode_address]    2022-07--ligne59   \n",
      "126                 None  [geocode_address]   2022-91--ligne128   \n",
      "107                 None  [geocode_address]   2022-68--ligne109   \n",
      "159                 None  [geocode_address]  2022-142--ligne161   \n",
      "54                  None  [geocode_address]    2022-04--ligne56   \n",
      "62                  None  [geocode_address]    2022-12--ligne64   \n",
      "\n",
      "                                         input_address          input_ban_id  \n",
      "92              14 PLACE BOUGAINVILLE 13015 MARSEILLE                    NaN  \n",
      "56                 AVENUE DES PIELETTES 13740 LE ROVE                    NaN  \n",
      "128        CHEMIN DE BARBIER DAUPHIN 13650 MEYRARGUES                    NaN  \n",
      "43                   CHEMIN DE LA CRIDE 13740 LE ROVE                    NaN  \n",
      "182      ROUTE DE JEAN MOULIN 13300 SALON-DE-PROVENCE                    NaN  \n",
      "96                 CHEMIN DES PIÉLETTES 13740 LE ROVE                    NaN  \n",
      "77                 AVENUE DES PIELETTES 13740 LE ROVE                    NaN  \n",
      "129        CHEMIN DE BARBIER DAUPHIN 13650 MEYRARGUES                    NaN  \n",
      "153  1014 CHEMIN DU VX MIRAMAS VERS LUNARD 13140 MI...                   NaN  \n",
      "257        3 AVENUE DE LA MONTAGNETTE 13015 MARSEILLE                    NaN  \n",
      "199     5094 CHEMIN DE LA GRANDE BASTIDE 13170 FUVEAU                    NaN  \n",
      "67          141 AVENUE DE SAINT MENET 13011 MARSEILLE                    NaN  \n",
      "246          89 BOULEVARD MARCEL PAUL 13500 MARTIGUES                    NaN  \n",
      "17               TRAVERSE DES ROSIERS 13014 MARSEILLE                    NaN  \n",
      "155             14 PLACE BOUGAINVILLE 13015 MARSEILLE                    NaN  \n",
      "154               1 B AVENUE DE VALDONNE 13124 PEYPIN   13073_0273_00001_bis  \n",
      "235        3 AVENUE DE LA MONTAGNETTE 13015 MARSEILLE                    NaN  \n",
      "83                   ROUTE BLANCHE 13110 PORT-DE-BOUC                    NaN  \n",
      "261  RUE COMBATTANTS D’EXTREME ORIENT 13700 MARIGNANE                    NaN  \n",
      "81            CHEMIN BARBIER DAUPHIN 13650 MEYRARGUES                    NaN  \n",
      "18                 IMPASSE DE L'ÉOLIENNE 13005 AUBAGNE                   NaN  \n",
      "228                       7 COURS LEYDET 13710 FUVEAU                    NaN  \n",
      "152              13 B AVENUE GEORGES COSTE 13360 ORGON                   NaN  \n",
      "131                  4 IMPASSE SUMIAN 13014 MARSEILLE                    NaN  \n",
      "57            5 C AVENUE JEAN MOULIN 13270 FOS-SUR-MER    13039_4349_00005_c  \n",
      "126              13 B AVENUE GEORGES COSTE 13360 ORGON                   NaN  \n",
      "107             14 PLACE BOUGAINVILLE 13015 MARSEILLE                    NaN  \n",
      "159           18 RUE DE L'AMIDONNERIE 13003 MARSEILLE                    NaN  \n",
      "54             2 ALLÉE DU ROUGE GORGE 13500 MARTIGUES                    NaN  \n",
      "62                   ROUTE BLANCHE 13110 PORT-DE-BOUC                    NaN  \n"
     ]
    }
   ],
   "source": [
    "guesser.display_unmatched(30)"
   ]
  },
  {
   "cell_type": "code",
   "execution_count": 6,
   "id": "f58e7194",
   "metadata": {},
   "outputs": [
    {
     "name": "stdout",
     "output_type": "stream",
     "text": [
      "1\n"
     ]
    }
   ],
   "source": [
    "bdgs = Building.objects.filter(addresses__id='13054_0530_00007')\n",
    "print(bdgs.count())"
   ]
  },
  {
   "cell_type": "code",
   "execution_count": 7,
   "id": "7b490ba4",
   "metadata": {},
   "outputs": [],
   "source": [
    "guesser = Guesser()\n",
    "guesser.load_work_file('guess.json')\n",
    "guesser.to_csv('marseille-insalubrite-rnb.csv', ext_id_col_name=\"Identifiant arrêté\")"
   ]
  },
  {
   "cell_type": "code",
   "execution_count": null,
   "id": "8a84b725",
   "metadata": {},
   "outputs": [],
   "source": []
  }
 ],
 "metadata": {
  "kernelspec": {
   "display_name": "Django Shell-Plus",
   "language": "python",
   "name": "django_extensions"
  },
  "language_info": {
   "codemirror_mode": {
    "name": "ipython",
    "version": 3
   },
   "file_extension": ".py",
   "mimetype": "text/x-python",
   "name": "python",
   "nbconvert_exporter": "python",
   "pygments_lexer": "ipython3",
   "version": "3.10.14"
  }
 },
 "nbformat": 4,
 "nbformat_minor": 5
}
