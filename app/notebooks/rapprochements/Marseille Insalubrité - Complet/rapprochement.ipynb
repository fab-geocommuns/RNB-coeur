{
 "cells": [
  {
   "cell_type": "code",
   "execution_count": 6,
   "id": "239ba72f",
   "metadata": {},
   "outputs": [],
   "source": [
    "from batid.services.guess_bdg_new import Guesser,GeocodeAddressHandler\n",
    "from batid.models import Building\n",
    "import csv\n",
    "import os\n",
    "\n",
    "os.environ[\"DJANGO_ALLOW_ASYNC_UNSAFE\"] = \"true\""
   ]
  },
  {
   "cell_type": "code",
   "execution_count": 2,
   "id": "97ef5850",
   "metadata": {},
   "outputs": [],
   "source": [
    "def row_to_input(line_number, row) -> dict:\n",
    "    \n",
    "    address_infos = [\n",
    "        row['num_voie'],\n",
    "        row['ind_rep'],\n",
    "        row['nom_voie'],\n",
    "        row['code_postal'],\n",
    "        row['commune']\n",
    "    ]\n",
    "    \n",
    "    address_infos = [i for i in address_infos if i]\n",
    "    address = \" \".join(address_infos)\n",
    "    \n",
    "    return {\n",
    "        'ext_id': f\"{row['num_arrete']}--ligne{line_number}\",\n",
    "        'address': address\n",
    "    }\n",
    "    "
   ]
  },
  {
   "cell_type": "code",
   "execution_count": 3,
   "id": "9a17e16e",
   "metadata": {},
   "outputs": [],
   "source": [
    "os.remove(\"guess.json\")\n",
    "\n",
    "with open(\"historique_insa_rnb.csv\", \"r\") as f:\n",
    "    \n",
    "    reader = csv.DictReader(f)\n",
    "    inputs = []\n",
    "    \n",
    "    for i, row in enumerate(list(reader)):\n",
    "        inputs.append(row_to_input(i+2, row))\n",
    "        \n",
    "    \n",
    "    guesser = Guesser()\n",
    "    guesser.load_inputs(inputs)\n",
    "    guesser.save_work_file('guess.json')"
   ]
  },
  {
   "cell_type": "code",
   "execution_count": 4,
   "id": "5d90478a",
   "metadata": {},
   "outputs": [
    {
     "name": "stdout",
     "output_type": "stream",
     "text": [
      "-- Report --\n",
      "Number of rows: 277\n",
      "Number of match: 85 (30.69%)\n",
      "\n",
      "-- match_reasons : absolute --\n",
      "precise_address_match    85\n",
      "Name: match_reason, dtype: int64\n",
      "\n",
      "-- match_reasons : % --\n",
      "precise_address_match    30.685921\n",
      "Name: match_reason, dtype: float64\n",
      "\n",
      "-- Inputs --\n",
      "rows with ban_id: 164 (59.21%)\n"
     ]
    }
   ],
   "source": [
    "guesser = Guesser()\n",
    "\n",
    "\n",
    "guesser.handlers = [GeocodeAddressHandler()]\n",
    "guesser.guess_work_file('guess.json')\n",
    "\n",
    "guesser.report()\n",
    "\n",
    "\n"
   ]
  },
  {
   "cell_type": "code",
   "execution_count": 5,
   "id": "6063680e",
   "metadata": {},
   "outputs": [
    {
     "name": "stdout",
     "output_type": "stream",
     "text": [
      "    match_reason     finished_steps        input_ext_id  \\\n",
      "130         None  [geocode_address]   2022-95--ligne132   \n",
      "273         None  [geocode_address]  2023-137--ligne275   \n",
      "48          None  [geocode_address]    2021-79--ligne50   \n",
      "74          None  [geocode_address]    2022-25--ligne76   \n",
      "218         None  [geocode_address]   2023-68--ligne220   \n",
      "148         None  [geocode_address]  2022-126--ligne150   \n",
      "261         None  [geocode_address]  2023-124--ligne263   \n",
      "36          None  [geocode_address]    2021-53--ligne38   \n",
      "213         None  [geocode_address]   2023-63--ligne215   \n",
      "216         None  [geocode_address]   2023-66--ligne218   \n",
      "\n",
      "                                         input_address      input_ban_id  \\\n",
      "130          12 RUE DU CHEVALIER ROZE 13002 MARSEILLE                NaN   \n",
      "273                96 RUE JEAN MERMOZ 13008 MARSEILLE   13208_4774_00096   \n",
      "48       3 AVENUE AMBROISE CROIZAT 13110 PORT-DE-BOUC   13077_0025_00003   \n",
      "74                     33 RUE VITALIS 13005 MARSEILLE                NaN   \n",
      "218                710 CHEMIN DE LA CRAU 13880 VELAUX                NaN   \n",
      "148               8 A RUE DU 141E RIA 13003 MARSEILLE                NaN   \n",
      "261  RUE COMBATTANTS D’EXTREME ORIENT 13700 MARIGNANE                NaN   \n",
      "36                12 RUE CHATEAUREDON 13001 MARSEILLE   13201_2177_00012   \n",
      "213                     30 RUE GUIBAL 13001 MARSEILLE                NaN   \n",
      "216                       28 RUE ALBE 13004 MARSEILLE                NaN   \n",
      "\n",
      "    match_rnb_id match_lat_lng  match  \n",
      "130          NaN           NaN    NaN  \n",
      "273          NaN           NaN    NaN  \n",
      "48           NaN           NaN    NaN  \n",
      "74           NaN           NaN    NaN  \n",
      "218          NaN           NaN    NaN  \n",
      "148          NaN           NaN    NaN  \n",
      "261          NaN           NaN    NaN  \n",
      "36           NaN           NaN    NaN  \n",
      "213          NaN           NaN    NaN  \n",
      "216          NaN           NaN    NaN  \n"
     ]
    }
   ],
   "source": [
    "guesser.display_unmatched()"
   ]
  },
  {
   "cell_type": "code",
   "execution_count": 8,
   "id": "f58e7194",
   "metadata": {},
   "outputs": [
    {
     "name": "stdout",
     "output_type": "stream",
     "text": [
      "5\n"
     ]
    }
   ],
   "source": [
    "bdgs = Building.objects.filter(addresses__id='13208_4774_00096')\n",
    "print(bdgs.count())"
   ]
  },
  {
   "cell_type": "code",
   "execution_count": null,
   "id": "7b490ba4",
   "metadata": {},
   "outputs": [],
   "source": []
  }
 ],
 "metadata": {
  "kernelspec": {
   "display_name": "Django Shell-Plus",
   "language": "python",
   "name": "django_extensions"
  },
  "language_info": {
   "codemirror_mode": {
    "name": "ipython",
    "version": 3
   },
   "file_extension": ".py",
   "mimetype": "text/x-python",
   "name": "python",
   "nbconvert_exporter": "python",
   "pygments_lexer": "ipython3",
   "version": "3.10.14"
  }
 },
 "nbformat": 4,
 "nbformat_minor": 5
}
