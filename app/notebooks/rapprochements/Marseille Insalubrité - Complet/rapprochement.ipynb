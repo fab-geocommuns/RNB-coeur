{
 "cells": [
  {
   "cell_type": "code",
   "execution_count": 1,
   "id": "239ba72f",
   "metadata": {},
   "outputs": [],
   "source": [
    "from batid.services.guess_bdg_new import Guesser,GeocodeAddressHandler\n",
    "from batid.models import Building\n",
    "import csv\n",
    "import os\n",
    "\n",
    "os.environ[\"DJANGO_ALLOW_ASYNC_UNSAFE\"] = \"true\""
   ]
  },
  {
   "cell_type": "code",
   "execution_count": 2,
   "id": "97ef5850",
   "metadata": {},
   "outputs": [],
   "source": [
    "def row_to_input(line_number, row) -> dict:\n",
    "    \n",
    "    address_infos = [\n",
    "        row['num_voie'],\n",
    "        row['ind_rep'],\n",
    "        row['nom_voie'],\n",
    "        row['code_postal'],\n",
    "        row['commune']\n",
    "    ]\n",
    "    \n",
    "    address_infos = [i for i in address_infos if i]\n",
    "    address = \" \".join(address_infos)\n",
    "    \n",
    "    return {\n",
    "        'ext_id': f\"{row['num_arrete']}--ligne{line_number}\",\n",
    "        'address': address.lower()\n",
    "    }\n",
    "    "
   ]
  },
  {
   "cell_type": "code",
   "execution_count": 3,
   "id": "9a17e16e",
   "metadata": {},
   "outputs": [],
   "source": [
    "os.remove(\"guess.json\")\n",
    "\n",
    "with open(\"historique_insa_rnb.csv\", \"r\") as f:\n",
    "    \n",
    "    reader = csv.DictReader(f)\n",
    "    inputs = []\n",
    "    \n",
    "    for i, row in enumerate(list(reader)):\n",
    "        inputs.append(row_to_input(i+2, row))\n",
    "        \n",
    "    \n",
    "    guesser = Guesser()\n",
    "    guesser.load_inputs(inputs)\n",
    "    guesser.save_work_file('guess.json')"
   ]
  },
  {
   "cell_type": "code",
   "execution_count": 4,
   "id": "5d90478a",
   "metadata": {},
   "outputs": [
    {
     "name": "stdout",
     "output_type": "stream",
     "text": [
      "-- Report --\n",
      "Number of rows: 277\n",
      "Number of match: 230 (83.03%)\n",
      "\n",
      "-- match_reasons : absolute --\n",
      "precise_address_match    230\n",
      "Name: match_reason, dtype: int64\n",
      "\n",
      "-- match_reasons : % --\n",
      "precise_address_match    83.032491\n",
      "Name: match_reason, dtype: float64\n",
      "\n",
      "-- Inputs --\n",
      "rows with ban_id: 233 (84.12%)\n"
     ]
    }
   ],
   "source": [
    "guesser = Guesser()\n",
    "\n",
    "\n",
    "guesser.handlers = [GeocodeAddressHandler()]\n",
    "guesser.guess_work_file('guess.json')\n",
    "\n",
    "guesser.report()\n",
    "\n",
    "\n"
   ]
  },
  {
   "cell_type": "code",
   "execution_count": 5,
   "id": "6063680e",
   "metadata": {},
   "outputs": [
    {
     "name": "stdout",
     "output_type": "stream",
     "text": [
      "    matches match_reason     finished_steps        input_ext_id  \\\n",
      "150      []         None  [geocode_address]  2022-128--ligne152   \n",
      "64       []         None  [geocode_address]    2022-15--ligne66   \n",
      "182      []         None  [geocode_address]   2023-25--ligne184   \n",
      "261      []         None  [geocode_address]  2023-124--ligne263   \n",
      "199      []         None  [geocode_address]   2023-42--ligne201   \n",
      "258      []         None  [geocode_address]  2023-117--ligne260   \n",
      "201      []         None  [geocode_address]   2023-47--ligne203   \n",
      "127      []         None  [geocode_address]   2022-92--ligne129   \n",
      "75       []         None  [geocode_address]    2022-26--ligne77   \n",
      "155      []         None  [geocode_address]  2022-134--ligne157   \n",
      "67       []         None  [geocode_address]    2022-18--ligne69   \n",
      "57       []         None  [geocode_address]    2022-07--ligne59   \n",
      "21       []         None  [geocode_address]    2021-29--ligne23   \n",
      "18       []         None  [geocode_address]    2021-22--ligne20   \n",
      "83       []         None  [geocode_address]    2022-36--ligne85   \n",
      "92       []         None  [geocode_address]    2022-54--ligne94   \n",
      "132      []         None  [geocode_address]   2022-98--ligne134   \n",
      "62       []         None  [geocode_address]    2022-12--ligne64   \n",
      "159      []         None  [geocode_address]  2022-142--ligne161   \n",
      "125      []         None  [geocode_address]   2022-90--ligne127   \n",
      "153      []         None  [geocode_address]  2022-132--ligne155   \n",
      "88       []         None  [geocode_address]    2022-44--ligne90   \n",
      "96       []         None  [geocode_address]    2022-58--ligne98   \n",
      "100      []         None  [geocode_address]   2022-62--ligne102   \n",
      "202      []         None  [geocode_address]   2023-48--ligne204   \n",
      "65       []         None  [geocode_address]    2022-16--ligne67   \n",
      "206      []         None  [geocode_address]   2023-55--ligne208   \n",
      "42       []         None  [geocode_address]    2021-64--ligne44   \n",
      "131      []         None  [geocode_address]   2022-96--ligne133   \n",
      "31       []         None  [geocode_address]    2021-45--ligne33   \n",
      "\n",
      "                                         input_address        input_ban_id  \n",
      "150             14 place bougainville 13015 marseille                  NaN  \n",
      "64               traverse des rosiers 13014 marseille                  NaN  \n",
      "182      route de jean moulin 13300 salon-de-provence                  NaN  \n",
      "261  rue combattants d’extreme orient 13700 marignane                  NaN  \n",
      "199     5094 chemin de la grande bastide 13170 fuveau                  NaN  \n",
      "258           avenue paul langevin 13110 port-de-bouc                  NaN  \n",
      "201         4 allée de la montagnette 13015 marseille                  NaN  \n",
      "127        chemin de barbier dauphin 13650 meyrargues                  NaN  \n",
      "75   boulevard de la cabassette 13170 les pennes-mi...                 NaN  \n",
      "155             14 place bougainville 13015 marseille                  NaN  \n",
      "67          141 avenue de saint menet 13011 marseille                  NaN  \n",
      "57            5 c avenue jean moulin 13270 fos-sur-mer  13039_4349_00005_c  \n",
      "21        23 b traverse antoine donaz 13015 marseille                  NaN  \n",
      "18                 impasse de l'éolienne 13005 aubagne                 NaN  \n",
      "83                   route blanche 13110 port-de-bouc                  NaN  \n",
      "92              14 place bougainville 13015 marseille                  NaN  \n",
      "132     41 rue du docteur rodocanachi 13008 marseille                  NaN  \n",
      "62                   route blanche 13110 port-de-bouc                  NaN  \n",
      "159           18 rue de l'amidonnerie 13003 marseille                  NaN  \n",
      "125     41 rue du docteur rodocanachi 13008 marseille                  NaN  \n",
      "153  1014 chemin du vx miramas vers lunard 13140 mi...                 NaN  \n",
      "88              14 place bougainville 13015 marseille                  NaN  \n",
      "96                 chemin des piélettes 13740 le rove                  NaN  \n",
      "100                  2 a rue d'isoard 13001 marseille                  NaN  \n",
      "202         4 allée de la montagnette 13015 marseille                  NaN  \n",
      "65            31 b faubourg de gueydan 13120 gardanne                  NaN  \n",
      "206             1 a chemin de blaqueiron 13800 istres                  NaN  \n",
      "42             9 rue gabriel péri 13130 berre-l'étang                  NaN  \n",
      "131                  4 impasse sumian 13014 marseille                  NaN  \n",
      "31                                    14 13190 allauch                 NaN  \n"
     ]
    }
   ],
   "source": [
    "guesser.display_unmatched(30)"
   ]
  },
  {
   "cell_type": "code",
   "execution_count": 6,
   "id": "f58e7194",
   "metadata": {},
   "outputs": [
    {
     "name": "stdout",
     "output_type": "stream",
     "text": [
      "1\n"
     ]
    }
   ],
   "source": [
    "bdgs = Building.objects.filter(addresses__id='13054_0530_00007')\n",
    "print(bdgs.count())"
   ]
  },
  {
   "cell_type": "code",
   "execution_count": null,
   "id": "7b490ba4",
   "metadata": {},
   "outputs": [],
   "source": []
  }
 ],
 "metadata": {
  "kernelspec": {
   "display_name": "Django Shell-Plus",
   "language": "python",
   "name": "django_extensions"
  },
  "language_info": {
   "codemirror_mode": {
    "name": "ipython",
    "version": 3
   },
   "file_extension": ".py",
   "mimetype": "text/x-python",
   "name": "python",
   "nbconvert_exporter": "python",
   "pygments_lexer": "ipython3",
   "version": "3.10.14"
  }
 },
 "nbformat": 4,
 "nbformat_minor": 5
}
