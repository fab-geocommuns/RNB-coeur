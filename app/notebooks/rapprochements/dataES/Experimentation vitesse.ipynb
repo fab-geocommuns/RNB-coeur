{
 "cells": [
  {
   "cell_type": "code",
   "execution_count": 2,
   "id": "fe83afe5",
   "metadata": {
    "is_executing": true
   },
   "outputs": [],
   "source": [
    "import time\n",
    "import csv\n",
    "from pprint import pprint\n",
    "import json\n",
    "from batid.services.closest_bdg import get_closest\n",
    "from batid.services.pairing_bdgs import pair\n",
    "\n",
    "import os\n",
    "from batid.models import Building\n",
    "# necessary for SQL query execution from Jupyter\n",
    "os.environ[\"DJANGO_ALLOW_ASYNC_UNSAFE\"] = \"true\""
   ]
  },
  {
   "cell_type": "markdown",
   "id": "0078d4ba",
   "metadata": {},
   "source": [
    "## Liste des colonnes"
   ]
  },
  {
   "cell_type": "code",
   "execution_count": 2,
   "id": "a80093a3",
   "metadata": {},
   "outputs": [
    {
     "name": "stdout",
     "output_type": "stream",
     "text": [
      "[\"\\ufeffNuméro de l'installation sportive\",\n",
      " \"Nom de l'installation sportive\",\n",
      " 'Numéro, type et nom de la voie',\n",
      " 'Code postal',\n",
      " \"Statut de la fiche d'enquête\",\n",
      " \"Etat de la fiche d'enquête\",\n",
      " \"Date de création de la fiche d'enquête\",\n",
      " \"Date de changement d'état de la fiche d'enquête\",\n",
      " \"Date de validation de la fiche d'enquête\",\n",
      " \"Accessibilité de l'installation en faveur des personnes en situation de \"\n",
      " 'handicap',\n",
      " \"Date de l'enquête\",\n",
      " \"Accessibilité de l'installation en transport en commun\",\n",
      " 'Installation particulière',\n",
      " \"Type de particularité de l'installation\",\n",
      " \"Accessibilité de l'installation en fonction du type handicap\",\n",
      " \"Accessibilité de l'installation en transport en commun des différents mode\",\n",
      " 'SIRET Installation',\n",
      " 'Unité Administrative Immatriculée (UAI) Installation',\n",
      " \"Numéro de l'équipement sportif\",\n",
      " \"Nom de l'équipement sportif\",\n",
      " \"Code du type d'équipement sportif\",\n",
      " \"Type d'équipement sportif\",\n",
      " \"Famille d'équipement sportif\",\n",
      " \"Etat de la fiche d'enquête de l'équipement sportif\",\n",
      " 'Longitude (WGS84)',\n",
      " 'Latitude (WGS84)',\n",
      " \"Eclairage de l'aire d'évolution\",\n",
      " \"Equipement d'accès libre\",\n",
      " 'Aménagements de confort',\n",
      " \"Arrêté d'ouverture au public\",\n",
      " 'Locaux complémentaires',\n",
      " 'Ouverture exclusivement saisonnière',\n",
      " 'Présence de douches',\n",
      " 'Présence de sanitaires',\n",
      " 'Gestion en DSP',\n",
      " \"Accessibilité aux personnes à mobilité réduite à l'accueil\",\n",
      " \"Accessibilité aux personnes à mobilité réduite à l'aire de jeu\",\n",
      " 'Accessibilité aux personnes à mobilité réduite aux cheminements',\n",
      " 'Accessibilité aux personnes à mobilité réduite aux douches',\n",
      " 'Accessibilité aux personnes à mobilité réduite aux sanitaires',\n",
      " 'Accessibilité aux personnes à mobilité réduite aux tribunes',\n",
      " 'Accessibilité aux personnes à mobilité réduite aux vestiaires',\n",
      " \"Accessibilité aux personnes en situation de handicap sensoriel à l'aire de \"\n",
      " 'jeu',\n",
      " 'Accessibilité aux personnes en situation de handicap sensoriel aux '\n",
      " 'cheminements',\n",
      " 'Accessibilité aux personnes en situation de handicap sensoriel aux '\n",
      " 'sanitaires',\n",
      " 'Accessibilité aux personnes en situation de handicap sensoriel - '\n",
      " 'signalétique',\n",
      " 'Accessibilité aux personnes en situation de handicap sensoriel aux tribunes',\n",
      " 'Accessibilité aux personnes en situation de handicap sensoriel aux '\n",
      " 'vestiaires',\n",
      " \"Date de l'homologation préfectorale\",\n",
      " 'Date des derniers gros travaux',\n",
      " \"Catégorie ERP de l'établissement\",\n",
      " \"Hauteur de l'aire d'évolution\",\n",
      " \"Largeur de l'aire d'évolution\",\n",
      " \"Longueur de l'aire d'évolution\",\n",
      " \"Surface de l'aire d'évolution\",\n",
      " 'Nombre de couloirs/pistes/postes/jeux/pas',\n",
      " 'Nombre de places assises en tribune',\n",
      " 'Nombre de vestiaires arbitres/enseignants',\n",
      " 'Nombre de vestiaires sportifs',\n",
      " 'SAE: nombre de couloirs de la structure',\n",
      " 'SAE: hauteur maximale de la structure',\n",
      " 'SAE: surface totale de la structure',\n",
      " 'Longueur du bassin',\n",
      " 'Largeur du bassin',\n",
      " 'Surface du bassin',\n",
      " 'Profondeur minimale du bassin',\n",
      " 'Profondeur maximale du bassin',\n",
      " 'Longueur de la piste',\n",
      " \"Adresse internet de l'équipement\",\n",
      " 'Année de mise en service',\n",
      " 'Nom du propriétaire',\n",
      " \"Types d'aménagements de confort\",\n",
      " \"Type d'ERP de l'établissement\",\n",
      " 'Types de locaux complémentaires',\n",
      " 'Motifs des derniers gros travaux',\n",
      " \"Types de chauffage - source d'énergie\",\n",
      " \"Type d'utilisation\",\n",
      " 'Type de pas de tir',\n",
      " 'Nature du sol',\n",
      " \"Nature de l'équipement sportif\",\n",
      " 'Période de mise en service',\n",
      " \"Période de l'homologation préfectorale\",\n",
      " 'Période des derniers gros travaux',\n",
      " 'Type de déclaration',\n",
      " 'Type de propriétaire',\n",
      " 'Type de propriétaire secondaire',\n",
      " 'Type de gestionnaire',\n",
      " 'Type du co-gestionnaire',\n",
      " 'Equipement inscrit au PDESI / PDIPR',\n",
      " 'code_aps',\n",
      " 'Commune INSEE',\n",
      " 'Commune Nom',\n",
      " 'EPCI INSEE',\n",
      " 'EPCI Nom',\n",
      " 'Département Code',\n",
      " 'Département Nom',\n",
      " 'Région Code',\n",
      " 'Région Nom',\n",
      " 'Département Code Complet',\n",
      " 'Réctorat Nom',\n",
      " 'Bassin de vie Nom',\n",
      " 'Bassin de vie Code',\n",
      " 'Coordonnées']\n"
     ]
    }
   ],
   "source": [
    "with open('data/data-es.csv') as f:\n",
    "    reader = csv.DictReader(f, delimiter=';')\n",
    "    \n",
    "    pprint(reader.fieldnames)"
   ]
  },
  {
   "cell_type": "markdown",
   "id": "a4da2fa9",
   "metadata": {},
   "source": [
    "## Vérifier l'unicité d'un identifiant"
   ]
  },
  {
   "cell_type": "code",
   "execution_count": 3,
   "id": "60542394",
   "metadata": {},
   "outputs": [
    {
     "name": "stdout",
     "output_type": "stream",
     "text": [
      "-- Vérification unicité du champ : Numéro de l'équipement sportif\n",
      "Nb identifiants : 86082\n",
      "Nb identifiants uniques : 86082\n",
      "OK : tous les identifiants sont uniques\n"
     ]
    }
   ],
   "source": [
    "col_to_check = \"Numéro de l'équipement sportif\"\n",
    "\n",
    "with open('data/data-es.csv') as f:\n",
    "    reader = csv.DictReader(f, delimiter=';')\n",
    "    \n",
    "    identifiers = [row[col_to_check] for row in reader]\n",
    "    unique_identifiers = set(identifiers)\n",
    "    \n",
    "    print(f\"-- Vérification unicité du champ : {col_to_check}\")\n",
    "    \n",
    "    print(f\"Nb identifiants : {len(identifiers)}\")\n",
    "    print(f\"Nb identifiants uniques : {len(unique_identifiers)}\")\n",
    "    \n",
    "    if len(identifiers) != len(unique_identifiers):\n",
    "        print('ALERTE : les identifiants ne sont pas uniques')\n",
    "    else:\n",
    "        print('OK : tous les identifiants sont uniques')"
   ]
  },
  {
   "cell_type": "markdown",
   "id": "9f35aa50",
   "metadata": {},
   "source": [
    "On trouve \"Numéro de l'équipement sportif\" comme identifiant unique"
   ]
  },
  {
   "cell_type": "markdown",
   "id": "33e60c22",
   "metadata": {},
   "source": [
    "## Fonctions utilitaires"
   ]
  },
  {
   "cell_type": "code",
   "execution_count": 3,
   "id": "0de322e0",
   "metadata": {},
   "outputs": [],
   "source": [
    "from batid.utils.misc import is_float\n",
    "\n",
    "# sidenote : je me rends compte que je suis repassé au camelCase sans m'en rendre compte :)\n",
    "\n",
    "def rowToParams(row): \n",
    "    return {\n",
    "        'ext_id': row[\"Numéro de l'équipement sportif\"],\n",
    "        'lat': float(row['Latitude (WGS84)']) if is_float(row['Latitude (WGS84)']) else None,\n",
    "        'lng': float(row['Longitude (WGS84)']) if is_float(row['Longitude (WGS84)']) else None,\n",
    "        'radius': 20\n",
    "    }\n",
    "\n",
    "def estimatedTotalTime(avgPerLine):\n",
    "    \n",
    "    lines = 85000\n",
    "    seconds = avgPerLine * lines\n",
    "    \n",
    "    return round(seconds / 3600, 2)\n",
    "\n",
    "def extractSample(size):\n",
    "    \n",
    "    with open('data/data-es.csv') as f:\n",
    "        reader = csv.DictReader(f, delimiter=';')\n",
    "        return list(reader)[:size]\n",
    "    \n",
    "def report(totalTime, size):\n",
    "    \n",
    "    average = totalTime / size;\n",
    "    \n",
    "    print(f\"Temps total : {totalTime:02f} secondes\")\n",
    "    print(f\"Vitesse moyenne {round(average, 4)}  ms / ligne\")\n",
    "    print(f\"Estimation temps total : {estimatedTotalTime(average)} heures\")\n",
    "    print(\"nb : le temps total d'execution du script peut être plus long qu'indiqué en raison de la lecture du CSV (qq secondes) qui n'est pas prise en compte\")\n"
   ]
  },
  {
   "cell_type": "markdown",
   "id": "cd95b17e",
   "metadata": {},
   "source": [
    "## Test de vitesse en séquentiel"
   ]
  },
  {
   "cell_type": "code",
   "execution_count": 36,
   "id": "790ac758",
   "metadata": {},
   "outputs": [
    {
     "name": "stdout",
     "output_type": "stream",
     "text": [
      "Temps total : 9.521135 secondes\n",
      "Vitesse moyenne 0.1904  ms / ligne\n",
      "Estimation temps total : 4.5 heures\n"
     ]
    }
   ],
   "source": [
    "rows_to_check = 50\n",
    "data = extractSample(rows_to_check)\n",
    "\n",
    "start = time.perf_counter()\n",
    "for row in data:\n",
    "    params = rowToParams(row)\n",
    "    if params['lat'] and params['lng']:\n",
    "        closest = get_closest(params['lat'], params['lng'], params['radius'])\n",
    "\n",
    "end = time.perf_counter()\n",
    "elapsed = end - start\n",
    "\n",
    "report(elapsed, rows_to_check)\n"
   ]
  },
  {
   "cell_type": "markdown",
   "id": "fcfdf72f03b1cf4",
   "metadata": {},
   "source": [
    "## Test de vitesse avec asyncIO"
   ]
  },
  {
   "cell_type": "code",
   "execution_count": 49,
   "id": "6c66437f",
   "metadata": {},
   "outputs": [
    {
     "name": "stdout",
     "output_type": "stream",
     "text": [
      "Temps total : 17.164769 secondes\n",
      "Vitesse moyenne 0.3433  ms / ligne\n",
      "Estimation temps total : 8.11 heures\n"
     ]
    }
   ],
   "source": [
    "import asyncio\n",
    "\n",
    "async def async_get_closest_time(lat, lng, radius):\n",
    "    return get_closest(lat,lng,radius)\n",
    "    \n",
    "rows_to_check = 50\n",
    "data = extractSample(rows_to_check)\n",
    "\n",
    "tasks = []\n",
    "start = time.perf_counter()\n",
    "for row in data:\n",
    "    params = rowToParams(row)\n",
    "    if params['lat'] and params['lng']:\n",
    "        tasks.append(asyncio.create_task(async_get_closest_time(params['lat'], params['lng'], params['radius'])))\n",
    "    \n",
    "await asyncio.gather(*tasks)\n",
    "end = time.perf_counter()\n",
    "elapsed = end - start\n",
    "\n",
    "report(elapsed, rows_to_check)"
   ]
  },
  {
   "cell_type": "markdown",
   "id": "8f644c77",
   "metadata": {},
   "source": [
    "Le temps mis en asyncIO est bien moins bon qu'en séquentiel. On peut tester en multiThreads"
   ]
  },
  {
   "cell_type": "code",
   "execution_count": null,
   "id": "08f49355",
   "metadata": {},
   "outputs": [],
   "source": [
    "## Test de vitesse en multithreads"
   ]
  },
  {
   "cell_type": "code",
   "execution_count": 57,
   "id": "424f6ee2",
   "metadata": {},
   "outputs": [
    {
     "name": "stdout",
     "output_type": "stream",
     "text": [
      "Temps total : 9.123574 secondes\n",
      "Vitesse moyenne 0.0046  ms / ligne\n",
      "Estimation temps total : 0.11 heures\n",
      "--\n",
      "Found 1796 matches\n",
      "('Z5K1J9PFWMGH', Distance(m=2.75066279))\n"
     ]
    }
   ],
   "source": [
    "import concurrent.futures\n",
    "\n",
    "rows_to_check = 2000\n",
    "data = extractSample(rows_to_check)\n",
    "\n",
    "tasks = []\n",
    "results = []\n",
    "\n",
    "start = time.perf_counter()\n",
    "with concurrent.futures.ThreadPoolExecutor() as executor:\n",
    "    \n",
    "    for row in data:\n",
    "        params = rowToParams(row)\n",
    "        if params['lat'] and params['lng']:\n",
    "            tasks.append(executor.submit(get_closest, **params))\n",
    "    \n",
    "\n",
    "    for future in concurrent.futures.as_completed(tasks):\n",
    "        bdg = future.result()\n",
    "        if bdg:\n",
    "            results.append((bdg.rnb_id, bdg.distance))\n",
    "        continue\n",
    "\n",
    "end = time.perf_counter()\n",
    "elapsed = end - start\n",
    "\n",
    "report(elapsed, rows_to_check)\n",
    "\n",
    "print('--')\n",
    "print(f\"Found {len(rnb_ids)} matches\")\n",
    "print(results[10])"
   ]
  },
  {
   "cell_type": "markdown",
   "id": "504d9a0d",
   "metadata": {},
   "source": [
    "L'approche multithread semble être la bonne. Le gain de perf est un facteur 70. L'estimation est une moyenne."
   ]
  },
  {
   "cell_type": "markdown",
   "id": "b2384b62",
   "metadata": {},
   "source": [
    "# Rapprochement complet"
   ]
  },
  {
   "cell_type": "code",
   "execution_count": 14,
   "id": "5d9a3446",
   "metadata": {},
   "outputs": [
    {
     "name": "stdout",
     "output_type": "stream",
     "text": [
      "Temps total : 5.782526 secondes\n",
      "Vitesse moyenne 0.0058  ms / ligne\n",
      "Estimation temps total : 0.14 heures\n",
      "nb : le temps total d'execution du script peut être plus long qu'indiqué en raison de la lecture du CSV (qq secondes) qui n'est pas prise en compte\n"
     ]
    }
   ],
   "source": [
    "rows_to_check = 1000\n",
    "raw_data = extractSample(rows_to_check)\n",
    "\n",
    "\n",
    "data = []\n",
    "for row in raw_data: \n",
    "    params = rowToParams(row)\n",
    "    if params['lat'] and params['lng']:\n",
    "        data.append(params)\n",
    "\n",
    "        \n",
    "        \n",
    "start = time.perf_counter()\n",
    "result = pair(data, 'closest')\n",
    "end = time.perf_counter()\n",
    "elapsed = end - start\n",
    "\n",
    "report(elapsed, rows_to_check)"
   ]
  },
  {
   "cell_type": "code",
   "execution_count": null,
   "id": "316c6dbb",
   "metadata": {},
   "outputs": [],
   "source": []
  }
 ],
 "metadata": {
  "kernelspec": {
   "display_name": "Django Shell-Plus",
   "language": "python",
   "name": "django_extensions"
  },
  "language_info": {
   "codemirror_mode": {
    "name": "ipython",
    "version": 3
   },
   "file_extension": ".py",
   "mimetype": "text/x-python",
   "name": "python",
   "nbconvert_exporter": "python",
   "pygments_lexer": "ipython3",
   "version": "3.10.13"
  }
 },
 "nbformat": 4,
 "nbformat_minor": 5
}
