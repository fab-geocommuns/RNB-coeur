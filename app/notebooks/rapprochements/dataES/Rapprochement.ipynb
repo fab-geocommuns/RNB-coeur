{
 "cells": [
  {
   "cell_type": "markdown",
   "id": "2fa0e1f8",
   "metadata": {},
   "source": [
    "# Résultats rapprochement\n",
    "\n",
    "Ce notebook ne contient que les résultats du rapprochement de dataES. Il ne contient pas l'éxecution du rapprochement car celui avait été fait de façon exploiratoire via une class qui a été refacto depuis. On a conservé le fichier de résultats.\n"
   ]
  },
  {
   "cell_type": "code",
   "execution_count": 1,
   "id": "a0edc177",
   "metadata": {
    "ExecuteTime": {
     "end_time": "2024-02-22T14:07:30.404867Z",
     "start_time": "2024-02-22T14:07:30.187117Z"
    }
   },
   "outputs": [],
   "source": [
    "import pandas as pd\n",
    "import json\n",
    "import csv \n",
    "\n",
    "result_path = \"./results/results.json\"\n",
    "raw_path = \"./data/data-es.csv\"\n",
    "final_path = \"./results/data-es-with-rnb.csv\"\n"
   ]
  },
  {
   "cell_type": "markdown",
   "id": "e81b47b2",
   "metadata": {},
   "source": [
    "## Consultation des résultats"
   ]
  },
  {
   "cell_type": "code",
   "execution_count": 3,
   "id": "c0fb507e",
   "metadata": {
    "ExecuteTime": {
     "end_time": "2024-02-22T14:07:48.268267Z",
     "start_time": "2024-02-22T14:07:48.230208Z"
    }
   },
   "outputs": [
    {
     "ename": "FileNotFoundError",
     "evalue": "[Errno 2] No such file or directory: './results/results.json'",
     "output_type": "error",
     "traceback": [
      "\u001B[0;31m---------------------------------------------------------------------------\u001B[0m",
      "\u001B[0;31mFileNotFoundError\u001B[0m                         Traceback (most recent call last)",
      "Cell \u001B[0;32mIn[3], line 1\u001B[0m\n\u001B[0;32m----> 1\u001B[0m \u001B[38;5;28;01mwith\u001B[39;00m \u001B[38;5;28;43mopen\u001B[39;49m\u001B[43m(\u001B[49m\u001B[43mresult_path\u001B[49m\u001B[43m,\u001B[49m\u001B[43m \u001B[49m\u001B[38;5;124;43m\"\u001B[39;49m\u001B[38;5;124;43mr\u001B[39;49m\u001B[38;5;124;43m\"\u001B[39;49m\u001B[43m)\u001B[49m \u001B[38;5;28;01mas\u001B[39;00m f:\n\u001B[1;32m      2\u001B[0m     data \u001B[38;5;241m=\u001B[39m json\u001B[38;5;241m.\u001B[39mload(f)\n\u001B[1;32m      3\u001B[0m     data \u001B[38;5;241m=\u001B[39m \u001B[38;5;28mlist\u001B[39m(data\u001B[38;5;241m.\u001B[39mvalues())\n",
      "File \u001B[0;32m/usr/local/lib/python3.10/site-packages/IPython/core/interactiveshell.py:286\u001B[0m, in \u001B[0;36m_modified_open\u001B[0;34m(file, *args, **kwargs)\u001B[0m\n\u001B[1;32m    279\u001B[0m \u001B[38;5;28;01mif\u001B[39;00m file \u001B[38;5;129;01min\u001B[39;00m {\u001B[38;5;241m0\u001B[39m, \u001B[38;5;241m1\u001B[39m, \u001B[38;5;241m2\u001B[39m}:\n\u001B[1;32m    280\u001B[0m     \u001B[38;5;28;01mraise\u001B[39;00m \u001B[38;5;167;01mValueError\u001B[39;00m(\n\u001B[1;32m    281\u001B[0m         \u001B[38;5;124mf\u001B[39m\u001B[38;5;124m\"\u001B[39m\u001B[38;5;124mIPython won\u001B[39m\u001B[38;5;124m'\u001B[39m\u001B[38;5;124mt let you open fd=\u001B[39m\u001B[38;5;132;01m{\u001B[39;00mfile\u001B[38;5;132;01m}\u001B[39;00m\u001B[38;5;124m by default \u001B[39m\u001B[38;5;124m\"\u001B[39m\n\u001B[1;32m    282\u001B[0m         \u001B[38;5;124m\"\u001B[39m\u001B[38;5;124mas it is likely to crash IPython. If you know what you are doing, \u001B[39m\u001B[38;5;124m\"\u001B[39m\n\u001B[1;32m    283\u001B[0m         \u001B[38;5;124m\"\u001B[39m\u001B[38;5;124myou can use builtins\u001B[39m\u001B[38;5;124m'\u001B[39m\u001B[38;5;124m open.\u001B[39m\u001B[38;5;124m\"\u001B[39m\n\u001B[1;32m    284\u001B[0m     )\n\u001B[0;32m--> 286\u001B[0m \u001B[38;5;28;01mreturn\u001B[39;00m \u001B[43mio_open\u001B[49m\u001B[43m(\u001B[49m\u001B[43mfile\u001B[49m\u001B[43m,\u001B[49m\u001B[43m \u001B[49m\u001B[38;5;241;43m*\u001B[39;49m\u001B[43margs\u001B[49m\u001B[43m,\u001B[49m\u001B[43m \u001B[49m\u001B[38;5;241;43m*\u001B[39;49m\u001B[38;5;241;43m*\u001B[39;49m\u001B[43mkwargs\u001B[49m\u001B[43m)\u001B[49m\n",
      "\u001B[0;31mFileNotFoundError\u001B[0m: [Errno 2] No such file or directory: './results/results.json'"
     ]
    }
   ],
   "source": [
    "with open(result_path, \"r\") as f:\n",
    "    data = json.load(f)\n",
    "    data = list(data.values())\n",
    "    df = pd.json_normalize(data, sep=\"_\")\n",
    "\n",
    "# Count the number of rows\n",
    "total = len(df)\n",
    "print(f\"Number of rows: {total}\")\n",
    "\n",
    "# Number and percentage of rows with a match (where match is not null)\n",
    "match_count = len(df[df[\"match_rnb_id\"].notnull()])\n",
    "match_percentage = match_count / total * 100\n",
    "print(f\"Number of rows with a match: {match_count} ({match_percentage:.2f}%)\")\n",
    "    \n",
    "    \n",
    "    "
   ]
  },
  {
   "cell_type": "markdown",
   "id": "42642abb",
   "metadata": {},
   "source": [
    "## Inscription des résultats dans le fichier CSV fourni par dataES"
   ]
  },
  {
   "cell_type": "code",
   "execution_count": 5,
   "id": "25a02bd0",
   "metadata": {},
   "outputs": [],
   "source": [
    "final_data = []\n",
    "\n",
    "with open(result_path, \"r\") as f:\n",
    "    results = json.load(f)\n",
    "    \n",
    "with open(raw_path, \"r\") as f:\n",
    "    reader = csv.DictReader(f, delimiter=\";\")\n",
    "    for row in reader:\n",
    "        ext_id = row[\"Numéro de l'équipement sportif\"]\n",
    "        row['rnb_id'] = None\n",
    "        \n",
    "        if ext_id in results:\n",
    "            match = results[ext_id][\"match\"]\n",
    "            if match:\n",
    "                row['rnb_id'] = match[\"rnb_id\"]\n",
    "                \n",
    "        final_data.append(row)\n",
    "\n",
    "with open(final_path, \"w\") as f:\n",
    "    writer = csv.DictWriter(f, fieldnames=final_data[0].keys(), delimiter=\";\")\n",
    "    writer.writeheader()\n",
    "    writer.writerows(final_data)"
   ]
  },
  {
   "cell_type": "code",
   "execution_count": null,
   "id": "9f98b0bf",
   "metadata": {},
   "outputs": [],
   "source": []
  }
 ],
 "metadata": {
  "kernelspec": {
   "display_name": "Django Shell-Plus",
   "language": "python",
   "name": "django_extensions"
  },
  "language_info": {
   "codemirror_mode": {
    "name": "ipython",
    "version": 3
   },
   "file_extension": ".py",
   "mimetype": "text/x-python",
   "name": "python",
   "nbconvert_exporter": "python",
   "pygments_lexer": "ipython3",
   "version": "3.10.13"
  }
 },
 "nbformat": 4,
 "nbformat_minor": 5
}
