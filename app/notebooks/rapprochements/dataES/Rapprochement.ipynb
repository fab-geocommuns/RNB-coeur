{
 "cells": [
  {
   "cell_type": "markdown",
   "id": "2fa0e1f8",
   "metadata": {},
   "source": [
    "# Résultats rapprochement\n",
    "\n",
    "Ce notebook ne contient que les résultats du rapprochement de dataES. Il ne contient pas l'éxecution du rapprochement car celui avait été fait de façon exploiratoire via une class qui a été refacto depuis. On a conservé le fichier de résultats.\n"
   ]
  },
  {
   "cell_type": "code",
   "execution_count": 4,
   "id": "a0edc177",
   "metadata": {},
   "outputs": [],
   "source": [
    "import pandas as pd\n",
    "import json\n",
    "import csv \n",
    "\n",
    "result_path = \"./results/results.json\"\n",
    "raw_path = \"./data/data-es.csv\"\n",
    "final_path = \"./results/data-es-with-rnb.csv\"\n"
   ]
  },
  {
   "cell_type": "markdown",
   "id": "e81b47b2",
   "metadata": {},
   "source": [
    "## Consultation des résultats"
   ]
  },
  {
   "cell_type": "code",
   "execution_count": 3,
   "id": "c0fb507e",
   "metadata": {},
   "outputs": [
    {
     "name": "stdout",
     "output_type": "stream",
     "text": [
      "Number of rows: 86082\n",
      "Number of rows with a match: 62868 (73.03%)\n"
     ]
    }
   ],
   "source": [
    "with open(result_path, \"r\") as f:\n",
    "    data = json.load(f)\n",
    "    data = list(data.values())\n",
    "    df = pd.json_normalize(data, sep=\"_\")\n",
    "\n",
    "# Count the number of rows\n",
    "total = len(df)\n",
    "print(f\"Number of rows: {total}\")\n",
    "\n",
    "# Number and percentage of rows with a match (where match is not null)\n",
    "match_count = len(df[df[\"match_rnb_id\"].notnull()])\n",
    "match_percentage = match_count / total * 100\n",
    "print(f\"Number of rows with a match: {match_count} ({match_percentage:.2f}%)\")\n",
    "    \n",
    "    \n",
    "    "
   ]
  },
  {
   "cell_type": "markdown",
   "id": "42642abb",
   "metadata": {},
   "source": [
    "## Inscription des résultats dans le fichier CSV fourni par dataES"
   ]
  },
  {
   "cell_type": "code",
   "execution_count": 5,
   "id": "25a02bd0",
   "metadata": {},
   "outputs": [],
   "source": [
    "final_data = []\n",
    "\n",
    "with open(result_path, \"r\") as f:\n",
    "    results = json.load(f)\n",
    "    \n",
    "with open(raw_path, \"r\") as f:\n",
    "    reader = csv.DictReader(f, delimiter=\";\")\n",
    "    for row in reader:\n",
    "        ext_id = row[\"Numéro de l'équipement sportif\"]\n",
    "        row['rnb_id'] = None\n",
    "        \n",
    "        if ext_id in results:\n",
    "            match = results[ext_id][\"match\"]\n",
    "            if match:\n",
    "                row['rnb_id'] = match[\"rnb_id\"]\n",
    "                \n",
    "        final_data.append(row)\n",
    "\n",
    "with open(final_path, \"w\") as f:\n",
    "    writer = csv.DictWriter(f, fieldnames=final_data[0].keys(), delimiter=\";\")\n",
    "    writer.writeheader()\n",
    "    writer.writerows(final_data)"
   ]
  },
  {
   "cell_type": "code",
   "execution_count": null,
   "id": "9f98b0bf",
   "metadata": {},
   "outputs": [],
   "source": []
  }
 ],
 "metadata": {
  "kernelspec": {
   "display_name": "Django Shell-Plus",
   "language": "python",
   "name": "django_extensions"
  },
  "language_info": {
   "codemirror_mode": {
    "name": "ipython",
    "version": 3
   },
   "file_extension": ".py",
   "mimetype": "text/x-python",
   "name": "python",
   "nbconvert_exporter": "python",
   "pygments_lexer": "ipython3",
   "version": "3.10.13"
  }
 },
 "nbformat": 4,
 "nbformat_minor": 5
}
