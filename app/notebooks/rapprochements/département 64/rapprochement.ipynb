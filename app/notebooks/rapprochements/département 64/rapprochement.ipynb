{
 "cells": [
  {
   "cell_type": "code",
   "execution_count": 30,
   "id": "8e17081d",
   "metadata": {},
   "outputs": [],
   "source": [
    "import csv\n",
    "import os\n",
    "import pandas as pd\n",
    "from django.contrib.gis.geos import Point\n",
    "from batid.services.guess_bdg_new import Guesser, ClosestFromPointHandler, GeocodeAddressHandler, GeocodeNameHandler\n",
    "os.environ[\"DJANGO_ALLOW_ASYNC_UNSAFE\"] = \"true\"\n",
    "\n",
    "source_path = \"./BATI_CD64-reencoded.csv\"\n",
    "work_file = \"./guess.json\""
   ]
  },
  {
   "cell_type": "code",
   "execution_count": 27,
   "id": "ab7b1714",
   "metadata": {},
   "outputs": [],
   "source": [
    "def row_to_input(row):\n",
    "    \n",
    "    address_infos = [\n",
    "            row[\"NUMERO_ADRESSE\"], \n",
    "            row[\"ADRESSE\"], \n",
    "            row[\"COMPLEMENT_ADRESSE\"], \n",
    "            row[\"CODE_POSTAL\"], \n",
    "            row[\"COMMUNE\"]\n",
    "        ]\n",
    "    \n",
    "    point = Point(float(row['COORD_X_L93']), float(row['COORD_Y_L93']), srid=2154)\n",
    "    point.transform(4326)\n",
    "    \n",
    "    return {\n",
    "        \"ext_id\": row[\"ID_BATI\"],\n",
    "        \"address\": ' '.join(address_infos),\n",
    "        \"lat\": point[1],\n",
    "        \"lng\": point[0]\n",
    "        \n",
    "        \n",
    "    }"
   ]
  },
  {
   "cell_type": "code",
   "execution_count": 31,
   "id": "cace1662",
   "metadata": {},
   "outputs": [],
   "source": [
    "inputs = []\n",
    "\n",
    "with open(source_path, 'r') as f:\n",
    "    reader = csv.DictReader(f)\n",
    "    \n",
    "    \n",
    "    for row in reader:\n",
    "\n",
    "        inputs.append(row_to_input(row))\n",
    "    \n",
    "        \n",
    "guesser = Guesser()\n",
    "guesser.create_work_file(inputs, work_file)\n",
    "\n",
    "\n",
    "    "
   ]
  },
  {
   "cell_type": "code",
   "execution_count": 33,
   "id": "a864b0bf",
   "metadata": {},
   "outputs": [
    {
     "ename": "AttributeError",
     "evalue": "'str' object has no attribute 'append'",
     "output_type": "error",
     "traceback": [
      "\u001b[0;31m---------------------------------------------------------------------------\u001b[0m",
      "\u001b[0;31mAttributeError\u001b[0m                            Traceback (most recent call last)",
      "Cell \u001b[0;32mIn[33], line 6\u001b[0m\n\u001b[1;32m      1\u001b[0m guesser \u001b[38;5;241m=\u001b[39m Guesser()\n\u001b[1;32m      2\u001b[0m guesser\u001b[38;5;241m.\u001b[39mhandlers \u001b[38;5;241m=\u001b[39m [\n\u001b[1;32m      3\u001b[0m     ClosestFromPointHandler(),\n\u001b[1;32m      4\u001b[0m     GeocodeAddressHandler()\n\u001b[1;32m      5\u001b[0m ]\n\u001b[0;32m----> 6\u001b[0m \u001b[43mguesser\u001b[49m\u001b[38;5;241;43m.\u001b[39;49m\u001b[43mguess_work_file\u001b[49m\u001b[43m(\u001b[49m\u001b[43mwork_file\u001b[49m\u001b[43m)\u001b[49m\n",
      "File \u001b[0;32m/app/batid/services/guess_bdg_new.py:51\u001b[0m, in \u001b[0;36mGuesser.guess_work_file\u001b[0;34m(self, file_path)\u001b[0m\n\u001b[1;32m     48\u001b[0m batches \u001b[38;5;241m=\u001b[39m \u001b[38;5;28mself\u001b[39m\u001b[38;5;241m.\u001b[39m_guesses_to_batches()\n\u001b[1;32m     50\u001b[0m \u001b[38;5;28;01mfor\u001b[39;00m batch \u001b[38;5;129;01min\u001b[39;00m batches:\n\u001b[0;32m---> 51\u001b[0m     batch \u001b[38;5;241m=\u001b[39m \u001b[38;5;28;43mself\u001b[39;49m\u001b[38;5;241;43m.\u001b[39;49m\u001b[43mguess_batch\u001b[49m\u001b[43m(\u001b[49m\u001b[43mbatch\u001b[49m\u001b[43m)\u001b[49m\n\u001b[1;32m     52\u001b[0m     \u001b[38;5;28mself\u001b[39m\u001b[38;5;241m.\u001b[39mguesses\u001b[38;5;241m.\u001b[39mupdate(batch)\n\u001b[1;32m     53\u001b[0m     \u001b[38;5;28mself\u001b[39m\u001b[38;5;241m.\u001b[39msave_work_file(file_path)\n",
      "File \u001b[0;32m/app/batid/services/guess_bdg_new.py:169\u001b[0m, in \u001b[0;36mGuesser.guess_batch\u001b[0;34m(self, guesses)\u001b[0m\n\u001b[1;32m    166\u001b[0m     \u001b[38;5;28;01mif\u001b[39;00m \u001b[38;5;129;01mnot\u001b[39;00m \u001b[38;5;28misinstance\u001b[39m(handler, AbstractHandler):\n\u001b[1;32m    167\u001b[0m         \u001b[38;5;28;01mraise\u001b[39;00m \u001b[38;5;167;01mValueError\u001b[39;00m(\u001b[38;5;124m\"\u001b[39m\u001b[38;5;124mHandler must be an instance of AbstractHandler\u001b[39m\u001b[38;5;124m\"\u001b[39m)\n\u001b[0;32m--> 169\u001b[0m     guesses \u001b[38;5;241m=\u001b[39m \u001b[43mhandler\u001b[49m\u001b[38;5;241;43m.\u001b[39;49m\u001b[43mhandle\u001b[49m\u001b[43m(\u001b[49m\u001b[43mguesses\u001b[49m\u001b[43m)\u001b[49m\n\u001b[1;32m    171\u001b[0m \u001b[38;5;28;01mreturn\u001b[39;00m guesses\n",
      "File \u001b[0;32m/app/batid/services/guess_bdg_new.py:244\u001b[0m, in \u001b[0;36mAbstractHandler.handle\u001b[0;34m(self, guesses)\u001b[0m\n\u001b[1;32m    242\u001b[0m \u001b[38;5;28;01mdef\u001b[39;00m \u001b[38;5;21mhandle\u001b[39m(\u001b[38;5;28mself\u001b[39m, guesses: \u001b[38;5;28mdict\u001b[39m) \u001b[38;5;241m-\u001b[39m\u001b[38;5;241m>\u001b[39m \u001b[38;5;28mdict\u001b[39m:\n\u001b[1;32m    243\u001b[0m     to_guess, to_not_guess \u001b[38;5;241m=\u001b[39m \u001b[38;5;28mself\u001b[39m\u001b[38;5;241m.\u001b[39m_split_guesses(guesses)\n\u001b[0;32m--> 244\u001b[0m     to_guess \u001b[38;5;241m=\u001b[39m \u001b[38;5;28;43mself\u001b[39;49m\u001b[38;5;241;43m.\u001b[39;49m\u001b[43m_guess_batch\u001b[49m\u001b[43m(\u001b[49m\u001b[43mto_guess\u001b[49m\u001b[43m)\u001b[49m\n\u001b[1;32m    246\u001b[0m     guesses \u001b[38;5;241m=\u001b[39m to_guess \u001b[38;5;241m|\u001b[39m to_not_guess\n\u001b[1;32m    247\u001b[0m     guesses \u001b[38;5;241m=\u001b[39m \u001b[38;5;28mself\u001b[39m\u001b[38;5;241m.\u001b[39m_add_finished_step(guesses)\n",
      "File \u001b[0;32m/app/batid/services/guess_bdg_new.py:299\u001b[0m, in \u001b[0;36mClosestFromPointHandler._guess_batch\u001b[0;34m(self, guesses)\u001b[0m\n\u001b[1;32m    296\u001b[0m         tasks\u001b[38;5;241m.\u001b[39mappend(future)\n\u001b[1;32m    298\u001b[0m     \u001b[38;5;28;01mfor\u001b[39;00m future \u001b[38;5;129;01min\u001b[39;00m concurrent\u001b[38;5;241m.\u001b[39mfutures\u001b[38;5;241m.\u001b[39mas_completed(tasks):\n\u001b[0;32m--> 299\u001b[0m         guess \u001b[38;5;241m=\u001b[39m \u001b[43mfuture\u001b[49m\u001b[38;5;241;43m.\u001b[39;49m\u001b[43mresult\u001b[49m\u001b[43m(\u001b[49m\u001b[43m)\u001b[49m\n\u001b[1;32m    300\u001b[0m         guesses[guess[\u001b[38;5;124m\"\u001b[39m\u001b[38;5;124minput\u001b[39m\u001b[38;5;124m\"\u001b[39m][\u001b[38;5;124m\"\u001b[39m\u001b[38;5;124mext_id\u001b[39m\u001b[38;5;124m\"\u001b[39m]] \u001b[38;5;241m=\u001b[39m guess\n\u001b[1;32m    302\u001b[0m \u001b[38;5;28;01mreturn\u001b[39;00m guesses\n",
      "File \u001b[0;32m/usr/local/lib/python3.12/concurrent/futures/_base.py:449\u001b[0m, in \u001b[0;36mFuture.result\u001b[0;34m(self, timeout)\u001b[0m\n\u001b[1;32m    447\u001b[0m     \u001b[38;5;28;01mraise\u001b[39;00m CancelledError()\n\u001b[1;32m    448\u001b[0m \u001b[38;5;28;01melif\u001b[39;00m \u001b[38;5;28mself\u001b[39m\u001b[38;5;241m.\u001b[39m_state \u001b[38;5;241m==\u001b[39m FINISHED:\n\u001b[0;32m--> 449\u001b[0m     \u001b[38;5;28;01mreturn\u001b[39;00m \u001b[38;5;28;43mself\u001b[39;49m\u001b[38;5;241;43m.\u001b[39;49m\u001b[43m__get_result\u001b[49m\u001b[43m(\u001b[49m\u001b[43m)\u001b[49m\n\u001b[1;32m    451\u001b[0m \u001b[38;5;28mself\u001b[39m\u001b[38;5;241m.\u001b[39m_condition\u001b[38;5;241m.\u001b[39mwait(timeout)\n\u001b[1;32m    453\u001b[0m \u001b[38;5;28;01mif\u001b[39;00m \u001b[38;5;28mself\u001b[39m\u001b[38;5;241m.\u001b[39m_state \u001b[38;5;129;01min\u001b[39;00m [CANCELLED, CANCELLED_AND_NOTIFIED]:\n",
      "File \u001b[0;32m/usr/local/lib/python3.12/concurrent/futures/_base.py:401\u001b[0m, in \u001b[0;36mFuture.__get_result\u001b[0;34m(self)\u001b[0m\n\u001b[1;32m    399\u001b[0m \u001b[38;5;28;01mif\u001b[39;00m \u001b[38;5;28mself\u001b[39m\u001b[38;5;241m.\u001b[39m_exception:\n\u001b[1;32m    400\u001b[0m     \u001b[38;5;28;01mtry\u001b[39;00m:\n\u001b[0;32m--> 401\u001b[0m         \u001b[38;5;28;01mraise\u001b[39;00m \u001b[38;5;28mself\u001b[39m\u001b[38;5;241m.\u001b[39m_exception\n\u001b[1;32m    402\u001b[0m     \u001b[38;5;28;01mfinally\u001b[39;00m:\n\u001b[1;32m    403\u001b[0m         \u001b[38;5;66;03m# Break a reference cycle with the exception in self._exception\u001b[39;00m\n\u001b[1;32m    404\u001b[0m         \u001b[38;5;28mself\u001b[39m \u001b[38;5;241m=\u001b[39m \u001b[38;5;28;01mNone\u001b[39;00m\n",
      "File \u001b[0;32m/usr/local/lib/python3.12/concurrent/futures/thread.py:58\u001b[0m, in \u001b[0;36m_WorkItem.run\u001b[0;34m(self)\u001b[0m\n\u001b[1;32m     55\u001b[0m     \u001b[38;5;28;01mreturn\u001b[39;00m\n\u001b[1;32m     57\u001b[0m \u001b[38;5;28;01mtry\u001b[39;00m:\n\u001b[0;32m---> 58\u001b[0m     result \u001b[38;5;241m=\u001b[39m \u001b[38;5;28;43mself\u001b[39;49m\u001b[38;5;241;43m.\u001b[39;49m\u001b[43mfn\u001b[49m\u001b[43m(\u001b[49m\u001b[38;5;241;43m*\u001b[39;49m\u001b[38;5;28;43mself\u001b[39;49m\u001b[38;5;241;43m.\u001b[39;49m\u001b[43margs\u001b[49m\u001b[43m,\u001b[49m\u001b[43m \u001b[49m\u001b[38;5;241;43m*\u001b[39;49m\u001b[38;5;241;43m*\u001b[39;49m\u001b[38;5;28;43mself\u001b[39;49m\u001b[38;5;241;43m.\u001b[39;49m\u001b[43mkwargs\u001b[49m\u001b[43m)\u001b[49m\n\u001b[1;32m     59\u001b[0m \u001b[38;5;28;01mexcept\u001b[39;00m \u001b[38;5;167;01mBaseException\u001b[39;00m \u001b[38;5;28;01mas\u001b[39;00m exc:\n\u001b[1;32m     60\u001b[0m     \u001b[38;5;28mself\u001b[39m\u001b[38;5;241m.\u001b[39mfuture\u001b[38;5;241m.\u001b[39mset_exception(exc)\n",
      "File \u001b[0;32m/app/batid/services/guess_bdg_new.py:320\u001b[0m, in \u001b[0;36mClosestFromPointHandler._guess_one\u001b[0;34m(self, guess)\u001b[0m\n\u001b[1;32m    318\u001b[0m \u001b[38;5;66;03m# Is the the point is in the first building ?\u001b[39;00m\n\u001b[1;32m    319\u001b[0m \u001b[38;5;28;01mif\u001b[39;00m first_bdg\u001b[38;5;241m.\u001b[39mdistance\u001b[38;5;241m.\u001b[39mm \u001b[38;5;241m<\u001b[39m\u001b[38;5;241m=\u001b[39m \u001b[38;5;241m0\u001b[39m:\n\u001b[0;32m--> 320\u001b[0m     \u001b[43mguess\u001b[49m\u001b[43m[\u001b[49m\u001b[38;5;124;43m\"\u001b[39;49m\u001b[38;5;124;43mmatches\u001b[39;49m\u001b[38;5;124;43m\"\u001b[39;49m\u001b[43m]\u001b[49m\u001b[38;5;241;43m.\u001b[39;49m\u001b[43mappend\u001b[49m(first_bdg)\n\u001b[1;32m    321\u001b[0m     guess[\u001b[38;5;124m\"\u001b[39m\u001b[38;5;124mmatch_reason\u001b[39m\u001b[38;5;124m\"\u001b[39m] \u001b[38;5;241m=\u001b[39m \u001b[38;5;124m\"\u001b[39m\u001b[38;5;124mpoint_on_bdg\u001b[39m\u001b[38;5;124m\"\u001b[39m\n\u001b[1;32m    322\u001b[0m     \u001b[38;5;28;01mreturn\u001b[39;00m guess\n",
      "\u001b[0;31mAttributeError\u001b[0m: 'str' object has no attribute 'append'"
     ]
    }
   ],
   "source": [
    "guesser = Guesser()\n",
    "guesser.handlers = [\n",
    "    ClosestFromPointHandler(),\n",
    "    GeocodeAddressHandler()\n",
    "]\n",
    "guesser.guess_work_file(work_file)"
   ]
  },
  {
   "cell_type": "code",
   "execution_count": null,
   "id": "eb8d5766",
   "metadata": {},
   "outputs": [],
   "source": []
  }
 ],
 "metadata": {
  "kernelspec": {
   "display_name": "Django Shell-Plus",
   "language": "python",
   "name": "django_extensions"
  },
  "language_info": {
   "codemirror_mode": {
    "name": "ipython",
    "version": 3
   },
   "file_extension": ".py",
   "mimetype": "text/x-python",
   "name": "python",
   "nbconvert_exporter": "python",
   "pygments_lexer": "ipython3",
   "version": "3.12.4"
  }
 },
 "nbformat": 4,
 "nbformat_minor": 5
}
