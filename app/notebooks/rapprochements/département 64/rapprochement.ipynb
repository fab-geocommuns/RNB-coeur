{
 "cells": [
  {
   "cell_type": "code",
   "execution_count": 1,
   "id": "8e17081d",
   "metadata": {},
   "outputs": [],
   "source": [
    "import csv\n",
    "import os\n",
    "import pandas as pd\n",
    "from django.contrib.gis.geos import Point\n",
    "from batid.services.guess_bdg_new import Guesser, ClosestFromPointHandler, GeocodeAddressHandler, GeocodeNameHandler\n",
    "os.environ[\"DJANGO_ALLOW_ASYNC_UNSAFE\"] = \"true\"\n",
    "\n",
    "source_path = \"./BATI_CD64-reencoded.csv\"\n",
    "work_file = \"./guess.json\""
   ]
  },
  {
   "cell_type": "code",
   "execution_count": 2,
   "id": "ab7b1714",
   "metadata": {},
   "outputs": [],
   "source": [
    "def row_to_input(row):\n",
    "    \n",
    "    address_infos = [\n",
    "            row[\"NUMERO_ADRESSE\"], \n",
    "            row[\"ADRESSE\"], \n",
    "            row[\"COMPLEMENT_ADRESSE\"], \n",
    "            row[\"CODE_POSTAL\"], \n",
    "            row[\"COMMUNE\"]\n",
    "        ]\n",
    "    \n",
    "    point = Point(float(row['COORD_X_L93']), float(row['COORD_Y_L93']), srid=2154)\n",
    "    point.transform(4326)\n",
    "    \n",
    "    return {\n",
    "        \"ext_id\": row[\"ID_BATI\"],\n",
    "        \"address\": ' '.join(address_infos),\n",
    "        \"lat\": point[1],\n",
    "        \"lng\": point[0]\n",
    "        \n",
    "        \n",
    "    }"
   ]
  },
  {
   "cell_type": "code",
   "execution_count": 3,
   "id": "cace1662",
   "metadata": {},
   "outputs": [
    {
     "name": "stdout",
     "output_type": "stream",
     "text": [
      "- saving work file\n",
      "- work file saved\n"
     ]
    }
   ],
   "source": [
    "inputs = []\n",
    "\n",
    "with open(source_path, 'r') as f:\n",
    "    reader = csv.DictReader(f)\n",
    "    \n",
    "    \n",
    "    for row in reader:\n",
    "\n",
    "        inputs.append(row_to_input(row))\n",
    "    \n",
    "        \n",
    "guesser = Guesser()\n",
    "guesser.create_work_file(inputs, work_file)\n",
    "\n",
    "\n",
    "    "
   ]
  },
  {
   "cell_type": "code",
   "execution_count": 4,
   "id": "a864b0bf",
   "metadata": {},
   "outputs": [
    {
     "name": "stdout",
     "output_type": "stream",
     "text": [
      "- loading work file\n",
      "- converting guesses to batches\n",
      "- converted 287 guesses to 1 batches\n",
      "Batch 1/1\n",
      "Batch changed\n",
      "- saving work file\n",
      "- work file saved\n"
     ]
    }
   ],
   "source": [
    "guesser = Guesser()\n",
    "guesser.handlers = [\n",
    "    ClosestFromPointHandler(),\n",
    "    GeocodeAddressHandler()\n",
    "]\n",
    "guesser.guess_work_file(work_file)"
   ]
  },
  {
   "cell_type": "code",
   "execution_count": 5,
   "id": "eb8d5766",
   "metadata": {},
   "outputs": [
    {
     "name": "stdout",
     "output_type": "stream",
     "text": [
      "-- Report --\n",
      "Number of rows: 287\n",
      "Number of match: 272 (94.77%)\n",
      "\n",
      "-- finished_steps --\n",
      "Rows with finished_steps closest_from_point: 287 (100.00%)\n",
      "Rows with finished_steps geocode_address: 287 (100.00%)\n",
      "Rows with empty finished_steps: 0 (0.00%)\n",
      "\n",
      "-- match_reasons : absolute --\n",
      "match_reason\n",
      "point_on_bdg             257\n",
      "precise_address_match      8\n",
      "isolated_closest_bdg       7\n",
      "Name: count, dtype: int64\n",
      "\n",
      "-- match_reasons : % --\n",
      "match_reason\n",
      "point_on_bdg             89.547038\n",
      "precise_address_match     2.787456\n",
      "isolated_closest_bdg      2.439024\n",
      "Name: count, dtype: float64\n",
      "\n",
      "-- Inputs --\n",
      "rows with ban_id: 12 (4.18%)\n"
     ]
    }
   ],
   "source": [
    "guesser.report()"
   ]
  },
  {
   "cell_type": "code",
   "execution_count": 6,
   "id": "874f16f2",
   "metadata": {},
   "outputs": [],
   "source": [
    "guesser.to_csv(\"dpt64-rnb.csv\")"
   ]
  },
  {
   "cell_type": "code",
   "execution_count": null,
   "id": "9ec3794c",
   "metadata": {},
   "outputs": [],
   "source": []
  }
 ],
 "metadata": {
  "kernelspec": {
   "display_name": "Django Shell-Plus",
   "language": "python",
   "name": "django_extensions"
  },
  "language_info": {
   "codemirror_mode": {
    "name": "ipython",
    "version": 3
   },
   "file_extension": ".py",
   "mimetype": "text/x-python",
   "name": "python",
   "nbconvert_exporter": "python",
   "pygments_lexer": "ipython3",
   "version": "3.12.4"
  }
 },
 "nbformat": 4,
 "nbformat_minor": 5
}
