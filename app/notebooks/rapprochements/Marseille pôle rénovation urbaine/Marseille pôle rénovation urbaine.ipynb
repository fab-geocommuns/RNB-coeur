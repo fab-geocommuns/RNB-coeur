{
 "cells": [
  {
   "cell_type": "code",
   "execution_count": 4,
   "metadata": {},
   "outputs": [
    {
     "name": "stdout",
     "output_type": "stream",
     "text": [
      "data_path='/app/notebooks/rapprochements/Marseille pôle rénovation urbaine/data'\n"
     ]
    }
   ],
   "source": [
    "import os\n",
    "data_path = os.path.join(os.getcwd(), 'data')\n",
    "print(f\"{data_path=}\")"
   ]
  },
  {
   "cell_type": "code",
   "execution_count": 5,
   "metadata": {},
   "outputs": [],
   "source": [
    "import geopandas as gpd\n",
    "import pandas as pd\n",
    "\n",
    "pd.set_option('display.max_columns', None)\n",
    "pd.set_option('display.max_rows', None)"
   ]
  },
  {
   "cell_type": "code",
   "execution_count": 10,
   "metadata": {},
   "outputs": [
    {
     "name": "stdout",
     "output_type": "stream",
     "text": [
      "No id_rnb in amest_amest_pdv_perimetres_projet_npnru_amp.gpkg, skipping\n",
      "No id_rnb in amest_amest_pdv_projets_24_amenagement_amp.gpkg, skipping\n",
      "Found 7 files\n",
      "Running rapprochement for /app/notebooks/rapprochements/Marseille pôle rénovation urbaine/data/amest_amest_pdv_projets_logneuf_amp.gpkg\n"
     ]
    },
    {
     "data": {
      "application/vnd.jupyter.widget-view+json": {
       "model_id": "00ad7707ce284c0e91e780e02ec7cf7c",
       "version_major": 2,
       "version_minor": 0
      },
      "text/plain": [
       "  0%|          | 0/5 [00:00<?, ?it/s]"
      ]
     },
     "metadata": {},
     "output_type": "display_data"
    },
    {
     "name": "stdout",
     "output_type": "stream",
     "text": [
      "Partial roof with multiple polygons is not supported\n",
      "Partial roof with multiple polygons is not supported\n",
      "Partial roof with multiple polygons is not supported\n",
      "Partial roof with multiple polygons is not supported\n",
      "Partial roof with multiple polygons is not supported\n",
      "Partial roof with multiple polygons is not supported\n",
      "Partial roof with multiple polygons is not supported\n",
      "Partial roof with multiple polygons is not supported\n",
      "Partial roof with multiple polygons is not supported\n",
      "Partial roof with multiple polygons is not supported\n",
      "Partial roof with multiple polygons is not supported\n",
      "Partial roof with multiple polygons is not supported\n",
      "Partial roof with multiple polygons is not supported\n",
      "Partial roof with multiple polygons is not supported\n",
      "Partial roof with multiple polygons is not supported\n",
      "Partial roof with multiple polygons is not supported\n",
      "Partial roof with multiple polygons is not supported\n",
      "Partial roof with multiple polygons is not supported\n",
      "-- Report --\n",
      "Number of rows: 220\n",
      "Number of match: 138 (62.73%)\n",
      "\n",
      "-- finished_steps --\n",
      "Rows with finished_steps partial_roof: 220 (100.00%)\n",
      "Rows with empty finished_steps: 0 (0.00%)\n",
      "\n",
      "-- match_reasons : absolute --\n",
      "match_reason\n",
      "sole_bdg_intersects_roof_enough     98\n",
      "many_bdgs_covered_enough_by_roof    31\n",
      "isolated_bdg_intersects_roof         9\n",
      "Name: count, dtype: int64\n",
      "\n",
      "-- match_reasons : % --\n",
      "match_reason\n",
      "sole_bdg_intersects_roof_enough     44.545455\n",
      "many_bdgs_covered_enough_by_roof    14.090909\n",
      "isolated_bdg_intersects_roof         4.090909\n",
      "Name: count, dtype: float64\n",
      "\n",
      "-- Inputs --\n",
      "Running rapprochement for /app/notebooks/rapprochements/Marseille pôle rénovation urbaine/data/amest_amest_pdv_projets_habitat_public_amp.gpkg\n"
     ]
    },
    {
     "data": {
      "application/vnd.jupyter.widget-view+json": {
       "model_id": "c827a4012e004017b9015a10b7c7e284",
       "version_major": 2,
       "version_minor": 0
      },
      "text/plain": [
       "  0%|          | 0/14 [00:00<?, ?it/s]"
      ]
     },
     "metadata": {},
     "output_type": "display_data"
    },
    {
     "name": "stdout",
     "output_type": "stream",
     "text": [
      "Partial roof with multiple polygons is not supported\n",
      "Partial roof with multiple polygons is not supported\n",
      "Partial roof with multiple polygons is not supported\n",
      "Partial roof with multiple polygons is not supported\n",
      "Partial roof with multiple polygons is not supported\n",
      "Partial roof with multiple polygons is not supported\n",
      "Partial roof with multiple polygons is not supported\n",
      "Partial roof with multiple polygons is not supported\n",
      "Partial roof with multiple polygons is not supported\n",
      "Partial roof with multiple polygons is not supported\n",
      "Partial roof with multiple polygons is not supported\n",
      "Partial roof with multiple polygons is not supported\n",
      "Partial roof with multiple polygons is not supported\n",
      "Partial roof with multiple polygons is not supported\n",
      "-- Report --\n",
      "Number of rows: 684\n",
      "Number of match: 656 (95.91%)\n",
      "\n",
      "-- finished_steps --\n",
      "Rows with finished_steps partial_roof: 684 (100.00%)\n",
      "Rows with empty finished_steps: 0 (0.00%)\n",
      "\n",
      "-- match_reasons : absolute --\n",
      "match_reason\n",
      "sole_bdg_intersects_roof_enough     588\n",
      "many_bdgs_covered_enough_by_roof     68\n",
      "Name: count, dtype: int64\n",
      "\n",
      "-- match_reasons : % --\n",
      "match_reason\n",
      "sole_bdg_intersects_roof_enough     85.964912\n",
      "many_bdgs_covered_enough_by_roof     9.941520\n",
      "Name: count, dtype: float64\n",
      "\n",
      "-- Inputs --\n",
      "Running rapprochement for /app/notebooks/rapprochements/Marseille pôle rénovation urbaine/data/amest_amest_pdv_projets_38_immo_eco_amp.gpkg\n"
     ]
    },
    {
     "data": {
      "application/vnd.jupyter.widget-view+json": {
       "model_id": "6dd8b1c73c314b1394120614148ec73f",
       "version_major": 2,
       "version_minor": 0
      },
      "text/plain": [
       "  0%|          | 0/1 [00:00<?, ?it/s]"
      ]
     },
     "metadata": {},
     "output_type": "display_data"
    },
    {
     "name": "stdout",
     "output_type": "stream",
     "text": [
      "Partial roof with multiple polygons is not supported\n",
      "-- Report --\n",
      "Number of rows: 16\n",
      "Number of match: 13 (81.25%)\n",
      "\n",
      "-- finished_steps --\n",
      "Rows with finished_steps partial_roof: 16 (100.00%)\n",
      "Rows with empty finished_steps: 0 (0.00%)\n",
      "\n",
      "-- match_reasons : absolute --\n",
      "match_reason\n",
      "sole_bdg_intersects_roof_enough     12\n",
      "many_bdgs_covered_enough_by_roof     1\n",
      "Name: count, dtype: int64\n",
      "\n",
      "-- match_reasons : % --\n",
      "match_reason\n",
      "sole_bdg_intersects_roof_enough     75.00\n",
      "many_bdgs_covered_enough_by_roof     6.25\n",
      "Name: count, dtype: float64\n",
      "\n",
      "-- Inputs --\n",
      "Running rapprochement for /app/notebooks/rapprochements/Marseille pôle rénovation urbaine/data/amest_pdv_projets_residentialisation_amp.gpkg\n"
     ]
    },
    {
     "data": {
      "application/vnd.jupyter.widget-view+json": {
       "model_id": "ae189d53fd484a2991d1aeb003008802",
       "version_major": 2,
       "version_minor": 0
      },
      "text/plain": [
       "  0%|          | 0/8 [00:00<?, ?it/s]"
      ]
     },
     "metadata": {},
     "output_type": "display_data"
    },
    {
     "name": "stdout",
     "output_type": "stream",
     "text": [
      "Partial roof with multiple polygons is not supported\n",
      "Partial roof with multiple polygons is not supported\n",
      "Partial roof with multiple polygons is not supported\n",
      "Partial roof with multiple polygons is not supported\n",
      "Partial roof with multiple polygons is not supported\n",
      "-- Report --\n",
      "Number of rows: 378\n",
      "Number of match: 370 (97.88%)\n",
      "\n",
      "-- finished_steps --\n",
      "Rows with finished_steps partial_roof: 378 (100.00%)\n",
      "Rows with empty finished_steps: 0 (0.00%)\n",
      "\n",
      "-- match_reasons : absolute --\n",
      "match_reason\n",
      "sole_bdg_intersects_roof_enough     325\n",
      "many_bdgs_covered_enough_by_roof     45\n",
      "Name: count, dtype: int64\n",
      "\n",
      "-- match_reasons : % --\n",
      "match_reason\n",
      "sole_bdg_intersects_roof_enough     85.978836\n",
      "many_bdgs_covered_enough_by_roof    11.904762\n",
      "Name: count, dtype: float64\n",
      "\n",
      "-- Inputs --\n",
      "Running rapprochement for /app/notebooks/rapprochements/Marseille pôle rénovation urbaine/data/amest_amest_pdv_projets_22_recyclage_coprodegr_amp.gpkg\n"
     ]
    },
    {
     "data": {
      "application/vnd.jupyter.widget-view+json": {
       "model_id": "ef94b953254449868f2c3e59452dafc5",
       "version_major": 2,
       "version_minor": 0
      },
      "text/plain": [
       "  0%|          | 0/4 [00:00<?, ?it/s]"
      ]
     },
     "metadata": {},
     "output_type": "display_data"
    },
    {
     "name": "stdout",
     "output_type": "stream",
     "text": [
      "Partial roof with multiple polygons is not supported\n",
      "Partial roof with multiple polygons is not supported\n",
      "Partial roof with multiple polygons is not supported\n",
      "Partial roof with multiple polygons is not supported\n",
      "Partial roof with multiple polygons is not supported\n",
      "Partial roof with multiple polygons is not supported\n",
      "Partial roof with multiple polygons is not supported\n",
      "-- Report --\n",
      "Number of rows: 151\n",
      "Number of match: 143 (94.70%)\n",
      "\n",
      "-- finished_steps --\n",
      "Rows with finished_steps partial_roof: 151 (100.00%)\n",
      "Rows with empty finished_steps: 0 (0.00%)\n",
      "\n",
      "-- match_reasons : absolute --\n",
      "match_reason\n",
      "sole_bdg_intersects_roof_enough     131\n",
      "many_bdgs_covered_enough_by_roof     12\n",
      "Name: count, dtype: int64\n",
      "\n",
      "-- match_reasons : % --\n",
      "match_reason\n",
      "sole_bdg_intersects_roof_enough     86.754967\n",
      "many_bdgs_covered_enough_by_roof     7.947020\n",
      "Name: count, dtype: float64\n",
      "\n",
      "-- Inputs --\n",
      "Running rapprochement for /app/notebooks/rapprochements/Marseille pôle rénovation urbaine/data/amest_amest_pdv_projets_37_equipement_amp.gpkg\n"
     ]
    },
    {
     "data": {
      "application/vnd.jupyter.widget-view+json": {
       "model_id": "77a74b5116ac4bed88a2a84dc6e77dff",
       "version_major": 2,
       "version_minor": 0
      },
      "text/plain": [
       "  0%|          | 0/5 [00:00<?, ?it/s]"
      ]
     },
     "metadata": {},
     "output_type": "display_data"
    },
    {
     "name": "stdout",
     "output_type": "stream",
     "text": [
      "Partial roof with multiple polygons is not supported\n",
      "Partial roof with multiple polygons is not supported\n",
      "Partial roof with multiple polygons is not supported\n",
      "Partial roof with multiple polygons is not supported\n",
      "Partial roof with multiple polygons is not supported\n",
      "Partial roof with multiple polygons is not supported\n",
      "Partial roof with multiple polygons is not supported\n",
      "Partial roof with multiple polygons is not supported\n",
      "Partial roof with multiple polygons is not supported\n",
      "Partial roof with multiple polygons is not supported\n",
      "Partial roof with multiple polygons is not supported\n",
      "Partial roof with multiple polygons is not supported\n",
      "Partial roof with multiple polygons is not supported\n",
      "Partial roof with multiple polygons is not supported\n",
      "Partial roof with multiple polygons is not supported\n",
      "Partial roof with multiple polygons is not supported\n",
      "Partial roof with multiple polygons is not supported\n",
      "Partial roof with multiple polygons is not supported\n",
      "Partial roof with multiple polygons is not supported\n",
      "Partial roof with multiple polygons is not supported\n",
      "Partial roof with multiple polygons is not supported\n",
      "Partial roof with multiple polygons is not supported\n",
      "Partial roof with multiple polygons is not supported\n",
      "Partial roof with multiple polygons is not supported\n",
      "Partial roof with multiple polygons is not supported\n",
      "Partial roof with multiple polygons is not supported\n",
      "Partial roof with multiple polygons is not supported\n",
      "Partial roof with multiple polygons is not supported\n",
      "Partial roof with multiple polygons is not supported\n",
      "Partial roof with multiple polygons is not supported\n",
      "Partial roof with multiple polygons is not supported\n",
      "Partial roof with multiple polygons is not supported\n",
      "Partial roof with multiple polygons is not supported\n",
      "Partial roof with multiple polygons is not supported\n",
      "Partial roof with multiple polygons is not supported\n",
      "Partial roof with multiple polygons is not supported\n",
      "Partial roof with multiple polygons is not supported\n",
      "Partial roof with multiple polygons is not supported\n",
      "Partial roof with multiple polygons is not supported\n",
      "Partial roof with multiple polygons is not supported\n",
      "Partial roof with multiple polygons is not supported\n",
      "-- Report --\n",
      "Number of rows: 206\n",
      "Number of match: 118 (57.28%)\n",
      "\n",
      "-- finished_steps --\n",
      "Rows with finished_steps partial_roof: 206 (100.00%)\n",
      "Rows with empty finished_steps: 0 (0.00%)\n",
      "\n",
      "-- match_reasons : absolute --\n",
      "match_reason\n",
      "sole_bdg_intersects_roof_enough     87\n",
      "many_bdgs_covered_enough_by_roof    28\n",
      "isolated_bdg_intersects_roof         3\n",
      "Name: count, dtype: int64\n",
      "\n",
      "-- match_reasons : % --\n",
      "match_reason\n",
      "sole_bdg_intersects_roof_enough     42.233010\n",
      "many_bdgs_covered_enough_by_roof    13.592233\n",
      "isolated_bdg_intersects_roof         1.456311\n",
      "Name: count, dtype: float64\n",
      "\n",
      "-- Inputs --\n",
      "Running rapprochement for /app/notebooks/rapprochements/Marseille pôle rénovation urbaine/data/amest_pdv_projets_23_recyclage_anciendegr_amp.gpkg\n"
     ]
    },
    {
     "data": {
      "application/vnd.jupyter.widget-view+json": {
       "model_id": "0a7a26c5ea0f450dabe9dca11e6a32b2",
       "version_major": 2,
       "version_minor": 0
      },
      "text/plain": [
       "  0%|          | 0/5 [00:00<?, ?it/s]"
      ]
     },
     "metadata": {},
     "output_type": "display_data"
    },
    {
     "name": "stdout",
     "output_type": "stream",
     "text": [
      "Partial roof with multiple polygons is not supported\n",
      "Partial roof with multiple polygons is not supported\n",
      "Partial roof with multiple polygons is not supported\n",
      "-- Report --\n",
      "Number of rows: 239\n",
      "Number of match: 235 (98.33%)\n",
      "\n",
      "-- finished_steps --\n",
      "Rows with finished_steps partial_roof: 239 (100.00%)\n",
      "Rows with empty finished_steps: 0 (0.00%)\n",
      "\n",
      "-- match_reasons : absolute --\n",
      "match_reason\n",
      "sole_bdg_intersects_roof_enough     216\n",
      "many_bdgs_covered_enough_by_roof     18\n",
      "isolated_bdg_intersects_roof          1\n",
      "Name: count, dtype: int64\n",
      "\n",
      "-- match_reasons : % --\n",
      "match_reason\n",
      "sole_bdg_intersects_roof_enough     90.376569\n",
      "many_bdgs_covered_enough_by_roof     7.531381\n",
      "isolated_bdg_intersects_roof         0.418410\n",
      "Name: count, dtype: float64\n",
      "\n",
      "-- Inputs --\n"
     ]
    }
   ],
   "source": [
    "from shapely import to_geojson\n",
    "import json\n",
    "from batid.services.guess_bdg_new import Guesser, PartialRoofHandler\n",
    "\n",
    "def row_to_input(df_row_raw):\n",
    "    df_row = dict(df_row_raw)\n",
    "        \n",
    "    return {\n",
    "        \"ext_id\" : df_row[\"OBJECTID\"],\n",
    "        \"polygon\": json.loads(to_geojson(df_row[\"geometry\"]))\n",
    "    }\n",
    "\n",
    "def run_rapprochement(gpkg_path, output_path):\n",
    "    print(f\"Running rapprochement for {gpkg_path}\")\n",
    "    df = gpd.read_file(gpkg_path)\n",
    "    df = df.to_crs(epsg=4326)\n",
    "    inputs = list(df.apply(row_to_input, axis=1))\n",
    "    guesses_path = f\"{gpkg_path}.guesses.json\"\n",
    "    guesser = Guesser(batch_size=50)\n",
    "    guesser.handlers = [\n",
    "        PartialRoofHandler(),\n",
    "    ]\n",
    "    guesser.create_work_file(list(inputs), guesses_path)\n",
    "    guesser.guess_work_file(guesses_path)\n",
    "    guesser.report()\n",
    "    guesser.to_csv(output_path, ext_id_col_name='OBJECTID')\n",
    "    \n",
    "\n",
    "def list_files(directory):\n",
    "    files = []\n",
    "    for filename in os.listdir(directory):\n",
    "        if filename.endswith('.gpkg'):\n",
    "            fq_path = os.path.join(directory, filename)\n",
    "            columns = list_columns(fq_path)\n",
    "            if 'id_rnb' in columns:\n",
    "                files.append(fq_path)\n",
    "            else:\n",
    "                print(f\"No id_rnb in {filename}, skipping\")\n",
    "    return files\n",
    "\n",
    "def list_columns(filepath):\n",
    "    df = gpd.read_file(filepath)\n",
    "    return df.columns\n",
    "\n",
    "files = list_files(data_path)\n",
    "print(f\"Found {len(files)} files\")\n",
    "for file in files:\n",
    "    csv_path = f\"{file}.csv\"\n",
    "    final_output_path = f\"{file}.out\"\n",
    "    run_rapprochement(file, output_path=csv_path)"
   ]
  },
  {
   "cell_type": "code",
   "execution_count": 13,
   "metadata": {},
   "outputs": [
    {
     "name": "stderr",
     "output_type": "stream",
     "text": [
      "/venv/lib/python3.13/site-packages/pyogrio/geopandas.py:275: UserWarning: More than one layer found in 'amest_amest_pdv_projets_logneuf_amp.gpkg': 'bddsig_amest_amest_pdv_projets_logneuf_amp' (default), 'amest_amest_pdv_projets_logneuf_amp'. Specify layer parameter to avoid this warning.\n",
      "  result = read_func(\n",
      "/venv/lib/python3.13/site-packages/pyogrio/geopandas.py:275: UserWarning: More than one layer found in 'amest_amest_pdv_projets_habitat_public_amp.gpkg': 'bddsig_amest_amest_pdv_projets_habitat_public_amp' (default), 'amest_amest_pdv_projets_habitat_public_amp'. Specify layer parameter to avoid this warning.\n",
      "  result = read_func(\n",
      "/venv/lib/python3.13/site-packages/pyogrio/geopandas.py:275: UserWarning: More than one layer found in 'amest_amest_pdv_projets_38_immo_eco_amp.gpkg': 'bddsig_amest_amest_pdv_projets_38_immo_eco_amp' (default), 'amest_amest_pdv_projets_38_immo_eco_amp'. Specify layer parameter to avoid this warning.\n",
      "  result = read_func(\n",
      "/venv/lib/python3.13/site-packages/pyogrio/geopandas.py:275: UserWarning: More than one layer found in 'amest_amest_pdv_projets_22_recyclage_coprodegr_amp.gpkg': 'bddsig_amest_amest_pdv_projets_22_recyclage_coprodegr_amp' (default), 'amest_amest_pdv_projets_22_recyclage_coprodegr_amp'. Specify layer parameter to avoid this warning.\n",
      "  result = read_func(\n",
      "/venv/lib/python3.13/site-packages/pyogrio/geopandas.py:275: UserWarning: More than one layer found in 'amest_amest_pdv_projets_37_equipement_amp.gpkg': 'bddsig_amest_amest_pdv_projets_37_equipement_amp' (default), 'amest_amest_pdv_projets_37_equipement_amp'. Specify layer parameter to avoid this warning.\n",
      "  result = read_func(\n",
      "/venv/lib/python3.13/site-packages/pyogrio/geopandas.py:275: UserWarning: More than one layer found in 'amest_amest_pdv_projets_logneuf_amp.gpkg': 'bddsig_amest_amest_pdv_projets_logneuf_amp' (default), 'amest_amest_pdv_projets_logneuf_amp'. Specify layer parameter to avoid this warning.\n",
      "  result = read_func(\n",
      "[2025-08-25 15:24:59 +0000] [44290] [INFO] Created 220 records\n",
      "/venv/lib/python3.13/site-packages/pyogrio/geopandas.py:275: UserWarning: More than one layer found in 'amest_amest_pdv_projets_habitat_public_amp.gpkg': 'bddsig_amest_amest_pdv_projets_habitat_public_amp' (default), 'amest_amest_pdv_projets_habitat_public_amp'. Specify layer parameter to avoid this warning.\n",
      "  result = read_func(\n",
      "[2025-08-25 15:24:59 +0000] [44290] [INFO] Created 684 records\n",
      "/venv/lib/python3.13/site-packages/pyogrio/geopandas.py:275: UserWarning: More than one layer found in 'amest_amest_pdv_projets_38_immo_eco_amp.gpkg': 'bddsig_amest_amest_pdv_projets_38_immo_eco_amp' (default), 'amest_amest_pdv_projets_38_immo_eco_amp'. Specify layer parameter to avoid this warning.\n",
      "  result = read_func(\n",
      "[2025-08-25 15:24:59 +0000] [44290] [INFO] Created 16 records\n"
     ]
    },
    {
     "name": "stdout",
     "output_type": "stream",
     "text": [
      "No id_rnb in amest_amest_pdv_perimetres_projet_npnru_amp.gpkg, skipping\n",
      "No id_rnb in amest_amest_pdv_projets_24_amenagement_amp.gpkg, skipping\n"
     ]
    },
    {
     "name": "stderr",
     "output_type": "stream",
     "text": [
      "[2025-08-25 15:24:59 +0000] [44290] [INFO] Created 381 records\n",
      "/venv/lib/python3.13/site-packages/pyogrio/geopandas.py:275: UserWarning: More than one layer found in 'amest_amest_pdv_projets_22_recyclage_coprodegr_amp.gpkg': 'bddsig_amest_amest_pdv_projets_22_recyclage_coprodegr_amp' (default), 'amest_amest_pdv_projets_22_recyclage_coprodegr_amp'. Specify layer parameter to avoid this warning.\n",
      "  result = read_func(\n",
      "[2025-08-25 15:24:59 +0000] [44290] [INFO] Created 151 records\n",
      "/venv/lib/python3.13/site-packages/pyogrio/geopandas.py:275: UserWarning: More than one layer found in 'amest_amest_pdv_projets_37_equipement_amp.gpkg': 'bddsig_amest_amest_pdv_projets_37_equipement_amp' (default), 'amest_amest_pdv_projets_37_equipement_amp'. Specify layer parameter to avoid this warning.\n",
      "  result = read_func(\n",
      "[2025-08-25 15:24:59 +0000] [44290] [INFO] Created 206 records\n",
      "[2025-08-25 15:24:59 +0000] [44290] [INFO] Created 239 records\n"
     ]
    }
   ],
   "source": [
    "def merge_ids_from_csv_into_gpkg(gpkg_path, csv_path, output_path):\n",
    "    join_key = 'OBJECTID'\n",
    "    original_column = 'id_rnb'\n",
    "    replaced_column = 'rnb_ids'\n",
    "    df = gpd.read_file(gpkg_path)\n",
    "    df_csv = pd.read_csv(csv_path)\n",
    "    merged = df.merge(df_csv, on=join_key, how='left')\n",
    "    df[original_column] = merged[replaced_column]\n",
    "    df.to_file(output_path, driver='GPKG')\n",
    "\n",
    "\n",
    "\n",
    "files = list_files(data_path)\n",
    "for file in files:\n",
    "    csv_path = f\"{file}.csv\"\n",
    "    final_output_path = f\"{file}\"\n",
    "    merge_ids_from_csv_into_gpkg(file, csv_path, output_path=final_output_path)"
   ]
  },
  {
   "cell_type": "code",
   "execution_count": null,
   "metadata": {},
   "outputs": [],
   "source": []
  }
 ],
 "metadata": {
  "kernelspec": {
   "display_name": "Django Shell-Plus",
   "language": "python",
   "name": "django_extensions"
  },
  "language_info": {
   "codemirror_mode": {
    "name": "ipython",
    "version": 3
   },
   "file_extension": ".py",
   "mimetype": "text/x-python",
   "name": "python",
   "nbconvert_exporter": "python",
   "pygments_lexer": "ipython3",
   "version": "3.13.4"
  }
 },
 "nbformat": 4,
 "nbformat_minor": 2
}
