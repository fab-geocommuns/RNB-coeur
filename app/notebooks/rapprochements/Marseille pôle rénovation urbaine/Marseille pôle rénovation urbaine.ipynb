{
 "cells": [
  {
   "cell_type": "code",
   "execution_count": 1,
   "metadata": {},
   "outputs": [
    {
     "name": "stdout",
     "output_type": "stream",
     "text": [
      "data_path='/app/notebooks/rapprochements/Marseille pôle rénovation urbaine/data'\n"
     ]
    }
   ],
   "source": [
    "import os\n",
    "data_path = os.path.join(os.getcwd(), 'data')\n",
    "print(f\"{data_path=}\")"
   ]
  },
  {
   "cell_type": "code",
   "execution_count": 2,
   "metadata": {},
   "outputs": [],
   "source": [
    "import geopandas as gpd\n",
    "import pandas as pd\n",
    "\n",
    "pd.set_option('display.max_columns', None)\n",
    "pd.set_option('display.max_rows', None)"
   ]
  },
  {
   "cell_type": "code",
   "execution_count": 3,
   "metadata": {},
   "outputs": [
    {
     "name": "stdout",
     "output_type": "stream",
     "text": [
      "File amest_amest_pdv_projets_logneuf_amp.gpkg is ignored.\n",
      "No id_rnb in amest_amest_pdv_perimetres_projet_npnru_amp.gpkg, skipping\n",
      "No id_rnb in amest_amest_pdv_projets_24_amenagement_amp.gpkg, skipping\n",
      "Found 6 files\n",
      "Running rapprochement for /app/notebooks/rapprochements/Marseille pôle rénovation urbaine/data/amest_amest_pdv_projets_habitat_public_amp.gpkg\n"
     ]
    },
    {
     "data": {
      "application/vnd.jupyter.widget-view+json": {
       "model_id": "38730183ea754a7e93b17d793b740d57",
       "version_major": 2,
       "version_minor": 0
      },
      "text/plain": [
       "  0%|          | 0/14 [00:00<?, ?it/s]"
      ]
     },
     "metadata": {},
     "output_type": "display_data"
    },
    {
     "name": "stdout",
     "output_type": "stream",
     "text": [
      "Partial roof with multiple polygons is not supported\n",
      "Partial roof with multiple polygons is not supported\n",
      "Partial roof with multiple polygons is not supported\n",
      "Partial roof with multiple polygons is not supported\n",
      "Partial roof with multiple polygons is not supported\n",
      "Partial roof with multiple polygons is not supported\n",
      "Partial roof with multiple polygons is not supported\n",
      "Partial roof with multiple polygons is not supported\n",
      "Partial roof with multiple polygons is not supported\n",
      "Partial roof with multiple polygons is not supported\n",
      "Partial roof with multiple polygons is not supported\n",
      "Partial roof with multiple polygons is not supported\n",
      "Partial roof with multiple polygons is not supported\n",
      "Partial roof with multiple polygons is not supported\n",
      "-- Report --\n",
      "Number of rows: 684\n",
      "Number of match: 650 (95.03%)\n",
      "\n",
      "-- finished_steps --\n",
      "Rows with finished_steps partial_roof: 684 (100.00%)\n",
      "Rows with empty finished_steps: 0 (0.00%)\n",
      "\n",
      "-- match_reasons : absolute --\n",
      "match_reason\n",
      "sole_bdg_intersects_roof_enough     558\n",
      "many_bdgs_covered_enough_by_roof     88\n",
      "isolated_bdg_intersects_roof          4\n",
      "Name: count, dtype: int64\n",
      "\n",
      "-- match_reasons : % --\n",
      "match_reason\n",
      "sole_bdg_intersects_roof_enough     81.578947\n",
      "many_bdgs_covered_enough_by_roof    12.865497\n",
      "isolated_bdg_intersects_roof         0.584795\n",
      "Name: count, dtype: float64\n",
      "\n",
      "-- Inputs --\n",
      "Running rapprochement for /app/notebooks/rapprochements/Marseille pôle rénovation urbaine/data/amest_amest_pdv_projets_38_immo_eco_amp.gpkg\n"
     ]
    },
    {
     "data": {
      "application/vnd.jupyter.widget-view+json": {
       "model_id": "da8438e587804a11ba40f52322dad478",
       "version_major": 2,
       "version_minor": 0
      },
      "text/plain": [
       "  0%|          | 0/1 [00:00<?, ?it/s]"
      ]
     },
     "metadata": {},
     "output_type": "display_data"
    },
    {
     "name": "stdout",
     "output_type": "stream",
     "text": [
      "Partial roof with multiple polygons is not supported\n",
      "-- Report --\n",
      "Number of rows: 16\n",
      "Number of match: 13 (81.25%)\n",
      "\n",
      "-- finished_steps --\n",
      "Rows with finished_steps partial_roof: 16 (100.00%)\n",
      "Rows with empty finished_steps: 0 (0.00%)\n",
      "\n",
      "-- match_reasons : absolute --\n",
      "match_reason\n",
      "sole_bdg_intersects_roof_enough     10\n",
      "many_bdgs_covered_enough_by_roof     2\n",
      "isolated_bdg_intersects_roof         1\n",
      "Name: count, dtype: int64\n",
      "\n",
      "-- match_reasons : % --\n",
      "match_reason\n",
      "sole_bdg_intersects_roof_enough     62.50\n",
      "many_bdgs_covered_enough_by_roof    12.50\n",
      "isolated_bdg_intersects_roof         6.25\n",
      "Name: count, dtype: float64\n",
      "\n",
      "-- Inputs --\n",
      "Running rapprochement for /app/notebooks/rapprochements/Marseille pôle rénovation urbaine/data/amest_pdv_projets_residentialisation_amp.gpkg\n"
     ]
    },
    {
     "data": {
      "application/vnd.jupyter.widget-view+json": {
       "model_id": "fddcdde370f24377bfedf57aef010fe3",
       "version_major": 2,
       "version_minor": 0
      },
      "text/plain": [
       "  0%|          | 0/8 [00:00<?, ?it/s]"
      ]
     },
     "metadata": {},
     "output_type": "display_data"
    },
    {
     "name": "stdout",
     "output_type": "stream",
     "text": [
      "Partial roof with multiple polygons is not supported\n",
      "Partial roof with multiple polygons is not supported\n",
      "Partial roof with multiple polygons is not supported\n",
      "Partial roof with multiple polygons is not supported\n",
      "Partial roof with multiple polygons is not supported\n",
      "-- Report --\n",
      "Number of rows: 378\n",
      "Number of match: 370 (97.88%)\n",
      "\n",
      "-- finished_steps --\n",
      "Rows with finished_steps partial_roof: 378 (100.00%)\n",
      "Rows with empty finished_steps: 0 (0.00%)\n",
      "\n",
      "-- match_reasons : absolute --\n",
      "match_reason\n",
      "sole_bdg_intersects_roof_enough     307\n",
      "many_bdgs_covered_enough_by_roof     62\n",
      "isolated_bdg_intersects_roof          1\n",
      "Name: count, dtype: int64\n",
      "\n",
      "-- match_reasons : % --\n",
      "match_reason\n",
      "sole_bdg_intersects_roof_enough     81.216931\n",
      "many_bdgs_covered_enough_by_roof    16.402116\n",
      "isolated_bdg_intersects_roof         0.264550\n",
      "Name: count, dtype: float64\n",
      "\n",
      "-- Inputs --\n",
      "Running rapprochement for /app/notebooks/rapprochements/Marseille pôle rénovation urbaine/data/amest_amest_pdv_projets_22_recyclage_coprodegr_amp.gpkg\n"
     ]
    },
    {
     "data": {
      "application/vnd.jupyter.widget-view+json": {
       "model_id": "f2007ee1c9d147f8a13a41b856319ec0",
       "version_major": 2,
       "version_minor": 0
      },
      "text/plain": [
       "  0%|          | 0/4 [00:00<?, ?it/s]"
      ]
     },
     "metadata": {},
     "output_type": "display_data"
    },
    {
     "name": "stdout",
     "output_type": "stream",
     "text": [
      "Partial roof with multiple polygons is not supported\n",
      "Partial roof with multiple polygons is not supported\n",
      "Partial roof with multiple polygons is not supported\n",
      "Partial roof with multiple polygons is not supported\n",
      "Partial roof with multiple polygons is not supported\n",
      "Partial roof with multiple polygons is not supported\n",
      "Partial roof with multiple polygons is not supported\n",
      "-- Report --\n",
      "Number of rows: 151\n",
      "Number of match: 143 (94.70%)\n",
      "\n",
      "-- finished_steps --\n",
      "Rows with finished_steps partial_roof: 151 (100.00%)\n",
      "Rows with empty finished_steps: 0 (0.00%)\n",
      "\n",
      "-- match_reasons : absolute --\n",
      "match_reason\n",
      "sole_bdg_intersects_roof_enough     128\n",
      "many_bdgs_covered_enough_by_roof     15\n",
      "Name: count, dtype: int64\n",
      "\n",
      "-- match_reasons : % --\n",
      "match_reason\n",
      "sole_bdg_intersects_roof_enough     84.768212\n",
      "many_bdgs_covered_enough_by_roof     9.933775\n",
      "Name: count, dtype: float64\n",
      "\n",
      "-- Inputs --\n",
      "Running rapprochement for /app/notebooks/rapprochements/Marseille pôle rénovation urbaine/data/amest_amest_pdv_projets_37_equipement_amp.gpkg\n"
     ]
    },
    {
     "data": {
      "application/vnd.jupyter.widget-view+json": {
       "model_id": "1f589b0da5da4cf4a34a6537a4d7c7e4",
       "version_major": 2,
       "version_minor": 0
      },
      "text/plain": [
       "  0%|          | 0/5 [00:00<?, ?it/s]"
      ]
     },
     "metadata": {},
     "output_type": "display_data"
    },
    {
     "name": "stdout",
     "output_type": "stream",
     "text": [
      "Partial roof with multiple polygons is not supported\n",
      "Partial roof with multiple polygons is not supported\n",
      "Partial roof with multiple polygons is not supported\n",
      "Partial roof with multiple polygons is not supported\n",
      "Partial roof with multiple polygons is not supported\n",
      "Partial roof with multiple polygons is not supported\n",
      "Partial roof with multiple polygons is not supported\n",
      "Partial roof with multiple polygons is not supported\n",
      "Partial roof with multiple polygons is not supported\n",
      "Partial roof with multiple polygons is not supported\n",
      "Partial roof with multiple polygons is not supported\n",
      "Partial roof with multiple polygons is not supported\n",
      "Partial roof with multiple polygons is not supported\n",
      "Partial roof with multiple polygons is not supported\n",
      "Partial roof with multiple polygons is not supported\n",
      "Partial roof with multiple polygons is not supported\n",
      "Partial roof with multiple polygons is not supported\n",
      "Partial roof with multiple polygons is not supported\n",
      "Partial roof with multiple polygons is not supported\n",
      "Partial roof with multiple polygons is not supported\n",
      "Partial roof with multiple polygons is not supported\n",
      "Partial roof with multiple polygons is not supported\n",
      "Partial roof with multiple polygons is not supported\n",
      "Partial roof with multiple polygons is not supported\n",
      "Partial roof with multiple polygons is not supported\n",
      "Partial roof with multiple polygons is not supported\n",
      "Partial roof with multiple polygons is not supported\n",
      "Partial roof with multiple polygons is not supported\n",
      "Partial roof with multiple polygons is not supported\n",
      "Partial roof with multiple polygons is not supported\n",
      "Partial roof with multiple polygons is not supported\n",
      "Partial roof with multiple polygons is not supported\n",
      "Partial roof with multiple polygons is not supported\n",
      "Partial roof with multiple polygons is not supported\n",
      "Partial roof with multiple polygons is not supported\n",
      "Partial roof with multiple polygons is not supported\n",
      "Partial roof with multiple polygons is not supported\n",
      "Partial roof with multiple polygons is not supported\n",
      "Partial roof with multiple polygons is not supported\n",
      "Partial roof with multiple polygons is not supported\n",
      "Partial roof with multiple polygons is not supported\n",
      "-- Report --\n",
      "Number of rows: 206\n",
      "Number of match: 114 (55.34%)\n",
      "\n",
      "-- finished_steps --\n",
      "Rows with finished_steps partial_roof: 206 (100.00%)\n",
      "Rows with empty finished_steps: 0 (0.00%)\n",
      "\n",
      "-- match_reasons : absolute --\n",
      "match_reason\n",
      "sole_bdg_intersects_roof_enough     59\n",
      "many_bdgs_covered_enough_by_roof    48\n",
      "isolated_bdg_intersects_roof         7\n",
      "Name: count, dtype: int64\n",
      "\n",
      "-- match_reasons : % --\n",
      "match_reason\n",
      "sole_bdg_intersects_roof_enough     28.640777\n",
      "many_bdgs_covered_enough_by_roof    23.300971\n",
      "isolated_bdg_intersects_roof         3.398058\n",
      "Name: count, dtype: float64\n",
      "\n",
      "-- Inputs --\n",
      "Running rapprochement for /app/notebooks/rapprochements/Marseille pôle rénovation urbaine/data/amest_pdv_projets_23_recyclage_anciendegr_amp.gpkg\n"
     ]
    },
    {
     "data": {
      "application/vnd.jupyter.widget-view+json": {
       "model_id": "487d5dce5e524831ba9ca2497eeddaa3",
       "version_major": 2,
       "version_minor": 0
      },
      "text/plain": [
       "  0%|          | 0/5 [00:00<?, ?it/s]"
      ]
     },
     "metadata": {},
     "output_type": "display_data"
    },
    {
     "name": "stdout",
     "output_type": "stream",
     "text": [
      "Partial roof with multiple polygons is not supported\n",
      "Partial roof with multiple polygons is not supported\n",
      "Partial roof with multiple polygons is not supported\n",
      "-- Report --\n",
      "Number of rows: 239\n",
      "Number of match: 211 (88.28%)\n",
      "\n",
      "-- finished_steps --\n",
      "Rows with finished_steps partial_roof: 239 (100.00%)\n",
      "Rows with empty finished_steps: 0 (0.00%)\n",
      "\n",
      "-- match_reasons : absolute --\n",
      "match_reason\n",
      "sole_bdg_intersects_roof_enough     158\n",
      "many_bdgs_covered_enough_by_roof     52\n",
      "isolated_bdg_intersects_roof          1\n",
      "Name: count, dtype: int64\n",
      "\n",
      "-- match_reasons : % --\n",
      "match_reason\n",
      "sole_bdg_intersects_roof_enough     66.108787\n",
      "many_bdgs_covered_enough_by_roof    21.757322\n",
      "isolated_bdg_intersects_roof         0.418410\n",
      "Name: count, dtype: float64\n",
      "\n",
      "-- Inputs --\n"
     ]
    }
   ],
   "source": [
    "from shapely import to_geojson\n",
    "import json\n",
    "from batid.services.guess_bdg_new import Guesser, PartialRoofHandler\n",
    "\n",
    "ignored_files = ['amest_amest_pdv_projets_logneuf_amp.gpkg'] # Ne pas rapprocher les logements neufs\n",
    "\n",
    "def row_to_input(df_row_raw):\n",
    "    df_row = dict(df_row_raw)\n",
    "        \n",
    "    return {\n",
    "        \"ext_id\" : df_row[\"OBJECTID\"],\n",
    "        \"polygon\": json.loads(to_geojson(df_row[\"geometry\"]))\n",
    "    }\n",
    "\n",
    "def run_rapprochement(gpkg_path, output_path):\n",
    "    print(f\"Running rapprochement for {gpkg_path}\")\n",
    "    df = gpd.read_file(gpkg_path)\n",
    "    df = df.to_crs(epsg=4326)\n",
    "    inputs = list(df.apply(row_to_input, axis=1))\n",
    "    guesses_path = f\"{gpkg_path}.guesses.json\"\n",
    "    guesser = Guesser(batch_size=50)\n",
    "    guesser.handlers = [\n",
    "        PartialRoofHandler(\n",
    "            multiple_bdgs_covered_enough_threshold = 0.85,\n",
    "            sole_bdg_intersecting_enough_threshold = 0.85\n",
    "        ),\n",
    "    ]\n",
    "    guesser.create_work_file(list(inputs), guesses_path)\n",
    "    guesser.guess_work_file(guesses_path)\n",
    "    guesser.report()\n",
    "    guesser.to_csv(output_path, ext_id_col_name='OBJECTID')\n",
    "    \n",
    "\n",
    "def list_files(directory):\n",
    "    files = []\n",
    "    for filename in os.listdir(directory):\n",
    "        if filename in ignored_files:\n",
    "            print(f\"File {filename} is ignored.\")\n",
    "            continue\n",
    "            \n",
    "        if filename.endswith('.gpkg'):\n",
    "            fq_path = os.path.join(directory, filename)\n",
    "            columns = list_columns(fq_path)\n",
    "            if 'id_rnb' in columns:\n",
    "                files.append(fq_path)\n",
    "            else:\n",
    "                print(f\"No id_rnb in {filename}, skipping\")\n",
    "    return files\n",
    "\n",
    "def list_columns(filepath):\n",
    "    df = gpd.read_file(filepath)\n",
    "    return df.columns\n",
    "\n",
    "files = list_files(data_path)\n",
    "print(f\"Found {len(files)} files\")\n",
    "for file in files:\n",
    "    csv_path = f\"{file}.csv\"\n",
    "    final_output_path = f\"{file}.out\"\n",
    "    run_rapprochement(file, output_path=csv_path)"
   ]
  },
  {
   "cell_type": "code",
   "execution_count": 4,
   "metadata": {},
   "outputs": [
    {
     "name": "stdout",
     "output_type": "stream",
     "text": [
      "File amest_amest_pdv_projets_logneuf_amp.gpkg is ignored.\n"
     ]
    },
    {
     "name": "stderr",
     "output_type": "stream",
     "text": [
      "[2025-09-16 13:48:50 +0000] [2605] [INFO] Created 684 records\n",
      "[2025-09-16 13:48:51 +0000] [2605] [INFO] Created 16 records\n"
     ]
    },
    {
     "name": "stdout",
     "output_type": "stream",
     "text": [
      "No id_rnb in amest_amest_pdv_perimetres_projet_npnru_amp.gpkg, skipping\n",
      "No id_rnb in amest_amest_pdv_projets_24_amenagement_amp.gpkg, skipping\n"
     ]
    },
    {
     "name": "stderr",
     "output_type": "stream",
     "text": [
      "[2025-09-16 13:48:51 +0000] [2605] [INFO] Created 381 records\n",
      "[2025-09-16 13:48:51 +0000] [2605] [INFO] Created 151 records\n",
      "[2025-09-16 13:48:51 +0000] [2605] [INFO] Created 206 records\n",
      "[2025-09-16 13:48:51 +0000] [2605] [INFO] Created 239 records\n"
     ]
    }
   ],
   "source": [
    "def merge_ids_from_csv_into_gpkg(gpkg_path, csv_path, output_path):\n",
    "    join_key = 'OBJECTID'\n",
    "    original_column = 'id_rnb'\n",
    "    replaced_column = 'rnb_ids'\n",
    "    df = gpd.read_file(gpkg_path)\n",
    "    df_csv = pd.read_csv(csv_path)\n",
    "    merged = df.merge(df_csv, on=join_key, how='left')\n",
    "    df[original_column] = merged[replaced_column]\n",
    "    df.to_file(output_path, driver='GPKG')\n",
    "\n",
    "\n",
    "\n",
    "files = list_files(data_path)\n",
    "for file in files:\n",
    "    csv_path = f\"{file}.csv\"\n",
    "    final_output_path = f\"{file}\"\n",
    "    merge_ids_from_csv_into_gpkg(file, csv_path, output_path=final_output_path)"
   ]
  },
  {
   "cell_type": "code",
   "execution_count": null,
   "metadata": {},
   "outputs": [],
   "source": []
  }
 ],
 "metadata": {
  "kernelspec": {
   "display_name": "Django Shell-Plus",
   "language": "python",
   "name": "django_extensions"
  },
  "language_info": {
   "codemirror_mode": {
    "name": "ipython",
    "version": 3
   },
   "file_extension": ".py",
   "mimetype": "text/x-python",
   "name": "python",
   "nbconvert_exporter": "python",
   "pygments_lexer": "ipython3",
   "version": "3.13.4"
  }
 },
 "nbformat": 4,
 "nbformat_minor": 2
}
