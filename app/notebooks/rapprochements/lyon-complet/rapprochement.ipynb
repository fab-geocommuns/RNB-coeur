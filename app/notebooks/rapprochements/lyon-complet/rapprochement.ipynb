{
 "cells": [
  {
   "cell_type": "code",
   "execution_count": 2,
   "id": "53cd60d1",
   "metadata": {
    "ExecuteTime": {
     "end_time": "2024-03-28T13:55:00.590594Z",
     "start_time": "2024-03-28T13:55:00.564499Z"
    }
   },
   "outputs": [],
   "source": [
    "import geopandas as gpd\n",
    "import os\n",
    "import requests\n",
    "import json\n",
    "import time\n",
    "\n",
    "from batid.services.guess_bdg_new import Guesser, PartialRoofHandler\n",
    "\n",
    "\n",
    "source_url = \"https://data.grandlyon.com/geoserver/metropole-de-lyon/ows?SERVICE=WFS&VERSION=2.0.0&request=GetFeature&typename=metropole-de-lyon:fpc_fond_plan_communaut.fpctoit_2018&outputFormat=application/json&SRSNAME=EPSG:4326&sortBy=gid\"\n",
    "source_path = './source/all.json'\n",
    "workfile_path = './guess.json'"
   ]
  },
  {
   "cell_type": "code",
   "execution_count": 3,
   "id": "361bb8d99010b9d9",
   "metadata": {
    "ExecuteTime": {
     "end_time": "2024-03-28T13:55:04.551953Z",
     "start_time": "2024-03-28T13:55:04.395128Z"
    }
   },
   "outputs": [
    {
     "name": "stdout",
     "output_type": "stream",
     "text": [
      "downloading ...\n",
      "downloade finished\n",
      "saving data to local file ...\n",
      "save finished\n"
     ]
    }
   ],
   "source": [
    "# First download if the file is not on the disk\n",
    "if not os.path.exists(source_path):\n",
    "    \n",
    "    print('downloading ...')\n",
    "    resp = requests.get(source_url)\n",
    "    print('downloade finished')\n",
    "    \n",
    "    if resp.status_code == 200:\n",
    "        with open(source_path, \"w\") as f:\n",
    "            print('saving data to local file ...')\n",
    "            json.dump(resp.json(), f)\n",
    "            print(\"save finished\")\n",
    "    \n",
    "    "
   ]
  },
  {
   "cell_type": "code",
   "execution_count": 4,
   "id": "8ed56a123a906e9b",
   "metadata": {},
   "outputs": [
    {
     "name": "stdout",
     "output_type": "stream",
     "text": [
      "save_work_file - duration: 47.50714714601054 seconds\n",
      "create_work_file - duration: 105.84821354800079 seconds\n"
     ]
    }
   ],
   "source": [
    "# Convert to guess file\n",
    "with open(source_path, 'r') as f:\n",
    "    \n",
    "    inputs = []\n",
    "    \n",
    "    source = json.load(f)\n",
    "    \n",
    "    c = 0\n",
    "    for row in source['features']:\n",
    "        \n",
    "        inputs.append({\n",
    "            'ext_id': row['id'],\n",
    "            'polygon': row['geometry']\n",
    "        })\n",
    "    \n",
    "guesser = Guesser()\n",
    "guesser.create_work_file(inputs, workfile_path)"
   ]
  },
  {
   "cell_type": "code",
   "execution_count": 5,
   "id": "97f5d796",
   "metadata": {},
   "outputs": [
    {
     "name": "stdout",
     "output_type": "stream",
     "text": [
      "- loading work file\n",
      "load_work_file - duration: 98.62273137799639 seconds\n",
      "- converting to batches\n",
      "----- new batch\n",
      "Processing 20000 guesses more. Total processed so far : 0/545451\n"
     ]
    },
    {
     "name": "stderr",
     "output_type": "stream",
     "text": [
      "GEOS_NOTICE: Self-intersection at or near point 4.9310221495217723 45.694166818023987 210.10836104132241\n",
      "\n",
      "GEOS_NOTICE: Self-intersection at or near point 4.9310221495217723 45.694166818023987 210.10836104132241\n",
      "\n"
     ]
    },
    {
     "name": "stdout",
     "output_type": "stream",
     "text": [
      "guess_batch - duration: 400.84117909899214 seconds\n",
      "save_work_file - duration: 42.85282343599829 seconds\n",
      "----- new batch\n",
      "Processing 20000 guesses more. Total processed so far : 20000/545451\n"
     ]
    },
    {
     "name": "stderr",
     "output_type": "stream",
     "text": [
      "GEOS_NOTICE: Self-intersection at or near point 4.8379010553359683 45.763998043952569 0\n",
      "\n",
      "GEOS_NOTICE: Self-intersection at or near point 4.8379010553359683 45.763998043952569 0\n",
      "\n"
     ]
    },
    {
     "name": "stdout",
     "output_type": "stream",
     "text": [
      "guess_batch - duration: 416.3071922310046 seconds\n",
      "save_work_file - duration: 48.35242968999955 seconds\n",
      "----- new batch\n",
      "Processing 20000 guesses more. Total processed so far : 40000/545451\n",
      "guess_batch - duration: 412.7383126049972 seconds\n",
      "save_work_file - duration: 47.29046873099287 seconds\n",
      "----- new batch\n",
      "Processing 20000 guesses more. Total processed so far : 60000/545451\n"
     ]
    },
    {
     "name": "stderr",
     "output_type": "stream",
     "text": [
      "GEOS_NOTICE: Self-intersection at or near point 4.8590425627705613 45.882119884155841 0\n",
      "\n",
      "GEOS_NOTICE: Self-intersection at or near point 4.8590425627705613 45.882119884155841 0\n",
      "\n"
     ]
    },
    {
     "name": "stdout",
     "output_type": "stream",
     "text": [
      "guess_batch - duration: 475.10355779901147 seconds\n",
      "save_work_file - duration: 51.267049064990715 seconds\n",
      "----- new batch\n",
      "Processing 20000 guesses more. Total processed so far : 80000/545451\n"
     ]
    },
    {
     "name": "stderr",
     "output_type": "stream",
     "text": [
      "GEOS_NOTICE: Self-intersection at or near point 4.8885248950698568 45.716779956952287 0\n",
      "\n",
      "GEOS_NOTICE: Self-intersection at or near point 4.8885248950698568 45.716779956952287 0\n",
      "\n",
      "GEOS_NOTICE: Self-intersection at or near point 4.8693079189188042 45.748711769729759 0\n",
      "\n",
      "GEOS_NOTICE: Self-intersection at or near point 4.8693079189188042 45.748711769729759 0\n",
      "\n",
      "GEOS_NOTICE: Ring Self-intersection at or near point 4.9042579999999996 45.733945040000002 0\n",
      "\n",
      "GEOS_NOTICE: Ring Self-intersection at or near point 4.9042579999999996 45.733945040000002 0\n",
      "\n"
     ]
    },
    {
     "name": "stdout",
     "output_type": "stream",
     "text": [
      "guess_batch - duration: 413.32453589799115 seconds\n",
      "save_work_file - duration: 47.14470514700224 seconds\n",
      "----- new batch\n",
      "Processing 20000 guesses more. Total processed so far : 100000/545451\n"
     ]
    },
    {
     "name": "stderr",
     "output_type": "stream",
     "text": [
      "GEOS_NOTICE: Ring Self-intersection at or near point 4.9056980000000001 45.753679040000002 0\n",
      "\n",
      "GEOS_NOTICE: Ring Self-intersection at or near point 4.9056980000000001 45.753679040000002 0\n",
      "\n",
      "GEOS_NOTICE: Ring Self-intersection at or near point 4.9156199999999997 45.721877040000003 0\n",
      "\n",
      "GEOS_NOTICE: Ring Self-intersection at or near point 4.9156199999999997 45.721877040000003 0\n",
      "\n"
     ]
    },
    {
     "name": "stdout",
     "output_type": "stream",
     "text": [
      "guess_batch - duration: 422.2740857339959 seconds\n",
      "save_work_file - duration: 49.181253356000525 seconds\n",
      "----- new batch\n",
      "Processing 20000 guesses more. Total processed so far : 120000/545451\n"
     ]
    },
    {
     "name": "stderr",
     "output_type": "stream",
     "text": [
      "GEOS_NOTICE: Ring Self-intersection at or near point 4.8528279999999997 45.671904040000001 0\n",
      "\n",
      "GEOS_NOTICE: Ring Self-intersection at or near point 4.8528279999999997 45.671904040000001 0\n",
      "\n",
      "GEOS_NOTICE: Ring Self-intersection at or near point 4.8522660000000002 45.671009040000001 0\n",
      "\n",
      "GEOS_NOTICE: Ring Self-intersection at or near point 4.8522660000000002 45.671009040000001 0\n",
      "\n",
      "GEOS_NOTICE: Ring Self-intersection at or near point 4.8525879999999999 45.672005040000002 0\n",
      "\n",
      "GEOS_NOTICE: Ring Self-intersection at or near point 4.8525879999999999 45.672005040000002 0\n",
      "\n",
      "GEOS_NOTICE: Ring Self-intersection at or near point 4.8523709999999998 45.672052039999997 0\n",
      "\n",
      "GEOS_NOTICE: Ring Self-intersection at or near point 4.8523709999999998 45.672052039999997 0\n",
      "\n",
      "GEOS_NOTICE: Ring Self-intersection at or near point 4.8525460000000002 45.67183404 0\n",
      "\n",
      "GEOS_NOTICE: Ring Self-intersection at or near point 4.8525460000000002 45.67183404 0\n",
      "\n",
      "GEOS_NOTICE: Ring Self-intersection at or near point 4.8522290000000003 45.672322039999997 0\n",
      "\n",
      "GEOS_NOTICE: Ring Self-intersection at or near point 4.8522290000000003 45.672322039999997 0\n",
      "\n",
      "GEOS_NOTICE: Ring Self-intersection at or near point 4.8523779999999999 45.671838039999997 0\n",
      "\n",
      "GEOS_NOTICE: Ring Self-intersection at or near point 4.8523779999999999 45.671838039999997 0\n",
      "\n",
      "GEOS_NOTICE: Ring Self-intersection at or near point 4.8527829999999996 45.67216604 0\n",
      "\n",
      "GEOS_NOTICE: Ring Self-intersection at or near point 4.8527829999999996 45.67216604 0\n",
      "\n",
      "GEOS_NOTICE: Ring Self-intersection at or near point 4.8522210000000001 45.671900039999997 0\n",
      "\n",
      "GEOS_NOTICE: Ring Self-intersection at or near point 4.8522210000000001 45.671900039999997 0\n",
      "\n"
     ]
    },
    {
     "name": "stdout",
     "output_type": "stream",
     "text": [
      "guess_batch - duration: 409.6866497699957 seconds\n",
      "save_work_file - duration: 51.055068106012186 seconds\n",
      "----- new batch\n",
      "Processing 20000 guesses more. Total processed so far : 140000/545451\n",
      "guess_batch - duration: 418.48580514900095 seconds\n",
      "save_work_file - duration: 54.3678684829938 seconds\n",
      "----- new batch\n",
      "Processing 20000 guesses more. Total processed so far : 160000/545451\n",
      "guess_batch - duration: 407.7186455619958 seconds\n",
      "save_work_file - duration: 45.18805193800654 seconds\n",
      "----- new batch\n",
      "Processing 20000 guesses more. Total processed so far : 180000/545451\n",
      "guess_batch - duration: 399.3598718489957 seconds\n",
      "save_work_file - duration: 42.959064645008766 seconds\n",
      "----- new batch\n",
      "Processing 20000 guesses more. Total processed so far : 200000/545451\n"
     ]
    },
    {
     "name": "stderr",
     "output_type": "stream",
     "text": [
      "GEOS_NOTICE: Self-intersection at or near point 5.0054889353233811 45.76574084597015 0\n",
      "\n",
      "GEOS_NOTICE: Self-intersection at or near point 5.0054889353233811 45.76574084597015 0\n",
      "\n"
     ]
    },
    {
     "name": "stdout",
     "output_type": "stream",
     "text": [
      "guess_batch - duration: 403.3514955990104 seconds\n",
      "save_work_file - duration: 52.204795356999966 seconds\n",
      "----- new batch\n",
      "Processing 20000 guesses more. Total processed so far : 220000/545451\n"
     ]
    },
    {
     "name": "stderr",
     "output_type": "stream",
     "text": [
      "GEOS_NOTICE: Ring Self-intersection at or near point 4.7076169999999999 45.77874104 0\n",
      "\n",
      "GEOS_NOTICE: Ring Self-intersection at or near point 4.7076169999999999 45.77874104 0\n",
      "\n"
     ]
    },
    {
     "name": "stdout",
     "output_type": "stream",
     "text": [
      "guess_batch - duration: 513.6614679839986 seconds\n",
      "save_work_file - duration: 44.52201489600702 seconds\n",
      "----- new batch\n",
      "Processing 20000 guesses more. Total processed so far : 240000/545451\n"
     ]
    },
    {
     "name": "stderr",
     "output_type": "stream",
     "text": [
      "GEOS_NOTICE: Self-intersection at or near point 4.9346819999999996 45.779046039999997 0\n",
      "\n",
      "GEOS_NOTICE: Self-intersection at or near point 4.9346819999999996 45.779046039999997 0\n",
      "\n",
      "GEOS_NOTICE: Self-intersection at or near point 4.9346800000000002 45.779046039999997 0\n",
      "\n",
      "GEOS_NOTICE: Self-intersection at or near point 4.9346800000000002 45.779046039999997 0\n",
      "\n"
     ]
    },
    {
     "name": "stdout",
     "output_type": "stream",
     "text": [
      "guess_batch - duration: 402.0590158920095 seconds\n",
      "save_work_file - duration: 45.69689702100004 seconds\n",
      "----- new batch\n",
      "Processing 20000 guesses more. Total processed so far : 260000/545451\n"
     ]
    },
    {
     "name": "stderr",
     "output_type": "stream",
     "text": [
      "GEOS_NOTICE: Ring Self-intersection at or near point 4.964175 45.764466040000002 0\n",
      "\n",
      "GEOS_NOTICE: Ring Self-intersection at or near point 4.964175 45.764466040000002 0\n",
      "\n"
     ]
    },
    {
     "name": "stdout",
     "output_type": "stream",
     "text": [
      "guess_batch - duration: 401.1087745590048 seconds\n",
      "save_work_file - duration: 42.16820027001086 seconds\n",
      "----- new batch\n",
      "Processing 20000 guesses more. Total processed so far : 280000/545451\n"
     ]
    },
    {
     "name": "stderr",
     "output_type": "stream",
     "text": [
      "GEOS_NOTICE: Self-intersection at or near point 4.946012131425233 45.660132034158877 0\n",
      "\n",
      "GEOS_NOTICE: Self-intersection at or near point 4.946012131425233 45.660132034158877 0\n",
      "\n"
     ]
    },
    {
     "name": "stdout",
     "output_type": "stream",
     "text": [
      "guess_batch - duration: 402.0863124309981 seconds\n",
      "save_work_file - duration: 42.8574771440035 seconds\n",
      "----- new batch\n",
      "Processing 20000 guesses more. Total processed so far : 300000/545451\n",
      "guess_batch - duration: 406.5405754359963 seconds\n",
      "save_work_file - duration: 42.865420768997865 seconds\n",
      "----- new batch\n",
      "Processing 20000 guesses more. Total processed so far : 320000/545451\n",
      "guess_batch - duration: 400.5842463079898 seconds\n",
      "save_work_file - duration: 46.14316681100172 seconds\n",
      "----- new batch\n",
      "Processing 20000 guesses more. Total processed so far : 340000/545451\n"
     ]
    },
    {
     "name": "stderr",
     "output_type": "stream",
     "text": [
      "GEOS_NOTICE: Self-intersection at or near point 4.8429172124827913 45.754543469095914 0\n",
      "\n",
      "GEOS_NOTICE: Self-intersection at or near point 4.8429172124827913 45.754543469095914 0\n",
      "\n"
     ]
    },
    {
     "name": "stdout",
     "output_type": "stream",
     "text": [
      "guess_batch - duration: 401.5642085580039 seconds\n",
      "save_work_file - duration: 44.017776145003154 seconds\n",
      "----- new batch\n",
      "Processing 20000 guesses more. Total processed so far : 360000/545451\n"
     ]
    },
    {
     "name": "stderr",
     "output_type": "stream",
     "text": [
      "GEOS_NOTICE: Self-intersection at or near point 4.8322769249061324 45.734225712924491 0\n",
      "\n",
      "GEOS_NOTICE: Self-intersection at or near point 4.8322769249061324 45.734225712924491 0\n",
      "\n",
      "GEOS_NOTICE: Ring Self-intersection at or near point 4.8574109999999999 45.745554040000002 0\n",
      "\n",
      "GEOS_NOTICE: Ring Self-intersection at or near point 4.8574109999999999 45.745554040000002 0\n",
      "\n"
     ]
    },
    {
     "name": "stdout",
     "output_type": "stream",
     "text": [
      "guess_batch - duration: 397.8697212639963 seconds\n",
      "save_work_file - duration: 45.0362747709878 seconds\n",
      "----- new batch\n",
      "Processing 20000 guesses more. Total processed so far : 380000/545451\n"
     ]
    },
    {
     "name": "stderr",
     "output_type": "stream",
     "text": [
      "GEOS_NOTICE: Ring Self-intersection at or near point 4.8425580000000004 45.783395040000002 0\n",
      "\n",
      "GEOS_NOTICE: Ring Self-intersection at or near point 4.8425580000000004 45.783395040000002 0\n",
      "\n",
      "GEOS_NOTICE: Ring Self-intersection at or near point 4.8425580000000004 45.783395040000002 0\n",
      "\n",
      "GEOS_NOTICE: Ring Self-intersection at or near point 4.8425580000000004 45.783395040000002 0\n",
      "\n"
     ]
    },
    {
     "name": "stdout",
     "output_type": "stream",
     "text": [
      "guess_batch - duration: 497.8498243520007 seconds\n",
      "save_work_file - duration: 43.6719741870038 seconds\n",
      "----- new batch\n",
      "Processing 20000 guesses more. Total processed so far : 400000/545451\n"
     ]
    },
    {
     "name": "stderr",
     "output_type": "stream",
     "text": [
      "GEOS_NOTICE: Ring Self-intersection at or near point 4.8268509999999996 45.784599040000003 0\n",
      "\n",
      "GEOS_NOTICE: Ring Self-intersection at or near point 4.8268509999999996 45.784599040000003 0\n",
      "\n",
      "GEOS_NOTICE: Ring Self-intersection at or near point 4.817698 45.796166040000003 0\n",
      "\n",
      "GEOS_NOTICE: Ring Self-intersection at or near point 4.817698 45.796166040000003 0\n",
      "\n",
      "GEOS_NOTICE: Self-intersection at or near point 4.8403681249999968 45.779705289999995 0\n",
      "\n",
      "GEOS_NOTICE: Self-intersection at or near point 4.8403681249999968 45.779705289999995 0\n",
      "\n"
     ]
    },
    {
     "name": "stdout",
     "output_type": "stream",
     "text": [
      "guess_batch - duration: 401.9319090140052 seconds\n",
      "save_work_file - duration: 44.498069270004635 seconds\n",
      "----- new batch\n",
      "Processing 20000 guesses more. Total processed so far : 420000/545451\n"
     ]
    },
    {
     "name": "stderr",
     "output_type": "stream",
     "text": [
      "GEOS_NOTICE: Self-intersection at or near point 4.7871921604087451 45.822421175456277 0\n",
      "\n",
      "GEOS_NOTICE: Self-intersection at or near point 4.7871921604087451 45.822421175456277 0\n",
      "\n"
     ]
    },
    {
     "name": "stdout",
     "output_type": "stream",
     "text": [
      "guess_batch - duration: 402.53300776699325 seconds\n",
      "save_work_file - duration: 46.23875468800543 seconds\n",
      "----- new batch\n",
      "Processing 20000 guesses more. Total processed so far : 440000/545451\n",
      "guess_batch - duration: 401.9897575590003 seconds\n",
      "save_work_file - duration: 45.59992031301954 seconds\n",
      "----- new batch\n",
      "Processing 20000 guesses more. Total processed so far : 460000/545451\n"
     ]
    },
    {
     "name": "stderr",
     "output_type": "stream",
     "text": [
      "GEOS_NOTICE: Self-intersection at or near point 4.739373976331362 45.780114034082843 0\n",
      "\n",
      "GEOS_NOTICE: Self-intersection at or near point 4.739373976331362 45.780114034082843 0\n",
      "\n"
     ]
    },
    {
     "name": "stdout",
     "output_type": "stream",
     "text": [
      "guess_batch - duration: 402.0270030569809 seconds\n",
      "save_work_file - duration: 43.77406606101431 seconds\n",
      "----- new batch\n",
      "Processing 20000 guesses more. Total processed so far : 480000/545451\n"
     ]
    },
    {
     "name": "stderr",
     "output_type": "stream",
     "text": [
      "GEOS_NOTICE: Ring Self-intersection at or near point 4.7558959999999999 45.583443039999999 0\n",
      "\n",
      "GEOS_NOTICE: Ring Self-intersection at or near point 4.7558959999999999 45.583443039999999 0\n",
      "\n",
      "GEOS_NOTICE: Self-intersection at or near point 4.7172040000000086 45.575704039999998 0\n",
      "\n",
      "GEOS_NOTICE: Self-intersection at or near point 4.7172040000000086 45.575704039999998 0\n",
      "\n"
     ]
    },
    {
     "name": "stdout",
     "output_type": "stream",
     "text": [
      "guess_batch - duration: 401.8146158079908 seconds\n",
      "save_work_file - duration: 45.204247271001805 seconds\n",
      "----- new batch\n",
      "Processing 20000 guesses more. Total processed so far : 500000/545451\n",
      "guess_batch - duration: 404.8588743089931 seconds\n",
      "save_work_file - duration: 45.142699727992294 seconds\n",
      "----- new batch\n",
      "Processing 20000 guesses more. Total processed so far : 520000/545451\n"
     ]
    },
    {
     "name": "stderr",
     "output_type": "stream",
     "text": [
      "GEOS_NOTICE: Self-intersection at or near point 4.7730962405319382 45.74657484989752 233.4574880258582\n",
      "\n",
      "GEOS_NOTICE: Self-intersection at or near point 4.7730962405319382 45.74657484989752 233.4574880258582\n",
      "\n"
     ]
    },
    {
     "name": "stdout",
     "output_type": "stream",
     "text": [
      "guess_batch - duration: 398.2127168070001 seconds\n",
      "save_work_file - duration: 44.05243906201213 seconds\n",
      "----- new batch\n",
      "Processing 5451 guesses more. Total processed so far : 540000/545451\n",
      "guess_batch - duration: 107.64201659098035 seconds\n",
      "save_work_file - duration: 45.791931603016565 seconds\n",
      "Worked on 545451 guesses\n",
      "Duration : 12712.634427662997 seconds\n"
     ]
    }
   ],
   "source": [
    "# Launch the guess work with specific handler\n",
    "guesser = Guesser()\n",
    "guesser.handlers = [PartialRoofHandler()]\n",
    "\n",
    "start = time.perf_counter()\n",
    "guesser.guess_work_file(workfile_path)\n",
    "end = time.perf_counter()\n",
    "\n",
    "\n",
    "print(f\"Worked on {len(guesser.guesses)} guesses\")\n",
    "print(f\"Duration : {end - start} seconds\")"
   ]
  },
  {
   "cell_type": "code",
   "execution_count": 6,
   "id": "f2f5111d",
   "metadata": {},
   "outputs": [
    {
     "name": "stdout",
     "output_type": "stream",
     "text": [
      "load_work_file - duration: 159.7990534880082 seconds\n",
      "-- Report --\n",
      "Number of rows: 545451\n",
      "Number of match: 439526 (80.58%)\n",
      "\n",
      "-- match_reasons : absolute --\n",
      "sole_bdg_intersects_roof_enough     412432\n",
      "isolated_bdg_intersects_roof         14720\n",
      "many_bdgs_covered_enough_by_roof     12374\n",
      "Name: match_reason, dtype: int64\n",
      "\n",
      "-- match_reasons : % --\n",
      "sole_bdg_intersects_roof_enough     75.613025\n",
      "isolated_bdg_intersects_roof         2.698684\n",
      "many_bdgs_covered_enough_by_roof     2.268581\n",
      "Name: match_reason, dtype: float64\n"
     ]
    }
   ],
   "source": [
    "# Report\n",
    "\n",
    "guesser = Guesser()\n",
    "guesser.load_work_file(workfile_path)\n",
    "\n",
    "guesser.report()"
   ]
  },
  {
   "cell_type": "code",
   "execution_count": null,
   "id": "e270121a",
   "metadata": {},
   "outputs": [],
   "source": []
  }
 ],
 "metadata": {
  "kernelspec": {
   "display_name": "Django Shell-Plus",
   "language": "python",
   "name": "django_extensions"
  },
  "language_info": {
   "codemirror_mode": {
    "name": "ipython",
    "version": 3
   },
   "file_extension": ".py",
   "mimetype": "text/x-python",
   "name": "python",
   "nbconvert_exporter": "python",
   "pygments_lexer": "ipython3",
   "version": "3.10.14"
  }
 },
 "nbformat": 4,
 "nbformat_minor": 5
}
