{
 "cells": [
  {
   "cell_type": "code",
   "execution_count": 14,
   "id": "53cd60d1",
   "metadata": {
    "ExecuteTime": {
     "end_time": "2024-03-28T13:55:00.590594Z",
     "start_time": "2024-03-28T13:55:00.564499Z"
    }
   },
   "outputs": [],
   "source": [
    "import geopandas as gpd\n",
    "import os\n",
    "import requests\n",
    "import json\n",
    "import time\n",
    "\n",
    "from batid.services.guess_bdg_new import Guesser, PartialRoofHandler\n",
    "\n",
    "\n",
    "source_url = \"https://data.grandlyon.com/geoserver/metropole-de-lyon/ows?SERVICE=WFS&VERSION=2.0.0&request=GetFeature&typename=metropole-de-lyon:fpc_fond_plan_communaut.fpctoit_2018&outputFormat=application/json&SRSNAME=EPSG:4326&sortBy=gid\"\n",
    "source_path = './source/all.json'\n",
    "workfile_path = './guess.json'"
   ]
  },
  {
   "cell_type": "code",
   "execution_count": 5,
   "id": "361bb8d99010b9d9",
   "metadata": {
    "ExecuteTime": {
     "end_time": "2024-03-28T13:55:04.551953Z",
     "start_time": "2024-03-28T13:55:04.395128Z"
    }
   },
   "outputs": [
    {
     "name": "stdout",
     "output_type": "stream",
     "text": [
      "downloading ...\n",
      "downloade finished\n",
      "saving data to local file ...\n",
      "save finished\n"
     ]
    }
   ],
   "source": [
    "# First download if the file is not on the disk\n",
    "if not os.path.exists(source_path):\n",
    "    \n",
    "    print('downloading ...')\n",
    "    resp = requests.get(source_url)\n",
    "    print('downloade finished')\n",
    "    \n",
    "    if resp.status_code == 200:\n",
    "        with open(source_path, \"w\") as f:\n",
    "            print('saving data to local file ...')\n",
    "            json.dump(resp.json(), f)\n",
    "            print(\"save finished\")\n",
    "    \n",
    "    "
   ]
  },
  {
   "cell_type": "code",
   "execution_count": 21,
   "id": "8ed56a123a906e9b",
   "metadata": {},
   "outputs": [],
   "source": [
    "# Convert to guess file\n",
    "with open(source_path, 'r') as f:\n",
    "    \n",
    "    inputs = []\n",
    "    \n",
    "    source = json.load(f)\n",
    "    \n",
    "    c = 0\n",
    "    for row in source['features']:\n",
    "        \n",
    "        inputs.append({\n",
    "            'ext_id': row['id'],\n",
    "            'polygon': row['geometry']\n",
    "        })\n",
    "    \n",
    "guesser = Guesser()\n",
    "guesser.create_work_file(inputs, workfile_path)"
   ]
  },
  {
   "cell_type": "code",
   "execution_count": null,
   "id": "97f5d796",
   "metadata": {},
   "outputs": [],
   "source": [
    "# Launch the guess work with specific handler\n",
    "guesser = Guesser()\n",
    "guesser.handlers = [PartialRoofHandler()]\n",
    "\n",
    "start = time.perf_counter()\n",
    "guesser.guess_work_file(workfile_path)\n",
    "end = time.perf_counter()\n",
    "\n",
    "\n",
    "print(f\"Worked on {len(guesser.guesses)} guesses\")\n",
    "print(f\"Duration : {end - start} seconds\")"
   ]
  },
  {
   "cell_type": "code",
   "execution_count": null,
   "id": "f2f5111d",
   "metadata": {},
   "outputs": [],
   "source": [
    "# Report\n",
    "\n",
    "guesser = Guesser()\n",
    "guesser.load_work_file(workfile_path)\n",
    "\n",
    "guesser.report()"
   ]
  },
  {
   "cell_type": "code",
   "execution_count": null,
   "id": "e270121a",
   "metadata": {},
   "outputs": [],
   "source": []
  }
 ],
 "metadata": {
  "kernelspec": {
   "display_name": "Django Shell-Plus",
   "language": "python",
   "name": "django_extensions"
  },
  "language_info": {
   "codemirror_mode": {
    "name": "ipython",
    "version": 3
   },
   "file_extension": ".py",
   "mimetype": "text/x-python",
   "name": "python",
   "nbconvert_exporter": "python",
   "pygments_lexer": "ipython3",
   "version": "3.10.13"
  }
 },
 "nbformat": 4,
 "nbformat_minor": 5
}
