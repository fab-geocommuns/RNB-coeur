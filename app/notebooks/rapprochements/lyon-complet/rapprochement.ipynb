{
 "cells": [
  {
   "cell_type": "code",
   "execution_count": 1,
   "id": "53cd60d1",
   "metadata": {
    "ExecuteTime": {
     "end_time": "2024-03-28T13:55:00.590594Z",
     "start_time": "2024-03-28T13:55:00.564499Z"
    }
   },
   "outputs": [],
   "source": [
    "import geopandas as gpd\n",
    "import os\n",
    "import requests\n",
    "import json\n",
    "import time\n",
    "\n",
    "from batid.services.guess_bdg_new import Guesser, PartialRoofHandler\n",
    "\n",
    "\n",
    "source_url = \"https://data.grandlyon.com/geoserver/metropole-de-lyon/ows?SERVICE=WFS&VERSION=2.0.0&request=GetFeature&typename=metropole-de-lyon:fpc_fond_plan_communaut.fpctoit_2018&outputFormat=application/json&SRSNAME=EPSG:4326&sortBy=gid\"\n",
    "source_path = './source/all.json'\n",
    "workfile_path = './guess.json'"
   ]
  },
  {
   "cell_type": "code",
   "execution_count": 2,
   "id": "361bb8d99010b9d9",
   "metadata": {
    "ExecuteTime": {
     "end_time": "2024-03-28T13:55:04.551953Z",
     "start_time": "2024-03-28T13:55:04.395128Z"
    }
   },
   "outputs": [],
   "source": [
    "# First download if the file is not on the disk\n",
    "if not os.path.exists(source_path):\n",
    "    \n",
    "    print('downloading ...')\n",
    "    resp = requests.get(source_url)\n",
    "    print('downloade finished')\n",
    "    \n",
    "    if resp.status_code == 200:\n",
    "        with open(source_path, \"w\") as f:\n",
    "            print('saving data to local file ...')\n",
    "            json.dump(resp.json(), f)\n",
    "            print(\"save finished\")\n",
    "    \n",
    "    "
   ]
  },
  {
   "cell_type": "code",
   "execution_count": 3,
   "id": "8ed56a123a906e9b",
   "metadata": {},
   "outputs": [
    {
     "name": "stdout",
     "output_type": "stream",
     "text": [
      "save_work_file - duration: 43.256402353999874 seconds\n",
      "create_work_file - duration: 46.71256423000159 seconds\n"
     ]
    }
   ],
   "source": [
    "# Convert to guess file\n",
    "with open(source_path, 'r') as f:\n",
    "    \n",
    "    inputs = []\n",
    "    \n",
    "    source = json.load(f)\n",
    "    \n",
    "    c = 0\n",
    "    for row in source['features']:\n",
    "        \n",
    "        inputs.append({\n",
    "            'ext_id': row['id'],\n",
    "            'polygon': row['geometry']\n",
    "        })\n",
    "    \n",
    "guesser = Guesser()\n",
    "guesser.create_work_file(inputs, workfile_path)"
   ]
  },
  {
   "cell_type": "code",
   "execution_count": null,
   "id": "97f5d796",
   "metadata": {},
   "outputs": [
    {
     "name": "stdout",
     "output_type": "stream",
     "text": [
      "- loading work file\n",
      "load_work_file - duration: 32.33137863899901 seconds\n",
      "- converting to batches\n",
      "----- new batch\n",
      "Processing 20000 guesses more. Total processed so far : 0/545451\n"
     ]
    },
    {
     "name": "stderr",
     "output_type": "stream",
     "text": [
      "GEOS_NOTICE: Self-intersection at or near point 4.9310221495217723 45.694166818023987 210.10836104132241\n",
      "\n",
      "GEOS_NOTICE: Self-intersection at or near point 4.9310221495217723 45.694166818023987 210.10836104132241\n",
      "\n"
     ]
    },
    {
     "name": "stdout",
     "output_type": "stream",
     "text": [
      "guess_batch - duration: 354.83780745200056 seconds\n",
      "save_work_file - duration: 43.7178621460007 seconds\n",
      "----- new batch\n",
      "Processing 20000 guesses more. Total processed so far : 20000/545451\n"
     ]
    },
    {
     "name": "stderr",
     "output_type": "stream",
     "text": [
      "GEOS_NOTICE: Self-intersection at or near point 4.8379010553359683 45.763998043952569 0\n",
      "\n",
      "GEOS_NOTICE: Self-intersection at or near point 4.8379010553359683 45.763998043952569 0\n",
      "\n"
     ]
    },
    {
     "name": "stdout",
     "output_type": "stream",
     "text": [
      "guess_batch - duration: 368.40109866999774 seconds\n",
      "save_work_file - duration: 43.82139843599725 seconds\n",
      "----- new batch\n",
      "Processing 20000 guesses more. Total processed so far : 40000/545451\n",
      "guess_batch - duration: 369.5754677929981 seconds\n",
      "save_work_file - duration: 43.12204760299937 seconds\n",
      "----- new batch\n",
      "Processing 20000 guesses more. Total processed so far : 60000/545451\n"
     ]
    },
    {
     "name": "stderr",
     "output_type": "stream",
     "text": [
      "GEOS_NOTICE: Self-intersection at or near point 4.8590425627705613 45.882119884155841 0\n",
      "\n",
      "GEOS_NOTICE: Self-intersection at or near point 4.8590425627705613 45.882119884155841 0\n",
      "\n"
     ]
    },
    {
     "name": "stdout",
     "output_type": "stream",
     "text": [
      "guess_batch - duration: 357.9584889959988 seconds\n",
      "save_work_file - duration: 44.11453651899865 seconds\n",
      "----- new batch\n",
      "Processing 20000 guesses more. Total processed so far : 80000/545451\n"
     ]
    },
    {
     "name": "stderr",
     "output_type": "stream",
     "text": [
      "GEOS_NOTICE: Self-intersection at or near point 4.8885248950698568 45.716779956952287 0\n",
      "\n",
      "GEOS_NOTICE: Self-intersection at or near point 4.8885248950698568 45.716779956952287 0\n",
      "\n",
      "GEOS_NOTICE: Self-intersection at or near point 4.8693079189188042 45.748711769729759 0\n",
      "\n",
      "GEOS_NOTICE: Self-intersection at or near point 4.8693079189188042 45.748711769729759 0\n",
      "\n",
      "GEOS_NOTICE: Ring Self-intersection at or near point 4.9042579999999996 45.733945040000002 0\n",
      "\n",
      "GEOS_NOTICE: Ring Self-intersection at or near point 4.9042579999999996 45.733945040000002 0\n",
      "\n"
     ]
    },
    {
     "name": "stdout",
     "output_type": "stream",
     "text": [
      "guess_batch - duration: 351.12076807799895 seconds\n",
      "save_work_file - duration: 43.427835309998045 seconds\n",
      "----- new batch\n",
      "Processing 20000 guesses more. Total processed so far : 100000/545451\n"
     ]
    },
    {
     "name": "stderr",
     "output_type": "stream",
     "text": [
      "GEOS_NOTICE: Ring Self-intersection at or near point 4.9056980000000001 45.753679040000002 0\n",
      "\n",
      "GEOS_NOTICE: Ring Self-intersection at or near point 4.9056980000000001 45.753679040000002 0\n",
      "\n",
      "GEOS_NOTICE: Ring Self-intersection at or near point 4.9156199999999997 45.721877040000003 0\n",
      "\n",
      "GEOS_NOTICE: Ring Self-intersection at or near point 4.9156199999999997 45.721877040000003 0\n",
      "\n"
     ]
    },
    {
     "name": "stdout",
     "output_type": "stream",
     "text": [
      "guess_batch - duration: 357.20143508000183 seconds\n",
      "save_work_file - duration: 43.03099885300253 seconds\n",
      "----- new batch\n",
      "Processing 20000 guesses more. Total processed so far : 120000/545451\n"
     ]
    },
    {
     "name": "stderr",
     "output_type": "stream",
     "text": [
      "GEOS_NOTICE: Ring Self-intersection at or near point 4.8528279999999997 45.671904040000001 0\n",
      "\n",
      "GEOS_NOTICE: Ring Self-intersection at or near point 4.8528279999999997 45.671904040000001 0\n",
      "\n",
      "GEOS_NOTICE: Ring Self-intersection at or near point 4.8522660000000002 45.671009040000001 0\n",
      "\n",
      "GEOS_NOTICE: Ring Self-intersection at or near point 4.8522660000000002 45.671009040000001 0\n",
      "\n",
      "GEOS_NOTICE: Ring Self-intersection at or near point 4.8525879999999999 45.672005040000002 0\n",
      "\n",
      "GEOS_NOTICE: Ring Self-intersection at or near point 4.8525879999999999 45.672005040000002 0\n",
      "\n",
      "GEOS_NOTICE: Ring Self-intersection at or near point 4.8523709999999998 45.672052039999997 0\n",
      "\n",
      "GEOS_NOTICE: Ring Self-intersection at or near point 4.8523709999999998 45.672052039999997 0\n",
      "\n",
      "GEOS_NOTICE: Ring Self-intersection at or near point 4.8525460000000002 45.67183404 0\n",
      "\n",
      "GEOS_NOTICE: Ring Self-intersection at or near point 4.8525460000000002 45.67183404 0\n",
      "\n",
      "GEOS_NOTICE: Ring Self-intersection at or near point 4.8522290000000003 45.672322039999997 0\n",
      "\n",
      "GEOS_NOTICE: Ring Self-intersection at or near point 4.8522290000000003 45.672322039999997 0\n",
      "\n",
      "GEOS_NOTICE: Ring Self-intersection at or near point 4.8523779999999999 45.671838039999997 0\n",
      "\n",
      "GEOS_NOTICE: Ring Self-intersection at or near point 4.8523779999999999 45.671838039999997 0\n",
      "\n",
      "GEOS_NOTICE: Ring Self-intersection at or near point 4.8527829999999996 45.67216604 0\n",
      "\n",
      "GEOS_NOTICE: Ring Self-intersection at or near point 4.8527829999999996 45.67216604 0\n",
      "\n",
      "GEOS_NOTICE: Ring Self-intersection at or near point 4.8522210000000001 45.671900039999997 0\n",
      "\n",
      "GEOS_NOTICE: Ring Self-intersection at or near point 4.8522210000000001 45.671900039999997 0\n",
      "\n"
     ]
    },
    {
     "name": "stdout",
     "output_type": "stream",
     "text": [
      "guess_batch - duration: 372.5793264189997 seconds\n",
      "save_work_file - duration: 43.889114812001935 seconds\n",
      "----- new batch\n",
      "Processing 20000 guesses more. Total processed so far : 140000/545451\n",
      "guess_batch - duration: 349.3317869079983 seconds\n",
      "save_work_file - duration: 43.596371603998705 seconds\n",
      "----- new batch\n",
      "Processing 20000 guesses more. Total processed so far : 160000/545451\n",
      "guess_batch - duration: 354.31501903699973 seconds\n",
      "save_work_file - duration: 44.382518729002186 seconds\n",
      "----- new batch\n",
      "Processing 20000 guesses more. Total processed so far : 180000/545451\n",
      "guess_batch - duration: 354.03033157900063 seconds\n",
      "save_work_file - duration: 44.168059810999694 seconds\n",
      "----- new batch\n",
      "Processing 20000 guesses more. Total processed so far : 200000/545451\n"
     ]
    },
    {
     "name": "stderr",
     "output_type": "stream",
     "text": [
      "GEOS_NOTICE: Self-intersection at or near point 5.0054889353233811 45.76574084597015 0\n",
      "\n",
      "GEOS_NOTICE: Self-intersection at or near point 5.0054889353233811 45.76574084597015 0\n",
      "\n"
     ]
    },
    {
     "name": "stdout",
     "output_type": "stream",
     "text": [
      "guess_batch - duration: 358.1629505810015 seconds\n",
      "save_work_file - duration: 44.057887978997314 seconds\n",
      "----- new batch\n",
      "Processing 20000 guesses more. Total processed so far : 220000/545451\n"
     ]
    },
    {
     "name": "stderr",
     "output_type": "stream",
     "text": [
      "GEOS_NOTICE: Ring Self-intersection at or near point 4.7076169999999999 45.77874104 0\n",
      "\n",
      "GEOS_NOTICE: Ring Self-intersection at or near point 4.7076169999999999 45.77874104 0\n",
      "\n"
     ]
    },
    {
     "name": "stdout",
     "output_type": "stream",
     "text": [
      "guess_batch - duration: 376.6163292129968 seconds\n",
      "save_work_file - duration: 45.45463747999747 seconds\n",
      "----- new batch\n",
      "Processing 20000 guesses more. Total processed so far : 240000/545451\n"
     ]
    },
    {
     "name": "stderr",
     "output_type": "stream",
     "text": [
      "GEOS_NOTICE: Self-intersection at or near point 4.9346819999999996 45.779046039999997 0\n",
      "\n",
      "GEOS_NOTICE: Self-intersection at or near point 4.9346819999999996 45.779046039999997 0\n",
      "\n",
      "GEOS_NOTICE: Self-intersection at or near point 4.9346800000000002 45.779046039999997 0\n",
      "\n",
      "GEOS_NOTICE: Self-intersection at or near point 4.9346800000000002 45.779046039999997 0\n",
      "\n"
     ]
    },
    {
     "name": "stdout",
     "output_type": "stream",
     "text": [
      "guess_batch - duration: 358.3652833720007 seconds\n",
      "save_work_file - duration: 47.3946131470002 seconds\n",
      "----- new batch\n",
      "Processing 20000 guesses more. Total processed so far : 260000/545451\n"
     ]
    },
    {
     "name": "stderr",
     "output_type": "stream",
     "text": [
      "GEOS_NOTICE: Ring Self-intersection at or near point 4.964175 45.764466040000002 0\n",
      "\n",
      "GEOS_NOTICE: Ring Self-intersection at or near point 4.964175 45.764466040000002 0\n",
      "\n"
     ]
    },
    {
     "name": "stdout",
     "output_type": "stream",
     "text": [
      "guess_batch - duration: 361.84012533200075 seconds\n",
      "save_work_file - duration: 49.25605760599865 seconds\n",
      "----- new batch\n",
      "Processing 20000 guesses more. Total processed so far : 280000/545451\n"
     ]
    },
    {
     "name": "stderr",
     "output_type": "stream",
     "text": [
      "GEOS_NOTICE: Self-intersection at or near point 4.946012131425233 45.660132034158877 0\n",
      "\n",
      "GEOS_NOTICE: Self-intersection at or near point 4.946012131425233 45.660132034158877 0\n",
      "\n"
     ]
    },
    {
     "name": "stdout",
     "output_type": "stream",
     "text": [
      "guess_batch - duration: 360.03212274900216 seconds\n",
      "save_work_file - duration: 51.618432355997356 seconds\n",
      "----- new batch\n",
      "Processing 20000 guesses more. Total processed so far : 300000/545451\n",
      "guess_batch - duration: 361.97457737399964 seconds\n",
      "save_work_file - duration: 48.63791289799701 seconds\n",
      "----- new batch\n",
      "Processing 20000 guesses more. Total processed so far : 320000/545451\n",
      "guess_batch - duration: 373.6017839619999 seconds\n",
      "save_work_file - duration: 47.025249522001104 seconds\n",
      "----- new batch\n",
      "Processing 20000 guesses more. Total processed so far : 340000/545451\n"
     ]
    },
    {
     "name": "stderr",
     "output_type": "stream",
     "text": [
      "GEOS_NOTICE: Self-intersection at or near point 4.8429172124827913 45.754543469095914 0\n",
      "\n",
      "GEOS_NOTICE: Self-intersection at or near point 4.8429172124827913 45.754543469095914 0\n",
      "\n"
     ]
    },
    {
     "name": "stdout",
     "output_type": "stream",
     "text": [
      "guess_batch - duration: 357.48987095399934 seconds\n",
      "save_work_file - duration: 46.94734756300022 seconds\n",
      "----- new batch\n",
      "Processing 20000 guesses more. Total processed so far : 360000/545451\n"
     ]
    },
    {
     "name": "stderr",
     "output_type": "stream",
     "text": [
      "GEOS_NOTICE: Self-intersection at or near point 4.8322769249061324 45.734225712924491 0\n",
      "\n",
      "GEOS_NOTICE: Self-intersection at or near point 4.8322769249061324 45.734225712924491 0\n",
      "\n",
      "GEOS_NOTICE: Ring Self-intersection at or near point 4.8574109999999999 45.745554040000002 0\n",
      "\n",
      "GEOS_NOTICE: Ring Self-intersection at or near point 4.8574109999999999 45.745554040000002 0\n",
      "\n"
     ]
    },
    {
     "name": "stdout",
     "output_type": "stream",
     "text": [
      "guess_batch - duration: 358.83932441399884 seconds\n",
      "save_work_file - duration: 47.52925393699843 seconds\n",
      "----- new batch\n",
      "Processing 20000 guesses more. Total processed so far : 380000/545451\n"
     ]
    }
   ],
   "source": [
    "# Launch the guess work with specific handler\n",
    "guesser = Guesser()\n",
    "guesser.handlers = [PartialRoofHandler()]\n",
    "\n",
    "start = time.perf_counter()\n",
    "guesser.guess_work_file(workfile_path)\n",
    "end = time.perf_counter()\n",
    "\n",
    "\n",
    "print(f\"Worked on {len(guesser.guesses)} guesses\")\n",
    "print(f\"Duration : {end - start} seconds\")"
   ]
  },
  {
   "cell_type": "code",
   "execution_count": null,
   "id": "f2f5111d",
   "metadata": {},
   "outputs": [],
   "source": [
    "# Report\n",
    "\n",
    "guesser = Guesser()\n",
    "guesser.load_work_file(workfile_path)\n",
    "\n",
    "guesser.report()"
   ]
  },
  {
   "cell_type": "code",
   "execution_count": null,
   "id": "e270121a",
   "metadata": {},
   "outputs": [],
   "source": []
  }
 ],
 "metadata": {
  "kernelspec": {
   "display_name": "Django Shell-Plus",
   "language": "python",
   "name": "django_extensions"
  },
  "language_info": {
   "codemirror_mode": {
    "name": "ipython",
    "version": 3
   },
   "file_extension": ".py",
   "mimetype": "text/x-python",
   "name": "python",
   "nbconvert_exporter": "python",
   "pygments_lexer": "ipython3",
   "version": "3.10.14"
  }
 },
 "nbformat": 4,
 "nbformat_minor": 5
}
