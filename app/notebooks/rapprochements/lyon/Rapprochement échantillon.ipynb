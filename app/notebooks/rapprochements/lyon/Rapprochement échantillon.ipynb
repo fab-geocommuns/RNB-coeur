{
 "cells": [
  {
   "cell_type": "code",
   "execution_count": 24,
   "id": "30b7cff7",
   "metadata": {},
   "outputs": [],
   "source": [
    "import json\n",
    "import geopandas as gpd\n",
    "from django.contrib.gis.geos import GEOSGeometry\n",
    "from shapely.geometry import mapping\n",
    "\n",
    "f_path = './export_rnb.gpkg'"
   ]
  },
  {
   "cell_type": "code",
   "execution_count": 6,
   "id": "67b54dcd",
   "metadata": {},
   "outputs": [
    {
     "name": "stdout",
     "output_type": "stream",
     "text": [
      "['toit', 'aretes_toit']\n"
     ]
    }
   ],
   "source": [
    "# Get all layers list\n",
    "layers = gpd.io.file.fiona.listlayers(f_path)\n",
    "print(layers)\n"
   ]
  },
  {
   "cell_type": "code",
   "execution_count": 39,
   "id": "d506878b",
   "metadata": {},
   "outputs": [
    {
     "name": "stdout",
     "output_type": "stream",
     "text": [
      "SRID\n",
      "3946\n",
      "Get a sneakpeak of the data\n",
      "   gid  fid     id        parcelle       typetoit  hfacade  ztoitmini  \\\n",
      "0  NaN    1  42119  69259000CA0036  Toit non plan      5.6      217.0   \n",
      "1  NaN    1  37869  69259000CE0104      Toit plan     20.2      231.8   \n",
      "2  NaN    1  37885  69259000BY0082  Toit non plan      4.4      207.7   \n",
      "3  NaN    1  37886  69259000BY0093      Toit plan      2.7      207.3   \n",
      "4  NaN    1  37887  69259000BY0093  Toit non plan      4.4      207.7   \n",
      "\n",
      "   ztoitmaxi  hmax  millesime  _predicate  \\\n",
      "0      219.8   8.4       2018  INTERSECTS   \n",
      "1      231.8  20.2       2018  INTERSECTS   \n",
      "2      209.1   5.8       2018  INTERSECTS   \n",
      "3      207.3   2.7       2018  INTERSECTS   \n",
      "4      209.1   5.8       2018  INTERSECTS   \n",
      "\n",
      "                                            geometry  \n",
      "0  POLYGON ((1844725.515 5168325.123, 1844724.025...  \n",
      "1  POLYGON ((1845761.464 5167720.974, 1845759.953...  \n",
      "2  POLYGON ((1845879.239 5168615.414, 1845879.364...  \n",
      "3  POLYGON ((1845882.089 5168610.394, 1845884.432...  \n",
      "4  POLYGON ((1845887.997 5168602.088, 1845888.030...  \n",
      "Rows count\n",
      "9862\n"
     ]
    }
   ],
   "source": [
    "gdf = gpd.read_file(f_path, layer=\"toit\")\n",
    "\n",
    "print('SRID')\n",
    "srid = gdf.crs.to_epsg()\n",
    "print(srid)\n",
    "\n",
    "print(\"Get a sneakpeak of the data\")\n",
    "print(gdf.head())\n",
    "\n",
    "print(\"Rows count\")\n",
    "print(len(gdf))\n",
    "\n"
   ]
  },
  {
   "cell_type": "code",
   "execution_count": 40,
   "id": "779d25c9",
   "metadata": {},
   "outputs": [],
   "source": [
    "# Define function to transform geopackage rows into guess work file inputs\n",
    "def to_inputs(row):\n",
    "    \n",
    "    geom_geojson = mapping(row[\"geometry\"])\n",
    "    geom = GEOSGeometry(json.dumps(geom_geojson))\n",
    "    geom.srid = srid\n",
    "    geom.transform(4326)\n",
    "    \n",
    "    \n",
    "    \n",
    "    \n",
    "    return {\n",
    "        'ext_id': row[\"id\"],\n",
    "        'polygon': geom.json\n",
    "    }"
   ]
  },
  {
   "cell_type": "code",
   "execution_count": 41,
   "id": "a03feb34",
   "metadata": {},
   "outputs": [
    {
     "name": "stdout",
     "output_type": "stream",
     "text": [
      "Sneak peak of row to inputs transformation\n",
      "[{'ext_id': 42119, 'polygon': '{ \"type\": \"Polygon\", \"coordinates\": [ [ [ 4.858588636054994, 45.699804623187475 ], [ 4.8585692463174, 45.699796842705517 ], [ 4.858548765629505, 45.699803664169458 ], [ 4.858588636054994, 45.699804623187475 ] ] ] }'}, {'ext_id': 37869, 'polygon': '{ \"type\": \"Polygon\", \"coordinates\": [ [ [ 4.871705289737563, 45.69415180077258 ], [ 4.871685345266418, 45.694135788240963 ], [ 4.871671403680955, 45.694144703213041 ], [ 4.87169181843724, 45.694160722401506 ], [ 4.871705289737563, 45.69415180077258 ] ] ] }'}, {'ext_id': 37885, 'polygon': '{ \"type\": \"Polygon\", \"coordinates\": [ [ [ 4.873487184628251, 45.702172719054019 ], [ 4.873484741363241, 45.702052092520738 ], [ 4.873447644632615, 45.702026493215101 ], [ 4.87345061271473, 45.702173082510143 ], [ 4.873487184628251, 45.702172719054019 ] ] ] }'}, {'ext_id': 37886, 'polygon': '{ \"type\": \"Polygon\", \"coordinates\": [ [ [ 4.873522251387816, 45.702126954725138 ], [ 4.873552334820199, 45.702126655907449 ], [ 4.873551738084084, 45.702097177893279 ], [ 4.873484741363241, 45.702052092520738 ], [ 4.873487184628251, 45.702172719054019 ], [ 4.873523171008149, 45.702172361638404 ], [ 4.873522251387816, 45.702126954725138 ] ] ] }'}, {'ext_id': 37887, 'polygon': '{ \"type\": \"Polygon\", \"coordinates\": [ [ [ 4.873595586846107, 45.702050990656005 ], [ 4.873594944148701, 45.70201922640986 ], [ 4.873447526915235, 45.702020691729125 ], [ 4.873447644632615, 45.702026493215101 ], [ 4.873484741363241, 45.702052092520738 ], [ 4.873595586846107, 45.702050990656005 ] ] ] }'}]\n"
     ]
    }
   ],
   "source": [
    "inputs = []\n",
    "\n",
    "for idx, row in gdf.iterrows():\n",
    "    inputs.append(to_inputs(row))\n",
    "\n",
    "print('Sneak peak of row to inputs transformation')\n",
    "print(inputs[:5])\n"
   ]
  },
  {
   "cell_type": "code",
   "execution_count": null,
   "id": "8e14dae6",
   "metadata": {},
   "outputs": [],
   "source": []
  }
 ],
 "metadata": {
  "kernelspec": {
   "display_name": "Django Shell-Plus",
   "language": "python",
   "name": "django_extensions"
  },
  "language_info": {
   "codemirror_mode": {
    "name": "ipython",
    "version": 3
   },
   "file_extension": ".py",
   "mimetype": "text/x-python",
   "name": "python",
   "nbconvert_exporter": "python",
   "pygments_lexer": "ipython3",
   "version": "3.10.13"
  }
 },
 "nbformat": 4,
 "nbformat_minor": 5
}
