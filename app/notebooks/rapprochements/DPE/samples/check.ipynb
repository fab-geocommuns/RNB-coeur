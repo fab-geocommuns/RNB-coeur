{
 "cells": [
  {
   "cell_type": "code",
   "execution_count": 1,
   "metadata": {},
   "outputs": [],
   "source": [
    "import pandas as pd"
   ]
  },
  {
   "cell_type": "code",
   "execution_count": 3,
   "metadata": {},
   "outputs": [],
   "source": [
    "df_existants = pd.read_csv('/app/notebooks/rapprochements/DPE/dpe-v2-logements-existants.csv', sep=',', usecols=['N°DPE', 'Date_réception_DPE', 'Identifiant__BAN', 'Score_BAN', 'Statut_géocodage'])\n",
    "df_existants_sample = df_existants.sample(30)\n",
    "df_existants_sample.to_csv('/app/notebooks/rapprochements/DPE/samples/DPE_existants_sample.csv', index=False)"
   ]
  },
  {
   "cell_type": "code",
   "execution_count": 4,
   "metadata": {},
   "outputs": [],
   "source": [
    "df_existants_sample = pd.read_csv('/app/notebooks/rapprochements/DPE/samples/DPE_existants_sample.csv', sep=',')\n",
    "df_results = pd.read_csv('/app/notebooks/rapprochements/DPE/final_results/dpe-v2-logements-existants-rapprochement-final-results.csv', sep=',')\n",
    "df_existants_sample_results = pd.merge(df_existants_sample, df_results, on='N°DPE', how='left')\n",
    "df_existants_sample_results.to_csv('/app/notebooks/rapprochements/DPE/samples/DPE_existants_sample.csv', index=False)"
   ]
  },
  {
   "cell_type": "code",
   "execution_count": 12,
   "metadata": {},
   "outputs": [],
   "source": [
    "df_tertiaires = pd.read_csv('/app/notebooks/rapprochements/DPE/dpe-v2-tertiaire-2.csv', sep=',', usecols=['N°DPE', 'Date_réception_DPE', 'Identifiant__BAN', 'Score_BAN', 'Statut_géocodage'])\n",
    "df_tertiaires_sample = df_tertiaires.sample(10)\n",
    "\n",
    "df_results = pd.read_csv('/app/notebooks/rapprochements/DPE/final_results/dpe-v2-tertiaire-2-rapprochement-final-results.csv', sep=',')\n",
    "df_tertiaires_sample_results = pd.merge(df_tertiaires_sample, df_results, on='N°DPE', how='left')\n",
    "df_tertiaires_sample_results.to_csv('/app/notebooks/rapprochements/DPE/samples/DPE_tertiaires_sample.csv', index=False)"
   ]
  },
  {
   "cell_type": "code",
   "execution_count": 11,
   "metadata": {},
   "outputs": [],
   "source": [
    "df_neufs = pd.read_csv('notebooks/rapprochements/DPE/dpe-v2-logements-neufs.csv', sep=',', usecols=['N°DPE', 'Date_réception_DPE', 'Identifiant__BAN', 'Score_BAN', 'Statut_géocodage'])\n",
    "df_neufs_sample = df_neufs.sample(10)\n",
    "\n",
    "df_results = pd.read_csv('/app/notebooks/rapprochements/DPE/final_results/dpe-v2-logements-neufs-rapprochement-final-results.csv', sep=',')\n",
    "df_neufs_sample_results = pd.merge(df_neufs_sample, df_results, on='N°DPE', how='left')\n",
    "df_neufs_sample_results.to_csv('/app/notebooks/rapprochements/DPE/samples/DPE_neufs_sample.csv', index=False)"
   ]
  },
  {
   "cell_type": "code",
   "execution_count": null,
   "metadata": {},
   "outputs": [],
   "source": []
  },
  {
   "cell_type": "code",
   "execution_count": null,
   "metadata": {},
   "outputs": [],
   "source": []
  }
 ],
 "metadata": {
  "kernelspec": {
   "display_name": "Django Shell-Plus",
   "language": "python",
   "name": "django_extensions"
  },
  "language_info": {
   "codemirror_mode": {
    "name": "ipython",
    "version": 3
   },
   "file_extension": ".py",
   "mimetype": "text/x-python",
   "name": "python",
   "nbconvert_exporter": "python",
   "pygments_lexer": "ipython3",
   "version": "3.10.14"
  }
 },
 "nbformat": 4,
 "nbformat_minor": 2
}
