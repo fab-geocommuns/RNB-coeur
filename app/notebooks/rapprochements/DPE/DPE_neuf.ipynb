{
 "cells": [
  {
   "cell_type": "markdown",
   "metadata": {},
   "source": [
    "# Tertiaire"
   ]
  },
  {
   "cell_type": "code",
   "execution_count": 1,
   "metadata": {},
   "outputs": [],
   "source": [
    "import pandas as pd\n",
    "\n",
    "pd.set_option('display.max_columns', None)\n",
    "pd.set_option('display.max_rows', None)"
   ]
  },
  {
   "cell_type": "code",
   "execution_count": 5,
   "metadata": {},
   "outputs": [],
   "source": [
    "df_tertiaire = pd.read_csv('notebooks/rapprochements/DPE/dpe-v2-tertiaire-2.csv', sep=',', usecols=['N°DPE', 'Identifiant__BAN', 'Code_postal_(BAN)', 'Code_postal_(brut)'])\n",
    "df_tertiaire['file'] = 'tertiaire'\n",
    "\n",
    "# df_neuf = pd.read_csv('notebooks/rapprochements/DPE/.csv', sep=',', usecols=['N°DPE', 'Identifiant__BAN', 'Code_postal_(BAN)', 'Code_postal_(brut)'])\n",
    "# df_neuf['file'] = 'logement-neufs'\n",
    "\n",
    "\n",
    "# df_tertiaire.head()\n",
    "\n",
    "df = pd.concat([df_tertiaire])"
   ]
  },
  {
   "cell_type": "code",
   "execution_count": 6,
   "metadata": {},
   "outputs": [
    {
     "data": {
      "text/plain": [
       "(323878, 5)"
      ]
     },
     "execution_count": 6,
     "metadata": {},
     "output_type": "execute_result"
    }
   ],
   "source": [
    "df.shape"
   ]
  },
  {
   "cell_type": "code",
   "execution_count": 7,
   "metadata": {},
   "outputs": [
    {
     "data": {
      "text/html": [
       "<div>\n",
       "<style scoped>\n",
       "    .dataframe tbody tr th:only-of-type {\n",
       "        vertical-align: middle;\n",
       "    }\n",
       "\n",
       "    .dataframe tbody tr th {\n",
       "        vertical-align: top;\n",
       "    }\n",
       "\n",
       "    .dataframe thead th {\n",
       "        text-align: right;\n",
       "    }\n",
       "</style>\n",
       "<table border=\"1\" class=\"dataframe\">\n",
       "  <thead>\n",
       "    <tr style=\"text-align: right;\">\n",
       "      <th></th>\n",
       "      <th>N°DPE</th>\n",
       "      <th>Identifiant__BAN</th>\n",
       "      <th>Code_postal_(BAN)</th>\n",
       "      <th>Code_postal_(brut)</th>\n",
       "      <th>file</th>\n",
       "    </tr>\n",
       "  </thead>\n",
       "  <tbody>\n",
       "    <tr>\n",
       "      <th>0</th>\n",
       "      <td>2363T1680837R</td>\n",
       "      <td>63124_0035_00024_ter</td>\n",
       "      <td>63800.0</td>\n",
       "      <td>63800</td>\n",
       "      <td>tertiaire</td>\n",
       "    </tr>\n",
       "    <tr>\n",
       "      <th>1</th>\n",
       "      <td>2269T2615953W</td>\n",
       "      <td>69228_0086_00707</td>\n",
       "      <td>69440.0</td>\n",
       "      <td>69440</td>\n",
       "      <td>tertiaire</td>\n",
       "    </tr>\n",
       "    <tr>\n",
       "      <th>2</th>\n",
       "      <td>2357T4209637Z</td>\n",
       "      <td>57540_0300_00004</td>\n",
       "      <td>57370.0</td>\n",
       "      <td>57370</td>\n",
       "      <td>tertiaire</td>\n",
       "    </tr>\n",
       "    <tr>\n",
       "      <th>3</th>\n",
       "      <td>2360T0127880L</td>\n",
       "      <td>60073_0075_00007</td>\n",
       "      <td>60650.0</td>\n",
       "      <td>60650</td>\n",
       "      <td>tertiaire</td>\n",
       "    </tr>\n",
       "    <tr>\n",
       "      <th>4</th>\n",
       "      <td>2271T0492563C</td>\n",
       "      <td>71309_0070_00014</td>\n",
       "      <td>71710.0</td>\n",
       "      <td>71710</td>\n",
       "      <td>tertiaire</td>\n",
       "    </tr>\n",
       "  </tbody>\n",
       "</table>\n",
       "</div>"
      ],
      "text/plain": [
       "           N°DPE      Identifiant__BAN  Code_postal_(BAN)  Code_postal_(brut)  \\\n",
       "0  2363T1680837R  63124_0035_00024_ter            63800.0               63800   \n",
       "1  2269T2615953W      69228_0086_00707            69440.0               69440   \n",
       "2  2357T4209637Z      57540_0300_00004            57370.0               57370   \n",
       "3  2360T0127880L      60073_0075_00007            60650.0               60650   \n",
       "4  2271T0492563C      71309_0070_00014            71710.0               71710   \n",
       "\n",
       "        file  \n",
       "0  tertiaire  \n",
       "1  tertiaire  \n",
       "2  tertiaire  \n",
       "3  tertiaire  \n",
       "4  tertiaire  "
      ]
     },
     "execution_count": 7,
     "metadata": {},
     "output_type": "execute_result"
    }
   ],
   "source": [
    "df.head()"
   ]
  },
  {
   "cell_type": "markdown",
   "metadata": {},
   "source": []
  },
  {
   "cell_type": "code",
   "execution_count": 11,
   "metadata": {},
   "outputs": [
    {
     "data": {
      "text/plain": [
       "np.int64(838)"
      ]
     },
     "execution_count": 11,
     "metadata": {},
     "output_type": "execute_result"
    }
   ],
   "source": [
    "# nombres de lignes qui n'ont pas d'identifiant BAN\n",
    "df['Identifiant__BAN'].isnull().sum()"
   ]
  },
  {
   "cell_type": "code",
   "execution_count": 7,
   "metadata": {},
   "outputs": [],
   "source": [
    "from batid.models import Building\n",
    "import os\n",
    "os.environ[\"DJANGO_ALLOW_ASYNC_UNSAFE\"] = \"true\"\n",
    "\n",
    "def get_buildings_from_ban_id(ban_id):\n",
    "    buildings = Building.objects.filter(addresses_read_only__id=ban_id).values('rnb_id')\n",
    "    return [b['rnb_id'] for b in buildings]"
   ]
  },
  {
   "cell_type": "code",
   "execution_count": 8,
   "metadata": {},
   "outputs": [],
   "source": [
    "# df_sample = df_select.sample(10)\n",
    "\n",
    "df_rapprochement = df_select.copy()\n",
    "df_rapprochement['rnb_id_from_ban_id'] = df_rapprochement['Identifiant__BAN'].apply(get_buildings_from_ban_id)"
   ]
  },
  {
   "cell_type": "code",
   "execution_count": 9,
   "metadata": {},
   "outputs": [],
   "source": [
    "df_rapprochement.to_csv('notebooks/rapprochements/DPE/dpe-v2-logements-neufs-rapprochement.csv', index=False)"
   ]
  },
  {
   "cell_type": "code",
   "execution_count": 15,
   "metadata": {},
   "outputs": [
    {
     "data": {
      "text/html": [
       "<div>\n",
       "<style scoped>\n",
       "    .dataframe tbody tr th:only-of-type {\n",
       "        vertical-align: middle;\n",
       "    }\n",
       "\n",
       "    .dataframe tbody tr th {\n",
       "        vertical-align: top;\n",
       "    }\n",
       "\n",
       "    .dataframe thead th {\n",
       "        text-align: right;\n",
       "    }\n",
       "</style>\n",
       "<table border=\"1\" class=\"dataframe\">\n",
       "  <thead>\n",
       "    <tr style=\"text-align: right;\">\n",
       "      <th></th>\n",
       "      <th>N°DPE</th>\n",
       "      <th>Date_réception_DPE</th>\n",
       "      <th>Identifiant__BAN</th>\n",
       "      <th>Score_BAN</th>\n",
       "      <th>Statut_géocodage</th>\n",
       "      <th>rnb_id_from_ban_id</th>\n",
       "    </tr>\n",
       "  </thead>\n",
       "  <tbody>\n",
       "    <tr>\n",
       "      <th>0</th>\n",
       "      <td>2133N0419762I</td>\n",
       "      <td>2021-09-30</td>\n",
       "      <td>33200_0754_00042</td>\n",
       "      <td>0.80</td>\n",
       "      <td>adresse non géocodée ban car aucune correspond...</td>\n",
       "      <td>['MS83BSGXRQRS', 'C6H83GRM1VNZ', 'C8BCT1PJ22FE']</td>\n",
       "    </tr>\n",
       "    <tr>\n",
       "      <th>1</th>\n",
       "      <td>2262N1677399D</td>\n",
       "      <td>2022-07-22</td>\n",
       "      <td>62360_0125</td>\n",
       "      <td>0.72</td>\n",
       "      <td>adresse non géocodée ban car aucune correspond...</td>\n",
       "      <td>[]</td>\n",
       "    </tr>\n",
       "    <tr>\n",
       "      <th>2</th>\n",
       "      <td>2333N0960129T</td>\n",
       "      <td>2023-03-22</td>\n",
       "      <td>33077_0018</td>\n",
       "      <td>0.37</td>\n",
       "      <td>adresse géocodée ban à l'adresse</td>\n",
       "      <td>[]</td>\n",
       "    </tr>\n",
       "    <tr>\n",
       "      <th>3</th>\n",
       "      <td>2428N1607113P</td>\n",
       "      <td>2024-05-03</td>\n",
       "      <td>28137_0047</td>\n",
       "      <td>0.40</td>\n",
       "      <td>adresse géocodée ban à l'adresse</td>\n",
       "      <td>[]</td>\n",
       "    </tr>\n",
       "    <tr>\n",
       "      <th>4</th>\n",
       "      <td>2317N4122363N</td>\n",
       "      <td>2023-12-01</td>\n",
       "      <td>17306_0076</td>\n",
       "      <td>0.71</td>\n",
       "      <td>adresse non géocodée ban car aucune correspond...</td>\n",
       "      <td>[]</td>\n",
       "    </tr>\n",
       "  </tbody>\n",
       "</table>\n",
       "</div>"
      ],
      "text/plain": [
       "           N°DPE Date_réception_DPE  Identifiant__BAN  Score_BAN  \\\n",
       "0  2133N0419762I         2021-09-30  33200_0754_00042       0.80   \n",
       "1  2262N1677399D         2022-07-22        62360_0125       0.72   \n",
       "2  2333N0960129T         2023-03-22        33077_0018       0.37   \n",
       "3  2428N1607113P         2024-05-03        28137_0047       0.40   \n",
       "4  2317N4122363N         2023-12-01        17306_0076       0.71   \n",
       "\n",
       "                                    Statut_géocodage  \\\n",
       "0  adresse non géocodée ban car aucune correspond...   \n",
       "1  adresse non géocodée ban car aucune correspond...   \n",
       "2                   adresse géocodée ban à l'adresse   \n",
       "3                   adresse géocodée ban à l'adresse   \n",
       "4  adresse non géocodée ban car aucune correspond...   \n",
       "\n",
       "                                 rnb_id_from_ban_id  \n",
       "0  ['MS83BSGXRQRS', 'C6H83GRM1VNZ', 'C8BCT1PJ22FE']  \n",
       "1                                                []  \n",
       "2                                                []  \n",
       "3                                                []  \n",
       "4                                                []  "
      ]
     },
     "execution_count": 15,
     "metadata": {},
     "output_type": "execute_result"
    }
   ],
   "source": [
    "# load the result data from file\n",
    "df_results = pd.read_csv('notebooks/rapprochements/DPE/dpe-v2-logements-neufs-rapprochement.csv', sep=',')\n",
    "df_results.head()"
   ]
  },
  {
   "cell_type": "code",
   "execution_count": 16,
   "metadata": {},
   "outputs": [],
   "source": [
    "# split the df dataframe into 100 sub data frames\n",
    "from concurrent.futures import ThreadPoolExecutor\n",
    "\n",
    "dfs = [df_results.iloc[i*df_results.shape[0]//100:(i+1) * df_results.shape[0]//100] for i in range(100)]\n",
    "\n",
    "# create a function to remove small surfaces\n",
    "def remove_small_surfaces(rnb_ids):\n",
    "    results = []\n",
    "    for rnb_id in rnb_ids:\n",
    "        raw_sql = f\"SELECT id, ST_AREA(shape::geography) FROM batid_building WHERE rnb_id = '{rnb_id}'\"\n",
    "        total_surface = Building.objects.raw(raw_sql)[0].st_area\n",
    "        if total_surface > 25:\n",
    "            results.append(rnb_id)\n",
    "    return results\n",
    "\n",
    "# multi thread apply the function to the dataframes and concatenate the results\n",
    "def rnb_id_filtered(df):\n",
    "    df_copy = df.copy()\n",
    "    df_copy['rnb_id_filtered'] = df['rnb_id_from_ban_id'].apply(eval).apply(remove_small_surfaces)\n",
    "    return df_copy\n",
    "\n",
    "with ThreadPoolExecutor(max_workers=10) as executor:\n",
    "    results = executor.map(rnb_id_filtered, dfs)\n",
    "    df_filtered = pd.concat(results)\n",
    "    df_filtered.to_csv('notebooks/rapprochements/DPE/dpe-v2-logements-neufs-rapprochement-filtered.csv', index=False)"
   ]
  },
  {
   "cell_type": "code",
   "execution_count": 17,
   "metadata": {},
   "outputs": [],
   "source": [
    "df_results_filtered = pd.read_csv('notebooks/rapprochements/DPE/dpe-v2-logements-neufs-rapprochement-filtered.csv', sep=',')"
   ]
  },
  {
   "cell_type": "markdown",
   "metadata": {},
   "source": [
    "Pourcentage de match 1-1 avant filtre des petites surfaces"
   ]
  },
  {
   "cell_type": "code",
   "execution_count": 18,
   "metadata": {},
   "outputs": [
    {
     "data": {
      "text/plain": [
       "25.76109659941749"
      ]
     },
     "execution_count": 18,
     "metadata": {},
     "output_type": "execute_result"
    }
   ],
   "source": [
    "df_results_filtered['rnb_id_from_ban_id'].apply(eval).apply(len).value_counts()[1] / df_results.shape[0] * 100"
   ]
  },
  {
   "cell_type": "markdown",
   "metadata": {},
   "source": [
    "Pourcentage de match 1-1 APRES filtre des petites surfaces"
   ]
  },
  {
   "cell_type": "code",
   "execution_count": 19,
   "metadata": {},
   "outputs": [
    {
     "data": {
      "text/plain": [
       "26.11196188943866"
      ]
     },
     "execution_count": 19,
     "metadata": {},
     "output_type": "execute_result"
    }
   ],
   "source": [
    "df_results_filtered['rnb_id_filtered'].apply(eval).apply(len).value_counts()[1] / df_results.shape[0] * 100"
   ]
  },
  {
   "cell_type": "markdown",
   "metadata": {},
   "source": [
    "Ecriture de rapprochement fichier final pour envoi "
   ]
  },
  {
   "cell_type": "code",
   "execution_count": 21,
   "metadata": {},
   "outputs": [],
   "source": [
    "df_results_filtered[['N°DPE', 'Date_réception_DPE', 'rnb_id_filtered']].to_csv('notebooks/rapprochements/DPE/dpe-v2-logements-neufs-rapprochement-final-results.csv', index=False, sep=',')"
   ]
  }
 ],
 "metadata": {
  "kernelspec": {
   "display_name": "Django Shell-Plus",
   "language": "python",
   "name": "django_extensions"
  },
  "language_info": {
   "codemirror_mode": {
    "name": "ipython",
    "version": 3
   },
   "file_extension": ".py",
   "mimetype": "text/x-python",
   "name": "python",
   "nbconvert_exporter": "python",
   "pygments_lexer": "ipython3",
   "version": "3.12.4"
  }
 },
 "nbformat": 4,
 "nbformat_minor": 2
}
