{
 "cells": [
  {
   "cell_type": "markdown",
   "metadata": {},
   "source": [
    "# Tertiaire"
   ]
  },
  {
   "cell_type": "code",
   "execution_count": 2,
   "metadata": {},
   "outputs": [],
   "source": [
    "import pandas as pd\n",
    "\n",
    "pd.set_option('display.max_columns', None)\n",
    "pd.set_option('display.max_rows', None)"
   ]
  },
  {
   "cell_type": "code",
   "execution_count": 2,
   "metadata": {},
   "outputs": [],
   "source": [
    "usecols = ['N°DPE', 'Identifiant__BAN', 'Code_postal_(BAN)', 'Code_postal_(brut)']\n",
    "\n",
    "df_tertiaire = pd.read_csv('notebooks/rapprochements/DPE/data_oct_2024/dpe-v2-tertiaire-2.csv', sep=',', usecols=usecols)\n",
    "df_tertiaire['file'] = 'tertiaire'\n",
    "\n",
    "df_neuf = pd.read_csv('notebooks/rapprochements/DPE/data_oct_2024/dpe-v2-logements-neufs.csv', sep=',', usecols=usecols)\n",
    "df_neuf['file'] = 'logement-neuf'\n",
    "\n",
    "df_existant = pd.read_csv('notebooks/rapprochements/DPE/data_oct_2024/dpe-v2-logements-existants.csv', sep=',', usecols=usecols)\n",
    "df_existant['file'] = 'logement-existant'\n",
    "\n",
    "df = pd.concat([df_tertiaire, df_neuf, df_existant])"
   ]
  },
  {
   "cell_type": "code",
   "execution_count": 3,
   "metadata": {},
   "outputs": [
    {
     "data": {
      "text/plain": [
       "(10701835, 5)"
      ]
     },
     "execution_count": 3,
     "metadata": {},
     "output_type": "execute_result"
    }
   ],
   "source": [
    "df.shape"
   ]
  },
  {
   "cell_type": "code",
   "execution_count": 4,
   "metadata": {},
   "outputs": [
    {
     "data": {
      "text/html": [
       "<div>\n",
       "<style scoped>\n",
       "    .dataframe tbody tr th:only-of-type {\n",
       "        vertical-align: middle;\n",
       "    }\n",
       "\n",
       "    .dataframe tbody tr th {\n",
       "        vertical-align: top;\n",
       "    }\n",
       "\n",
       "    .dataframe thead th {\n",
       "        text-align: right;\n",
       "    }\n",
       "</style>\n",
       "<table border=\"1\" class=\"dataframe\">\n",
       "  <thead>\n",
       "    <tr style=\"text-align: right;\">\n",
       "      <th></th>\n",
       "      <th>N°DPE</th>\n",
       "      <th>Identifiant__BAN</th>\n",
       "      <th>Code_postal_(BAN)</th>\n",
       "      <th>Code_postal_(brut)</th>\n",
       "      <th>file</th>\n",
       "    </tr>\n",
       "  </thead>\n",
       "  <tbody>\n",
       "    <tr>\n",
       "      <th>0</th>\n",
       "      <td>2363T1680837R</td>\n",
       "      <td>63124_0035_00024_ter</td>\n",
       "      <td>63800.0</td>\n",
       "      <td>63800</td>\n",
       "      <td>tertiaire</td>\n",
       "    </tr>\n",
       "    <tr>\n",
       "      <th>1</th>\n",
       "      <td>2269T2615953W</td>\n",
       "      <td>69228_0086_00707</td>\n",
       "      <td>69440.0</td>\n",
       "      <td>69440</td>\n",
       "      <td>tertiaire</td>\n",
       "    </tr>\n",
       "    <tr>\n",
       "      <th>2</th>\n",
       "      <td>2357T4209637Z</td>\n",
       "      <td>57540_0300_00004</td>\n",
       "      <td>57370.0</td>\n",
       "      <td>57370</td>\n",
       "      <td>tertiaire</td>\n",
       "    </tr>\n",
       "    <tr>\n",
       "      <th>3</th>\n",
       "      <td>2360T0127880L</td>\n",
       "      <td>60073_0075_00007</td>\n",
       "      <td>60650.0</td>\n",
       "      <td>60650</td>\n",
       "      <td>tertiaire</td>\n",
       "    </tr>\n",
       "    <tr>\n",
       "      <th>4</th>\n",
       "      <td>2271T0492563C</td>\n",
       "      <td>71309_0070_00014</td>\n",
       "      <td>71710.0</td>\n",
       "      <td>71710</td>\n",
       "      <td>tertiaire</td>\n",
       "    </tr>\n",
       "  </tbody>\n",
       "</table>\n",
       "</div>"
      ],
      "text/plain": [
       "           N°DPE      Identifiant__BAN  Code_postal_(BAN)  Code_postal_(brut)  \\\n",
       "0  2363T1680837R  63124_0035_00024_ter            63800.0               63800   \n",
       "1  2269T2615953W      69228_0086_00707            69440.0               69440   \n",
       "2  2357T4209637Z      57540_0300_00004            57370.0               57370   \n",
       "3  2360T0127880L      60073_0075_00007            60650.0               60650   \n",
       "4  2271T0492563C      71309_0070_00014            71710.0               71710   \n",
       "\n",
       "        file  \n",
       "0  tertiaire  \n",
       "1  tertiaire  \n",
       "2  tertiaire  \n",
       "3  tertiaire  \n",
       "4  tertiaire  "
      ]
     },
     "execution_count": 4,
     "metadata": {},
     "output_type": "execute_result"
    }
   ],
   "source": [
    "df.head()"
   ]
  },
  {
   "cell_type": "markdown",
   "metadata": {},
   "source": []
  },
  {
   "cell_type": "code",
   "execution_count": 5,
   "metadata": {},
   "outputs": [],
   "source": [
    "# create 100 subfiles in the dpe_existant folder, using the number of rows in the dataframe\n",
    "for i in range(0, 100):\n",
    "    df.iloc[i*df.shape[0]//100:(i+1)*df.shape[0]//100].to_csv(f'notebooks/rapprochements/DPE/sub_files/dpe-{i}.csv', index=False)"
   ]
  },
  {
   "cell_type": "code",
   "execution_count": null,
   "metadata": {},
   "outputs": [],
   "source": [
    "import os\n",
    "os.environ[\"DJANGO_ALLOW_ASYNC_UNSAFE\"] = \"true\"\n",
    "from django.db import connection\n",
    "from concurrent.futures import ThreadPoolExecutor\n",
    "import numpy as np\n",
    "\n",
    "def get_rnb_id(row):\n",
    "    cursor = connection.cursor()\n",
    "\n",
    "    if row['Code_postal_(BAN)'] != row['Code_postal_(brut)']:\n",
    "        return []\n",
    "    \n",
    "    ban_id = row['Identifiant__BAN']\n",
    "\n",
    "    sql = f\"\"\"\n",
    "            with rnb_ids as (\n",
    "            select\n",
    "                rnb_id\n",
    "            from\n",
    "                batid_buildingaddressesreadonly bb\n",
    "            left join batid_building bb2 on\n",
    "                bb2.id = bb.building_id\n",
    "            where\n",
    "                address_id = '{ban_id}'\n",
    "                and ST_AREA(shape::geography) > 25)\n",
    "            select\n",
    "                array_agg(rnb_id)\n",
    "            from\n",
    "                rnb_ids;\n",
    "    \"\"\"\n",
    "    cursor.execute(sql)\n",
    "    result = cursor.fetchone()\n",
    "    return result[0] if result[0] is not None else []\n",
    "\n",
    "def execute(df):\n",
    "    df_copy = df.copy()\n",
    "    df_copy['rnb_id'] = df_copy.apply(get_rnb_id, axis=1)\n",
    "    return df_copy\n",
    "\n",
    "\n",
    "def process_sub_file(i):\n",
    "    print(f\"processing file {i}\")\n",
    "    if not os.path.exists(f'notebooks/rapprochements/DPE/sub_files_results/dpe-{i}-result.csv'):\n",
    "        df_sub_file = pd.read_csv(f'notebooks/rapprochements/DPE/sub_files/dpe-{i}.csv', sep=',')\n",
    "        max_workers = 50\n",
    "        dfs = np.array_split(df_sub_file, max_workers)\n",
    "\n",
    "        with ThreadPoolExecutor(max_workers=max_workers) as executor:\n",
    "            results_sub_file = executor.map(execute, dfs)\n",
    "            df_result = pd.concat(results_sub_file)\n",
    "            df_result.to_csv(f'notebooks/rapprochements/DPE/sub_files_results/dpe-{i}-result.csv', index=False)\n",
    "\n",
    "for i in range(100):\n",
    "    process_sub_file(i)"
   ]
  },
  {
   "cell_type": "code",
   "execution_count": 3,
   "metadata": {},
   "outputs": [],
   "source": [
    "dfs_result = []\n",
    "\n",
    "for i in range(100):\n",
    "    df_result = pd.read_csv(f'notebooks/rapprochements/DPE/sub_files_results/dpe-{i}-result.csv', usecols=['N°DPE', 'file', 'rnb_id'])\n",
    "    dfs_result.append(df_result)\n",
    "\n",
    "df_final = pd.concat(dfs_result)\n",
    "df_final['rnb_id'] = df_final['rnb_id'].apply(eval)\n"
   ]
  },
  {
   "cell_type": "code",
   "execution_count": null,
   "metadata": {},
   "outputs": [],
   "source": [
    "df_final.to_csv('notebooks/rapprochements/DPE/results_DPE_RNB.csv', index=False)"
   ]
  },
  {
   "cell_type": "code",
   "execution_count": 4,
   "metadata": {},
   "outputs": [
    {
     "data": {
      "text/html": [
       "<div>\n",
       "<style scoped>\n",
       "    .dataframe tbody tr th:only-of-type {\n",
       "        vertical-align: middle;\n",
       "    }\n",
       "\n",
       "    .dataframe tbody tr th {\n",
       "        vertical-align: top;\n",
       "    }\n",
       "\n",
       "    .dataframe thead th {\n",
       "        text-align: right;\n",
       "    }\n",
       "</style>\n",
       "<table border=\"1\" class=\"dataframe\">\n",
       "  <thead>\n",
       "    <tr style=\"text-align: right;\">\n",
       "      <th></th>\n",
       "      <th>N°DPE</th>\n",
       "      <th>file</th>\n",
       "      <th>rnb_id</th>\n",
       "      <th>n</th>\n",
       "    </tr>\n",
       "  </thead>\n",
       "  <tbody>\n",
       "    <tr>\n",
       "      <th>0</th>\n",
       "      <td>2363T1680837R</td>\n",
       "      <td>tertiaire</td>\n",
       "      <td>[3HVCQ22D89TQ]</td>\n",
       "      <td>1</td>\n",
       "    </tr>\n",
       "    <tr>\n",
       "      <th>1</th>\n",
       "      <td>2269T2615953W</td>\n",
       "      <td>tertiaire</td>\n",
       "      <td>[4YHBR2QC67QF, ESW1SCP3YRKF, QZW45SDXBJDF, XQE...</td>\n",
       "      <td>10</td>\n",
       "    </tr>\n",
       "    <tr>\n",
       "      <th>2</th>\n",
       "      <td>2357T4209637Z</td>\n",
       "      <td>tertiaire</td>\n",
       "      <td>[Z5QNQZGKQ63V]</td>\n",
       "      <td>1</td>\n",
       "    </tr>\n",
       "    <tr>\n",
       "      <th>3</th>\n",
       "      <td>2360T0127880L</td>\n",
       "      <td>tertiaire</td>\n",
       "      <td>[SV4KCWDCK333, K37C6J5ZA9FT, 386R58WKYE81]</td>\n",
       "      <td>3</td>\n",
       "    </tr>\n",
       "    <tr>\n",
       "      <th>4</th>\n",
       "      <td>2271T0492563C</td>\n",
       "      <td>tertiaire</td>\n",
       "      <td>[N7BSTQWD61YE]</td>\n",
       "      <td>1</td>\n",
       "    </tr>\n",
       "  </tbody>\n",
       "</table>\n",
       "</div>"
      ],
      "text/plain": [
       "           N°DPE       file  \\\n",
       "0  2363T1680837R  tertiaire   \n",
       "1  2269T2615953W  tertiaire   \n",
       "2  2357T4209637Z  tertiaire   \n",
       "3  2360T0127880L  tertiaire   \n",
       "4  2271T0492563C  tertiaire   \n",
       "\n",
       "                                              rnb_id   n  \n",
       "0                                     [3HVCQ22D89TQ]   1  \n",
       "1  [4YHBR2QC67QF, ESW1SCP3YRKF, QZW45SDXBJDF, XQE...  10  \n",
       "2                                     [Z5QNQZGKQ63V]   1  \n",
       "3         [SV4KCWDCK333, K37C6J5ZA9FT, 386R58WKYE81]   3  \n",
       "4                                     [N7BSTQWD61YE]   1  "
      ]
     },
     "execution_count": 4,
     "metadata": {},
     "output_type": "execute_result"
    }
   ],
   "source": [
    "df_final['n'] = df_final['rnb_id'].apply(len)\n",
    "df_final.head()"
   ]
  },
  {
   "cell_type": "code",
   "execution_count": 5,
   "metadata": {},
   "outputs": [
    {
     "name": "stdout",
     "output_type": "stream",
     "text": [
      "tertiaire\n",
      "0.489017469541 % rapproché\n",
      "323878 lignes\n"
     ]
    }
   ],
   "source": [
    "print(\"tertiaire\")\n",
    "print(len(df_final[(df_final['n'] == 1) & (df_final['file'] == 'tertiaire')]) / len(df_final[df_final['file'] == 'tertiaire']), \"% rapproché\")\n",
    "print(len(df_final[df_final['file'] == 'tertiaire']), \"lignes\")"
   ]
  },
  {
   "cell_type": "code",
   "execution_count": 6,
   "metadata": {},
   "outputs": [
    {
     "name": "stdout",
     "output_type": "stream",
     "text": [
      "neuf\n",
      "0.2427297740650072 % rapproché\n",
      "916237 lignes\n"
     ]
    }
   ],
   "source": [
    "print(\"neuf\")\n",
    "print(len(df_final[(df_final['n'] == 1) & (df_final['file'] == 'logement-neuf')]) / len(df_final[df_final['file'] == 'logement-neuf']), \"% rapproché\")\n",
    "print(len(df_final[df_final['file'] == 'logement-neuf']), \"lignes\")"
   ]
  },
  {
   "cell_type": "code",
   "execution_count": 7,
   "metadata": {},
   "outputs": [
    {
     "name": "stdout",
     "output_type": "stream",
     "text": [
      "existant\n",
      "0.5911936730319646 % rapproché\n",
      "9461720 lignes\n"
     ]
    }
   ],
   "source": [
    "print(\"existant\")\n",
    "print(len(df_final[(df_final['n'] == 1) & (df_final['file'] == 'logement-existant')]) / len(df_final[df_final['file'] == 'logement-existant']), \"% rapproché\")\n",
    "print(len(df_final[df_final['file'] == 'logement-existant']), \"lignes\")"
   ]
  },
  {
   "cell_type": "code",
   "execution_count": 9,
   "metadata": {},
   "outputs": [
    {
     "name": "stdout",
     "output_type": "stream",
     "text": [
      "total\n",
      "0.5582677176390778 % rapproché avec succès\n",
      "5974489 ligne rapprochées avec succes\n",
      "10701835 lignes\n"
     ]
    },
    {
     "ename": "",
     "evalue": "",
     "output_type": "error",
     "traceback": [
      "\u001b[1;31mThe Kernel crashed while executing code in the current cell or a previous cell. \n",
      "\u001b[1;31mPlease review the code in the cell(s) to identify a possible cause of the failure. \n",
      "\u001b[1;31mClick <a href='https://aka.ms/vscodeJupyterKernelCrash'>here</a> for more info. \n",
      "\u001b[1;31mView Jupyter <a href='command:jupyter.viewOutput'>log</a> for further details."
     ]
    }
   ],
   "source": [
    "print(\"total\")\n",
    "print(len(df_final[(df_final['n'] == 1)]) / len(df_final), \"% rapproché avec succès\")\n",
    "print(len(df_final[(df_final['n'] == 1)]), 'ligne rapprochées avec succes')\n",
    "print(len(df_final), \"lignes\")"
   ]
  }
 ],
 "metadata": {
  "kernelspec": {
   "display_name": "Django Shell-Plus",
   "language": "python",
   "name": "django_extensions"
  },
  "language_info": {
   "codemirror_mode": {
    "name": "ipython",
    "version": 3
   },
   "file_extension": ".py",
   "mimetype": "text/x-python",
   "name": "python",
   "nbconvert_exporter": "python",
   "pygments_lexer": "ipython3",
   "version": "3.12.4"
  }
 },
 "nbformat": 4,
 "nbformat_minor": 2
}
