{
 "cells": [
  {
   "cell_type": "markdown",
   "metadata": {},
   "source": [
    "# Identification du logiciel DPE\n",
    "\n",
    "Nous préparons un fichier d'export pour Aurore qui va nous permettre de rattacher aux DPE le logiciel utilisé pour remplir l'ID-RNB.\n",
    "Le but est de comprendre si certains logiciels DPE ont une interface plus propice aux erreurs de saisie."
   ]
  },
  {
   "cell_type": "code",
   "execution_count": 1,
   "metadata": {},
   "outputs": [],
   "source": [
    "import pandas as pd\n",
    "\n",
    "pd.set_option('display.max_columns', None)\n",
    "pd.set_option('display.max_rows', None)"
   ]
  },
  {
   "cell_type": "code",
   "execution_count": 2,
   "metadata": {},
   "outputs": [
    {
     "name": "stderr",
     "output_type": "stream",
     "text": [
      "/tmp/ipykernel_42833/4251158513.py:1: DtypeWarning: Columns (1,2) have mixed types. Specify dtype option on import or set low_memory=False.\n",
      "  df_final = pd.read_csv('notebooks/rapprochements/DPE/2025/results_DPE_RNB.csv')\n"
     ]
    }
   ],
   "source": [
    "df_final = pd.read_csv('notebooks/rapprochements/DPE/2025/results_DPE_RNB.csv')"
   ]
  },
  {
   "cell_type": "code",
   "execution_count": 3,
   "metadata": {},
   "outputs": [
    {
     "data": {
      "text/plain": [
       "(13742029, 5)"
      ]
     },
     "execution_count": 3,
     "metadata": {},
     "output_type": "execute_result"
    }
   ],
   "source": [
    "df_final.shape"
   ]
  },
  {
   "cell_type": "code",
   "execution_count": 4,
   "metadata": {},
   "outputs": [
    {
     "data": {
      "text/html": [
       "<div>\n",
       "<style scoped>\n",
       "    .dataframe tbody tr th:only-of-type {\n",
       "        vertical-align: middle;\n",
       "    }\n",
       "\n",
       "    .dataframe tbody tr th {\n",
       "        vertical-align: top;\n",
       "    }\n",
       "\n",
       "    .dataframe thead th {\n",
       "        text-align: right;\n",
       "    }\n",
       "</style>\n",
       "<table border=\"1\" class=\"dataframe\">\n",
       "  <thead>\n",
       "    <tr style=\"text-align: right;\">\n",
       "      <th></th>\n",
       "      <th>numero_dpe</th>\n",
       "      <th>id_rnb</th>\n",
       "      <th>provenance_id_rnb</th>\n",
       "      <th>file</th>\n",
       "      <th>rnb_id_rappro</th>\n",
       "    </tr>\n",
       "  </thead>\n",
       "  <tbody>\n",
       "    <tr>\n",
       "      <th>0</th>\n",
       "      <td>2269T2615953W</td>\n",
       "      <td>NaN</td>\n",
       "      <td>NaN</td>\n",
       "      <td>tertiaire</td>\n",
       "      <td>['4YHBR2QC67QF', 'ESW1SCP3YRKF', 'QZW45SDXBJDF...</td>\n",
       "    </tr>\n",
       "    <tr>\n",
       "      <th>1</th>\n",
       "      <td>2313T1646022S</td>\n",
       "      <td>NaN</td>\n",
       "      <td>NaN</td>\n",
       "      <td>tertiaire</td>\n",
       "      <td>['9FFMHKTEQM2A', '73WPY3ZD4A3Y', 'KNT9AXYTFQVV']</td>\n",
       "    </tr>\n",
       "    <tr>\n",
       "      <th>2</th>\n",
       "      <td>2404T3934296Y</td>\n",
       "      <td>NaN</td>\n",
       "      <td>NaN</td>\n",
       "      <td>tertiaire</td>\n",
       "      <td>[]</td>\n",
       "    </tr>\n",
       "    <tr>\n",
       "      <th>3</th>\n",
       "      <td>2394T2686905U</td>\n",
       "      <td>NaN</td>\n",
       "      <td>NaN</td>\n",
       "      <td>tertiaire</td>\n",
       "      <td>['FQMXR865P7AX', 'AS59FP2BQ16B']</td>\n",
       "    </tr>\n",
       "    <tr>\n",
       "      <th>4</th>\n",
       "      <td>2360T0127880L</td>\n",
       "      <td>NaN</td>\n",
       "      <td>NaN</td>\n",
       "      <td>tertiaire</td>\n",
       "      <td>['SV4KCWDCK333', 'K37C6J5ZA9FT', '386R58WKYE81']</td>\n",
       "    </tr>\n",
       "  </tbody>\n",
       "</table>\n",
       "</div>"
      ],
      "text/plain": [
       "      numero_dpe id_rnb provenance_id_rnb       file  \\\n",
       "0  2269T2615953W    NaN               NaN  tertiaire   \n",
       "1  2313T1646022S    NaN               NaN  tertiaire   \n",
       "2  2404T3934296Y    NaN               NaN  tertiaire   \n",
       "3  2394T2686905U    NaN               NaN  tertiaire   \n",
       "4  2360T0127880L    NaN               NaN  tertiaire   \n",
       "\n",
       "                                       rnb_id_rappro  \n",
       "0  ['4YHBR2QC67QF', 'ESW1SCP3YRKF', 'QZW45SDXBJDF...  \n",
       "1   ['9FFMHKTEQM2A', '73WPY3ZD4A3Y', 'KNT9AXYTFQVV']  \n",
       "2                                                 []  \n",
       "3                   ['FQMXR865P7AX', 'AS59FP2BQ16B']  \n",
       "4   ['SV4KCWDCK333', 'K37C6J5ZA9FT', '386R58WKYE81']  "
      ]
     },
     "execution_count": 4,
     "metadata": {},
     "output_type": "execute_result"
    }
   ],
   "source": [
    "df_final.head()"
   ]
  },
  {
   "cell_type": "code",
   "execution_count": 5,
   "metadata": {},
   "outputs": [
    {
     "data": {
      "text/plain": [
       "file       provenance_id_rnb\n",
       "existant   Logiciel               21363\n",
       "           Reprise RNB          5536208\n",
       "           NaN                  6637391\n",
       "neuf       Logiciel                 297\n",
       "           Reprise RNB           221807\n",
       "           NaN                   908056\n",
       "tertiaire  Logiciel                 398\n",
       "           Reprise RNB           157816\n",
       "           NaN                   258693\n",
       "Name: numero_dpe, dtype: int64"
      ]
     },
     "execution_count": 5,
     "metadata": {},
     "output_type": "execute_result"
    }
   ],
   "source": [
    "# stats sur la provenance des ID-RNB dans le fichier\n",
    "df_gb = df_final.groupby(['file', 'provenance_id_rnb'], dropna=False)['numero_dpe'].count()\n",
    "df_gb"
   ]
  },
  {
   "cell_type": "code",
   "execution_count": 6,
   "metadata": {},
   "outputs": [
    {
     "data": {
      "text/plain": [
       "(22058, 5)"
      ]
     },
     "execution_count": 6,
     "metadata": {},
     "output_type": "execute_result"
    }
   ],
   "source": [
    "df_logiciel = df_final[df_final['provenance_id_rnb'] == 'Logiciel']\n",
    "df_logiciel.shape"
   ]
  },
  {
   "cell_type": "code",
   "execution_count": 7,
   "metadata": {},
   "outputs": [
    {
     "data": {
      "text/html": [
       "<div>\n",
       "<style scoped>\n",
       "    .dataframe tbody tr th:only-of-type {\n",
       "        vertical-align: middle;\n",
       "    }\n",
       "\n",
       "    .dataframe tbody tr th {\n",
       "        vertical-align: top;\n",
       "    }\n",
       "\n",
       "    .dataframe thead th {\n",
       "        text-align: right;\n",
       "    }\n",
       "</style>\n",
       "<table border=\"1\" class=\"dataframe\">\n",
       "  <thead>\n",
       "    <tr style=\"text-align: right;\">\n",
       "      <th></th>\n",
       "      <th>numero_dpe</th>\n",
       "      <th>id_rnb</th>\n",
       "      <th>provenance_id_rnb</th>\n",
       "      <th>file</th>\n",
       "      <th>rnb_id_rappro</th>\n",
       "    </tr>\n",
       "  </thead>\n",
       "  <tbody>\n",
       "    <tr>\n",
       "      <th>158109</th>\n",
       "      <td>2502T1068524X</td>\n",
       "      <td>11WWDS93XWSQ</td>\n",
       "      <td>Logiciel</td>\n",
       "      <td>tertiaire</td>\n",
       "      <td>['5R7G3G7V51V1', '11WWDS93XWSQ']</td>\n",
       "    </tr>\n",
       "    <tr>\n",
       "      <th>158208</th>\n",
       "      <td>2594T1020535S</td>\n",
       "      <td>GCAEFW4KXAZ7</td>\n",
       "      <td>Logiciel</td>\n",
       "      <td>tertiaire</td>\n",
       "      <td>['GCAEFW4KXAZ7']</td>\n",
       "    </tr>\n",
       "    <tr>\n",
       "      <th>158291</th>\n",
       "      <td>2584T1189899I</td>\n",
       "      <td>RCAJ157D6ZDT</td>\n",
       "      <td>Logiciel</td>\n",
       "      <td>tertiaire</td>\n",
       "      <td>[]</td>\n",
       "    </tr>\n",
       "    <tr>\n",
       "      <th>158349</th>\n",
       "      <td>2594T1168780L</td>\n",
       "      <td>GCAEFW4KXAZ7</td>\n",
       "      <td>Logiciel</td>\n",
       "      <td>tertiaire</td>\n",
       "      <td>['GCAEFW4KXAZ7']</td>\n",
       "    </tr>\n",
       "    <tr>\n",
       "      <th>162850</th>\n",
       "      <td>2520T0590415U</td>\n",
       "      <td>T76RJ86W2WFG</td>\n",
       "      <td>Logiciel</td>\n",
       "      <td>tertiaire</td>\n",
       "      <td>['751SB65D2669', '8B58SJVA7VCP', '8HW3M67XC263...</td>\n",
       "    </tr>\n",
       "  </tbody>\n",
       "</table>\n",
       "</div>"
      ],
      "text/plain": [
       "           numero_dpe        id_rnb provenance_id_rnb       file  \\\n",
       "158109  2502T1068524X  11WWDS93XWSQ          Logiciel  tertiaire   \n",
       "158208  2594T1020535S  GCAEFW4KXAZ7          Logiciel  tertiaire   \n",
       "158291  2584T1189899I  RCAJ157D6ZDT          Logiciel  tertiaire   \n",
       "158349  2594T1168780L  GCAEFW4KXAZ7          Logiciel  tertiaire   \n",
       "162850  2520T0590415U  T76RJ86W2WFG          Logiciel  tertiaire   \n",
       "\n",
       "                                            rnb_id_rappro  \n",
       "158109                   ['5R7G3G7V51V1', '11WWDS93XWSQ']  \n",
       "158208                                   ['GCAEFW4KXAZ7']  \n",
       "158291                                                 []  \n",
       "158349                                   ['GCAEFW4KXAZ7']  \n",
       "162850  ['751SB65D2669', '8B58SJVA7VCP', '8HW3M67XC263...  "
      ]
     },
     "execution_count": 7,
     "metadata": {},
     "output_type": "execute_result"
    }
   ],
   "source": [
    "df_logiciel.head()"
   ]
  },
  {
   "cell_type": "code",
   "execution_count": 9,
   "metadata": {},
   "outputs": [],
   "source": [
    "# Export des id DPE pour lesquels on aimerait connaitre le logiciel qui a servi à remplir l'ID-RNB.\n",
    "df_logiciel[['numero_dpe', 'file']].to_csv('/app/notebooks/rapprochements/DPE/2025/DPE_identification_logiciel.csv', index=False)\n"
   ]
  }
 ],
 "metadata": {
  "kernelspec": {
   "display_name": "Django Shell-Plus",
   "language": "python",
   "name": "django_extensions"
  },
  "language_info": {
   "codemirror_mode": {
    "name": "ipython",
    "version": 3
   },
   "file_extension": ".py",
   "mimetype": "text/x-python",
   "name": "python",
   "nbconvert_exporter": "python",
   "pygments_lexer": "ipython3",
   "version": "3.13.4"
  }
 },
 "nbformat": 4,
 "nbformat_minor": 2
}
