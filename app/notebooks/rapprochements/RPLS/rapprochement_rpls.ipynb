{
 "cells": [
  {
   "cell_type": "markdown",
   "metadata": {},
   "source": [
    "# load the data from excel"
   ]
  },
  {
   "cell_type": "code",
   "execution_count": 4,
   "metadata": {},
   "outputs": [],
   "source": [
    "import pandas as pd\n",
    "\n",
    "pd.set_option('display.max_columns', None)\n",
    "pd.set_option('display.max_rows', None)"
   ]
  },
  {
   "cell_type": "code",
   "execution_count": 5,
   "metadata": {},
   "outputs": [],
   "source": [
    "import os\n",
    "os.environ[\"DJANGO_ALLOW_ASYNC_UNSAFE\"] = \"true\""
   ]
  },
  {
   "cell_type": "code",
   "execution_count": 6,
   "metadata": {},
   "outputs": [
    {
     "name": "stdout",
     "output_type": "stream",
     "text": [
      "The length of the dataframe is:  5161392\n"
     ]
    }
   ],
   "source": [
    "# read the excel data\n",
    "df = pd.read_csv('/app/notebooks/rapprochements/RPLS/export.csv', sep=\";\",\n",
    "                 dtype={})\n",
    "\n",
    "# print the df length\n",
    "print('The length of the dataframe is: ', len(df))"
   ]
  },
  {
   "cell_type": "code",
   "execution_count": 7,
   "metadata": {},
   "outputs": [
    {
     "name": "stdout",
     "output_type": "stream",
     "text": [
      "Index(['ident_rpls', 'adresse_brut', 'array_agg'], dtype='object')\n"
     ]
    }
   ],
   "source": [
    "# display df columns\n",
    "print(df.columns)"
   ]
  },
  {
   "cell_type": "markdown",
   "metadata": {},
   "source": [
    "# map to inputs"
   ]
  },
  {
   "cell_type": "code",
   "execution_count": 13,
   "metadata": {},
   "outputs": [],
   "source": [
    "filtered_df = df[df[\"adresse_brut\"].notna()]"
   ]
  },
  {
   "cell_type": "code",
   "execution_count": 14,
   "metadata": {},
   "outputs": [],
   "source": [
    "def row_to_input(df_row):\n",
    "    return {\n",
    "        \"ext_id\" : df_row[\"ident_rpls\"],\n",
    "        \"address\": df_row[\"adresse_brut\"]\n",
    "    }\n",
    "\n",
    "inputs = list(filtered_df.apply(row_to_input, axis=1))"
   ]
  },
  {
   "cell_type": "code",
   "execution_count": 15,
   "metadata": {},
   "outputs": [
    {
     "name": "stdout",
     "output_type": "stream",
     "text": [
      "4192661\n",
      "{'ext_id': 22613394, 'address': '10 Impasse Du Poitou 57150 Creutzwald'}\n"
     ]
    }
   ],
   "source": [
    "import random\n",
    "#inputs = random.sample(inputs, 1000)\n",
    "print(len(inputs))\n",
    "print(inputs[0])"
   ]
  },
  {
   "cell_type": "code",
   "execution_count": null,
   "metadata": {},
   "outputs": [
    {
     "data": {
      "application/vnd.jupyter.widget-view+json": {
       "model_id": "db5d6be30fc448c4b05abcc181d747a3",
       "version_major": 2,
       "version_minor": 0
      },
      "text/plain": [
       "  0%|          | 0/1049 [00:00<?, ?it/s]"
      ]
     },
     "metadata": {},
     "output_type": "display_data"
    }
   ],
   "source": [
    "from batid.services.guess_bdg_new import Guesser, GeocodeNameHandler, GeocodeAddressHandler, ClosestFromPointHandler\n",
    "guesses_path = \"./guesses.json\"\n",
    "guesser = Guesser(batch_size=4000)\n",
    "guesser.handlers = [\n",
    "    GeocodeAddressHandler()\n",
    "]\n",
    "guesser.create_work_file(list(inputs), guesses_path)\n",
    "guesser.guess_work_file(guesses_path)"
   ]
  },
  {
   "cell_type": "code",
   "execution_count": 10,
   "metadata": {},
   "outputs": [
    {
     "name": "stdout",
     "output_type": "stream",
     "text": [
      "-- Report --\n",
      "Number of rows: 1000\n",
      "Number of match: 764 (76.40%)\n",
      "\n",
      "-- finished_steps --\n",
      "Rows with finished_steps closest_from_point: 0 (0.00%)\n",
      "Rows with finished_steps geocode_address: 1000 (100.00%)\n",
      "Rows with finished_steps geocode_name: 0 (0.00%)\n",
      "Rows with empty finished_steps: 0 (0.00%)\n",
      "\n",
      "-- match_reasons : absolute --\n",
      "match_reason\n",
      "precise_address_match    764\n",
      "Name: count, dtype: int64\n",
      "\n",
      "-- match_reasons : % --\n",
      "match_reason\n",
      "precise_address_match    76.4\n",
      "Name: count, dtype: float64\n",
      "\n",
      "-- Inputs --\n",
      "rows with ban_id: 801 (80.10%)\n"
     ]
    }
   ],
   "source": [
    "guesser = Guesser()\n",
    "guesser.load_work_file(guesses_path)\n",
    "guesser.report()"
   ]
  },
  {
   "cell_type": "code",
   "execution_count": 11,
   "metadata": {},
   "outputs": [],
   "source": [
    "guesser.to_csv(\"/app/notebooks/rapprochements/RPLS/RPLS_out.csv\", ext_id_col_name=\"ext_id\")"
   ]
  },
  {
   "cell_type": "code",
   "execution_count": 12,
   "metadata": {},
   "outputs": [
    {
     "data": {
      "text/plain": [
       "'/app/notebooks/rapprochements/Ramses'"
      ]
     },
     "execution_count": 12,
     "metadata": {},
     "output_type": "execute_result"
    }
   ],
   "source": [
    "os.getcwd()"
   ]
  },
  {
   "cell_type": "code",
   "execution_count": null,
   "metadata": {},
   "outputs": [],
   "source": []
  }
 ],
 "metadata": {
  "kernelspec": {
   "display_name": "Django Shell-Plus",
   "language": "python",
   "name": "django_extensions"
  },
  "language_info": {
   "codemirror_mode": {
    "name": "ipython",
    "version": 3
   },
   "file_extension": ".py",
   "mimetype": "text/x-python",
   "name": "python",
   "nbconvert_exporter": "python",
   "pygments_lexer": "ipython3",
   "version": "3.12.4"
  }
 },
 "nbformat": 4,
 "nbformat_minor": 2
}
