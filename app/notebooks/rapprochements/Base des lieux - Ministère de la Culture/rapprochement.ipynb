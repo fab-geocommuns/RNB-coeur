{
 "cells": [
  {
   "cell_type": "code",
   "execution_count": 1,
   "id": "a21bd92e",
   "metadata": {},
   "outputs": [],
   "source": [
    "import csv\n",
    "import os\n",
    "from batid.services.guess_bdg_new import Guesser, GeocodeNameHandler\n",
    "\n",
    "\n",
    "os.environ[\"DJANGO_ALLOW_ASYNC_UNSAFE\"] = \"true\"\n",
    "\n",
    "\n",
    "guesses_path = \"guesses.json\"\n"
   ]
  },
  {
   "cell_type": "code",
   "execution_count": 2,
   "id": "e5b48529",
   "metadata": {},
   "outputs": [],
   "source": [
    "def row_to_input(row):\n",
    "    \n",
    "    return {\n",
    "        \"ext_id\": row['\\ufeff\"Id Unique\"'],\n",
    "        \"name\": row[\"Nom\"],\n",
    "        \"lat\": float(row[\"Latitude\"]),\n",
    "        \"lng\": float(row[\"Longitude\"])\n",
    "    }"
   ]
  },
  {
   "cell_type": "code",
   "execution_count": null,
   "id": "0a0b4995",
   "metadata": {},
   "outputs": [],
   "source": []
  },
  {
   "cell_type": "code",
   "execution_count": 3,
   "id": "575f9ba7",
   "metadata": {},
   "outputs": [
    {
     "name": "stdout",
     "output_type": "stream",
     "text": [
      "There are 39500 unique id in the original file\n",
      "- saving work file\n",
      "- work file saved\n"
     ]
    }
   ],
   "source": [
    "file_path = \"places.csv\"\n",
    "\n",
    "inputs = []\n",
    "\n",
    "ext_ids = set()\n",
    "\n",
    "with open(file_path, \"r\") as f:\n",
    "    reader = csv.DictReader(f, delimiter=\";\")\n",
    "    \n",
    "    for row in reader:\n",
    "        \n",
    "        # It seems there are some duplicates in the original file\n",
    "        if row['\\ufeff\"Id Unique\"'] in ext_ids:\n",
    "            continue\n",
    "        \n",
    "        ext_ids.add(row['\\ufeff\"Id Unique\"'])\n",
    "        \n",
    "        input = row_to_input(row)\n",
    "        inputs.append(input)\n",
    "\n",
    " \n",
    "print(f\"There are {len(ext_ids)} unique id in the original file\")\n",
    "\n",
    "guesser = Guesser()\n",
    "guesser.create_work_file(inputs, guesses_path)"
   ]
  },
  {
   "cell_type": "code",
   "execution_count": null,
   "id": "266da128",
   "metadata": {},
   "outputs": [
    {
     "name": "stdout",
     "output_type": "stream",
     "text": [
      "- loading work file\n",
      "- converting guesses to batches\n",
      "- converted 39500 guesses to 8 batches\n",
      "Batch 1/8\n"
     ]
    }
   ],
   "source": [
    "guesser = Guesser()\n",
    "guesser.handlers = [GeocodeNameHandler()]\n",
    "guesser.guess_work_file(guesses_path)"
   ]
  },
  {
   "cell_type": "code",
   "execution_count": null,
   "id": "dd0b4ad1",
   "metadata": {},
   "outputs": [],
   "source": []
  }
 ],
 "metadata": {
  "kernelspec": {
   "display_name": "Django Shell-Plus",
   "language": "python",
   "name": "django_extensions"
  },
  "language_info": {
   "codemirror_mode": {
    "name": "ipython",
    "version": 3
   },
   "file_extension": ".py",
   "mimetype": "text/x-python",
   "name": "python",
   "nbconvert_exporter": "python",
   "pygments_lexer": "ipython3",
   "version": "3.12.4"
  }
 },
 "nbformat": 4,
 "nbformat_minor": 5
}
