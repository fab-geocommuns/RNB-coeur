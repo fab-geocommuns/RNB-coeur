{
 "cells": [
  {
   "cell_type": "code",
   "execution_count": 1,
   "id": "f3a6eaae",
   "metadata": {},
   "outputs": [],
   "source": [
    "import os\n",
    "import csv\n",
    "import pandas as pd\n",
    "\n",
    "from batid.services.guess_bdg_new import Guesser, GeocodeNameHandler, GeocodeAddressHandler\n",
    "\n",
    "efa_iub_path = \"EFA_IUB.csv\"\n",
    "efa_surface_path = \"EFA_SURFACE.csv\"\n",
    "efa_path = \"EFA.csv\"\n",
    "\n",
    "geocoded_addresses_path = \"geocoded_addresses.csv\"\n",
    "\n",
    "guess_path = \"guesses.json\"\n",
    "\n",
    "os.environ[\"DJANGO_ALLOW_ASYNC_UNSAFE\"] = \"true\""
   ]
  },
  {
   "cell_type": "code",
   "execution_count": 14,
   "id": "4185e5e7",
   "metadata": {},
   "outputs": [
    {
     "name": "stdout",
     "output_type": "stream",
     "text": [
      "Index(['ID EFA', 'Péfixe', 'Section', 'Dénomination bâtiment', 'Parcelle',\n",
      "       'Lot'],\n",
      "      dtype='object')\n",
      "   ID EFA Péfixe Section Dénomination bâtiment Parcelle       Lot\n",
      "0    1812    000      BY            ARGENTEUIL     0589      0000\n",
      "1    1812    000      BY            ARGENTEUIL     0628      0000\n",
      "2    1812    000      BY            ARGENTEUIL     0630      0000\n",
      "3    1813    115      BS           HIGH SQUARE     0168      0000\n",
      "4    1813    115      BS           HIGH SQUARE     0121      0000\n",
      "5    1535    107      AD                230STG     0010  STEINWAY\n",
      "6    1536    107      AD                230STG     0010     AARPI\n",
      "7    1803    108      AQ                   9RP     0077        ID\n",
      "8    1807    108      AQ                   9RP     0077      GIMD\n",
      "9    1806    108      AQ                   7RP     0077       7RP\n",
      "413482 lignes\n",
      "Dénomination bâtiment\n",
      "Dénomination bâtiment\n",
      "1                             2204\n",
      "CENTRE COMMERCIAL             1789\n",
      "MAIRIE                        1476\n",
      "BATIMENT                      1219\n",
      "BATIMENT PRINCIPAL             981\n",
      "                              ... \n",
      "SUPER U ILE D YEU                1\n",
      "BATIMENT COCA-COLA CLAMART       1\n",
      "ACTIWEST                         1\n",
      "10 CND                           1\n",
      "RESTO ISAKAYA                    1\n",
      "Name: count, Length: 202439, dtype: int64\n"
     ]
    }
   ],
   "source": [
    "# EFA IUB\n",
    "\n",
    "df = pd.read_csv(efa_iub_path, sep=\";\")\n",
    "\n",
    "print(df.columns)\n",
    "print(df.head(10))\n",
    "print(f\"{len(df)} lignes\")\n",
    "\n",
    "print(\"Dénomination bâtiment\")\n",
    "print(df[\"Dénomination bâtiment\"].value_counts())"
   ]
  },
  {
   "cell_type": "code",
   "execution_count": 15,
   "id": "2900da48",
   "metadata": {},
   "outputs": [
    {
     "name": "stdout",
     "output_type": "stream",
     "text": [
      "Index(['ID Déclaration consommation', 'Année consommation', 'ID EFA',\n",
      "       'Identifiant occupant', 'Nom occupant EFA',\n",
      "       'Surface moyenne annuelle EFA (m²)'],\n",
      "      dtype='object')\n",
      "   ID Déclaration consommation Année consommation  ID EFA  \\\n",
      "0                        32622               2020   44726   \n",
      "1                       256709               2020  148143   \n",
      "2                       130290               2020  153793   \n",
      "3                      1116939               2022  435727   \n",
      "4                      1144326               2023   88752   \n",
      "5                       872624               2022  130758   \n",
      "6                      1276576               2023  228156   \n",
      "7                       957092               2022  225056   \n",
      "8                       795358               2022  225921   \n",
      "9                       323652               2021  243745   \n",
      "\n",
      "  Identifiant occupant                Nom occupant EFA  \\\n",
      "0       34181606401147                     CHAUSS'EXPO   \n",
      "1       67850126300175                 EUROPE SERVICES   \n",
      "2       47953518900035        SCM SANTY KINESITHERAPIE   \n",
      "3       52357326900017  SAVEURS ET TRADITION DU BOCAGE   \n",
      "4       48047015202026                  NORAUTO FRANCE   \n",
      "5       45122129500012                         TECHNAL   \n",
      "6       39320016700061            GEODIS D&E SUD-OUEST   \n",
      "7       42126018300262                    DGF NORD EST   \n",
      "8       21710475100094                          MAIRIE   \n",
      "9       88494692200033                    MARION GINET   \n",
      "\n",
      "   Surface moyenne annuelle EFA (m²)  \n",
      "0                              542.0  \n",
      "1                               21.0  \n",
      "2                              991.0  \n",
      "3                             1267.0  \n",
      "4                             1530.0  \n",
      "5                            38747.0  \n",
      "6                             1104.0  \n",
      "7                             3033.0  \n",
      "8                              245.0  \n",
      "9                               15.0  \n",
      "1017725 lignes\n"
     ]
    }
   ],
   "source": [
    "# EFA Surface\n",
    "\n",
    "df = pd.read_csv(efa_surface_path, sep=\";\")\n",
    "\n",
    "print(df.columns)\n",
    "print(df.head(10))\n",
    "print(f\"{len(df)} lignes\")"
   ]
  },
  {
   "cell_type": "code",
   "execution_count": 25,
   "id": "4a452a98",
   "metadata": {},
   "outputs": [
    {
     "name": "stderr",
     "output_type": "stream",
     "text": [
      "/tmp/ipykernel_84/3040905977.py:3: DtypeWarning: Columns (10) have mixed types. Specify dtype option on import or set low_memory=False.\n",
      "  df = pd.read_csv(efa_path, sep=\";\")\n"
     ]
    },
    {
     "name": "stdout",
     "output_type": "stream",
     "text": [
      "Index(['ID EFA', 'Cas assujettissement', 'Identifiant occupant',\n",
      "       'Nom occupant EFA', 'Complément nom EFA', 'Dénomination EFA',\n",
      "       'Adresse (Operat)', 'Complément adresse OPR', 'Commune OPR',\n",
      "       'Code commune OPR', 'Code postal OPR', 'Siège SIRN',\n",
      "       'Nom établissement SIRN', 'Enseigne établissement SIRN', 'Adresse SIRN',\n",
      "       'Complt adresse SIRN', 'Code postal SIRN', 'Code commune SIRN',\n",
      "       'Commune maj SIRN', 'Commune SIRN'],\n",
      "      dtype='object')\n",
      "   ID EFA Cas assujettissement        Identifiant occupant  \\\n",
      "0       5                    3              48458811600018   \n",
      "1       6                   1A              77568873203099   \n",
      "2       8                    2              80852873100025   \n",
      "3       9                    2              80852873100025   \n",
      "4      11                   1A              21200004600012   \n",
      "5      28                   1A              83271794600012   \n",
      "6      33                   1A              86680121000026   \n",
      "7      34                   1A              HOTEL DE VILLE   \n",
      "8      35                   1A  CENTRE TECHNIQUE MUNICIPAL   \n",
      "9      37                   1A         MAISON ROUGE DAUDET   \n",
      "\n",
      "                          Nom occupant EFA Complément nom EFA  \\\n",
      "0                      ROUSSELOT ANGOULEME                NaN   \n",
      "1                      APF FRANCE HANDICAP                NaN   \n",
      "2                 GROUPE ROCHER OPERATIONS                NaN   \n",
      "3                 GROUPE ROCHER OPERATIONS                NaN   \n",
      "4                                   MAIRIE     HOTEL DE VILLE   \n",
      "5                                SCI CARDY                NaN   \n",
      "6  FONDERIE MECANIQUE GEN CASTELBRIANTAISE                NaN   \n",
      "7                           HOTEL DE VILLE                NaN   \n",
      "8               CENTRE TECHNIQUE MUNICIPAL                NaN   \n",
      "9                      MAISON ROUGE DAUDET                NaN   \n",
      "\n",
      "  Dénomination EFA              Adresse (Operat) Complément adresse OPR  \\\n",
      "0              NaN  RUE SAINT MICHEL A ANGOULEME                    NaN   \n",
      "1              NaN  17 BOULEVARD AUGUSTE BLANQUI                    NaN   \n",
      "2              NaN          LA CROIX DES ARCHERS                    NaN   \n",
      "3              NaN          LA CROIX DES ARCHERS                    NaN   \n",
      "4              NaN                       PL FOCH         HOTEL DE VILLE   \n",
      "5              NaN          15 RUE DE STRASBOURG                    NaN   \n",
      "6              NaN                   LD HOCHEPIE                    NaN   \n",
      "7              NaN        PLACE DE LA REPUBLIQUE                    NaN   \n",
      "8              NaN       20 AVENUE ANDRE MALRAUX                    NaN   \n",
      "9              NaN          14 AVENUE DE FLANDRE                    NaN   \n",
      "\n",
      "             Commune OPR Code commune OPR Code postal OPR  Siège SIRN  \\\n",
      "0              ANGOULEME            16015           16000         1.0   \n",
      "1                  PARIS            75113           75013         1.0   \n",
      "2             LA GACILLY            56061           56200         1.0   \n",
      "3             LA GACILLY            56061           56200         1.0   \n",
      "4                AJACCIO            2A004           20000         1.0   \n",
      "5  SAINTE LUCE SUR LOIRE            44172           44980         1.0   \n",
      "6                 SOUDAN            44199           44110         1.0   \n",
      "7         VIRY CHATILLON            91687           91170         NaN   \n",
      "8         VIRY CHATILLON            91687           91170         NaN   \n",
      "9         VIRY CHATILLON            91687           91170         NaN   \n",
      "\n",
      "                             Nom établissement SIRN  \\\n",
      "0                                               NaN   \n",
      "1                                               NaN   \n",
      "2  LECC LABORATOIRE EUROPEEN DE CREATION COSMETIQUE   \n",
      "3  LECC LABORATOIRE EUROPEEN DE CREATION COSMETIQUE   \n",
      "4                                               NaN   \n",
      "5                                               NaN   \n",
      "6                                               NaN   \n",
      "7                                               NaN   \n",
      "8                                               NaN   \n",
      "9                                               NaN   \n",
      "\n",
      "  Enseigne établissement SIRN                  Adresse SIRN  \\\n",
      "0                         NaN  RUE SAINT MICHEL A ANGOULEME   \n",
      "1         APF FRANCE HANDICAP  17 BOULEVARD AUGUSTE BLANQUI   \n",
      "2                         NaN          LA CROIX DES ARCHERS   \n",
      "3                         NaN          LA CROIX DES ARCHERS   \n",
      "4                      MAIRIE                       PL FOCH   \n",
      "5                         NaN          15 RUE DE STRASBOURG   \n",
      "6                         NaN                   LD HOCHEPIE   \n",
      "7                         NaN                           NaN   \n",
      "8                         NaN                           NaN   \n",
      "9                         NaN                           NaN   \n",
      "\n",
      "  Complt adresse SIRN  Code postal SIRN Code commune SIRN  \\\n",
      "0                 NaN           16000.0             16015   \n",
      "1                 NaN           75013.0             75113   \n",
      "2                 NaN           56200.0             56061   \n",
      "3                 NaN           56200.0             56061   \n",
      "4      HOTEL DE VILLE           20000.0             2A004   \n",
      "5                 NaN           44980.0             44172   \n",
      "6                 NaN           44110.0             44199   \n",
      "7                 NaN               NaN               NaN   \n",
      "8                 NaN               NaN               NaN   \n",
      "9                 NaN               NaN               NaN   \n",
      "\n",
      "           Commune maj SIRN              Commune SIRN  \n",
      "0                 ANGOULEME                 Angoulême  \n",
      "1  PARIS 13E ARRONDISSEMENT  Paris 13e Arrondissement  \n",
      "2              GACILLY (LA)              Gacilly (La)  \n",
      "3              GACILLY (LA)              Gacilly (La)  \n",
      "4                   AJACCIO                   Ajaccio  \n",
      "5     SAINTE-LUCE-SUR-LOIRE     Sainte-Luce-sur-Loire  \n",
      "6                    SOUDAN                    Soudan  \n",
      "7                       NaN                       NaN  \n",
      "8                       NaN                       NaN  \n",
      "9                       NaN                       NaN  \n",
      "323181 lignes\n",
      "Cas assujettissement\n",
      "Cas assujettissement\n",
      "1B    134865\n",
      "1A    114756\n",
      "3      50169\n",
      "2      23391\n",
      "Name: count, dtype: int64\n",
      "Complément adresse OPR\n",
      "Complément adresse OPR\n",
      "CENTRE COMMERCIAL                     1107\n",
      "HOTEL DE VILLE                         754\n",
      "ZONE INDUSTRIELLE                      754\n",
      "CENTRE COMMERCIAL CARREFOUR            679\n",
      "ZI                                     545\n",
      "                                      ... \n",
      "PAVILLON DILLON                          1\n",
      "IMMEUBLE TERRE EUROPA 1 A 3              1\n",
      "29 AU 33                                 1\n",
      "10/12 9 RUE DE LA GRANGE BATELIERE       1\n",
      "M.S.A.PYRENEES ATLANTIQUES               1\n",
      "Name: count, Length: 66095, dtype: int64\n"
     ]
    }
   ],
   "source": [
    "# EFA\n",
    "\n",
    "df = pd.read_csv(efa_path, sep=\";\")\n",
    "\n",
    "print(df.columns)\n",
    "print(df.head(10))\n",
    "print(f\"{len(df)} lignes\")\n",
    "\n",
    "# A propos de cas_assujetissement\n",
    "print(\"Cas assujettissement\")\n",
    "print(df[\"Cas assujettissement\"].value_counts())\n",
    "print(\"Complément adresse OPR\")\n",
    "print(df[\"Complément adresse OPR\"].value_counts())\n",
    "\n"
   ]
  },
  {
   "cell_type": "markdown",
   "id": "62770f94",
   "metadata": {},
   "source": [
    "Il est probable qu'on utilise uniquement le fichier EFA.csv\n",
    "\n",
    "Dedans, on a à dispo : \n",
    "\n",
    "- Nom occupant EFA\n",
    "- Complément nom EFA\n",
    "\n",
    "On pourra peut être les utiliser avec un Photon\n",
    "\n",
    "- Les champs Adresse Operat à géocoder\n",
    "\n",
    "Pour une recherche par adresse. \n",
    "On va devoir géocoder les adresses pour obtenir un lat/lng à utiliser avec Photon"
   ]
  },
  {
   "cell_type": "markdown",
   "id": "23a34087",
   "metadata": {},
   "source": [
    "# Géocoder les adresses"
   ]
  },
  {
   "cell_type": "code",
   "execution_count": 26,
   "id": "f2ae521b",
   "metadata": {},
   "outputs": [],
   "source": [
    "# On va tenter d'utiliser le géocodeur Photon mais on n'a pas de latitude/longitude.\n",
    "# On va aller chercher lat/lng en géocodant les adresses fournies\n",
    "\n",
    "\n",
    "\n",
    "\n",
    "\n",
    "df[\"full_address\"] = df[\"Adresse (Operat)\"].astype(str) + \" \" + df[\"Code postal OPR\"].astype(str) + \" \" + df[\"Commune OPR\"].astype(str)\n",
    "\n",
    "new_df = df[['ID EFA', 'full_address' ]]\n",
    "new_df.to_csv(geocoded_addresses_path)\n",
    "\n",
    "\n"
   ]
  },
  {
   "cell_type": "code",
   "execution_count": 29,
   "id": "5c48399e",
   "metadata": {},
   "outputs": [],
   "source": [
    "# Split in chunks\n",
    "\n",
    "chunks_size = 50_000\n",
    "chunks = [new_df[i:i+chunks_size] for i in range(0, len(new_df), chunks_size)]\n",
    "\n",
    "# Example: save each chunk into a separate CSV\n",
    "for idx, chunk in enumerate(chunks):\n",
    "    chunk.to_csv(f'output_chunk_{idx}.csv', index=False)"
   ]
  },
  {
   "cell_type": "code",
   "execution_count": 30,
   "id": "b7c304e4",
   "metadata": {},
   "outputs": [
    {
     "name": "stdout",
     "output_type": "stream",
     "text": [
      "output_chunk_0.csv\n",
      "output_chunk_1.csv\n",
      "output_chunk_2.csv\n",
      "output_chunk_3.csv\n",
      "output_chunk_4.csv\n",
      "output_chunk_5.csv\n",
      "output_chunk_6.csv\n"
     ]
    }
   ],
   "source": [
    "from batid.services.geocoders import BanBatchGeocoder\n",
    "import glob\n",
    "from io import StringIO\n",
    "\n",
    "geocoder = BanBatchGeocoder()\n",
    "\n",
    "files = sorted(glob.glob('output_chunk_*.csv'))\n",
    "for file in files:\n",
    "    print(file)\n",
    "    response = geocoder.geocode_file(file, columns=[\"full_address\"])\n",
    "    response_csv = StringIO(response.text)\n",
    "    df_geocoded = pd.read_csv(response_csv, sep=',')\n",
    "    df_geocoded.to_csv(file, index=False)\n",
    "\n",
    "\n",
    "    \n",
    "        \n",
    "\n",
    "\n"
   ]
  },
  {
   "cell_type": "code",
   "execution_count": 31,
   "id": "520cef49",
   "metadata": {},
   "outputs": [],
   "source": [
    "# merge all file into one\n",
    "files = sorted(glob.glob('output_chunk_*.csv'))\n",
    "\n",
    "df_list = [pd.read_csv(file) for file in files]\n",
    "\n",
    "merged_df = pd.concat(df_list, ignore_index=True)\n",
    "\n",
    "# Save into a new CSV\n",
    "merged_df.to_csv(geocoded_addresses_path, index=False)"
   ]
  },
  {
   "cell_type": "code",
   "execution_count": 32,
   "id": "f2e92323",
   "metadata": {},
   "outputs": [],
   "source": [
    "# remove the chunks\n",
    "import os\n",
    "\n",
    "for file in sorted(glob.glob('output_chunk_*.csv')):\n",
    "    os.remove(file)"
   ]
  },
  {
   "cell_type": "markdown",
   "id": "36b07467",
   "metadata": {},
   "source": [
    "# Attacher les adresses géocodées aux données EFA"
   ]
  },
  {
   "cell_type": "code",
   "execution_count": 36,
   "id": "98164960",
   "metadata": {},
   "outputs": [
    {
     "name": "stderr",
     "output_type": "stream",
     "text": [
      "/tmp/ipykernel_84/2424521250.py:3: DtypeWarning: Columns (10) have mixed types. Specify dtype option on import or set low_memory=False.\n",
      "  efa_df = pd.read_csv(efa_path, sep=\";\")\n"
     ]
    },
    {
     "name": "stdout",
     "output_type": "stream",
     "text": [
      "   ID EFA Cas assujettissement Identifiant occupant          Nom occupant EFA  \\\n",
      "0       5                    3       48458811600018       ROUSSELOT ANGOULEME   \n",
      "1       6                   1A       77568873203099       APF FRANCE HANDICAP   \n",
      "2       8                    2       80852873100025  GROUPE ROCHER OPERATIONS   \n",
      "3       9                    2       80852873100025  GROUPE ROCHER OPERATIONS   \n",
      "4      11                   1A       21200004600012                    MAIRIE   \n",
      "\n",
      "  Complément nom EFA Dénomination EFA              Adresse (Operat)  \\\n",
      "0                NaN              NaN  RUE SAINT MICHEL A ANGOULEME   \n",
      "1                NaN              NaN  17 BOULEVARD AUGUSTE BLANQUI   \n",
      "2                NaN              NaN          LA CROIX DES ARCHERS   \n",
      "3                NaN              NaN          LA CROIX DES ARCHERS   \n",
      "4     HOTEL DE VILLE              NaN                       PL FOCH   \n",
      "\n",
      "  Complément adresse OPR Commune OPR Code commune OPR  ...  \\\n",
      "0                    NaN   ANGOULEME            16015  ...   \n",
      "1                    NaN       PARIS            75113  ...   \n",
      "2                    NaN  LA GACILLY            56061  ...   \n",
      "3                    NaN  LA GACILLY            56061  ...   \n",
      "4         HOTEL DE VILLE     AJACCIO            2A004  ...   \n",
      "\n",
      "                    result_name                 result_street result_postcode  \\\n",
      "0  Rue Saint Michel a Angouleme  Rue Saint Michel a Angouleme         16000.0   \n",
      "1  17 Boulevard Auguste Blanqui     Boulevard Auguste Blanqui         75013.0   \n",
      "2          La Croix des Archers          La Croix des Archers         56200.0   \n",
      "3          La Croix des Archers          La Croix des Archers         56200.0   \n",
      "4           Place Maréchal Foch           Place Maréchal Foch         20000.0   \n",
      "\n",
      "  result_city                    result_context result_citycode  \\\n",
      "0   Angoulême  16, Charente, Nouvelle-Aquitaine           16015   \n",
      "1       Paris          75, Paris, Île-de-France           75113   \n",
      "2  La Gacilly            56, Morbihan, Bretagne           56061   \n",
      "3  La Gacilly            56, Morbihan, Bretagne           56061   \n",
      "4     Ajaccio           2A, Corse-du-Sud, Corse           2A004   \n",
      "\n",
      "   result_oldcitycode result_oldcity           result_district result_status  \n",
      "0                 NaN            NaN                       NaN            ok  \n",
      "1                 NaN            NaN  Paris 13e Arrondissement            ok  \n",
      "2             56061.0     La Gacilly                       NaN            ok  \n",
      "3             56061.0     La Gacilly                       NaN            ok  \n",
      "4                 NaN            NaN                       NaN            ok  \n",
      "\n",
      "[5 rows x 39 columns]\n"
     ]
    }
   ],
   "source": [
    "# On merge\n",
    "\n",
    "efa_df = pd.read_csv(efa_path, sep=\";\")\n",
    "address_df = pd.read_csv(geocoded_addresses_path)\n",
    "\n",
    "merged_df = pd.merge(efa_df, address_df, on=\"ID EFA\", how=\"inner\")"
   ]
  },
  {
   "cell_type": "code",
   "execution_count": 38,
   "id": "6ef457a0",
   "metadata": {},
   "outputs": [
    {
     "name": "stdout",
     "output_type": "stream",
     "text": [
      "Index(['ID EFA', 'Cas assujettissement', 'Identifiant occupant',\n",
      "       'Nom occupant EFA', 'Complément nom EFA', 'Dénomination EFA',\n",
      "       'Adresse (Operat)', 'Complément adresse OPR', 'Commune OPR',\n",
      "       'Code commune OPR', 'Code postal OPR', 'Siège SIRN',\n",
      "       'Nom établissement SIRN', 'Enseigne établissement SIRN', 'Adresse SIRN',\n",
      "       'Complt adresse SIRN', 'Code postal SIRN', 'Code commune SIRN',\n",
      "       'Commune maj SIRN', 'Commune SIRN', 'full_address', 'longitude',\n",
      "       'latitude', 'result_score', 'result_score_next', 'result_label',\n",
      "       'result_type', 'result_id', 'result_housenumber', 'result_name',\n",
      "       'result_street', 'result_postcode', 'result_city', 'result_context',\n",
      "       'result_citycode', 'result_oldcitycode', 'result_oldcity',\n",
      "       'result_district', 'result_status'],\n",
      "      dtype='object')\n",
      "   ID EFA Cas assujettissement Identifiant occupant          Nom occupant EFA  \\\n",
      "0       5                    3       48458811600018       ROUSSELOT ANGOULEME   \n",
      "1       6                   1A       77568873203099       APF FRANCE HANDICAP   \n",
      "2       8                    2       80852873100025  GROUPE ROCHER OPERATIONS   \n",
      "3       9                    2       80852873100025  GROUPE ROCHER OPERATIONS   \n",
      "4      11                   1A       21200004600012                    MAIRIE   \n",
      "\n",
      "  Complément nom EFA Dénomination EFA              Adresse (Operat)  \\\n",
      "0                NaN              NaN  RUE SAINT MICHEL A ANGOULEME   \n",
      "1                NaN              NaN  17 BOULEVARD AUGUSTE BLANQUI   \n",
      "2                NaN              NaN          LA CROIX DES ARCHERS   \n",
      "3                NaN              NaN          LA CROIX DES ARCHERS   \n",
      "4     HOTEL DE VILLE              NaN                       PL FOCH   \n",
      "\n",
      "  Complément adresse OPR Commune OPR Code commune OPR  ...  \\\n",
      "0                    NaN   ANGOULEME            16015  ...   \n",
      "1                    NaN       PARIS            75113  ...   \n",
      "2                    NaN  LA GACILLY            56061  ...   \n",
      "3                    NaN  LA GACILLY            56061  ...   \n",
      "4         HOTEL DE VILLE     AJACCIO            2A004  ...   \n",
      "\n",
      "                    result_name                 result_street result_postcode  \\\n",
      "0  Rue Saint Michel a Angouleme  Rue Saint Michel a Angouleme         16000.0   \n",
      "1  17 Boulevard Auguste Blanqui     Boulevard Auguste Blanqui         75013.0   \n",
      "2          La Croix des Archers          La Croix des Archers         56200.0   \n",
      "3          La Croix des Archers          La Croix des Archers         56200.0   \n",
      "4           Place Maréchal Foch           Place Maréchal Foch         20000.0   \n",
      "\n",
      "  result_city                    result_context result_citycode  \\\n",
      "0   Angoulême  16, Charente, Nouvelle-Aquitaine           16015   \n",
      "1       Paris          75, Paris, Île-de-France           75113   \n",
      "2  La Gacilly            56, Morbihan, Bretagne           56061   \n",
      "3  La Gacilly            56, Morbihan, Bretagne           56061   \n",
      "4     Ajaccio           2A, Corse-du-Sud, Corse           2A004   \n",
      "\n",
      "   result_oldcitycode result_oldcity           result_district result_status  \n",
      "0                 NaN            NaN                       NaN            ok  \n",
      "1                 NaN            NaN  Paris 13e Arrondissement            ok  \n",
      "2             56061.0     La Gacilly                       NaN            ok  \n",
      "3             56061.0     La Gacilly                       NaN            ok  \n",
      "4                 NaN            NaN                       NaN            ok  \n",
      "\n",
      "[5 rows x 39 columns]\n",
      "merged lines : 323181\n"
     ]
    }
   ],
   "source": [
    "print(merged_df.columns)\n",
    "print(merged_df.head())\n",
    "print(f\"merged lines : {len(merged_df)}\")"
   ]
  },
  {
   "cell_type": "code",
   "execution_count": 40,
   "id": "9b71d735",
   "metadata": {},
   "outputs": [
    {
     "name": "stdout",
     "output_type": "stream",
     "text": [
      "214065\n",
      "geocoded lines : 214065\n"
     ]
    }
   ],
   "source": [
    "geocoded_efa_df = merged_df[merged_df[\"result_score\"] >= 0.8]\n",
    "print(f\"geocoded lines : {len(geocoded_efa_df)}\")"
   ]
  },
  {
   "cell_type": "code",
   "execution_count": 44,
   "id": "bddef2fe",
   "metadata": {},
   "outputs": [],
   "source": [
    "def row_to_input(row):\n",
    "    return {\n",
    "        \"ext_id\": row[\"ID EFA\"],\n",
    "        \"lat\": row[\"latitude\"],\n",
    "        \"lng\": row[\"longitude\"],\n",
    "        \"name\": row[\"Nom occupant EFA\"],\n",
    "        \"ban_id\": row[\"result_id\"] if row[\"result_type\"] == \"housenumber\" else None\n",
    "    }"
   ]
  },
  {
   "cell_type": "code",
   "execution_count": 47,
   "id": "c9edd363",
   "metadata": {},
   "outputs": [],
   "source": [
    "inputs = []\n",
    "\n",
    "for _, row in geocoded_efa_df.iterrows():\n",
    "    inputs.append(row_to_input(row))\n",
    "\n",
    "guesser = Guesser()\n",
    "guesser.create_work_file(inputs, guess_path)\n"
   ]
  },
  {
   "cell_type": "code",
   "execution_count": 4,
   "id": "fffa99c0",
   "metadata": {},
   "outputs": [
    {
     "data": {
      "application/vnd.jupyter.widget-view+json": {
       "model_id": "d222b5b6d8f44de98e4ff87beac3aa8d",
       "version_major": 2,
       "version_minor": 0
      },
      "text/plain": [
       "  0%|          | 0/429 [00:00<?, ?it/s]"
      ]
     },
     "metadata": {},
     "output_type": "display_data"
    },
    {
     "ename": "OperationalError",
     "evalue": "SSL SYSCALL error: EOF detected\n",
     "output_type": "error",
     "traceback": [
      "\u001b[31m---------------------------------------------------------------------------\u001b[39m",
      "\u001b[31mOperationalError\u001b[39m                          Traceback (most recent call last)",
      "\u001b[36mFile \u001b[39m\u001b[32m/venv/lib/python3.12/site-packages/django/db/backends/utils.py:105\u001b[39m, in \u001b[36mCursorWrapper._execute\u001b[39m\u001b[34m(self, sql, params, *ignored_wrapper_args)\u001b[39m\n\u001b[32m    104\u001b[39m \u001b[38;5;28;01melse\u001b[39;00m:\n\u001b[32m--> \u001b[39m\u001b[32m105\u001b[39m     \u001b[38;5;28;01mreturn\u001b[39;00m \u001b[38;5;28;43mself\u001b[39;49m\u001b[43m.\u001b[49m\u001b[43mcursor\u001b[49m\u001b[43m.\u001b[49m\u001b[43mexecute\u001b[49m\u001b[43m(\u001b[49m\u001b[43msql\u001b[49m\u001b[43m,\u001b[49m\u001b[43m \u001b[49m\u001b[43mparams\u001b[49m\u001b[43m)\u001b[49m\n",
      "\u001b[31mOperationalError\u001b[39m: SSL SYSCALL error: EOF detected\n",
      "\nThe above exception was the direct cause of the following exception:\n",
      "\u001b[31mOperationalError\u001b[39m                          Traceback (most recent call last)",
      "\u001b[36mCell\u001b[39m\u001b[36m \u001b[39m\u001b[32mIn[4]\u001b[39m\u001b[32m, line 7\u001b[39m\n\u001b[32m      1\u001b[39m guesser = Guesser(batch_size=\u001b[32m500\u001b[39m)\n\u001b[32m      2\u001b[39m guesser.handlers = [\n\u001b[32m      3\u001b[39m     GeocodeNameHandler(sleep_time=\u001b[32m0\u001b[39m, photon_url=\u001b[33m\"\u001b[39m\u001b[33mhttp://host.docker.internal:2322/api/\u001b[39m\u001b[33m\"\u001b[39m, bbox_apothem_in_meters=\u001b[32m1000\u001b[39m), \n\u001b[32m      4\u001b[39m     GeocodeAddressHandler()\n\u001b[32m      5\u001b[39m ]\n\u001b[32m----> \u001b[39m\u001b[32m7\u001b[39m \u001b[43mguesser\u001b[49m\u001b[43m.\u001b[49m\u001b[43mguess_work_file\u001b[49m\u001b[43m(\u001b[49m\u001b[43mguess_path\u001b[49m\u001b[43m)\u001b[49m\n",
      "\u001b[36mFile \u001b[39m\u001b[32m/app/batid/services/guess_bdg_new.py:71\u001b[39m, in \u001b[36mGuesser.guess_work_file\u001b[39m\u001b[34m(self, file_path)\u001b[39m\n\u001b[32m     69\u001b[39m \u001b[38;5;28;01mdef\u001b[39;00m\u001b[38;5;250m \u001b[39m\u001b[34mguess_work_file\u001b[39m(\u001b[38;5;28mself\u001b[39m, file_path):\n\u001b[32m     70\u001b[39m     \u001b[38;5;28mself\u001b[39m.load_work_file(file_path)\n\u001b[32m---> \u001b[39m\u001b[32m71\u001b[39m     \u001b[38;5;28;43mself\u001b[39;49m\u001b[43m.\u001b[49m\u001b[43mguess_all\u001b[49m\u001b[43m(\u001b[49m\n\u001b[32m     72\u001b[39m \u001b[43m        \u001b[49m\u001b[43mskip_if_no_change\u001b[49m\u001b[43m=\u001b[49m\u001b[38;5;28;43;01mTrue\u001b[39;49;00m\u001b[43m,\u001b[49m\n\u001b[32m     73\u001b[39m \u001b[43m        \u001b[49m\u001b[43mon_batch_done\u001b[49m\u001b[43m=\u001b[49m\u001b[38;5;28;43;01mlambda\u001b[39;49;00m\u001b[43m:\u001b[49m\u001b[43m \u001b[49m\u001b[38;5;28;43mself\u001b[39;49m\u001b[43m.\u001b[49m\u001b[43msave_work_file\u001b[49m\u001b[43m(\u001b[49m\u001b[43mfile_path\u001b[49m\u001b[43m)\u001b[49m\u001b[43m,\u001b[49m\n\u001b[32m     74\u001b[39m \u001b[43m    \u001b[49m\u001b[43m)\u001b[49m\n",
      "\u001b[36mFile \u001b[39m\u001b[32m/app/batid/services/guess_bdg_new.py:85\u001b[39m, in \u001b[36mGuesser.guess_all\u001b[39m\u001b[34m(self, skip_if_no_change, on_batch_done)\u001b[39m\n\u001b[32m     83\u001b[39m progress_bar = tqdm(batches)\n\u001b[32m     84\u001b[39m \u001b[38;5;28;01mfor\u001b[39;00m batch \u001b[38;5;129;01min\u001b[39;00m progress_bar:\n\u001b[32m---> \u001b[39m\u001b[32m85\u001b[39m     batch, changed_batch = \u001b[38;5;28;43mself\u001b[39;49m\u001b[43m.\u001b[49m\u001b[43mguess_batch\u001b[49m\u001b[43m(\u001b[49m\u001b[43mbatch\u001b[49m\u001b[43m)\u001b[49m\n\u001b[32m     87\u001b[39m     \u001b[38;5;28;01mif\u001b[39;00m \u001b[38;5;129;01mnot\u001b[39;00m changed_batch \u001b[38;5;129;01mand\u001b[39;00m skip_if_no_change:\n\u001b[32m     88\u001b[39m         progress_bar.set_description(\u001b[33m\"\u001b[39m\u001b[33mBatch already processed, skipping\u001b[39m\u001b[33m\"\u001b[39m)\n",
      "\u001b[36mFile \u001b[39m\u001b[32m/app/batid/services/guess_bdg_new.py:234\u001b[39m, in \u001b[36mGuesser.guess_batch\u001b[39m\u001b[34m(self, guesses)\u001b[39m\n\u001b[32m    231\u001b[39m \u001b[38;5;28;01mif\u001b[39;00m \u001b[38;5;129;01mnot\u001b[39;00m \u001b[38;5;28misinstance\u001b[39m(handler, AbstractHandler):\n\u001b[32m    232\u001b[39m     \u001b[38;5;28;01mraise\u001b[39;00m \u001b[38;5;167;01mValueError\u001b[39;00m(\u001b[33m\"\u001b[39m\u001b[33mHandler must be an instance of AbstractHandler\u001b[39m\u001b[33m\"\u001b[39m)\n\u001b[32m--> \u001b[39m\u001b[32m234\u001b[39m guesses, handler_changed_guesses = \u001b[43mhandler\u001b[49m\u001b[43m.\u001b[49m\u001b[43mhandle\u001b[49m\u001b[43m(\u001b[49m\u001b[43mguesses\u001b[49m\u001b[43m)\u001b[49m\n\u001b[32m    236\u001b[39m \u001b[38;5;28;01mif\u001b[39;00m handler_changed_guesses:\n\u001b[32m    237\u001b[39m     guesses_changed = \u001b[38;5;28;01mTrue\u001b[39;00m\n",
      "\u001b[36mFile \u001b[39m\u001b[32m/app/batid/services/guess_bdg_new.py:316\u001b[39m, in \u001b[36mAbstractHandler.handle\u001b[39m\u001b[34m(self, guesses)\u001b[39m\n\u001b[32m    314\u001b[39m \u001b[38;5;28;01mif\u001b[39;00m \u001b[38;5;28mlen\u001b[39m(to_guess) > \u001b[32m0\u001b[39m:\n\u001b[32m    315\u001b[39m     handler_changed_guesses = \u001b[38;5;28;01mTrue\u001b[39;00m\n\u001b[32m--> \u001b[39m\u001b[32m316\u001b[39m     to_guess = \u001b[38;5;28;43mself\u001b[39;49m\u001b[43m.\u001b[49m\u001b[43m_guess_batch\u001b[49m\u001b[43m(\u001b[49m\u001b[43mto_guess\u001b[49m\u001b[43m)\u001b[49m\n\u001b[32m    318\u001b[39m     guesses = to_guess | to_not_guess\n\u001b[32m    319\u001b[39m     guesses = \u001b[38;5;28mself\u001b[39m._add_finished_step(guesses)\n",
      "\u001b[36mFile \u001b[39m\u001b[32m/app/batid/services/guess_bdg_new.py:456\u001b[39m, in \u001b[36mGeocodeAddressHandler._guess_batch\u001b[39m\u001b[34m(self, guesses)\u001b[39m\n\u001b[32m    453\u001b[39m guesses = \u001b[38;5;28mself\u001b[39m._geocode_batch(guesses)\n\u001b[32m    455\u001b[39m \u001b[38;5;28;01mfor\u001b[39;00m guess \u001b[38;5;129;01min\u001b[39;00m guesses.values():\n\u001b[32m--> \u001b[39m\u001b[32m456\u001b[39m     guess = \u001b[38;5;28;43mself\u001b[39;49m\u001b[43m.\u001b[49m\u001b[43m_guess_one\u001b[49m\u001b[43m(\u001b[49m\u001b[43mguess\u001b[49m\u001b[43m)\u001b[49m\n\u001b[32m    457\u001b[39m     guesses[guess[\u001b[33m\"\u001b[39m\u001b[33minput\u001b[39m\u001b[33m\"\u001b[39m][\u001b[33m\"\u001b[39m\u001b[33mext_id\u001b[39m\u001b[33m\"\u001b[39m]] = guess\n\u001b[32m    459\u001b[39m \u001b[38;5;28;01mreturn\u001b[39;00m guesses\n",
      "\u001b[36mFile \u001b[39m\u001b[32m/app/batid/services/guess_bdg_new.py:478\u001b[39m, in \u001b[36mGeocodeAddressHandler._guess_one\u001b[39m\u001b[34m(self, guess)\u001b[39m\n\u001b[32m    474\u001b[39m \u001b[38;5;66;03m# The old version of the query before the \"bdg_addresses_id_idx\" index disappeared\u001b[39;00m\n\u001b[32m    475\u001b[39m \u001b[38;5;66;03m# bdgs = qs.filter(addresses_id__contains=[ban_id])\u001b[39;00m\n\u001b[32m    476\u001b[39m bdgs = qs.filter(addresses_read_only__id=ban_id)\n\u001b[32m--> \u001b[39m\u001b[32m478\u001b[39m \u001b[38;5;28;01mif\u001b[39;00m \u001b[43mbdgs\u001b[49m\u001b[43m.\u001b[49m\u001b[43mcount\u001b[49m\u001b[43m(\u001b[49m\u001b[43m)\u001b[49m > \u001b[32m0\u001b[39m:\n\u001b[32m    479\u001b[39m     guess[\u001b[33m\"\u001b[39m\u001b[33mmatches\u001b[39m\u001b[33m\"\u001b[39m] = bdgs\n\u001b[32m    480\u001b[39m     guess[\u001b[33m\"\u001b[39m\u001b[33mmatch_reason\u001b[39m\u001b[33m\"\u001b[39m] = \u001b[33m\"\u001b[39m\u001b[33mprecise_address_match\u001b[39m\u001b[33m\"\u001b[39m\n",
      "\u001b[36mFile \u001b[39m\u001b[32m/venv/lib/python3.12/site-packages/django/db/models/query.py:620\u001b[39m, in \u001b[36mQuerySet.count\u001b[39m\u001b[34m(self)\u001b[39m\n\u001b[32m    617\u001b[39m \u001b[38;5;28;01mif\u001b[39;00m \u001b[38;5;28mself\u001b[39m._result_cache \u001b[38;5;129;01mis\u001b[39;00m \u001b[38;5;129;01mnot\u001b[39;00m \u001b[38;5;28;01mNone\u001b[39;00m:\n\u001b[32m    618\u001b[39m     \u001b[38;5;28;01mreturn\u001b[39;00m \u001b[38;5;28mlen\u001b[39m(\u001b[38;5;28mself\u001b[39m._result_cache)\n\u001b[32m--> \u001b[39m\u001b[32m620\u001b[39m \u001b[38;5;28;01mreturn\u001b[39;00m \u001b[38;5;28;43mself\u001b[39;49m\u001b[43m.\u001b[49m\u001b[43mquery\u001b[49m\u001b[43m.\u001b[49m\u001b[43mget_count\u001b[49m\u001b[43m(\u001b[49m\u001b[43musing\u001b[49m\u001b[43m=\u001b[49m\u001b[38;5;28;43mself\u001b[39;49m\u001b[43m.\u001b[49m\u001b[43mdb\u001b[49m\u001b[43m)\u001b[49m\n",
      "\u001b[36mFile \u001b[39m\u001b[32m/venv/lib/python3.12/site-packages/django/db/models/sql/query.py:630\u001b[39m, in \u001b[36mQuery.get_count\u001b[39m\u001b[34m(self, using)\u001b[39m\n\u001b[32m    626\u001b[39m \u001b[38;5;250m\u001b[39m\u001b[33;03m\"\"\"\u001b[39;00m\n\u001b[32m    627\u001b[39m \u001b[33;03mPerform a COUNT() query using the current filter constraints.\u001b[39;00m\n\u001b[32m    628\u001b[39m \u001b[33;03m\"\"\"\u001b[39;00m\n\u001b[32m    629\u001b[39m obj = \u001b[38;5;28mself\u001b[39m.clone()\n\u001b[32m--> \u001b[39m\u001b[32m630\u001b[39m \u001b[38;5;28;01mreturn\u001b[39;00m \u001b[43mobj\u001b[49m\u001b[43m.\u001b[49m\u001b[43mget_aggregation\u001b[49m\u001b[43m(\u001b[49m\u001b[43musing\u001b[49m\u001b[43m,\u001b[49m\u001b[43m \u001b[49m\u001b[43m{\u001b[49m\u001b[33;43m\"\u001b[39;49m\u001b[33;43m__count\u001b[39;49m\u001b[33;43m\"\u001b[39;49m\u001b[43m:\u001b[49m\u001b[43m \u001b[49m\u001b[43mCount\u001b[49m\u001b[43m(\u001b[49m\u001b[33;43m\"\u001b[39;49m\u001b[33;43m*\u001b[39;49m\u001b[33;43m\"\u001b[39;49m\u001b[43m)\u001b[49m\u001b[43m}\u001b[49m\u001b[43m)\u001b[49m[\u001b[33m\"\u001b[39m\u001b[33m__count\u001b[39m\u001b[33m\"\u001b[39m]\n",
      "\u001b[36mFile \u001b[39m\u001b[32m/venv/lib/python3.12/site-packages/django/db/models/sql/query.py:616\u001b[39m, in \u001b[36mQuery.get_aggregation\u001b[39m\u001b[34m(self, using, aggregate_exprs)\u001b[39m\n\u001b[32m    614\u001b[39m outer_query.select_related = \u001b[38;5;28;01mFalse\u001b[39;00m\n\u001b[32m    615\u001b[39m compiler = outer_query.get_compiler(using, elide_empty=elide_empty)\n\u001b[32m--> \u001b[39m\u001b[32m616\u001b[39m result = \u001b[43mcompiler\u001b[49m\u001b[43m.\u001b[49m\u001b[43mexecute_sql\u001b[49m\u001b[43m(\u001b[49m\u001b[43mSINGLE\u001b[49m\u001b[43m)\u001b[49m\n\u001b[32m    617\u001b[39m \u001b[38;5;28;01mif\u001b[39;00m result \u001b[38;5;129;01mis\u001b[39;00m \u001b[38;5;28;01mNone\u001b[39;00m:\n\u001b[32m    618\u001b[39m     result = empty_set_result\n",
      "\u001b[36mFile \u001b[39m\u001b[32m/venv/lib/python3.12/site-packages/django/db/models/sql/compiler.py:1574\u001b[39m, in \u001b[36mSQLCompiler.execute_sql\u001b[39m\u001b[34m(self, result_type, chunked_fetch, chunk_size)\u001b[39m\n\u001b[32m   1572\u001b[39m     cursor = \u001b[38;5;28mself\u001b[39m.connection.cursor()\n\u001b[32m   1573\u001b[39m \u001b[38;5;28;01mtry\u001b[39;00m:\n\u001b[32m-> \u001b[39m\u001b[32m1574\u001b[39m     \u001b[43mcursor\u001b[49m\u001b[43m.\u001b[49m\u001b[43mexecute\u001b[49m\u001b[43m(\u001b[49m\u001b[43msql\u001b[49m\u001b[43m,\u001b[49m\u001b[43m \u001b[49m\u001b[43mparams\u001b[49m\u001b[43m)\u001b[49m\n\u001b[32m   1575\u001b[39m \u001b[38;5;28;01mexcept\u001b[39;00m \u001b[38;5;167;01mException\u001b[39;00m:\n\u001b[32m   1576\u001b[39m     \u001b[38;5;66;03m# Might fail for server-side cursors (e.g. connection closed)\u001b[39;00m\n\u001b[32m   1577\u001b[39m     cursor.close()\n",
      "\u001b[36mFile \u001b[39m\u001b[32m/venv/lib/python3.12/site-packages/django/db/backends/utils.py:122\u001b[39m, in \u001b[36mCursorDebugWrapper.execute\u001b[39m\u001b[34m(self, sql, params)\u001b[39m\n\u001b[32m    120\u001b[39m \u001b[38;5;28;01mdef\u001b[39;00m\u001b[38;5;250m \u001b[39m\u001b[34mexecute\u001b[39m(\u001b[38;5;28mself\u001b[39m, sql, params=\u001b[38;5;28;01mNone\u001b[39;00m):\n\u001b[32m    121\u001b[39m     \u001b[38;5;28;01mwith\u001b[39;00m \u001b[38;5;28mself\u001b[39m.debug_sql(sql, params, use_last_executed_query=\u001b[38;5;28;01mTrue\u001b[39;00m):\n\u001b[32m--> \u001b[39m\u001b[32m122\u001b[39m         \u001b[38;5;28;01mreturn\u001b[39;00m \u001b[38;5;28;43msuper\u001b[39;49m\u001b[43m(\u001b[49m\u001b[43m)\u001b[49m\u001b[43m.\u001b[49m\u001b[43mexecute\u001b[49m\u001b[43m(\u001b[49m\u001b[43msql\u001b[49m\u001b[43m,\u001b[49m\u001b[43m \u001b[49m\u001b[43mparams\u001b[49m\u001b[43m)\u001b[49m\n",
      "\u001b[36mFile \u001b[39m\u001b[32m/venv/lib/python3.12/site-packages/django/db/backends/utils.py:79\u001b[39m, in \u001b[36mCursorWrapper.execute\u001b[39m\u001b[34m(self, sql, params)\u001b[39m\n\u001b[32m     78\u001b[39m \u001b[38;5;28;01mdef\u001b[39;00m\u001b[38;5;250m \u001b[39m\u001b[34mexecute\u001b[39m(\u001b[38;5;28mself\u001b[39m, sql, params=\u001b[38;5;28;01mNone\u001b[39;00m):\n\u001b[32m---> \u001b[39m\u001b[32m79\u001b[39m     \u001b[38;5;28;01mreturn\u001b[39;00m \u001b[38;5;28;43mself\u001b[39;49m\u001b[43m.\u001b[49m\u001b[43m_execute_with_wrappers\u001b[49m\u001b[43m(\u001b[49m\n\u001b[32m     80\u001b[39m \u001b[43m        \u001b[49m\u001b[43msql\u001b[49m\u001b[43m,\u001b[49m\u001b[43m \u001b[49m\u001b[43mparams\u001b[49m\u001b[43m,\u001b[49m\u001b[43m \u001b[49m\u001b[43mmany\u001b[49m\u001b[43m=\u001b[49m\u001b[38;5;28;43;01mFalse\u001b[39;49;00m\u001b[43m,\u001b[49m\u001b[43m \u001b[49m\u001b[43mexecutor\u001b[49m\u001b[43m=\u001b[49m\u001b[38;5;28;43mself\u001b[39;49m\u001b[43m.\u001b[49m\u001b[43m_execute\u001b[49m\n\u001b[32m     81\u001b[39m \u001b[43m    \u001b[49m\u001b[43m)\u001b[49m\n",
      "\u001b[36mFile \u001b[39m\u001b[32m/venv/lib/python3.12/site-packages/django/db/backends/utils.py:92\u001b[39m, in \u001b[36mCursorWrapper._execute_with_wrappers\u001b[39m\u001b[34m(self, sql, params, many, executor)\u001b[39m\n\u001b[32m     90\u001b[39m \u001b[38;5;28;01mfor\u001b[39;00m wrapper \u001b[38;5;129;01min\u001b[39;00m \u001b[38;5;28mreversed\u001b[39m(\u001b[38;5;28mself\u001b[39m.db.execute_wrappers):\n\u001b[32m     91\u001b[39m     executor = functools.partial(wrapper, executor)\n\u001b[32m---> \u001b[39m\u001b[32m92\u001b[39m \u001b[38;5;28;01mreturn\u001b[39;00m \u001b[43mexecutor\u001b[49m\u001b[43m(\u001b[49m\u001b[43msql\u001b[49m\u001b[43m,\u001b[49m\u001b[43m \u001b[49m\u001b[43mparams\u001b[49m\u001b[43m,\u001b[49m\u001b[43m \u001b[49m\u001b[43mmany\u001b[49m\u001b[43m,\u001b[49m\u001b[43m \u001b[49m\u001b[43mcontext\u001b[49m\u001b[43m)\u001b[49m\n",
      "\u001b[36mFile \u001b[39m\u001b[32m/venv/lib/python3.12/site-packages/django/db/backends/utils.py:100\u001b[39m, in \u001b[36mCursorWrapper._execute\u001b[39m\u001b[34m(self, sql, params, *ignored_wrapper_args)\u001b[39m\n\u001b[32m     98\u001b[39m     warnings.warn(\u001b[38;5;28mself\u001b[39m.APPS_NOT_READY_WARNING_MSG, category=\u001b[38;5;167;01mRuntimeWarning\u001b[39;00m)\n\u001b[32m     99\u001b[39m \u001b[38;5;28mself\u001b[39m.db.validate_no_broken_transaction()\n\u001b[32m--> \u001b[39m\u001b[32m100\u001b[39m \u001b[43m\u001b[49m\u001b[38;5;28;43;01mwith\u001b[39;49;00m\u001b[43m \u001b[49m\u001b[38;5;28;43mself\u001b[39;49m\u001b[43m.\u001b[49m\u001b[43mdb\u001b[49m\u001b[43m.\u001b[49m\u001b[43mwrap_database_errors\u001b[49m\u001b[43m:\u001b[49m\n\u001b[32m    101\u001b[39m \u001b[43m    \u001b[49m\u001b[38;5;28;43;01mif\u001b[39;49;00m\u001b[43m \u001b[49m\u001b[43mparams\u001b[49m\u001b[43m \u001b[49m\u001b[38;5;129;43;01mis\u001b[39;49;00m\u001b[43m \u001b[49m\u001b[38;5;28;43;01mNone\u001b[39;49;00m\u001b[43m:\u001b[49m\n\u001b[32m    102\u001b[39m \u001b[43m        \u001b[49m\u001b[38;5;66;43;03m# params default might be backend specific.\u001b[39;49;00m\n\u001b[32m    103\u001b[39m \u001b[43m        \u001b[49m\u001b[38;5;28;43;01mreturn\u001b[39;49;00m\u001b[43m \u001b[49m\u001b[38;5;28;43mself\u001b[39;49m\u001b[43m.\u001b[49m\u001b[43mcursor\u001b[49m\u001b[43m.\u001b[49m\u001b[43mexecute\u001b[49m\u001b[43m(\u001b[49m\u001b[43msql\u001b[49m\u001b[43m)\u001b[49m\n",
      "\u001b[36mFile \u001b[39m\u001b[32m/venv/lib/python3.12/site-packages/django/db/utils.py:91\u001b[39m, in \u001b[36mDatabaseErrorWrapper.__exit__\u001b[39m\u001b[34m(self, exc_type, exc_value, traceback)\u001b[39m\n\u001b[32m     89\u001b[39m \u001b[38;5;28;01mif\u001b[39;00m dj_exc_type \u001b[38;5;129;01mnot\u001b[39;00m \u001b[38;5;129;01min\u001b[39;00m (DataError, IntegrityError):\n\u001b[32m     90\u001b[39m     \u001b[38;5;28mself\u001b[39m.wrapper.errors_occurred = \u001b[38;5;28;01mTrue\u001b[39;00m\n\u001b[32m---> \u001b[39m\u001b[32m91\u001b[39m \u001b[38;5;28;01mraise\u001b[39;00m dj_exc_value.with_traceback(traceback) \u001b[38;5;28;01mfrom\u001b[39;00m\u001b[38;5;250m \u001b[39m\u001b[34;01mexc_value\u001b[39;00m\n",
      "\u001b[36mFile \u001b[39m\u001b[32m/venv/lib/python3.12/site-packages/django/db/backends/utils.py:105\u001b[39m, in \u001b[36mCursorWrapper._execute\u001b[39m\u001b[34m(self, sql, params, *ignored_wrapper_args)\u001b[39m\n\u001b[32m    103\u001b[39m     \u001b[38;5;28;01mreturn\u001b[39;00m \u001b[38;5;28mself\u001b[39m.cursor.execute(sql)\n\u001b[32m    104\u001b[39m \u001b[38;5;28;01melse\u001b[39;00m:\n\u001b[32m--> \u001b[39m\u001b[32m105\u001b[39m     \u001b[38;5;28;01mreturn\u001b[39;00m \u001b[38;5;28;43mself\u001b[39;49m\u001b[43m.\u001b[49m\u001b[43mcursor\u001b[49m\u001b[43m.\u001b[49m\u001b[43mexecute\u001b[49m\u001b[43m(\u001b[49m\u001b[43msql\u001b[49m\u001b[43m,\u001b[49m\u001b[43m \u001b[49m\u001b[43mparams\u001b[49m\u001b[43m)\u001b[49m\n",
      "\u001b[31mOperationalError\u001b[39m: SSL SYSCALL error: EOF detected\n"
     ]
    }
   ],
   "source": [
    "guesser = Guesser(batch_size=500)\n",
    "guesser.handlers = [\n",
    "    GeocodeNameHandler(sleep_time=0, photon_url=\"http://host.docker.internal:2322/api/\", bbox_apothem_in_meters=1000), \n",
    "    GeocodeAddressHandler()\n",
    "]\n",
    "\n",
    "guesser.guess_work_file(guess_path)"
   ]
  },
  {
   "cell_type": "code",
   "execution_count": null,
   "id": "cfe41065",
   "metadata": {},
   "outputs": [],
   "source": []
  }
 ],
 "metadata": {
  "kernelspec": {
   "display_name": "Django Shell-Plus",
   "language": "python",
   "name": "django_extensions"
  },
  "language_info": {
   "codemirror_mode": {
    "name": "ipython",
    "version": 3
   },
   "file_extension": ".py",
   "mimetype": "text/x-python",
   "name": "python",
   "nbconvert_exporter": "python",
   "pygments_lexer": "ipython3",
   "version": "3.12.4"
  }
 },
 "nbformat": 4,
 "nbformat_minor": 5
}
