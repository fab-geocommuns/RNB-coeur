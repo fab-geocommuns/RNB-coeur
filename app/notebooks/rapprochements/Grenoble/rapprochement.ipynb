{
 "cells": [
  {
   "cell_type": "code",
   "execution_count": 25,
   "metadata": {},
   "outputs": [],
   "source": [
    "import geopandas as gpd\n",
    "import pandas as pd\n",
    "\n",
    "pd.set_option('display.max_columns', None)\n",
    "pd.set_option('display.max_rows', None)"
   ]
  },
  {
   "cell_type": "code",
   "execution_count": 26,
   "metadata": {},
   "outputs": [
    {
     "name": "stdout",
     "output_type": "stream",
     "text": [
      "nombre de bâtiments :  15299\n"
     ]
    }
   ],
   "source": [
    "df = gpd.read_file('/app/notebooks/rapprochements/Grenoble/202406_BATIMfiltre-RNB_EPSG2154.gpkg')\n",
    "\n",
    "print(\"nombre de bâtiments : \", len(df))"
   ]
  },
  {
   "cell_type": "code",
   "execution_count": 27,
   "metadata": {},
   "outputs": [
    {
     "name": "stdout",
     "output_type": "stream",
     "text": [
      "current crs :  EPSG:3945\n",
      "   BATIM_ID                                           geometry\n",
      "0      88.0  MULTIPOLYGON (((5.69643 45.20544, 5.69654 45.2...\n",
      "1      89.0  MULTIPOLYGON (((5.69717 45.20487, 5.69729 45.2...\n",
      "2      90.0  MULTIPOLYGON (((5.69769 45.20447, 5.69782 45.2...\n",
      "3      91.0  MULTIPOLYGON (((5.69594 45.20896, 5.69596 45.2...\n",
      "4      92.0  MULTIPOLYGON (((5.69136 45.20406, 5.69132 45.2...\n"
     ]
    }
   ],
   "source": [
    "# print current crs\n",
    "print(\"current crs : \", df.crs)\n",
    "\n",
    "# convert from 3945 to 4326\n",
    "df = df.to_crs(epsg=4326)\n",
    "\n",
    "print(df.head())"
   ]
  },
  {
   "cell_type": "code",
   "execution_count": 28,
   "metadata": {},
   "outputs": [
    {
     "name": "stdout",
     "output_type": "stream",
     "text": [
      "   BATIM_ID                                           geometry  \\\n",
      "0      88.0  MULTIPOLYGON (((5.69643 45.20544, 5.69654 45.2...   \n",
      "1      89.0  MULTIPOLYGON (((5.69717 45.20487, 5.69729 45.2...   \n",
      "2      90.0  MULTIPOLYGON (((5.69769 45.20447, 5.69782 45.2...   \n",
      "3      91.0  MULTIPOLYGON (((5.69594 45.20896, 5.69596 45.2...   \n",
      "4      92.0  MULTIPOLYGON (((5.69136 45.20406, 5.69132 45.2...   \n",
      "\n",
      "  grenoble_rnb_intersection  \n",
      "0         [(Z3PDD3ZPPH7F,)]  \n",
      "1         [(RNMWMCG8884F,)]  \n",
      "2         [(SY7Y7H2TE7EQ,)]  \n",
      "3         [(2AKTFNSC46MZ,)]  \n",
      "4         [(FV92328RPJJJ,)]  \n"
     ]
    }
   ],
   "source": [
    "from batid.models import Building\n",
    "import os\n",
    "os.environ[\"DJANGO_ALLOW_ASYNC_UNSAFE\"] = \"true\"\n",
    "from django.db import connection\n",
    "\n",
    "def intersects_with(geom):\n",
    "    sql = f\"SELECT rnb_id FROM batid_building WHERE ST_Intersects(shape, ST_GeomFromText('{geom.wkt}', 4326))\"\n",
    "    with connection.cursor() as cursor:\n",
    "        cursor.execute(sql)\n",
    "        rnb_ids = cursor.fetchall()\n",
    "    \n",
    "    return rnb_ids\n",
    "\n",
    "df['grenoble_rnb_intersection'] = df['geometry'].apply(intersects_with)\n",
    "print(df.head())"
   ]
  },
  {
   "cell_type": "code",
   "execution_count": 29,
   "metadata": {},
   "outputs": [
    {
     "name": "stdout",
     "output_type": "stream",
     "text": [
      "nombre de lignes sans intersection :  583\n"
     ]
    }
   ],
   "source": [
    "# count the number of lines without intersection\n",
    "print(\"nombre de lignes sans intersection : \", len(df[df['grenoble_rnb_intersection'].apply(len) == 0]))"
   ]
  },
  {
   "cell_type": "code",
   "execution_count": 30,
   "metadata": {},
   "outputs": [],
   "source": [
    "def link_1_1(geom):\n",
    "    sql = f\"\"\"SELECT rnb_id FROM batid_building WHERE ST_Intersects(shape, ST_GeomFromText('{geom.wkt}', 4326))\n",
    "    and ST_AREA(ST_Intersection(shape, ST_GeomFromText('{geom.wkt}', 4326))) / ST_AREA(ST_GeomFromText('{geom.wkt}', 4326)) > 0.8\n",
    "    and ST_AREA(ST_Intersection(shape, ST_GeomFromText('{geom.wkt}', 4326))) / ST_AREA(shape) > 0.8    \n",
    "    \"\"\"\n",
    "    with connection.cursor() as cursor:\n",
    "        cursor.execute(sql)\n",
    "        rnb_ids = cursor.fetchall()\n",
    "\n",
    "        return rnb_ids\n",
    "\n",
    "def grenoble_inclu(geom):\n",
    "    sql = f\"\"\"SELECT rnb_id FROM batid_building WHERE ST_AREA(shape) > 0 and ST_Intersects(shape, ST_GeomFromText('{geom.wkt}', 4326))\n",
    "    and ST_AREA(ST_Intersection(shape, ST_GeomFromText('{geom.wkt}', 4326))) / ST_AREA(ST_GeomFromText('{geom.wkt}', 4326)) > 0.8\n",
    "    and ST_AREA(ST_Intersection(shape, ST_GeomFromText('{geom.wkt}', 4326))) / ST_AREA(shape) <= 0.8    \n",
    "    \"\"\"\n",
    "    with connection.cursor() as cursor:\n",
    "        cursor.execute(sql)\n",
    "        rnb_ids = cursor.fetchall()\n",
    "\n",
    "        return rnb_ids\n",
    "\n",
    "def rnb_inclu(geom):\n",
    "    sql = f\"\"\"SELECT rnb_id FROM batid_building WHERE ST_AREA(shape) > 0 and ST_Intersects(shape, ST_GeomFromText('{geom.wkt}', 4326))\n",
    "    and ST_AREA(ST_Intersection(shape, ST_GeomFromText('{geom.wkt}', 4326))) / ST_AREA(ST_GeomFromText('{geom.wkt}', 4326)) <= 0.8\n",
    "    and ST_AREA(ST_Intersection(shape, ST_GeomFromText('{geom.wkt}', 4326))) / ST_AREA(shape) > 0.8    \n",
    "    \"\"\"\n",
    "    with connection.cursor() as cursor:\n",
    "        cursor.execute(sql)\n",
    "        rnb_ids = cursor.fetchall()\n",
    "\n",
    "        return rnb_ids\n",
    "\n",
    "def small_intersection(geom):\n",
    "    sql = f\"\"\"SELECT rnb_id FROM batid_building WHERE ST_AREA(shape) > 0 and ST_Intersects(shape, ST_GeomFromText('{geom.wkt}', 4326))\n",
    "    and ST_AREA(ST_Intersection(shape, ST_GeomFromText('{geom.wkt}', 4326))) / ST_AREA(ST_GeomFromText('{geom.wkt}', 4326)) <= 0.8\n",
    "    and ST_AREA(ST_Intersection(shape, ST_GeomFromText('{geom.wkt}', 4326))) / ST_AREA(shape) <= 0.8    \n",
    "    \"\"\"\n",
    "    with connection.cursor() as cursor:\n",
    "        cursor.execute(sql)\n",
    "        rnb_ids = cursor.fetchall()\n",
    "\n",
    "        return rnb_ids\n",
    "\n",
    "df['match_1_1'] = df['geometry'].apply(link_1_1)\n",
    "df['grenoble_inclu_dans_RNB'] = df['geometry'].apply(grenoble_inclu)\n",
    "df['RNB_inclu_dans_grenoble'] = df['geometry'].apply(rnb_inclu)\n",
    "df['no_intersection'] = df['grenoble_rnb_intersection'].apply(len) == 0\n",
    "df['small_intersection'] = df['geometry'].apply(small_intersection)"
   ]
  },
  {
   "cell_type": "code",
   "execution_count": 31,
   "metadata": {},
   "outputs": [
    {
     "name": "stdout",
     "output_type": "stream",
     "text": [
      "nombre de 1_1 :  9969\n"
     ]
    }
   ],
   "source": [
    "# count the number of 1_1 matches\n",
    "print(\"nombre de 1_1 : \", len(df[df['match_1_1'].apply(lambda x: len(x) > 0)]))"
   ]
  },
  {
   "cell_type": "code",
   "execution_count": 34,
   "metadata": {},
   "outputs": [
    {
     "data": {
      "text/html": [
       "<div>\n",
       "<style scoped>\n",
       "    .dataframe tbody tr th:only-of-type {\n",
       "        vertical-align: middle;\n",
       "    }\n",
       "\n",
       "    .dataframe tbody tr th {\n",
       "        vertical-align: top;\n",
       "    }\n",
       "\n",
       "    .dataframe thead th {\n",
       "        text-align: right;\n",
       "    }\n",
       "</style>\n",
       "<table border=\"1\" class=\"dataframe\">\n",
       "  <thead>\n",
       "    <tr style=\"text-align: right;\">\n",
       "      <th></th>\n",
       "      <th>BATIM_ID</th>\n",
       "      <th>geometry</th>\n",
       "      <th>grenoble_rnb_intersection</th>\n",
       "      <th>match_1_1</th>\n",
       "      <th>grenoble_inclu_dans_RNB</th>\n",
       "      <th>RNB_inclu_dans_grenoble</th>\n",
       "      <th>no_intersection</th>\n",
       "      <th>small_intersection</th>\n",
       "    </tr>\n",
       "  </thead>\n",
       "  <tbody>\n",
       "    <tr>\n",
       "      <th>0</th>\n",
       "      <td>88.0</td>\n",
       "      <td>MULTIPOLYGON (((5.69643 45.20544, 5.69654 45.2...</td>\n",
       "      <td>[(Z3PDD3ZPPH7F,)]</td>\n",
       "      <td>[(Z3PDD3ZPPH7F,)]</td>\n",
       "      <td>[]</td>\n",
       "      <td>[]</td>\n",
       "      <td>False</td>\n",
       "      <td>[]</td>\n",
       "    </tr>\n",
       "    <tr>\n",
       "      <th>1</th>\n",
       "      <td>89.0</td>\n",
       "      <td>MULTIPOLYGON (((5.69717 45.20487, 5.69729 45.2...</td>\n",
       "      <td>[(RNMWMCG8884F,)]</td>\n",
       "      <td>[(RNMWMCG8884F,)]</td>\n",
       "      <td>[]</td>\n",
       "      <td>[]</td>\n",
       "      <td>False</td>\n",
       "      <td>[]</td>\n",
       "    </tr>\n",
       "    <tr>\n",
       "      <th>2</th>\n",
       "      <td>90.0</td>\n",
       "      <td>MULTIPOLYGON (((5.69769 45.20447, 5.69782 45.2...</td>\n",
       "      <td>[(SY7Y7H2TE7EQ,)]</td>\n",
       "      <td>[(SY7Y7H2TE7EQ,)]</td>\n",
       "      <td>[]</td>\n",
       "      <td>[]</td>\n",
       "      <td>False</td>\n",
       "      <td>[]</td>\n",
       "    </tr>\n",
       "    <tr>\n",
       "      <th>3</th>\n",
       "      <td>91.0</td>\n",
       "      <td>MULTIPOLYGON (((5.69594 45.20896, 5.69596 45.2...</td>\n",
       "      <td>[(2AKTFNSC46MZ,)]</td>\n",
       "      <td>[]</td>\n",
       "      <td>[]</td>\n",
       "      <td>[]</td>\n",
       "      <td>False</td>\n",
       "      <td>[(2AKTFNSC46MZ,)]</td>\n",
       "    </tr>\n",
       "    <tr>\n",
       "      <th>4</th>\n",
       "      <td>92.0</td>\n",
       "      <td>MULTIPOLYGON (((5.69136 45.20406, 5.69132 45.2...</td>\n",
       "      <td>[(FV92328RPJJJ,)]</td>\n",
       "      <td>[(FV92328RPJJJ,)]</td>\n",
       "      <td>[]</td>\n",
       "      <td>[]</td>\n",
       "      <td>False</td>\n",
       "      <td>[]</td>\n",
       "    </tr>\n",
       "  </tbody>\n",
       "</table>\n",
       "</div>"
      ],
      "text/plain": [
       "   BATIM_ID                                           geometry  \\\n",
       "0      88.0  MULTIPOLYGON (((5.69643 45.20544, 5.69654 45.2...   \n",
       "1      89.0  MULTIPOLYGON (((5.69717 45.20487, 5.69729 45.2...   \n",
       "2      90.0  MULTIPOLYGON (((5.69769 45.20447, 5.69782 45.2...   \n",
       "3      91.0  MULTIPOLYGON (((5.69594 45.20896, 5.69596 45.2...   \n",
       "4      92.0  MULTIPOLYGON (((5.69136 45.20406, 5.69132 45.2...   \n",
       "\n",
       "  grenoble_rnb_intersection          match_1_1 grenoble_inclu_dans_RNB  \\\n",
       "0         [(Z3PDD3ZPPH7F,)]  [(Z3PDD3ZPPH7F,)]                      []   \n",
       "1         [(RNMWMCG8884F,)]  [(RNMWMCG8884F,)]                      []   \n",
       "2         [(SY7Y7H2TE7EQ,)]  [(SY7Y7H2TE7EQ,)]                      []   \n",
       "3         [(2AKTFNSC46MZ,)]                 []                      []   \n",
       "4         [(FV92328RPJJJ,)]  [(FV92328RPJJJ,)]                      []   \n",
       "\n",
       "  RNB_inclu_dans_grenoble  no_intersection small_intersection  \n",
       "0                      []            False                 []  \n",
       "1                      []            False                 []  \n",
       "2                      []            False                 []  \n",
       "3                      []            False  [(2AKTFNSC46MZ,)]  \n",
       "4                      []            False                 []  "
      ]
     },
     "execution_count": 34,
     "metadata": {},
     "output_type": "execute_result"
    }
   ],
   "source": [
    "df.head()"
   ]
  },
  {
   "cell_type": "code",
   "execution_count": 35,
   "metadata": {},
   "outputs": [
    {
     "name": "stdout",
     "output_type": "stream",
     "text": [
      "   BATIM_ID                                           geometry  \\\n",
      "0      88.0  MULTIPOLYGON (((5.69643 45.20544, 5.69654 45.2...   \n",
      "1      89.0  MULTIPOLYGON (((5.69717 45.20487, 5.69729 45.2...   \n",
      "2      90.0  MULTIPOLYGON (((5.69769 45.20447, 5.69782 45.2...   \n",
      "3      91.0  MULTIPOLYGON (((5.69594 45.20896, 5.69596 45.2...   \n",
      "4      92.0  MULTIPOLYGON (((5.69136 45.20406, 5.69132 45.2...   \n",
      "\n",
      "  grenoble_rnb_intersection          match_1_1 grenoble_inclu_dans_RNB  \\\n",
      "0         [(Z3PDD3ZPPH7F,)]  [(Z3PDD3ZPPH7F,)]                      []   \n",
      "1         [(RNMWMCG8884F,)]  [(RNMWMCG8884F,)]                      []   \n",
      "2         [(SY7Y7H2TE7EQ,)]  [(SY7Y7H2TE7EQ,)]                      []   \n",
      "3         [(2AKTFNSC46MZ,)]                 []                      []   \n",
      "4         [(FV92328RPJJJ,)]  [(FV92328RPJJJ,)]                      []   \n",
      "\n",
      "  RNB_inclu_dans_grenoble  no_intersection small_intersection  \n",
      "0                      []            False                 []  \n",
      "1                      []            False                 []  \n",
      "2                      []            False                 []  \n",
      "3                      []            False  [(2AKTFNSC46MZ,)]  \n",
      "4                      []            False                 []  \n"
     ]
    }
   ],
   "source": [
    "print(df.head())"
   ]
  },
  {
   "cell_type": "code",
   "execution_count": 36,
   "metadata": {},
   "outputs": [
    {
     "data": {
      "text/html": [
       "<div>\n",
       "<style scoped>\n",
       "    .dataframe tbody tr th:only-of-type {\n",
       "        vertical-align: middle;\n",
       "    }\n",
       "\n",
       "    .dataframe tbody tr th {\n",
       "        vertical-align: top;\n",
       "    }\n",
       "\n",
       "    .dataframe thead th {\n",
       "        text-align: right;\n",
       "    }\n",
       "</style>\n",
       "<table border=\"1\" class=\"dataframe\">\n",
       "  <thead>\n",
       "    <tr style=\"text-align: right;\">\n",
       "      <th></th>\n",
       "      <th>BATIM_ID</th>\n",
       "      <th>geometry</th>\n",
       "      <th>grenoble_rnb_intersection</th>\n",
       "      <th>match_1_1</th>\n",
       "      <th>grenoble_inclu_dans_RNB</th>\n",
       "      <th>RNB_inclu_dans_grenoble</th>\n",
       "      <th>no_intersection</th>\n",
       "      <th>small_intersection</th>\n",
       "    </tr>\n",
       "  </thead>\n",
       "  <tbody>\n",
       "    <tr>\n",
       "      <th>0</th>\n",
       "      <td>88.0</td>\n",
       "      <td>MULTIPOLYGON (((5.69643 45.20544, 5.69654 45.2...</td>\n",
       "      <td>[Z3PDD3ZPPH7F]</td>\n",
       "      <td>[Z3PDD3ZPPH7F]</td>\n",
       "      <td>[]</td>\n",
       "      <td>[]</td>\n",
       "      <td>False</td>\n",
       "      <td>[]</td>\n",
       "    </tr>\n",
       "    <tr>\n",
       "      <th>1</th>\n",
       "      <td>89.0</td>\n",
       "      <td>MULTIPOLYGON (((5.69717 45.20487, 5.69729 45.2...</td>\n",
       "      <td>[RNMWMCG8884F]</td>\n",
       "      <td>[RNMWMCG8884F]</td>\n",
       "      <td>[]</td>\n",
       "      <td>[]</td>\n",
       "      <td>False</td>\n",
       "      <td>[]</td>\n",
       "    </tr>\n",
       "    <tr>\n",
       "      <th>2</th>\n",
       "      <td>90.0</td>\n",
       "      <td>MULTIPOLYGON (((5.69769 45.20447, 5.69782 45.2...</td>\n",
       "      <td>[SY7Y7H2TE7EQ]</td>\n",
       "      <td>[SY7Y7H2TE7EQ]</td>\n",
       "      <td>[]</td>\n",
       "      <td>[]</td>\n",
       "      <td>False</td>\n",
       "      <td>[]</td>\n",
       "    </tr>\n",
       "    <tr>\n",
       "      <th>3</th>\n",
       "      <td>91.0</td>\n",
       "      <td>MULTIPOLYGON (((5.69594 45.20896, 5.69596 45.2...</td>\n",
       "      <td>[2AKTFNSC46MZ]</td>\n",
       "      <td>[]</td>\n",
       "      <td>[]</td>\n",
       "      <td>[]</td>\n",
       "      <td>False</td>\n",
       "      <td>[2AKTFNSC46MZ]</td>\n",
       "    </tr>\n",
       "    <tr>\n",
       "      <th>4</th>\n",
       "      <td>92.0</td>\n",
       "      <td>MULTIPOLYGON (((5.69136 45.20406, 5.69132 45.2...</td>\n",
       "      <td>[FV92328RPJJJ]</td>\n",
       "      <td>[FV92328RPJJJ]</td>\n",
       "      <td>[]</td>\n",
       "      <td>[]</td>\n",
       "      <td>False</td>\n",
       "      <td>[]</td>\n",
       "    </tr>\n",
       "  </tbody>\n",
       "</table>\n",
       "</div>"
      ],
      "text/plain": [
       "   BATIM_ID                                           geometry  \\\n",
       "0      88.0  MULTIPOLYGON (((5.69643 45.20544, 5.69654 45.2...   \n",
       "1      89.0  MULTIPOLYGON (((5.69717 45.20487, 5.69729 45.2...   \n",
       "2      90.0  MULTIPOLYGON (((5.69769 45.20447, 5.69782 45.2...   \n",
       "3      91.0  MULTIPOLYGON (((5.69594 45.20896, 5.69596 45.2...   \n",
       "4      92.0  MULTIPOLYGON (((5.69136 45.20406, 5.69132 45.2...   \n",
       "\n",
       "  grenoble_rnb_intersection       match_1_1 grenoble_inclu_dans_RNB  \\\n",
       "0            [Z3PDD3ZPPH7F]  [Z3PDD3ZPPH7F]                      []   \n",
       "1            [RNMWMCG8884F]  [RNMWMCG8884F]                      []   \n",
       "2            [SY7Y7H2TE7EQ]  [SY7Y7H2TE7EQ]                      []   \n",
       "3            [2AKTFNSC46MZ]              []                      []   \n",
       "4            [FV92328RPJJJ]  [FV92328RPJJJ]                      []   \n",
       "\n",
       "  RNB_inclu_dans_grenoble  no_intersection small_intersection  \n",
       "0                      []            False                 []  \n",
       "1                      []            False                 []  \n",
       "2                      []            False                 []  \n",
       "3                      []            False     [2AKTFNSC46MZ]  \n",
       "4                      []            False                 []  "
      ]
     },
     "execution_count": 36,
     "metadata": {},
     "output_type": "execute_result"
    }
   ],
   "source": [
    "# remove parenthesis\n",
    "df['grenoble_rnb_intersection'] = df['grenoble_rnb_intersection'].apply(lambda x: [y[0] for y in x])\n",
    "df['match_1_1'] = df['match_1_1'].apply(lambda x: [y[0] for y in x])\n",
    "df['grenoble_inclu_dans_RNB'] = df['grenoble_inclu_dans_RNB'].apply(lambda x: [y[0] for y in x])\n",
    "df['RNB_inclu_dans_grenoble'] = df['RNB_inclu_dans_grenoble'].apply(lambda x: [y[0] for y in x])\n",
    "df['small_intersection'] = df['small_intersection'].apply(lambda x: [y[0] for y in x])\n",
    "\n",
    "df.head()"
   ]
  },
  {
   "cell_type": "code",
   "execution_count": 37,
   "metadata": {},
   "outputs": [],
   "source": [
    "df[['BATIM_ID', 'grenoble_rnb_intersection', 'match_1_1', 'grenoble_inclu_dans_RNB', 'RNB_inclu_dans_grenoble', 'no_intersection', 'small_intersection']].to_csv('/app/notebooks/rapprochements/Grenoble/resultat_rapprochement_rnb_grenoble.csv', index=False)\n"
   ]
  },
  {
   "cell_type": "code",
   "execution_count": 24,
   "metadata": {},
   "outputs": [
    {
     "name": "stdout",
     "output_type": "stream",
     "text": [
      "nombre de True par colonne : \n",
      "       match_1_1  grenoble_inclu_dans_RNB  RNB_inclu_dans_grenoble  \\\n",
      "False       5330                    14413                    14434   \n",
      "True        9969                      886                      865   \n",
      "\n",
      "       no_intersection  small_intersection  \n",
      "False            14716                5065  \n",
      "True               583               10234  \n"
     ]
    }
   ],
   "source": [
    "# number of True by column\n",
    "print(\"nombre de True par colonne : \")\n",
    "print(df[['match_1_1', 'grenoble_inclu_dans_RNB', 'RNB_inclu_dans_grenoble', 'no_intersection', 'small_intersection']].apply(pd.Series.value_counts))"
   ]
  }
 ],
 "metadata": {
  "kernelspec": {
   "display_name": "Django Shell-Plus",
   "language": "python",
   "name": "django_extensions"
  },
  "language_info": {
   "codemirror_mode": {
    "name": "ipython",
    "version": 3
   },
   "file_extension": ".py",
   "mimetype": "text/x-python",
   "name": "python",
   "nbconvert_exporter": "python",
   "pygments_lexer": "ipython3",
   "version": "3.10.14"
  }
 },
 "nbformat": 4,
 "nbformat_minor": 2
}
