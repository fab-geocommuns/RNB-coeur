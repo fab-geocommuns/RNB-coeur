{
 "cells": [
  {
   "cell_type": "code",
   "execution_count": 1,
   "id": "b68a1ff4",
   "metadata": {},
   "outputs": [
    {
     "name": "stdout",
     "output_type": "stream",
     "text": [
      "<Response [200]>\n"
     ]
    },
    {
     "data": {
      "text/plain": [
       "{'type': 'FeatureCollection',\n",
       " 'geocoding': {'version': '0.1.0',\n",
       "  'attribution': 'Data © OpenStreetMap contributors, ODbL 1.0. http://osm.org/copyright',\n",
       "  'licence': 'ODbL',\n",
       "  'query': 'Notre dame de paris'},\n",
       " 'features': [{'type': 'Feature',\n",
       "   'properties': {'geocoding': {'place_id': 83161441,\n",
       "     'osm_type': 'way',\n",
       "     'osm_id': 201611261,\n",
       "     'osm_key': 'historic',\n",
       "     'osm_value': 'church',\n",
       "     'type': 'house',\n",
       "     'label': 'Cathédrale Notre-Dame de Paris, 6, Parvis Notre-Dame - Place Jean-Paul II, Quartier Les Îles, Paris 4e Arrondissement, Paris, Île-de-France, France métropolitaine, 75004, France',\n",
       "     'name': 'Cathédrale Notre-Dame de Paris'}},\n",
       "   'geometry': {'type': 'Point',\n",
       "    'coordinates': [2.3500501225000026, 48.85293705]}}]}"
      ]
     },
     "execution_count": 1,
     "metadata": {},
     "output_type": "execute_result"
    }
   ],
   "source": [
    "import requests\n",
    "import json\n",
    "from pprint import pprint\n",
    "\n",
    "def get_location_by_address(address):\n",
    "    params = {\n",
    "        'q': address,\n",
    "        'format': 'geocodejson'\n",
    "    }\n",
    "    response = requests.get('https://nominatim.openstreetmap.org/search', params=params)\n",
    "    pprint(response)\n",
    "    \n",
    "    if response.status_code == 200:\n",
    "        results = response.json()\n",
    "    \n",
    "\n",
    "        \n",
    "    \n",
    "    return results\n",
    "\n",
    "get_location_by_address(\"Notre dame de paris\")\n",
    "\n",
    "\n"
   ]
  },
  {
   "cell_type": "markdown",
   "id": "20f6cfc9",
   "metadata": {},
   "source": [
    "Dans ce cas, on trouver bien un point précis.\n",
    "Comment est-ce que ça se comporte si on chercher une adresse qui ne correspond qui ne renvoie pas un lieu précis mais par exemple une rue."
   ]
  },
  {
   "cell_type": "code",
   "execution_count": 20,
   "id": "06da54a3",
   "metadata": {},
   "outputs": [
    {
     "name": "stdout",
     "output_type": "stream",
     "text": [
      "<Response [200]>\n"
     ]
    },
    {
     "data": {
      "text/plain": [
       "{'type': 'FeatureCollection',\n",
       " 'geocoding': {'version': '0.1.0',\n",
       "  'attribution': 'Data © OpenStreetMap contributors, ODbL 1.0. http://osm.org/copyright',\n",
       "  'licence': 'ODbL',\n",
       "  'query': '6 Rue Justin Vernet, 38110 La Tour-du-Pin'},\n",
       " 'features': [{'type': 'Feature',\n",
       "   'properties': {'geocoding': {'place_id': 75869825,\n",
       "     'osm_type': 'way',\n",
       "     'osm_id': 224129615,\n",
       "     'osm_key': 'highway',\n",
       "     'osm_value': 'pedestrian',\n",
       "     'type': 'street',\n",
       "     'label': 'Rue Justin Vernet, La Tour-du-Pin, Isère, Auvergne-Rhône-Alpes, France métropolitaine, 38110, France',\n",
       "     'name': 'Rue Justin Vernet'}},\n",
       "   'geometry': {'type': 'Point', 'coordinates': [5.4427266, 45.5639988]}},\n",
       "  {'type': 'Feature',\n",
       "   'properties': {'geocoding': {'place_id': 75916124,\n",
       "     'osm_type': 'way',\n",
       "     'osm_id': 92038534,\n",
       "     'osm_key': 'highway',\n",
       "     'osm_value': 'residential',\n",
       "     'type': 'street',\n",
       "     'label': 'Rue Justin Vernet, La Tour-du-Pin, Isère, Auvergne-Rhône-Alpes, France métropolitaine, 38110, France',\n",
       "     'name': 'Rue Justin Vernet'}},\n",
       "   'geometry': {'type': 'Point', 'coordinates': [5.4414324, 45.5638324]}}]}"
      ]
     },
     "execution_count": 20,
     "metadata": {},
     "output_type": "execute_result"
    }
   ],
   "source": [
    "get_location_by_address(\"6 Rue Justin Vernet, 38110 La Tour-du-Pin\")"
   ]
  },
  {
   "cell_type": "markdown",
   "id": "63b0eb77",
   "metadata": {},
   "source": [
    "Il semble qu'il y ait un attribut 'typ' : 'street' qui puisse renseigner sur la précision."
   ]
  },
  {
   "cell_type": "code",
   "execution_count": 16,
   "id": "48022417",
   "metadata": {},
   "outputs": [
    {
     "name": "stdout",
     "output_type": "stream",
     "text": [
      "<Response [200]>\n"
     ]
    },
    {
     "data": {
      "text/plain": [
       "{'type': 'FeatureCollection',\n",
       " 'geocoding': {'version': '0.1.0',\n",
       "  'attribution': 'Data © OpenStreetMap contributors, ODbL 1.0. http://osm.org/copyright',\n",
       "  'licence': 'ODbL',\n",
       "  'query': 'Notre dame de paris'},\n",
       " 'features': [{'type': 'Feature',\n",
       "   'properties': {'geocoding': {'place_id': 83161441,\n",
       "     'osm_type': 'way',\n",
       "     'osm_id': 201611261,\n",
       "     'osm_key': 'historic',\n",
       "     'osm_value': 'church',\n",
       "     'type': 'house',\n",
       "     'label': 'Cathédrale Notre-Dame de Paris, 6, Parvis Notre-Dame - Place Jean-Paul II, Quartier Les Îles, Paris 4e Arrondissement, Paris, Île-de-France, France métropolitaine, 75004, France',\n",
       "     'name': 'Cathédrale Notre-Dame de Paris'}},\n",
       "   'geometry': {'type': 'Point',\n",
       "    'coordinates': [2.3500501225000026, 48.85293705]}}]}"
      ]
     },
     "execution_count": 16,
     "metadata": {},
     "output_type": "execute_result"
    }
   ],
   "source": [
    "get_location_by_address(\"Notre dame de paris\")"
   ]
  },
  {
   "cell_type": "markdown",
   "id": "a2b82ef6",
   "metadata": {},
   "source": [
    "ici aussi le type : house fonctionne"
   ]
  },
  {
   "cell_type": "code",
   "execution_count": 22,
   "id": "2464f87c",
   "metadata": {},
   "outputs": [
    {
     "name": "stdout",
     "output_type": "stream",
     "text": [
      "<Response [200]>\n"
     ]
    },
    {
     "data": {
      "text/plain": [
       "{'type': 'FeatureCollection',\n",
       " 'geocoding': {'version': '0.1.0',\n",
       "  'attribution': 'Data © OpenStreetMap contributors, ODbL 1.0. http://osm.org/copyright',\n",
       "  'licence': 'ODbL',\n",
       "  'query': '192 MONTEE DE BOUVARESSE 38290 FRONTONAS'},\n",
       " 'features': [{'type': 'Feature',\n",
       "   'properties': {'geocoding': {'place_id': 75778016,\n",
       "     'osm_type': 'way',\n",
       "     'osm_id': 158028996,\n",
       "     'osm_key': 'highway',\n",
       "     'osm_value': 'unclassified',\n",
       "     'type': 'street',\n",
       "     'label': 'Montée de Bouvaresse, Les Sables, Frontonas, La Tour-du-Pin, Isère, Auvergne-Rhône-Alpes, France métropolitaine, 38290, France',\n",
       "     'name': 'Montée de Bouvaresse'}},\n",
       "   'geometry': {'type': 'Point', 'coordinates': [5.1871642, 45.6474131]}}]}"
      ]
     },
     "execution_count": 22,
     "metadata": {},
     "output_type": "execute_result"
    }
   ],
   "source": [
    "get_location_by_address(\"CHATEAU ST JULIEN-SALLE POLYVALENTE ET RESTAURANT 192 MONTEE DE BOUVARESSE 38290 FRONTONAS\")"
   ]
  },
  {
   "cell_type": "code",
   "execution_count": 23,
   "id": "cb0455fc",
   "metadata": {},
   "outputs": [
    {
     "name": "stdout",
     "output_type": "stream",
     "text": [
      "<Response [200]>\n"
     ]
    },
    {
     "data": {
      "text/plain": [
       "{'type': 'FeatureCollection',\n",
       " 'geocoding': {'version': '0.1.0',\n",
       "  'attribution': 'Data © OpenStreetMap contributors, ODbL 1.0. http://osm.org/copyright',\n",
       "  'licence': 'ODbL',\n",
       "  'query': 'église saint andré le bas rue de la table ronde vienne'},\n",
       " 'features': [{'type': 'Feature',\n",
       "   'properties': {'geocoding': {'place_id': 76358840,\n",
       "     'osm_type': 'way',\n",
       "     'osm_id': 116993077,\n",
       "     'osm_key': 'tourism',\n",
       "     'osm_value': 'attraction',\n",
       "     'type': 'house',\n",
       "     'label': 'Église Saint-André-le-Bas, Rue de la Table Ronde, Vienne, Isère, Auvergne-Rhône-Alpes, France métropolitaine, 38200, France',\n",
       "     'name': 'Église Saint-André-le-Bas'}},\n",
       "   'geometry': {'type': 'Point',\n",
       "    'coordinates': [4.873969194214876, 45.5271825]}}]}"
      ]
     },
     "execution_count": 23,
     "metadata": {},
     "output_type": "execute_result"
    }
   ],
   "source": [
    "get_location_by_address(\"église saint andré le bas rue de la table ronde vienne\")"
   ]
  },
  {
   "cell_type": "code",
   "execution_count": 24,
   "id": "debc5ec5",
   "metadata": {},
   "outputs": [
    {
     "name": "stdout",
     "output_type": "stream",
     "text": [
      "<Response [200]>\n"
     ]
    },
    {
     "data": {
      "text/plain": [
       "{'type': 'FeatureCollection',\n",
       " 'geocoding': {'version': '0.1.0',\n",
       "  'attribution': 'Data © OpenStreetMap contributors, ODbL 1.0. http://osm.org/copyright',\n",
       "  'licence': 'ODbL',\n",
       "  'query': 'NEWAY 32 RUE DE COMBOIRE 38130 ECHIROLLES'},\n",
       " 'features': [{'type': 'Feature',\n",
       "   'properties': {'geocoding': {'place_id': 76005761,\n",
       "     'osm_type': 'way',\n",
       "     'osm_id': 81099518,\n",
       "     'osm_key': 'shop',\n",
       "     'osm_value': 'sports',\n",
       "     'type': 'house',\n",
       "     'label': 'Neway 38, 32, Rue de Comboire, Espace Comboire, Échirolles, Grenoble, Isère, Auvergne-Rhône-Alpes, France métropolitaine, 38130, France',\n",
       "     'name': 'Neway 38'}},\n",
       "   'geometry': {'type': 'Point',\n",
       "    'coordinates': [5.689973327181736, 45.14344815]}}]}"
      ]
     },
     "execution_count": 24,
     "metadata": {},
     "output_type": "execute_result"
    }
   ],
   "source": [
    "get_location_by_address(\"NEWAY 32 RUE DE COMBOIRE 38130 ECHIROLLES\")"
   ]
  },
  {
   "cell_type": "code",
   "execution_count": 25,
   "id": "a840f895",
   "metadata": {},
   "outputs": [
    {
     "name": "stdout",
     "output_type": "stream",
     "text": [
      "<Response [200]>\n"
     ]
    },
    {
     "data": {
      "text/plain": [
       "{'type': 'FeatureCollection',\n",
       " 'geocoding': {'version': '0.1.0',\n",
       "  'attribution': 'Data © OpenStreetMap contributors, ODbL 1.0. http://osm.org/copyright',\n",
       "  'licence': 'ODbL',\n",
       "  'query': 'MAGASIN NEWAY 32 RUE DE COMBOIRE 38130 ECHIROLLES'},\n",
       " 'features': []}"
      ]
     },
     "execution_count": 25,
     "metadata": {},
     "output_type": "execute_result"
    }
   ],
   "source": [
    "get_location_by_address(\"MAGASIN NEWAY 32 RUE DE COMBOIRE 38130 ECHIROLLES\")"
   ]
  },
  {
   "cell_type": "code",
   "execution_count": 26,
   "id": "0bf00369",
   "metadata": {},
   "outputs": [
    {
     "name": "stdout",
     "output_type": "stream",
     "text": [
      "<Response [200]>\n"
     ]
    },
    {
     "data": {
      "text/plain": [
       "{'type': 'FeatureCollection',\n",
       " 'geocoding': {'version': '0.1.0',\n",
       "  'attribution': 'Data © OpenStreetMap contributors, ODbL 1.0. http://osm.org/copyright',\n",
       "  'licence': 'ODbL',\n",
       "  'query': '32 RUE DE COMBOIRE 38130 ECHIROLLES'},\n",
       " 'features': [{'type': 'Feature',\n",
       "   'properties': {'geocoding': {'place_id': 75933550,\n",
       "     'osm_type': 'node',\n",
       "     'osm_id': 11019560535,\n",
       "     'osm_key': 'office',\n",
       "     'osm_value': 'company',\n",
       "     'type': 'house',\n",
       "     'label': 'Essor, 32, Rue de Comboire, Espace Comboire, Échirolles, Grenoble, Isère, Auvergne-Rhône-Alpes, France métropolitaine, 38130, France',\n",
       "     'name': 'Essor'}},\n",
       "   'geometry': {'type': 'Point', 'coordinates': [5.6902521, 45.1441376]}},\n",
       "  {'type': 'Feature',\n",
       "   'properties': {'geocoding': {'place_id': 75939828,\n",
       "     'osm_type': 'node',\n",
       "     'osm_id': 10801196307,\n",
       "     'osm_key': 'office',\n",
       "     'osm_value': 'company',\n",
       "     'type': 'house',\n",
       "     'label': 'Neoz Solutions, 32, Rue de Comboire, Espace Comboire, Échirolles, Grenoble, Isère, Auvergne-Rhône-Alpes, France métropolitaine, 38130, France',\n",
       "     'name': 'Neoz Solutions'}},\n",
       "   'geometry': {'type': 'Point', 'coordinates': [5.6898397, 45.1437134]}},\n",
       "  {'type': 'Feature',\n",
       "   'properties': {'geocoding': {'place_id': 75939925,\n",
       "     'osm_type': 'way',\n",
       "     'osm_id': 1185811514,\n",
       "     'osm_key': 'leisure',\n",
       "     'osm_value': 'sports_centre',\n",
       "     'type': 'house',\n",
       "     'label': 'FiftyNine Fitness Club, 32, Rue de Comboire, Espace Comboire, Échirolles, Grenoble, Isère, Auvergne-Rhône-Alpes, France métropolitaine, 38130, France',\n",
       "     'name': 'FiftyNine Fitness Club'}},\n",
       "   'geometry': {'type': 'Point',\n",
       "    'coordinates': [5.689737801224382, 45.145029300000004]}},\n",
       "  {'type': 'Feature',\n",
       "   'properties': {'geocoding': {'place_id': 75945226,\n",
       "     'osm_type': 'node',\n",
       "     'osm_id': 5938723905,\n",
       "     'osm_key': 'office',\n",
       "     'osm_value': 'company',\n",
       "     'type': 'house',\n",
       "     'label': 'Kodak Express Digital Solutions, 32, Rue de Comboire, Espace Comboire, Échirolles, Grenoble, Isère, Auvergne-Rhône-Alpes, France métropolitaine, 38130, France',\n",
       "     'name': 'Kodak Express Digital Solutions'}},\n",
       "   'geometry': {'type': 'Point', 'coordinates': [5.6906455, 45.1435431]}},\n",
       "  {'type': 'Feature',\n",
       "   'properties': {'geocoding': {'place_id': 75945254,\n",
       "     'osm_type': 'node',\n",
       "     'osm_id': 11019560820,\n",
       "     'osm_key': 'office',\n",
       "     'osm_value': 'company',\n",
       "     'type': 'house',\n",
       "     'label': 'Safix, 32, Rue de Comboire, Espace Comboire, Échirolles, Grenoble, Isère, Auvergne-Rhône-Alpes, France métropolitaine, 38130, France',\n",
       "     'name': 'Safix'}},\n",
       "   'geometry': {'type': 'Point', 'coordinates': [5.6898283, 45.1442696]}},\n",
       "  {'type': 'Feature',\n",
       "   'properties': {'geocoding': {'place_id': 75972234,\n",
       "     'osm_type': 'node',\n",
       "     'osm_id': 11019560713,\n",
       "     'osm_key': 'office',\n",
       "     'osm_value': 'company',\n",
       "     'type': 'house',\n",
       "     'label': 'Engie, 32, Rue de Comboire, Espace Comboire, Échirolles, Grenoble, Isère, Auvergne-Rhône-Alpes, France métropolitaine, 38130, France',\n",
       "     'name': 'Engie'}},\n",
       "   'geometry': {'type': 'Point', 'coordinates': [5.6903446, 45.144201]}},\n",
       "  {'type': 'Feature',\n",
       "   'properties': {'geocoding': {'place_id': 76005137,\n",
       "     'osm_type': 'node',\n",
       "     'osm_id': 5938723902,\n",
       "     'osm_key': 'shop',\n",
       "     'osm_value': 'pet',\n",
       "     'type': 'house',\n",
       "     'label': 'Canémotion, 32, Rue de Comboire, Espace Comboire, Échirolles, Grenoble, Isère, Auvergne-Rhône-Alpes, France métropolitaine, 38130, France',\n",
       "     'name': 'Canémotion'}},\n",
       "   'geometry': {'type': 'Point', 'coordinates': [5.6902784, 45.143005]}},\n",
       "  {'type': 'Feature',\n",
       "   'properties': {'geocoding': {'place_id': 76005232,\n",
       "     'osm_type': 'node',\n",
       "     'osm_id': 11019560538,\n",
       "     'osm_key': 'office',\n",
       "     'osm_value': 'company',\n",
       "     'type': 'house',\n",
       "     'label': 'Une Petite Mousse, 32, Rue de Comboire, Espace Comboire, Échirolles, Grenoble, Isère, Auvergne-Rhône-Alpes, France métropolitaine, 38130, France',\n",
       "     'name': 'Une Petite Mousse'}},\n",
       "   'geometry': {'type': 'Point', 'coordinates': [5.6898417, 45.144856]}},\n",
       "  {'type': 'Feature',\n",
       "   'properties': {'geocoding': {'place_id': 76005761,\n",
       "     'osm_type': 'way',\n",
       "     'osm_id': 81099518,\n",
       "     'osm_key': 'shop',\n",
       "     'osm_value': 'sports',\n",
       "     'type': 'house',\n",
       "     'label': 'Neway 38, 32, Rue de Comboire, Espace Comboire, Échirolles, Grenoble, Isère, Auvergne-Rhône-Alpes, France métropolitaine, 38130, France',\n",
       "     'name': 'Neway 38'}},\n",
       "   'geometry': {'type': 'Point',\n",
       "    'coordinates': [5.689973327181736, 45.14344815]}},\n",
       "  {'type': 'Feature',\n",
       "   'properties': {'geocoding': {'place_id': 76010733,\n",
       "     'osm_type': 'node',\n",
       "     'osm_id': 11019560537,\n",
       "     'osm_key': 'office',\n",
       "     'osm_value': 'company',\n",
       "     'type': 'house',\n",
       "     'label': 'Logo Siver, 32, Rue de Comboire, Espace Comboire, Échirolles, Grenoble, Isère, Auvergne-Rhône-Alpes, France métropolitaine, 38130, France',\n",
       "     'name': 'Logo Siver'}},\n",
       "   'geometry': {'type': 'Point', 'coordinates': [5.6896144, 45.1446328]}}]}"
      ]
     },
     "execution_count": 26,
     "metadata": {},
     "output_type": "execute_result"
    }
   ],
   "source": [
    "get_location_by_address(\"32 RUE DE COMBOIRE 38130 ECHIROLLES\")"
   ]
  },
  {
   "cell_type": "code",
   "execution_count": null,
   "id": "277a708c",
   "metadata": {},
   "outputs": [],
   "source": []
  }
 ],
 "metadata": {
  "kernelspec": {
   "display_name": "Django Shell-Plus",
   "language": "python",
   "name": "django_extensions"
  },
  "language_info": {
   "codemirror_mode": {
    "name": "ipython",
    "version": 3
   },
   "file_extension": ".py",
   "mimetype": "text/x-python",
   "name": "python",
   "nbconvert_exporter": "python",
   "pygments_lexer": "ipython3",
   "version": "3.10.13"
  }
 },
 "nbformat": 4,
 "nbformat_minor": 5
}
