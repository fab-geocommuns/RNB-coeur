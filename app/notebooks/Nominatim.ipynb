{
 "cells": [
  {
   "cell_type": "code",
   "execution_count": 9,
   "id": "299599e8",
   "metadata": {},
   "outputs": [
    {
     "name": "stdout",
     "output_type": "stream",
     "text": [
      "<Response [200]>\n",
      "[{'addresstype': 'shop',\n",
      "  'boundingbox': ['45.1433094', '45.1435603', '5.6898268', '5.6901385'],\n",
      "  'class': 'shop',\n",
      "  'display_name': 'Neway 38, 32, Rue de Comboire, Espace Comboire, Échirolles, '\n",
      "                  'Grenoble, Isère, Auvergne-Rhône-Alpes, France '\n",
      "                  'métropolitaine, 38130, France',\n",
      "  'importance': 9.99999999995449e-06,\n",
      "  'lat': '45.14344815',\n",
      "  'licence': 'Data © OpenStreetMap contributors, ODbL 1.0. '\n",
      "             'http://osm.org/copyright',\n",
      "  'lon': '5.689973327181736',\n",
      "  'name': 'Neway 38',\n",
      "  'osm_id': 81099518,\n",
      "  'osm_type': 'way',\n",
      "  'place_id': 76005761,\n",
      "  'place_rank': 30,\n",
      "  'type': 'sports'}]\n"
     ]
    },
    {
     "data": {
      "text/plain": [
       "(45.14344815, 5.689973327181736)"
      ]
     },
     "execution_count": 9,
     "metadata": {},
     "output_type": "execute_result"
    }
   ],
   "source": [
    "import requests\n",
    "import json\n",
    "from pprint import pprint\n",
    "\n",
    "def get_location_by_address(address):\n",
    "    params = {\n",
    "        'q': address,\n",
    "        'format': 'json'\n",
    "    }\n",
    "    response = requests.get('https://nominatim.openstreetmap.org/search', params=params)\n",
    "    pprint(response)\n",
    "    \n",
    "    if response.status_code == 200:\n",
    "        results = response.json()\n",
    "        \n",
    "        pprint(results)\n",
    "\n",
    "        \n",
    "        \n",
    "        if results:\n",
    "            location = results[0]\n",
    "            return (float(location['lat']), float(location['lon']))\n",
    "    return None\n",
    "\n",
    "get_location_by_address(\"Neway,32 rue de comboire Echirolles\")\n",
    "\n",
    "\n"
   ]
  },
  {
   "cell_type": "code",
   "execution_count": null,
   "id": "011fdb1d",
   "metadata": {},
   "outputs": [],
   "source": []
  }
 ],
 "metadata": {
  "kernelspec": {
   "display_name": "Django Shell-Plus",
   "language": "python",
   "name": "django_extensions"
  },
  "language_info": {
   "codemirror_mode": {
    "name": "ipython",
    "version": 3
   },
   "file_extension": ".py",
   "mimetype": "text/x-python",
   "name": "python",
   "nbconvert_exporter": "python",
   "pygments_lexer": "ipython3",
   "version": "3.10.13"
  }
 },
 "nbformat": 4,
 "nbformat_minor": 5
}
