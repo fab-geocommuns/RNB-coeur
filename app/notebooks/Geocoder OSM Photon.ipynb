{
 "cells": [
  {
   "cell_type": "code",
   "execution_count": 1,
   "id": "5305f871",
   "metadata": {},
   "outputs": [],
   "source": [
    "import os\n",
    "from pprint import pprint\n",
    "from batid.services.geocoders import PhotonGeocoder\n",
    "# necessary for SQL query execution from Jupyter\n",
    "os.environ[\"DJANGO_ALLOW_ASYNC_UNSAFE\"] = \"true\""
   ]
  },
  {
   "cell_type": "code",
   "execution_count": 14,
   "id": "50ab28c8",
   "metadata": {},
   "outputs": [
    {
     "name": "stdout",
     "output_type": "stream",
     "text": [
      "https://photon.komoot.io/api/?q=CFA+du+BTP+de+l%27Ain&lat=46.18477&lon=5.23339&limit=1\n",
      "<Response [200]>\n",
      "{'features': [{'geometry': {'coordinates': [5.2123849, 46.1954392], 'type': 'Point'}, 'type': 'Feature', 'properties': {'osm_id': 132614450, 'extent': [5.2123849, 46.1968582, 5.2135607, 46.19528], 'country': 'France', 'city': 'Bourg-en-Bresse', 'countrycode': 'FR', 'postcode': '01000', 'locality': 'Le Peloux', 'county': 'Ain', 'type': 'street', 'osm_type': 'W', 'osm_key': 'highway', 'osm_value': 'residential', 'name': \"Passage de l'École du Peloux\", 'state': 'Auvergne-Rhône-Alpes'}}], 'type': 'FeatureCollection'}\n"
     ]
    }
   ],
   "source": [
    "q = \"CFA du BTP de l'Ain\"\n",
    "lat_lng = \"46.18477,5.23339\"\n",
    "lat_lng = lat_lng.replace(\" \", \"\")\n",
    "lat, lng = lat_lng.split(\",\")\n",
    "\n",
    "params = {\n",
    "    'q': q,\n",
    "    'lat': lat,\n",
    "    'lon': lng,\n",
    "    \"limit\": 1\n",
    "}\n",
    "\n",
    "g = PhotonGeocoder()\n",
    "r = g.geocode(params)\n",
    "print(r.url)\n",
    "pprint(r)\n",
    "print(r.json())"
   ]
  },
  {
   "cell_type": "code",
   "execution_count": null,
   "id": "203d7655",
   "metadata": {},
   "outputs": [],
   "source": []
  }
 ],
 "metadata": {
  "kernelspec": {
   "display_name": "Django Shell-Plus",
   "language": "python",
   "name": "django_extensions"
  },
  "language_info": {
   "codemirror_mode": {
    "name": "ipython",
    "version": 3
   },
   "file_extension": ".py",
   "mimetype": "text/x-python",
   "name": "python",
   "nbconvert_exporter": "python",
   "pygments_lexer": "ipython3",
   "version": "3.10.13"
  }
 },
 "nbformat": 4,
 "nbformat_minor": 5
}
