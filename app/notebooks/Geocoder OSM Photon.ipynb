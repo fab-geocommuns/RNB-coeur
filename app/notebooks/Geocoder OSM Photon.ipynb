{
 "cells": [
  {
   "cell_type": "code",
   "execution_count": 1,
   "id": "5305f871",
   "metadata": {},
   "outputs": [],
   "source": [
    "import os\n",
    "from pprint import pprint\n",
    "from batid.services.geocoders import PhotonGeocoder\n",
    "# necessary for SQL query execution from Jupyter\n",
    "os.environ[\"DJANGO_ALLOW_ASYNC_UNSAFE\"] = \"true\""
   ]
  },
  {
   "cell_type": "code",
   "execution_count": 15,
   "id": "50ab28c8",
   "metadata": {},
   "outputs": [
    {
     "name": "stdout",
     "output_type": "stream",
     "text": [
      "https://photon.komoot.io/api/?q=EHESS+-+%C3%89cole+des+hautes+%C3%A9tudes+en+sciences+sociales+APPARTEMENT+CHERCHEURS&lat=43.299552&lon=5.370533&limit=1\n",
      "<Response [200]>\n",
      "{'features': [{'geometry': {'coordinates': [5.3676145, 43.30088], 'type': 'Point'}, 'type': 'Feature', 'properties': {'osm_id': 4945719807, 'country': 'France', 'city': 'Marseille', 'countrycode': 'FR', 'postcode': '13000', 'county': 'Bouches-du-Rhône', 'type': 'house', 'osm_type': 'N', 'osm_key': 'amenity', 'street': \"Rue de l'Observance\", 'district': 'Le Panier', 'osm_value': 'research_institute', 'name': 'École des Hautes Études en Sciences Sociales', 'state': \"Provence-Alpes-Côte d'Azur\"}}], 'type': 'FeatureCollection'}\n"
     ]
    }
   ],
   "source": [
    "q = \"EHESS - École des hautes études en sciences sociales APPARTEMENT CHERCHEURS\"\n",
    "lat_lng = \"43.299552,5.370533\"\n",
    "lat_lng = lat_lng.replace(\" \", \"\")\n",
    "lat, lng = lat_lng.split(\",\")\n",
    "\n",
    "params = {\n",
    "    'q': q,\n",
    "    'lat': lat,\n",
    "    'lon': lng,\n",
    "    \"limit\": 1\n",
    "}\n",
    "\n",
    "g = PhotonGeocoder()\n",
    "r = g.geocode(params)\n",
    "print(r.url)\n",
    "pprint(r)\n",
    "print(r.json())"
   ]
  },
  {
   "cell_type": "code",
   "execution_count": null,
   "id": "203d7655",
   "metadata": {},
   "outputs": [],
   "source": []
  }
 ],
 "metadata": {
  "kernelspec": {
   "display_name": "Django Shell-Plus",
   "language": "python",
   "name": "django_extensions"
  },
  "language_info": {
   "codemirror_mode": {
    "name": "ipython",
    "version": 3
   },
   "file_extension": ".py",
   "mimetype": "text/x-python",
   "name": "python",
   "nbconvert_exporter": "python",
   "pygments_lexer": "ipython3",
   "version": "3.10.13"
  }
 },
 "nbformat": 4,
 "nbformat_minor": 5
}
