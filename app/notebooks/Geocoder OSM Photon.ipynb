{
 "cells": [
  {
   "cell_type": "code",
   "execution_count": 6,
   "id": "5305f871",
   "metadata": {},
   "outputs": [],
   "source": [
    "import os\n",
    "from pprint import pprint\n",
    "from batid.services.geocoders import PhotonGeocoder\n",
    "# necessary for SQL query execution from Jupyter\n",
    "os.environ[\"DJANGO_ALLOW_ASYNC_UNSAFE\"] = \"true\""
   ]
  },
  {
   "cell_type": "code",
   "execution_count": 8,
   "id": "50ab28c8",
   "metadata": {},
   "outputs": [
    {
     "name": "stdout",
     "output_type": "stream",
     "text": [
      "{'features': [{'geometry': {'coordinates': [2.3288305, 48.844688],\n",
      "                            'type': 'Point'},\n",
      "               'properties': {'city': 'Paris',\n",
      "                              'country': 'France',\n",
      "                              'countrycode': 'FR',\n",
      "                              'district': 'Paris',\n",
      "                              'locality': 'Quartier Notre-Dame-des-Champs',\n",
      "                              'name': 'Notre-Dame des Champs',\n",
      "                              'osm_id': 263499471,\n",
      "                              'osm_key': 'railway',\n",
      "                              'osm_type': 'N',\n",
      "                              'osm_value': 'station',\n",
      "                              'postcode': '75006',\n",
      "                              'state': 'Île-de-France',\n",
      "                              'street': 'Boulevard Raspail',\n",
      "                              'type': 'house'},\n",
      "               'type': 'Feature'}],\n",
      " 'type': 'FeatureCollection'}\n"
     ]
    }
   ],
   "source": [
    "g = PhotonGeocoder()\n",
    "r = g.geocode({\"q\": \"notre dame de paris\", \"limit\": 1})\n",
    "pprint(r)"
   ]
  },
  {
   "cell_type": "code",
   "execution_count": null,
   "id": "203d7655",
   "metadata": {},
   "outputs": [],
   "source": []
  }
 ],
 "metadata": {
  "kernelspec": {
   "display_name": "Django Shell-Plus",
   "language": "python",
   "name": "django_extensions"
  },
  "language_info": {
   "codemirror_mode": {
    "name": "ipython",
    "version": 3
   },
   "file_extension": ".py",
   "mimetype": "text/x-python",
   "name": "python",
   "nbconvert_exporter": "python",
   "pygments_lexer": "ipython3",
   "version": "3.10.13"
  }
 },
 "nbformat": 4,
 "nbformat_minor": 5
}
