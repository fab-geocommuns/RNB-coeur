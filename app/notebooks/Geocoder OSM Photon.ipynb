{
 "cells": [
  {
   "cell_type": "code",
   "execution_count": 3,
   "id": "5305f871",
   "metadata": {},
   "outputs": [],
   "source": [
    "import os\n",
    "from pprint import pprint\n",
    "from batid.services.geocoders import PhotonGeocoder\n",
    "# necessary for SQL query execution from Jupyter\n",
    "os.environ[\"DJANGO_ALLOW_ASYNC_UNSAFE\"] = \"true\""
   ]
  },
  {
   "cell_type": "code",
   "execution_count": 9,
   "id": "50ab28c8",
   "metadata": {},
   "outputs": [
    {
     "name": "stdout",
     "output_type": "stream",
     "text": [
      "{'features': [{'geometry': {'coordinates': [2.31115621627021, 48.7855285],\n",
      "                            'type': 'Point'},\n",
      "               'properties': {'country': 'France',\n",
      "                              'countrycode': 'FR',\n",
      "                              'extent': [2.3107319,\n",
      "                                         48.7857867,\n",
      "                                         2.3115342,\n",
      "                                         48.7852799],\n",
      "                              'name': 'extension salle de sport',\n",
      "                              'osm_id': 1137995675,\n",
      "                              'osm_key': 'landuse',\n",
      "                              'osm_type': 'W',\n",
      "                              'osm_value': 'construction',\n",
      "                              'postcode': '92340',\n",
      "                              'type': 'locality'},\n",
      "               'type': 'Feature'}],\n",
      " 'type': 'FeatureCollection'}\n"
     ]
    }
   ],
   "source": [
    "g = PhotonGeocoder()\n",
    "r = g.geocode({\"q\": \"Salle de sport, Attignat\", \"limit\": 1})\n",
    "pprint(r)"
   ]
  },
  {
   "cell_type": "code",
   "execution_count": null,
   "id": "203d7655",
   "metadata": {},
   "outputs": [],
   "source": []
  }
 ],
 "metadata": {
  "kernelspec": {
   "display_name": "Django Shell-Plus",
   "language": "python",
   "name": "django_extensions"
  },
  "language_info": {
   "codemirror_mode": {
    "name": "ipython",
    "version": 3
   },
   "file_extension": ".py",
   "mimetype": "text/x-python",
   "name": "python",
   "nbconvert_exporter": "python",
   "pygments_lexer": "ipython3",
   "version": "3.10.13"
  }
 },
 "nbformat": 4,
 "nbformat_minor": 5
}
