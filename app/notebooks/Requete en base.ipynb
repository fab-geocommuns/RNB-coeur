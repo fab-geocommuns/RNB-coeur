{
 "cells": [
  {
   "cell_type": "markdown",
   "id": "e1adb07d",
   "metadata": {},
   "source": [
    "# Premiers tests de requêtes en base"
   ]
  },
  {
   "cell_type": "markdown",
   "id": "c015fe8e",
   "metadata": {},
   "source": [
    "Quelques imports à faire avant toute chose"
   ]
  },
  {
   "cell_type": "code",
   "execution_count": 1,
   "id": "2769d9af",
   "metadata": {},
   "outputs": [],
   "source": [
    "import os\n",
    "from batid.models import Building\n",
    "# necessary for SQL query execution from Jupyter\n",
    "os.environ[\"DJANGO_ALLOW_ASYNC_UNSAFE\"] = \"true\""
   ]
  },
  {
   "cell_type": "markdown",
   "id": "d6178fc2",
   "metadata": {},
   "source": [
    "## Compter les bâtiments dans le RNB\n"
   ]
  },
  {
   "cell_type": "code",
   "execution_count": 15,
   "id": "fb560553",
   "metadata": {},
   "outputs": [
    {
     "data": {
      "text/plain": [
       "3"
      ]
     },
     "execution_count": 15,
     "metadata": {},
     "output_type": "execute_result"
    }
   ],
   "source": [
    "entries_nb = Building.objects.count()\n",
    "entries_nb"
   ]
  },
  {
   "cell_type": "markdown",
   "id": "01bdd12f",
   "metadata": {},
   "source": [
    "## Récupérer un bâtiment à partir de son RNB-id"
   ]
  },
  {
   "cell_type": "code",
   "execution_count": 2,
   "id": "751cfc25",
   "metadata": {},
   "outputs": [],
   "source": [
    "building = Building.objects.get(rnb_id='M11Z4KK9Y338') # M11Z-4KK9-Y338 = batiment production"
   ]
  },
  {
   "cell_type": "code",
   "execution_count": 17,
   "id": "b1853d15",
   "metadata": {},
   "outputs": [
    {
     "name": "stdout",
     "output_type": "stream",
     "text": [
      "SRID=2154;POINT (898556.2241749174 6450735.5)\n"
     ]
    }
   ],
   "source": [
    "print(building.point)"
   ]
  },
  {
   "cell_type": "markdown",
   "id": "f96fa752",
   "metadata": {},
   "source": [
    "## Vérifier si un point se situe à l'intérieur d'un ou plusieurs bâtiments stockés dans le RNB"
   ]
  },
  {
   "cell_type": "code",
   "execution_count": 18,
   "id": "4a91365e",
   "metadata": {},
   "outputs": [
    {
     "name": "stdout",
     "output_type": "stream",
     "text": [
      "ce point est situé dans 0 bâtiment(s) trouvé(s) dans le RNB\n"
     ]
    }
   ],
   "source": [
    "from django.contrib.gis.geos import Point\n",
    "point = Point(897010.1000000003, 6476168.9, srid=2154)\n",
    "buildings = list(Building.objects.filter(shape__contains=point))\n",
    "print(f\"ce point est situé dans {len(buildings)} bâtiment(s) trouvé(s) dans le RNB\")"
   ]
  },
  {
   "cell_type": "markdown",
   "id": "9991154d",
   "metadata": {},
   "source": [
    "Example de point en dehors de tout bâtiment"
   ]
  },
  {
   "cell_type": "code",
   "execution_count": 19,
   "id": "39d79669",
   "metadata": {},
   "outputs": [
    {
     "name": "stdout",
     "output_type": "stream",
     "text": [
      "ce point est situé dans 0 bâtiment(s) trouvé(s) dans le RNB\n"
     ]
    }
   ],
   "source": [
    "point = Point(890010.0, 6476168.9, srid=2154)\n",
    "buildings = list(Building.objects.filter(shape__contains=point))\n",
    "print(f\"ce point est situé dans {len(buildings)} bâtiment(s) trouvé(s) dans le RNB\")"
   ]
  },
  {
   "cell_type": "markdown",
   "id": "ee637a31",
   "metadata": {},
   "source": [
    "## Trouver tous les bâtiments à moins de X mètres d'un point"
   ]
  },
  {
   "cell_type": "code",
   "execution_count": 20,
   "id": "3140296b",
   "metadata": {
    "scrolled": true
   },
   "outputs": [
    {
     "name": "stdout",
     "output_type": "stream",
     "text": [
      "0 bâtiment(s) trouvé(s) dans un rayon de 100m autour du point\n"
     ]
    }
   ],
   "source": [
    "from django.contrib.gis.measure import D # D is shortcut for distance\n",
    "\n",
    "point = Point(897010.1000000003, 6476168.9, srid=2154)\n",
    "buildings = Building.objects.filter(shape__distance_lte=(point, 100))\n",
    "print(f\"{len(buildings)} bâtiment(s) trouvé(s) dans un rayon de 100m autour du point\")"
   ]
  },
  {
   "cell_type": "markdown",
   "id": "960be969",
   "metadata": {},
   "source": [
    "Les ordonner par distance croissante"
   ]
  },
  {
   "cell_type": "code",
   "execution_count": 21,
   "id": "86d233ed",
   "metadata": {},
   "outputs": [],
   "source": [
    "from django.contrib.gis.db.models.functions import Distance\n",
    "\n",
    "point = Point(897010.1000000003, 6476168.9, srid=2154)\n",
    "buildings = Building.objects.filter(shape__dwithin=(point, 100)).annotate(distance=Distance('shape', point)).order_by('distance')\n",
    "for building in buildings:\n",
    "    print(f\"{building.rnb_id} à {building.distance}m\")"
   ]
  },
  {
   "cell_type": "markdown",
   "id": "cc04f58e",
   "metadata": {},
   "source": [
    "## Accéder à la requête en base sous jacente"
   ]
  },
  {
   "cell_type": "code",
   "execution_count": 22,
   "id": "d1d17c62",
   "metadata": {},
   "outputs": [
    {
     "name": "stdout",
     "output_type": "stream",
     "text": [
      "SELECT \"batid_building\".\"id\", \"batid_building\".\"rnb_id\", \"batid_building\".\"source\", \"batid_building\".\"point\"::bytea, \"batid_building\".\"shape\"::bytea, \"batid_building\".\"ext_bdnb_id\", \"batid_building\".\"ext_bdtopo_id\", \"batid_building\".\"created_at\", \"batid_building\".\"updated_at\", ST_Distance(\"batid_building\".\"shape\", ST_GeomFromEWKB('\\001\\001\\000\\000 j\\010\\000\\0006333\\344_+A\\232\\231\\2319b\\264XA'::bytea)) AS \"distance\" FROM \"batid_building\" WHERE ST_DWithin(\"batid_building\".\"shape\", ST_GeomFromEWKB('\\001\\001\\000\\000 j\\010\\000\\0006333\\344_+A\\232\\231\\2319b\\264XA'::bytea), 100) ORDER BY \"distance\" ASC\n"
     ]
    }
   ],
   "source": [
    "query = Building.objects.filter(shape__dwithin=(point, 100)).annotate(distance=Distance('shape', point)).order_by('distance').query\n",
    "\n",
    "print(query)"
   ]
  },
  {
   "cell_type": "markdown",
   "id": "286de69d",
   "metadata": {},
   "source": [
    "## Trouver un bâtiment à partir d'une adresse"
   ]
  },
  {
   "cell_type": "code",
   "execution_count": 23,
   "id": "1c6ff726",
   "metadata": {
    "scrolled": true
   },
   "outputs": [
    {
     "name": "stdout",
     "output_type": "stream",
     "text": [
      "[5.711453, 45.178974]\n",
      "3\n"
     ]
    }
   ],
   "source": [
    "import requests\n",
    "\n",
    "def get_coordinates_best_result(results):\n",
    "    if len(results) == 0:\n",
    "        return None\n",
    "    \n",
    "    best_result = results[0]\n",
    "    geom = best_result['geometry']\n",
    "    if geom['type'] == 'Point' and 'coordinates' in geom:\n",
    "        print(geom['coordinates'])\n",
    "        [lon, lat] = geom['coordinates']\n",
    "        return [lon, lat]\n",
    "    else:\n",
    "        return None\n",
    "\n",
    "def geocode_address(address):\n",
    "    url = f'https://api-adresse.data.gouv.fr/search/?q={address}'\n",
    "    response = requests.get(url)\n",
    "    data = response.json()\n",
    "    results = data[\"features\"]\n",
    "    best_result = get_coordinates_best_result(results)    \n",
    "    return best_result\n",
    "\n",
    "def find_building_from_wgs_84_coordinates(lon, lat):\n",
    "    point = Point(lon, lat, srid=4326)\n",
    "    buildings = Building.objects.filter(shape__dwithin=(point, 100000000000)).annotate(distance=Distance('shape', point)).order_by('distance')\n",
    "    # print(buildings)\n",
    "    print(len(buildings))\n",
    "    return buildings[0]\n",
    "\n",
    "address = '1 Rue des Eaux Claires, Grenoble'\n",
    "[lat, lon] = geocode_address(address)\n",
    "building = find_building_from_wgs_84_coordinates(lat, lon)"
   ]
  },
  {
   "cell_type": "code",
   "execution_count": 24,
   "id": "f30d28c0",
   "metadata": {},
   "outputs": [],
   "source": [
    "import json\n",
    "from ipyleaflet import Map, Marker, GeoJSON\n",
    "\n",
    "def show_map(geocoding_coordinates, building):\n",
    "    [lat, lon] = geocoding_coordinates\n",
    "    shape = building.shape\n",
    "    shape_4326 = shape.transform(4326)\n",
    "    geojson = json.loads(shape.geojson)\n",
    "    center = (lon, lat)\n",
    "    m = Map(center=center, zoom=17)\n",
    "    marker = Marker(location=center, draggable=False)\n",
    "    m.add_layer(marker);\n",
    "    geo_json = GeoJSON(data=geojson)\n",
    "    m.add_layer(geo_json)\n",
    "    display(m)"
   ]
  },
  {
   "cell_type": "code",
   "execution_count": 25,
   "id": "1bfbf795",
   "metadata": {},
   "outputs": [
    {
     "data": {
      "application/vnd.jupyter.widget-view+json": {
       "model_id": "2df1382f8021485d8a9f7d1ae1ecf1bd",
       "version_major": 2,
       "version_minor": 0
      },
      "text/plain": [
       "Map(center=[45.178974, 5.711453], controls=(ZoomControl(options=['position', 'zoom_in_text', 'zoom_in_title', …"
      ]
     },
     "metadata": {},
     "output_type": "display_data"
    }
   ],
   "source": [
    "show_map([lat, lon], building)"
   ]
  },
  {
   "cell_type": "code",
   "execution_count": null,
   "id": "4e0cb7bc",
   "metadata": {},
   "outputs": [],
   "source": []
  }
 ],
 "metadata": {
  "kernelspec": {
   "display_name": "Django Shell-Plus",
   "language": "python",
   "name": "django_extensions"
  },
  "language_info": {
   "codemirror_mode": {
    "name": "ipython",
    "version": 3
   },
   "file_extension": ".py",
   "mimetype": "text/x-python",
   "name": "python",
   "nbconvert_exporter": "python",
   "pygments_lexer": "ipython3",
   "version": "3.10.13"
  }
 },
 "nbformat": 4,
 "nbformat_minor": 5
}
