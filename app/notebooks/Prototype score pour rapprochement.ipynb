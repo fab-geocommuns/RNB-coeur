{
 "cells": [
  {
   "cell_type": "markdown",
   "id": "72c76c7f",
   "metadata": {},
   "source": [
    "## Création d'un score et tri par ce score"
   ]
  },
  {
   "cell_type": "code",
   "execution_count": 1,
   "id": "a10dae19",
   "metadata": {},
   "outputs": [],
   "source": [
    "from batid.models import Building\n",
    "import os\n",
    "\n",
    "os.environ[\"DJANGO_ALLOW_ASYNC_UNSAFE\"] = \"true\""
   ]
  },
  {
   "cell_type": "markdown",
   "id": "efbb159e",
   "metadata": {},
   "source": [
    "## Simple score"
   ]
  },
  {
   "cell_type": "code",
   "execution_count": 2,
   "id": "1b5bc0f6",
   "metadata": {},
   "outputs": [
    {
     "name": "stdout",
     "output_type": "stream",
     "text": [
      "76ASA3DM612R 0\n",
      "631772XMQQYS 0\n",
      "WE96XEHZH3JM 0\n",
      "6EF8MBWA3QEA 0\n",
      "6MB9BX9VDC44 0\n",
      "4KZD77RSCCED 0\n",
      "8ZZZ1K5232R3 0\n",
      "2JZ5PXTKKMJC 0\n",
      "X8RPT32BWW78 0\n",
      "8H66EAQADWVN 0\n"
     ]
    }
   ],
   "source": [
    "q = (\n",
    "    \"SELECT id, rnb_id, \"\n",
    "    \"CASE WHEN ST_Area(shape) > 100 THEN 1 ELSE 0 END AS score \"\n",
    "    \"FROM batid_building \"\n",
    "    \"LIMIT 10\"\n",
    ")\n",
    "\n",
    "qs = Building.objects.raw(q)\n",
    "\n",
    "for b in qs:\n",
    "    print(b.rnb_id, b.score)\n"
   ]
  },
  {
   "cell_type": "markdown",
   "id": "cc43e0f3",
   "metadata": {},
   "source": [
    "## Score avec tri"
   ]
  },
  {
   "cell_type": "code",
   "execution_count": null,
   "id": "034540f6",
   "metadata": {},
   "outputs": [],
   "source": [
    "q = (\n",
    "    \"SELECT id, rnb_id, \"\n",
    "    \"CASE WHEN ST_Area(shape) > 100 THEN 1 ELSE 0 END AS score \"\n",
    "    \"FROM batid_building \"\n",
    "    \"ORDER BY score DESC \"\n",
    "    \"LIMIT 10\"\n",
    ")\n",
    "\n",
    "qs = Building.objects.raw(q)\n",
    "\n",
    "for b in qs:\n",
    "    print(b.rnb_id, b.score)"
   ]
  },
  {
   "cell_type": "markdown",
   "id": "84b64eed",
   "metadata": {},
   "source": [
    "Ca fonctionne !"
   ]
  },
  {
   "cell_type": "markdown",
   "id": "23a9ddcf",
   "metadata": {},
   "source": [
    "## Combinaison de scores sur plusieurs critères"
   ]
  },
  {
   "cell_type": "code",
   "execution_count": 5,
   "id": "e7c4a672",
   "metadata": {},
   "outputs": [
    {
     "name": "stdout",
     "output_type": "stream",
     "text": [
      "HUECQFMUPHAT 1\n",
      "6YEJGQ5A1G7C 1\n",
      "A3MAEKZXKJWY 1\n",
      "PEP2FKASPNX7 1\n",
      "X9BW3C451QP7 1\n",
      "7PATPJVCVUST 1\n",
      "ZBDD3SEHCM3X 1\n",
      "L76STBERDD5L 1\n",
      "Z1D5LKYPDEF9 1\n",
      "4LRS74Y8U8SL 1\n"
     ]
    }
   ],
   "source": [
    "q = (\n",
    "    \"WITH ScoredBdgs AS (\"\n",
    "        \"SELECT id, rnb_id, \"\n",
    "        \"CASE WHEN ST_Area(shape) > 100 THEN 1 ELSE 0 END AS area_score, \"\n",
    "        \"CASE WHEN rnb_id LIKE 'PEP' THEN 1 ELSE 0 END AS x_score \"\n",
    "        \"FROM batid_building \"\n",
    "    \") \"\n",
    "    \"SELECT *, area_score + x_score as score \"\n",
    "    \"FROM ScoredBdgs \"\n",
    "    \"ORDER BY score DESC \"\n",
    "    \"LIMIT 10\"\n",
    ")\n",
    "\n",
    "qs = Building.objects.raw(q)\n",
    "\n",
    "for b in qs:\n",
    "    print(b.rnb_id, b.score)"
   ]
  },
  {
   "cell_type": "markdown",
   "id": "b98f928a",
   "metadata": {},
   "source": [
    "## Combinaison de scores et tri sans sous-requête"
   ]
  },
  {
   "cell_type": "code",
   "execution_count": 7,
   "id": "b152001f",
   "metadata": {},
   "outputs": [
    {
     "ename": "ProgrammingError",
     "evalue": "column \"area_score\" does not exist\nLINE 1: SELECT id, rnb_id, area_score + x_score as score, CASE WHEN ...\n                           ^\n",
     "output_type": "error",
     "traceback": [
      "\u001B[0;31m---------------------------------------------------------------------------\u001B[0m",
      "\u001B[0;31mUndefinedColumn\u001B[0m                           Traceback (most recent call last)",
      "File \u001B[0;32m/usr/local/lib/python3.10/site-packages/django/db/backends/utils.py:89\u001B[0m, in \u001B[0;36mCursorWrapper._execute\u001B[0;34m(self, sql, params, *ignored_wrapper_args)\u001B[0m\n\u001B[1;32m     88\u001B[0m \u001B[38;5;28;01melse\u001B[39;00m:\n\u001B[0;32m---> 89\u001B[0m     \u001B[38;5;28;01mreturn\u001B[39;00m \u001B[38;5;28;43mself\u001B[39;49m\u001B[38;5;241;43m.\u001B[39;49m\u001B[43mcursor\u001B[49m\u001B[38;5;241;43m.\u001B[39;49m\u001B[43mexecute\u001B[49m\u001B[43m(\u001B[49m\u001B[43msql\u001B[49m\u001B[43m,\u001B[49m\u001B[43m \u001B[49m\u001B[43mparams\u001B[49m\u001B[43m)\u001B[49m\n",
      "\u001B[0;31mUndefinedColumn\u001B[0m: column \"area_score\" does not exist\nLINE 1: SELECT id, rnb_id, area_score + x_score as score, CASE WHEN ...\n                           ^\n",
      "\nThe above exception was the direct cause of the following exception:\n",
      "\u001B[0;31mProgrammingError\u001B[0m                          Traceback (most recent call last)",
      "Cell \u001B[0;32mIn[7], line 12\u001B[0m\n\u001B[1;32m      1\u001B[0m q \u001B[38;5;241m=\u001B[39m (\n\u001B[1;32m      2\u001B[0m     \u001B[38;5;124m\"\u001B[39m\u001B[38;5;124mSELECT id, rnb_id, area_score + x_score as score, \u001B[39m\u001B[38;5;124m\"\u001B[39m\n\u001B[1;32m      3\u001B[0m     \u001B[38;5;124m\"\u001B[39m\u001B[38;5;124mCASE WHEN ST_Area(shape) > 100 THEN 1 ELSE 0 END AS area_score, \u001B[39m\u001B[38;5;124m\"\u001B[39m\n\u001B[0;32m   (...)\u001B[0m\n\u001B[1;32m      7\u001B[0m     \u001B[38;5;124m\"\u001B[39m\u001B[38;5;124mLIMIT 10\u001B[39m\u001B[38;5;124m\"\u001B[39m\n\u001B[1;32m      8\u001B[0m )\n\u001B[1;32m     10\u001B[0m qs \u001B[38;5;241m=\u001B[39m Building\u001B[38;5;241m.\u001B[39mobjects\u001B[38;5;241m.\u001B[39mraw(q)\n\u001B[0;32m---> 12\u001B[0m \u001B[38;5;28;01mfor\u001B[39;00m b \u001B[38;5;129;01min\u001B[39;00m qs:\n\u001B[1;32m     13\u001B[0m     \u001B[38;5;28mprint\u001B[39m(b\u001B[38;5;241m.\u001B[39mrnb_id, b\u001B[38;5;241m.\u001B[39mscore)\n",
      "File \u001B[0;32m/usr/local/lib/python3.10/site-packages/django/db/models/query.py:2057\u001B[0m, in \u001B[0;36mRawQuerySet.__iter__\u001B[0;34m(self)\u001B[0m\n\u001B[1;32m   2056\u001B[0m \u001B[38;5;28;01mdef\u001B[39;00m \u001B[38;5;21m__iter__\u001B[39m(\u001B[38;5;28mself\u001B[39m):\n\u001B[0;32m-> 2057\u001B[0m     \u001B[38;5;28;43mself\u001B[39;49m\u001B[38;5;241;43m.\u001B[39;49m\u001B[43m_fetch_all\u001B[49m\u001B[43m(\u001B[49m\u001B[43m)\u001B[49m\n\u001B[1;32m   2058\u001B[0m     \u001B[38;5;28;01mreturn\u001B[39;00m \u001B[38;5;28miter\u001B[39m(\u001B[38;5;28mself\u001B[39m\u001B[38;5;241m.\u001B[39m_result_cache)\n",
      "File \u001B[0;32m/usr/local/lib/python3.10/site-packages/django/db/models/query.py:2044\u001B[0m, in \u001B[0;36mRawQuerySet._fetch_all\u001B[0;34m(self)\u001B[0m\n\u001B[1;32m   2042\u001B[0m \u001B[38;5;28;01mdef\u001B[39;00m \u001B[38;5;21m_fetch_all\u001B[39m(\u001B[38;5;28mself\u001B[39m):\n\u001B[1;32m   2043\u001B[0m     \u001B[38;5;28;01mif\u001B[39;00m \u001B[38;5;28mself\u001B[39m\u001B[38;5;241m.\u001B[39m_result_cache \u001B[38;5;129;01mis\u001B[39;00m \u001B[38;5;28;01mNone\u001B[39;00m:\n\u001B[0;32m-> 2044\u001B[0m         \u001B[38;5;28mself\u001B[39m\u001B[38;5;241m.\u001B[39m_result_cache \u001B[38;5;241m=\u001B[39m \u001B[38;5;28;43mlist\u001B[39;49m\u001B[43m(\u001B[49m\u001B[38;5;28;43mself\u001B[39;49m\u001B[38;5;241;43m.\u001B[39;49m\u001B[43miterator\u001B[49m\u001B[43m(\u001B[49m\u001B[43m)\u001B[49m\u001B[43m)\u001B[49m\n\u001B[1;32m   2045\u001B[0m     \u001B[38;5;28;01mif\u001B[39;00m \u001B[38;5;28mself\u001B[39m\u001B[38;5;241m.\u001B[39m_prefetch_related_lookups \u001B[38;5;129;01mand\u001B[39;00m \u001B[38;5;129;01mnot\u001B[39;00m \u001B[38;5;28mself\u001B[39m\u001B[38;5;241m.\u001B[39m_prefetch_done:\n\u001B[1;32m   2046\u001B[0m         \u001B[38;5;28mself\u001B[39m\u001B[38;5;241m.\u001B[39m_prefetch_related_objects()\n",
      "File \u001B[0;32m/usr/local/lib/python3.10/site-packages/django/db/models/query.py:2071\u001B[0m, in \u001B[0;36mRawQuerySet.iterator\u001B[0;34m(self)\u001B[0m\n\u001B[1;32m   2070\u001B[0m \u001B[38;5;28;01mdef\u001B[39;00m \u001B[38;5;21miterator\u001B[39m(\u001B[38;5;28mself\u001B[39m):\n\u001B[0;32m-> 2071\u001B[0m     \u001B[38;5;28;01myield from\u001B[39;00m RawModelIterable(\u001B[38;5;28mself\u001B[39m)\n",
      "File \u001B[0;32m/usr/local/lib/python3.10/site-packages/django/db/models/query.py:154\u001B[0m, in \u001B[0;36mRawModelIterable.__iter__\u001B[0;34m(self)\u001B[0m\n\u001B[1;32m    152\u001B[0m connection \u001B[38;5;241m=\u001B[39m connections[db]\n\u001B[1;32m    153\u001B[0m compiler \u001B[38;5;241m=\u001B[39m connection\u001B[38;5;241m.\u001B[39mops\u001B[38;5;241m.\u001B[39mcompiler(\u001B[38;5;124m\"\u001B[39m\u001B[38;5;124mSQLCompiler\u001B[39m\u001B[38;5;124m\"\u001B[39m)(query, connection, db)\n\u001B[0;32m--> 154\u001B[0m query_iterator \u001B[38;5;241m=\u001B[39m \u001B[38;5;28;43miter\u001B[39;49m\u001B[43m(\u001B[49m\u001B[43mquery\u001B[49m\u001B[43m)\u001B[49m\n\u001B[1;32m    156\u001B[0m \u001B[38;5;28;01mtry\u001B[39;00m:\n\u001B[1;32m    157\u001B[0m     (\n\u001B[1;32m    158\u001B[0m         model_init_names,\n\u001B[1;32m    159\u001B[0m         model_init_pos,\n\u001B[1;32m    160\u001B[0m         annotation_fields,\n\u001B[1;32m    161\u001B[0m     ) \u001B[38;5;241m=\u001B[39m \u001B[38;5;28mself\u001B[39m\u001B[38;5;241m.\u001B[39mqueryset\u001B[38;5;241m.\u001B[39mresolve_model_init_order()\n",
      "File \u001B[0;32m/usr/local/lib/python3.10/site-packages/django/db/models/sql/query.py:112\u001B[0m, in \u001B[0;36mRawQuery.__iter__\u001B[0;34m(self)\u001B[0m\n\u001B[1;32m    109\u001B[0m \u001B[38;5;28;01mdef\u001B[39;00m \u001B[38;5;21m__iter__\u001B[39m(\u001B[38;5;28mself\u001B[39m):\n\u001B[1;32m    110\u001B[0m     \u001B[38;5;66;03m# Always execute a new query for a new iterator.\u001B[39;00m\n\u001B[1;32m    111\u001B[0m     \u001B[38;5;66;03m# This could be optimized with a cache at the expense of RAM.\u001B[39;00m\n\u001B[0;32m--> 112\u001B[0m     \u001B[38;5;28;43mself\u001B[39;49m\u001B[38;5;241;43m.\u001B[39;49m\u001B[43m_execute_query\u001B[49m\u001B[43m(\u001B[49m\u001B[43m)\u001B[49m\n\u001B[1;32m    113\u001B[0m     \u001B[38;5;28;01mif\u001B[39;00m \u001B[38;5;129;01mnot\u001B[39;00m connections[\u001B[38;5;28mself\u001B[39m\u001B[38;5;241m.\u001B[39musing]\u001B[38;5;241m.\u001B[39mfeatures\u001B[38;5;241m.\u001B[39mcan_use_chunked_reads:\n\u001B[1;32m    114\u001B[0m         \u001B[38;5;66;03m# If the database can't use chunked reads we need to make sure we\u001B[39;00m\n\u001B[1;32m    115\u001B[0m         \u001B[38;5;66;03m# evaluate the entire query up front.\u001B[39;00m\n\u001B[1;32m    116\u001B[0m         result \u001B[38;5;241m=\u001B[39m \u001B[38;5;28mlist\u001B[39m(\u001B[38;5;28mself\u001B[39m\u001B[38;5;241m.\u001B[39mcursor)\n",
      "File \u001B[0;32m/usr/local/lib/python3.10/site-packages/django/db/models/sql/query.py:152\u001B[0m, in \u001B[0;36mRawQuery._execute_query\u001B[0;34m(self)\u001B[0m\n\u001B[1;32m    149\u001B[0m     \u001B[38;5;28;01mraise\u001B[39;00m \u001B[38;5;167;01mRuntimeError\u001B[39;00m(\u001B[38;5;124m\"\u001B[39m\u001B[38;5;124mUnexpected params type: \u001B[39m\u001B[38;5;132;01m%s\u001B[39;00m\u001B[38;5;124m\"\u001B[39m \u001B[38;5;241m%\u001B[39m params_type)\n\u001B[1;32m    151\u001B[0m \u001B[38;5;28mself\u001B[39m\u001B[38;5;241m.\u001B[39mcursor \u001B[38;5;241m=\u001B[39m connection\u001B[38;5;241m.\u001B[39mcursor()\n\u001B[0;32m--> 152\u001B[0m \u001B[38;5;28;43mself\u001B[39;49m\u001B[38;5;241;43m.\u001B[39;49m\u001B[43mcursor\u001B[49m\u001B[38;5;241;43m.\u001B[39;49m\u001B[43mexecute\u001B[49m\u001B[43m(\u001B[49m\u001B[38;5;28;43mself\u001B[39;49m\u001B[38;5;241;43m.\u001B[39;49m\u001B[43msql\u001B[49m\u001B[43m,\u001B[49m\u001B[43m \u001B[49m\u001B[43mparams\u001B[49m\u001B[43m)\u001B[49m\n",
      "File \u001B[0;32m/usr/local/lib/python3.10/site-packages/django/db/backends/utils.py:102\u001B[0m, in \u001B[0;36mCursorDebugWrapper.execute\u001B[0;34m(self, sql, params)\u001B[0m\n\u001B[1;32m    100\u001B[0m \u001B[38;5;28;01mdef\u001B[39;00m \u001B[38;5;21mexecute\u001B[39m(\u001B[38;5;28mself\u001B[39m, sql, params\u001B[38;5;241m=\u001B[39m\u001B[38;5;28;01mNone\u001B[39;00m):\n\u001B[1;32m    101\u001B[0m     \u001B[38;5;28;01mwith\u001B[39;00m \u001B[38;5;28mself\u001B[39m\u001B[38;5;241m.\u001B[39mdebug_sql(sql, params, use_last_executed_query\u001B[38;5;241m=\u001B[39m\u001B[38;5;28;01mTrue\u001B[39;00m):\n\u001B[0;32m--> 102\u001B[0m         \u001B[38;5;28;01mreturn\u001B[39;00m \u001B[38;5;28;43msuper\u001B[39;49m\u001B[43m(\u001B[49m\u001B[43m)\u001B[49m\u001B[38;5;241;43m.\u001B[39;49m\u001B[43mexecute\u001B[49m\u001B[43m(\u001B[49m\u001B[43msql\u001B[49m\u001B[43m,\u001B[49m\u001B[43m \u001B[49m\u001B[43mparams\u001B[49m\u001B[43m)\u001B[49m\n",
      "File \u001B[0;32m/usr/local/lib/python3.10/site-packages/django/db/backends/utils.py:67\u001B[0m, in \u001B[0;36mCursorWrapper.execute\u001B[0;34m(self, sql, params)\u001B[0m\n\u001B[1;32m     66\u001B[0m \u001B[38;5;28;01mdef\u001B[39;00m \u001B[38;5;21mexecute\u001B[39m(\u001B[38;5;28mself\u001B[39m, sql, params\u001B[38;5;241m=\u001B[39m\u001B[38;5;28;01mNone\u001B[39;00m):\n\u001B[0;32m---> 67\u001B[0m     \u001B[38;5;28;01mreturn\u001B[39;00m \u001B[38;5;28;43mself\u001B[39;49m\u001B[38;5;241;43m.\u001B[39;49m\u001B[43m_execute_with_wrappers\u001B[49m\u001B[43m(\u001B[49m\n\u001B[1;32m     68\u001B[0m \u001B[43m        \u001B[49m\u001B[43msql\u001B[49m\u001B[43m,\u001B[49m\u001B[43m \u001B[49m\u001B[43mparams\u001B[49m\u001B[43m,\u001B[49m\u001B[43m \u001B[49m\u001B[43mmany\u001B[49m\u001B[38;5;241;43m=\u001B[39;49m\u001B[38;5;28;43;01mFalse\u001B[39;49;00m\u001B[43m,\u001B[49m\u001B[43m \u001B[49m\u001B[43mexecutor\u001B[49m\u001B[38;5;241;43m=\u001B[39;49m\u001B[38;5;28;43mself\u001B[39;49m\u001B[38;5;241;43m.\u001B[39;49m\u001B[43m_execute\u001B[49m\n\u001B[1;32m     69\u001B[0m \u001B[43m    \u001B[49m\u001B[43m)\u001B[49m\n",
      "File \u001B[0;32m/usr/local/lib/python3.10/site-packages/django/db/backends/utils.py:80\u001B[0m, in \u001B[0;36mCursorWrapper._execute_with_wrappers\u001B[0;34m(self, sql, params, many, executor)\u001B[0m\n\u001B[1;32m     78\u001B[0m \u001B[38;5;28;01mfor\u001B[39;00m wrapper \u001B[38;5;129;01min\u001B[39;00m \u001B[38;5;28mreversed\u001B[39m(\u001B[38;5;28mself\u001B[39m\u001B[38;5;241m.\u001B[39mdb\u001B[38;5;241m.\u001B[39mexecute_wrappers):\n\u001B[1;32m     79\u001B[0m     executor \u001B[38;5;241m=\u001B[39m functools\u001B[38;5;241m.\u001B[39mpartial(wrapper, executor)\n\u001B[0;32m---> 80\u001B[0m \u001B[38;5;28;01mreturn\u001B[39;00m \u001B[43mexecutor\u001B[49m\u001B[43m(\u001B[49m\u001B[43msql\u001B[49m\u001B[43m,\u001B[49m\u001B[43m \u001B[49m\u001B[43mparams\u001B[49m\u001B[43m,\u001B[49m\u001B[43m \u001B[49m\u001B[43mmany\u001B[49m\u001B[43m,\u001B[49m\u001B[43m \u001B[49m\u001B[43mcontext\u001B[49m\u001B[43m)\u001B[49m\n",
      "File \u001B[0;32m/usr/local/lib/python3.10/site-packages/django/db/backends/utils.py:84\u001B[0m, in \u001B[0;36mCursorWrapper._execute\u001B[0;34m(self, sql, params, *ignored_wrapper_args)\u001B[0m\n\u001B[1;32m     82\u001B[0m \u001B[38;5;28;01mdef\u001B[39;00m \u001B[38;5;21m_execute\u001B[39m(\u001B[38;5;28mself\u001B[39m, sql, params, \u001B[38;5;241m*\u001B[39mignored_wrapper_args):\n\u001B[1;32m     83\u001B[0m     \u001B[38;5;28mself\u001B[39m\u001B[38;5;241m.\u001B[39mdb\u001B[38;5;241m.\u001B[39mvalidate_no_broken_transaction()\n\u001B[0;32m---> 84\u001B[0m     \u001B[38;5;28;01mwith\u001B[39;00m \u001B[38;5;28mself\u001B[39m\u001B[38;5;241m.\u001B[39mdb\u001B[38;5;241m.\u001B[39mwrap_database_errors:\n\u001B[1;32m     85\u001B[0m         \u001B[38;5;28;01mif\u001B[39;00m params \u001B[38;5;129;01mis\u001B[39;00m \u001B[38;5;28;01mNone\u001B[39;00m:\n\u001B[1;32m     86\u001B[0m             \u001B[38;5;66;03m# params default might be backend specific.\u001B[39;00m\n\u001B[1;32m     87\u001B[0m             \u001B[38;5;28;01mreturn\u001B[39;00m \u001B[38;5;28mself\u001B[39m\u001B[38;5;241m.\u001B[39mcursor\u001B[38;5;241m.\u001B[39mexecute(sql)\n",
      "File \u001B[0;32m/usr/local/lib/python3.10/site-packages/django/db/utils.py:91\u001B[0m, in \u001B[0;36mDatabaseErrorWrapper.__exit__\u001B[0;34m(self, exc_type, exc_value, traceback)\u001B[0m\n\u001B[1;32m     89\u001B[0m \u001B[38;5;28;01mif\u001B[39;00m dj_exc_type \u001B[38;5;129;01mnot\u001B[39;00m \u001B[38;5;129;01min\u001B[39;00m (DataError, IntegrityError):\n\u001B[1;32m     90\u001B[0m     \u001B[38;5;28mself\u001B[39m\u001B[38;5;241m.\u001B[39mwrapper\u001B[38;5;241m.\u001B[39merrors_occurred \u001B[38;5;241m=\u001B[39m \u001B[38;5;28;01mTrue\u001B[39;00m\n\u001B[0;32m---> 91\u001B[0m \u001B[38;5;28;01mraise\u001B[39;00m dj_exc_value\u001B[38;5;241m.\u001B[39mwith_traceback(traceback) \u001B[38;5;28;01mfrom\u001B[39;00m \u001B[38;5;21;01mexc_value\u001B[39;00m\n",
      "File \u001B[0;32m/usr/local/lib/python3.10/site-packages/django/db/backends/utils.py:89\u001B[0m, in \u001B[0;36mCursorWrapper._execute\u001B[0;34m(self, sql, params, *ignored_wrapper_args)\u001B[0m\n\u001B[1;32m     87\u001B[0m     \u001B[38;5;28;01mreturn\u001B[39;00m \u001B[38;5;28mself\u001B[39m\u001B[38;5;241m.\u001B[39mcursor\u001B[38;5;241m.\u001B[39mexecute(sql)\n\u001B[1;32m     88\u001B[0m \u001B[38;5;28;01melse\u001B[39;00m:\n\u001B[0;32m---> 89\u001B[0m     \u001B[38;5;28;01mreturn\u001B[39;00m \u001B[38;5;28;43mself\u001B[39;49m\u001B[38;5;241;43m.\u001B[39;49m\u001B[43mcursor\u001B[49m\u001B[38;5;241;43m.\u001B[39;49m\u001B[43mexecute\u001B[49m\u001B[43m(\u001B[49m\u001B[43msql\u001B[49m\u001B[43m,\u001B[49m\u001B[43m \u001B[49m\u001B[43mparams\u001B[49m\u001B[43m)\u001B[49m\n",
      "\u001B[0;31mProgrammingError\u001B[0m: column \"area_score\" does not exist\nLINE 1: SELECT id, rnb_id, area_score + x_score as score, CASE WHEN ...\n                           ^\n"
     ]
    }
   ],
   "source": [
    "q = (\n",
    "    \"SELECT id, rnb_id, area_score + x_score as score, \"\n",
    "    \"CASE WHEN ST_Area(shape) > 100 THEN 1 ELSE 0 END AS area_score, \"\n",
    "    \"CASE WHEN rnb_id LIKE 'PEP' THEN 1 ELSE 0 END AS x_score \"\n",
    "    \"FROM batid_building \"\n",
    "    \"ORDER BY score DESC \"\n",
    "    \"LIMIT 10\"\n",
    ")\n",
    "\n",
    "qs = Building.objects.raw(q)\n",
    "\n",
    "for b in qs:\n",
    "    print(b.rnb_id, b.score)"
   ]
  },
  {
   "cell_type": "code",
   "execution_count": null,
   "id": "351c45b7",
   "metadata": {},
   "outputs": [],
   "source": []
  }
 ],
 "metadata": {
  "kernelspec": {
   "display_name": "Django Shell-Plus",
   "language": "python",
   "name": "django_extensions"
  },
  "language_info": {
   "codemirror_mode": {
    "name": "ipython",
    "version": 3
   },
   "file_extension": ".py",
   "mimetype": "text/x-python",
   "name": "python",
   "nbconvert_exporter": "python",
   "pygments_lexer": "ipython3",
   "version": "3.12.4"
  }
 },
 "nbformat": 4,
 "nbformat_minor": 5
}
