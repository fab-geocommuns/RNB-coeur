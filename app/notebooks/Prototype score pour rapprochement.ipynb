{
 "cells": [
  {
   "cell_type": "markdown",
   "id": "72c76c7f",
   "metadata": {},
   "source": [
    "## Création d'un score et tri par ce score"
   ]
  },
  {
   "cell_type": "code",
   "execution_count": 2,
   "id": "a10dae19",
   "metadata": {},
   "outputs": [],
   "source": [
    "from batid.models import Building\n",
    "import os\n",
    "\n",
    "os.environ[\"DJANGO_ALLOW_ASYNC_UNSAFE\"] = \"true\""
   ]
  },
  {
   "cell_type": "markdown",
   "id": "efbb159e",
   "metadata": {},
   "source": [
    "## Simple score"
   ]
  },
  {
   "cell_type": "code",
   "execution_count": 3,
   "id": "1b5bc0f6",
   "metadata": {},
   "outputs": [
    {
     "name": "stdout",
     "output_type": "stream",
     "text": [
      "AVANPTEJJDWL 0\n",
      "2GGPWSY7CQFR 0\n",
      "ACSTV78B7VL4 0\n",
      "L76STBERDD5L 1\n",
      "68ZSVVE8E4GU 0\n",
      "XDLW5CC287JX 0\n",
      "NU554C13RCSP 0\n",
      "ZBDD3SEHCM3X 1\n",
      "EGX4GL2VRQE1 0\n",
      "Z1D5LKYPDEF9 1\n"
     ]
    }
   ],
   "source": [
    "q = (\n",
    "    \"SELECT id, rnb_id, \"\n",
    "    \"CASE WHEN ST_Area(shape) > 100 THEN 1 ELSE 0 END AS score \"\n",
    "    \"FROM batid_building \"\n",
    "    \"LIMIT 10\"\n",
    ")\n",
    "\n",
    "qs = Building.objects.raw(q)\n",
    "\n",
    "for b in qs:\n",
    "    print(b.rnb_id, b.score)\n"
   ]
  },
  {
   "cell_type": "markdown",
   "id": "cc43e0f3",
   "metadata": {},
   "source": [
    "## Score avec tri"
   ]
  },
  {
   "cell_type": "code",
   "execution_count": 4,
   "id": "034540f6",
   "metadata": {},
   "outputs": [
    {
     "name": "stdout",
     "output_type": "stream",
     "text": [
      "HUECQFMUPHAT 1\n",
      "6YEJGQ5A1G7C 1\n",
      "A3MAEKZXKJWY 1\n",
      "PEP2FKASPNX7 1\n",
      "X9BW3C451QP7 1\n",
      "7PATPJVCVUST 1\n",
      "ZBDD3SEHCM3X 1\n",
      "L76STBERDD5L 1\n",
      "Z1D5LKYPDEF9 1\n",
      "4LRS74Y8U8SL 1\n"
     ]
    }
   ],
   "source": [
    "q = (\n",
    "    \"SELECT id, rnb_id, \"\n",
    "    \"CASE WHEN ST_Area(shape) > 100 THEN 1 ELSE 0 END AS score \"\n",
    "    \"FROM batid_building \"\n",
    "    \"ORDER BY score DESC \"\n",
    "    \"LIMIT 10\"\n",
    ")\n",
    "\n",
    "qs = Building.objects.raw(q)\n",
    "\n",
    "for b in qs:\n",
    "    print(b.rnb_id, b.score)"
   ]
  },
  {
   "cell_type": "markdown",
   "id": "84b64eed",
   "metadata": {},
   "source": [
    "Ca fonctionne !"
   ]
  },
  {
   "cell_type": "markdown",
   "id": "23a9ddcf",
   "metadata": {},
   "source": [
    "## Combinaison de scores sur plusieurs critères"
   ]
  },
  {
   "cell_type": "code",
   "execution_count": 5,
   "id": "e7c4a672",
   "metadata": {},
   "outputs": [
    {
     "name": "stdout",
     "output_type": "stream",
     "text": [
      "HUECQFMUPHAT 1\n",
      "6YEJGQ5A1G7C 1\n",
      "A3MAEKZXKJWY 1\n",
      "PEP2FKASPNX7 1\n",
      "X9BW3C451QP7 1\n",
      "7PATPJVCVUST 1\n",
      "ZBDD3SEHCM3X 1\n",
      "L76STBERDD5L 1\n",
      "Z1D5LKYPDEF9 1\n",
      "4LRS74Y8U8SL 1\n"
     ]
    }
   ],
   "source": [
    "q = (\n",
    "    \"WITH ScoredBdgs AS (\"\n",
    "        \"SELECT id, rnb_id, \"\n",
    "        \"CASE WHEN ST_Area(shape) > 100 THEN 1 ELSE 0 END AS area_score, \"\n",
    "        \"CASE WHEN rnb_id LIKE 'PEP' THEN 1 ELSE 0 END AS x_score \"\n",
    "        \"FROM batid_building \"\n",
    "    \") \"\n",
    "    \"SELECT *, area_score + x_score as score \"\n",
    "    \"FROM ScoredBdgs \"\n",
    "    \"ORDER BY score DESC \"\n",
    "    \"LIMIT 10\"\n",
    ")\n",
    "\n",
    "qs = Building.objects.raw(q)\n",
    "\n",
    "for b in qs:\n",
    "    print(b.rnb_id, b.score)"
   ]
  },
  {
   "cell_type": "markdown",
   "id": "b98f928a",
   "metadata": {},
   "source": [
    "## Combinaison de scores et tri sans sous-requête"
   ]
  },
  {
   "cell_type": "code",
   "execution_count": 7,
   "id": "b152001f",
   "metadata": {},
   "outputs": [
    {
     "ename": "ProgrammingError",
     "evalue": "column \"area_score\" does not exist\nLINE 1: SELECT id, rnb_id, area_score + x_score as score, CASE WHEN ...\n                           ^\n",
     "output_type": "error",
     "traceback": [
      "\u001b[0;31m---------------------------------------------------------------------------\u001b[0m",
      "\u001b[0;31mUndefinedColumn\u001b[0m                           Traceback (most recent call last)",
      "File \u001b[0;32m/usr/local/lib/python3.10/site-packages/django/db/backends/utils.py:89\u001b[0m, in \u001b[0;36mCursorWrapper._execute\u001b[0;34m(self, sql, params, *ignored_wrapper_args)\u001b[0m\n\u001b[1;32m     88\u001b[0m \u001b[38;5;28;01melse\u001b[39;00m:\n\u001b[0;32m---> 89\u001b[0m     \u001b[38;5;28;01mreturn\u001b[39;00m \u001b[38;5;28;43mself\u001b[39;49m\u001b[38;5;241;43m.\u001b[39;49m\u001b[43mcursor\u001b[49m\u001b[38;5;241;43m.\u001b[39;49m\u001b[43mexecute\u001b[49m\u001b[43m(\u001b[49m\u001b[43msql\u001b[49m\u001b[43m,\u001b[49m\u001b[43m \u001b[49m\u001b[43mparams\u001b[49m\u001b[43m)\u001b[49m\n",
      "\u001b[0;31mUndefinedColumn\u001b[0m: column \"area_score\" does not exist\nLINE 1: SELECT id, rnb_id, area_score + x_score as score, CASE WHEN ...\n                           ^\n",
      "\nThe above exception was the direct cause of the following exception:\n",
      "\u001b[0;31mProgrammingError\u001b[0m                          Traceback (most recent call last)",
      "Cell \u001b[0;32mIn[7], line 12\u001b[0m\n\u001b[1;32m      1\u001b[0m q \u001b[38;5;241m=\u001b[39m (\n\u001b[1;32m      2\u001b[0m     \u001b[38;5;124m\"\u001b[39m\u001b[38;5;124mSELECT id, rnb_id, area_score + x_score as score, \u001b[39m\u001b[38;5;124m\"\u001b[39m\n\u001b[1;32m      3\u001b[0m     \u001b[38;5;124m\"\u001b[39m\u001b[38;5;124mCASE WHEN ST_Area(shape) > 100 THEN 1 ELSE 0 END AS area_score, \u001b[39m\u001b[38;5;124m\"\u001b[39m\n\u001b[0;32m   (...)\u001b[0m\n\u001b[1;32m      7\u001b[0m     \u001b[38;5;124m\"\u001b[39m\u001b[38;5;124mLIMIT 10\u001b[39m\u001b[38;5;124m\"\u001b[39m\n\u001b[1;32m      8\u001b[0m )\n\u001b[1;32m     10\u001b[0m qs \u001b[38;5;241m=\u001b[39m Building\u001b[38;5;241m.\u001b[39mobjects\u001b[38;5;241m.\u001b[39mraw(q)\n\u001b[0;32m---> 12\u001b[0m \u001b[38;5;28;01mfor\u001b[39;00m b \u001b[38;5;129;01min\u001b[39;00m qs:\n\u001b[1;32m     13\u001b[0m     \u001b[38;5;28mprint\u001b[39m(b\u001b[38;5;241m.\u001b[39mrnb_id, b\u001b[38;5;241m.\u001b[39mscore)\n",
      "File \u001b[0;32m/usr/local/lib/python3.10/site-packages/django/db/models/query.py:2057\u001b[0m, in \u001b[0;36mRawQuerySet.__iter__\u001b[0;34m(self)\u001b[0m\n\u001b[1;32m   2056\u001b[0m \u001b[38;5;28;01mdef\u001b[39;00m \u001b[38;5;21m__iter__\u001b[39m(\u001b[38;5;28mself\u001b[39m):\n\u001b[0;32m-> 2057\u001b[0m     \u001b[38;5;28;43mself\u001b[39;49m\u001b[38;5;241;43m.\u001b[39;49m\u001b[43m_fetch_all\u001b[49m\u001b[43m(\u001b[49m\u001b[43m)\u001b[49m\n\u001b[1;32m   2058\u001b[0m     \u001b[38;5;28;01mreturn\u001b[39;00m \u001b[38;5;28miter\u001b[39m(\u001b[38;5;28mself\u001b[39m\u001b[38;5;241m.\u001b[39m_result_cache)\n",
      "File \u001b[0;32m/usr/local/lib/python3.10/site-packages/django/db/models/query.py:2044\u001b[0m, in \u001b[0;36mRawQuerySet._fetch_all\u001b[0;34m(self)\u001b[0m\n\u001b[1;32m   2042\u001b[0m \u001b[38;5;28;01mdef\u001b[39;00m \u001b[38;5;21m_fetch_all\u001b[39m(\u001b[38;5;28mself\u001b[39m):\n\u001b[1;32m   2043\u001b[0m     \u001b[38;5;28;01mif\u001b[39;00m \u001b[38;5;28mself\u001b[39m\u001b[38;5;241m.\u001b[39m_result_cache \u001b[38;5;129;01mis\u001b[39;00m \u001b[38;5;28;01mNone\u001b[39;00m:\n\u001b[0;32m-> 2044\u001b[0m         \u001b[38;5;28mself\u001b[39m\u001b[38;5;241m.\u001b[39m_result_cache \u001b[38;5;241m=\u001b[39m \u001b[38;5;28;43mlist\u001b[39;49m\u001b[43m(\u001b[49m\u001b[38;5;28;43mself\u001b[39;49m\u001b[38;5;241;43m.\u001b[39;49m\u001b[43miterator\u001b[49m\u001b[43m(\u001b[49m\u001b[43m)\u001b[49m\u001b[43m)\u001b[49m\n\u001b[1;32m   2045\u001b[0m     \u001b[38;5;28;01mif\u001b[39;00m \u001b[38;5;28mself\u001b[39m\u001b[38;5;241m.\u001b[39m_prefetch_related_lookups \u001b[38;5;129;01mand\u001b[39;00m \u001b[38;5;129;01mnot\u001b[39;00m \u001b[38;5;28mself\u001b[39m\u001b[38;5;241m.\u001b[39m_prefetch_done:\n\u001b[1;32m   2046\u001b[0m         \u001b[38;5;28mself\u001b[39m\u001b[38;5;241m.\u001b[39m_prefetch_related_objects()\n",
      "File \u001b[0;32m/usr/local/lib/python3.10/site-packages/django/db/models/query.py:2071\u001b[0m, in \u001b[0;36mRawQuerySet.iterator\u001b[0;34m(self)\u001b[0m\n\u001b[1;32m   2070\u001b[0m \u001b[38;5;28;01mdef\u001b[39;00m \u001b[38;5;21miterator\u001b[39m(\u001b[38;5;28mself\u001b[39m):\n\u001b[0;32m-> 2071\u001b[0m     \u001b[38;5;28;01myield from\u001b[39;00m RawModelIterable(\u001b[38;5;28mself\u001b[39m)\n",
      "File \u001b[0;32m/usr/local/lib/python3.10/site-packages/django/db/models/query.py:154\u001b[0m, in \u001b[0;36mRawModelIterable.__iter__\u001b[0;34m(self)\u001b[0m\n\u001b[1;32m    152\u001b[0m connection \u001b[38;5;241m=\u001b[39m connections[db]\n\u001b[1;32m    153\u001b[0m compiler \u001b[38;5;241m=\u001b[39m connection\u001b[38;5;241m.\u001b[39mops\u001b[38;5;241m.\u001b[39mcompiler(\u001b[38;5;124m\"\u001b[39m\u001b[38;5;124mSQLCompiler\u001b[39m\u001b[38;5;124m\"\u001b[39m)(query, connection, db)\n\u001b[0;32m--> 154\u001b[0m query_iterator \u001b[38;5;241m=\u001b[39m \u001b[38;5;28;43miter\u001b[39;49m\u001b[43m(\u001b[49m\u001b[43mquery\u001b[49m\u001b[43m)\u001b[49m\n\u001b[1;32m    156\u001b[0m \u001b[38;5;28;01mtry\u001b[39;00m:\n\u001b[1;32m    157\u001b[0m     (\n\u001b[1;32m    158\u001b[0m         model_init_names,\n\u001b[1;32m    159\u001b[0m         model_init_pos,\n\u001b[1;32m    160\u001b[0m         annotation_fields,\n\u001b[1;32m    161\u001b[0m     ) \u001b[38;5;241m=\u001b[39m \u001b[38;5;28mself\u001b[39m\u001b[38;5;241m.\u001b[39mqueryset\u001b[38;5;241m.\u001b[39mresolve_model_init_order()\n",
      "File \u001b[0;32m/usr/local/lib/python3.10/site-packages/django/db/models/sql/query.py:112\u001b[0m, in \u001b[0;36mRawQuery.__iter__\u001b[0;34m(self)\u001b[0m\n\u001b[1;32m    109\u001b[0m \u001b[38;5;28;01mdef\u001b[39;00m \u001b[38;5;21m__iter__\u001b[39m(\u001b[38;5;28mself\u001b[39m):\n\u001b[1;32m    110\u001b[0m     \u001b[38;5;66;03m# Always execute a new query for a new iterator.\u001b[39;00m\n\u001b[1;32m    111\u001b[0m     \u001b[38;5;66;03m# This could be optimized with a cache at the expense of RAM.\u001b[39;00m\n\u001b[0;32m--> 112\u001b[0m     \u001b[38;5;28;43mself\u001b[39;49m\u001b[38;5;241;43m.\u001b[39;49m\u001b[43m_execute_query\u001b[49m\u001b[43m(\u001b[49m\u001b[43m)\u001b[49m\n\u001b[1;32m    113\u001b[0m     \u001b[38;5;28;01mif\u001b[39;00m \u001b[38;5;129;01mnot\u001b[39;00m connections[\u001b[38;5;28mself\u001b[39m\u001b[38;5;241m.\u001b[39musing]\u001b[38;5;241m.\u001b[39mfeatures\u001b[38;5;241m.\u001b[39mcan_use_chunked_reads:\n\u001b[1;32m    114\u001b[0m         \u001b[38;5;66;03m# If the database can't use chunked reads we need to make sure we\u001b[39;00m\n\u001b[1;32m    115\u001b[0m         \u001b[38;5;66;03m# evaluate the entire query up front.\u001b[39;00m\n\u001b[1;32m    116\u001b[0m         result \u001b[38;5;241m=\u001b[39m \u001b[38;5;28mlist\u001b[39m(\u001b[38;5;28mself\u001b[39m\u001b[38;5;241m.\u001b[39mcursor)\n",
      "File \u001b[0;32m/usr/local/lib/python3.10/site-packages/django/db/models/sql/query.py:152\u001b[0m, in \u001b[0;36mRawQuery._execute_query\u001b[0;34m(self)\u001b[0m\n\u001b[1;32m    149\u001b[0m     \u001b[38;5;28;01mraise\u001b[39;00m \u001b[38;5;167;01mRuntimeError\u001b[39;00m(\u001b[38;5;124m\"\u001b[39m\u001b[38;5;124mUnexpected params type: \u001b[39m\u001b[38;5;132;01m%s\u001b[39;00m\u001b[38;5;124m\"\u001b[39m \u001b[38;5;241m%\u001b[39m params_type)\n\u001b[1;32m    151\u001b[0m \u001b[38;5;28mself\u001b[39m\u001b[38;5;241m.\u001b[39mcursor \u001b[38;5;241m=\u001b[39m connection\u001b[38;5;241m.\u001b[39mcursor()\n\u001b[0;32m--> 152\u001b[0m \u001b[38;5;28;43mself\u001b[39;49m\u001b[38;5;241;43m.\u001b[39;49m\u001b[43mcursor\u001b[49m\u001b[38;5;241;43m.\u001b[39;49m\u001b[43mexecute\u001b[49m\u001b[43m(\u001b[49m\u001b[38;5;28;43mself\u001b[39;49m\u001b[38;5;241;43m.\u001b[39;49m\u001b[43msql\u001b[49m\u001b[43m,\u001b[49m\u001b[43m \u001b[49m\u001b[43mparams\u001b[49m\u001b[43m)\u001b[49m\n",
      "File \u001b[0;32m/usr/local/lib/python3.10/site-packages/django/db/backends/utils.py:102\u001b[0m, in \u001b[0;36mCursorDebugWrapper.execute\u001b[0;34m(self, sql, params)\u001b[0m\n\u001b[1;32m    100\u001b[0m \u001b[38;5;28;01mdef\u001b[39;00m \u001b[38;5;21mexecute\u001b[39m(\u001b[38;5;28mself\u001b[39m, sql, params\u001b[38;5;241m=\u001b[39m\u001b[38;5;28;01mNone\u001b[39;00m):\n\u001b[1;32m    101\u001b[0m     \u001b[38;5;28;01mwith\u001b[39;00m \u001b[38;5;28mself\u001b[39m\u001b[38;5;241m.\u001b[39mdebug_sql(sql, params, use_last_executed_query\u001b[38;5;241m=\u001b[39m\u001b[38;5;28;01mTrue\u001b[39;00m):\n\u001b[0;32m--> 102\u001b[0m         \u001b[38;5;28;01mreturn\u001b[39;00m \u001b[38;5;28;43msuper\u001b[39;49m\u001b[43m(\u001b[49m\u001b[43m)\u001b[49m\u001b[38;5;241;43m.\u001b[39;49m\u001b[43mexecute\u001b[49m\u001b[43m(\u001b[49m\u001b[43msql\u001b[49m\u001b[43m,\u001b[49m\u001b[43m \u001b[49m\u001b[43mparams\u001b[49m\u001b[43m)\u001b[49m\n",
      "File \u001b[0;32m/usr/local/lib/python3.10/site-packages/django/db/backends/utils.py:67\u001b[0m, in \u001b[0;36mCursorWrapper.execute\u001b[0;34m(self, sql, params)\u001b[0m\n\u001b[1;32m     66\u001b[0m \u001b[38;5;28;01mdef\u001b[39;00m \u001b[38;5;21mexecute\u001b[39m(\u001b[38;5;28mself\u001b[39m, sql, params\u001b[38;5;241m=\u001b[39m\u001b[38;5;28;01mNone\u001b[39;00m):\n\u001b[0;32m---> 67\u001b[0m     \u001b[38;5;28;01mreturn\u001b[39;00m \u001b[38;5;28;43mself\u001b[39;49m\u001b[38;5;241;43m.\u001b[39;49m\u001b[43m_execute_with_wrappers\u001b[49m\u001b[43m(\u001b[49m\n\u001b[1;32m     68\u001b[0m \u001b[43m        \u001b[49m\u001b[43msql\u001b[49m\u001b[43m,\u001b[49m\u001b[43m \u001b[49m\u001b[43mparams\u001b[49m\u001b[43m,\u001b[49m\u001b[43m \u001b[49m\u001b[43mmany\u001b[49m\u001b[38;5;241;43m=\u001b[39;49m\u001b[38;5;28;43;01mFalse\u001b[39;49;00m\u001b[43m,\u001b[49m\u001b[43m \u001b[49m\u001b[43mexecutor\u001b[49m\u001b[38;5;241;43m=\u001b[39;49m\u001b[38;5;28;43mself\u001b[39;49m\u001b[38;5;241;43m.\u001b[39;49m\u001b[43m_execute\u001b[49m\n\u001b[1;32m     69\u001b[0m \u001b[43m    \u001b[49m\u001b[43m)\u001b[49m\n",
      "File \u001b[0;32m/usr/local/lib/python3.10/site-packages/django/db/backends/utils.py:80\u001b[0m, in \u001b[0;36mCursorWrapper._execute_with_wrappers\u001b[0;34m(self, sql, params, many, executor)\u001b[0m\n\u001b[1;32m     78\u001b[0m \u001b[38;5;28;01mfor\u001b[39;00m wrapper \u001b[38;5;129;01min\u001b[39;00m \u001b[38;5;28mreversed\u001b[39m(\u001b[38;5;28mself\u001b[39m\u001b[38;5;241m.\u001b[39mdb\u001b[38;5;241m.\u001b[39mexecute_wrappers):\n\u001b[1;32m     79\u001b[0m     executor \u001b[38;5;241m=\u001b[39m functools\u001b[38;5;241m.\u001b[39mpartial(wrapper, executor)\n\u001b[0;32m---> 80\u001b[0m \u001b[38;5;28;01mreturn\u001b[39;00m \u001b[43mexecutor\u001b[49m\u001b[43m(\u001b[49m\u001b[43msql\u001b[49m\u001b[43m,\u001b[49m\u001b[43m \u001b[49m\u001b[43mparams\u001b[49m\u001b[43m,\u001b[49m\u001b[43m \u001b[49m\u001b[43mmany\u001b[49m\u001b[43m,\u001b[49m\u001b[43m \u001b[49m\u001b[43mcontext\u001b[49m\u001b[43m)\u001b[49m\n",
      "File \u001b[0;32m/usr/local/lib/python3.10/site-packages/django/db/backends/utils.py:84\u001b[0m, in \u001b[0;36mCursorWrapper._execute\u001b[0;34m(self, sql, params, *ignored_wrapper_args)\u001b[0m\n\u001b[1;32m     82\u001b[0m \u001b[38;5;28;01mdef\u001b[39;00m \u001b[38;5;21m_execute\u001b[39m(\u001b[38;5;28mself\u001b[39m, sql, params, \u001b[38;5;241m*\u001b[39mignored_wrapper_args):\n\u001b[1;32m     83\u001b[0m     \u001b[38;5;28mself\u001b[39m\u001b[38;5;241m.\u001b[39mdb\u001b[38;5;241m.\u001b[39mvalidate_no_broken_transaction()\n\u001b[0;32m---> 84\u001b[0m     \u001b[38;5;28;01mwith\u001b[39;00m \u001b[38;5;28mself\u001b[39m\u001b[38;5;241m.\u001b[39mdb\u001b[38;5;241m.\u001b[39mwrap_database_errors:\n\u001b[1;32m     85\u001b[0m         \u001b[38;5;28;01mif\u001b[39;00m params \u001b[38;5;129;01mis\u001b[39;00m \u001b[38;5;28;01mNone\u001b[39;00m:\n\u001b[1;32m     86\u001b[0m             \u001b[38;5;66;03m# params default might be backend specific.\u001b[39;00m\n\u001b[1;32m     87\u001b[0m             \u001b[38;5;28;01mreturn\u001b[39;00m \u001b[38;5;28mself\u001b[39m\u001b[38;5;241m.\u001b[39mcursor\u001b[38;5;241m.\u001b[39mexecute(sql)\n",
      "File \u001b[0;32m/usr/local/lib/python3.10/site-packages/django/db/utils.py:91\u001b[0m, in \u001b[0;36mDatabaseErrorWrapper.__exit__\u001b[0;34m(self, exc_type, exc_value, traceback)\u001b[0m\n\u001b[1;32m     89\u001b[0m \u001b[38;5;28;01mif\u001b[39;00m dj_exc_type \u001b[38;5;129;01mnot\u001b[39;00m \u001b[38;5;129;01min\u001b[39;00m (DataError, IntegrityError):\n\u001b[1;32m     90\u001b[0m     \u001b[38;5;28mself\u001b[39m\u001b[38;5;241m.\u001b[39mwrapper\u001b[38;5;241m.\u001b[39merrors_occurred \u001b[38;5;241m=\u001b[39m \u001b[38;5;28;01mTrue\u001b[39;00m\n\u001b[0;32m---> 91\u001b[0m \u001b[38;5;28;01mraise\u001b[39;00m dj_exc_value\u001b[38;5;241m.\u001b[39mwith_traceback(traceback) \u001b[38;5;28;01mfrom\u001b[39;00m \u001b[38;5;21;01mexc_value\u001b[39;00m\n",
      "File \u001b[0;32m/usr/local/lib/python3.10/site-packages/django/db/backends/utils.py:89\u001b[0m, in \u001b[0;36mCursorWrapper._execute\u001b[0;34m(self, sql, params, *ignored_wrapper_args)\u001b[0m\n\u001b[1;32m     87\u001b[0m     \u001b[38;5;28;01mreturn\u001b[39;00m \u001b[38;5;28mself\u001b[39m\u001b[38;5;241m.\u001b[39mcursor\u001b[38;5;241m.\u001b[39mexecute(sql)\n\u001b[1;32m     88\u001b[0m \u001b[38;5;28;01melse\u001b[39;00m:\n\u001b[0;32m---> 89\u001b[0m     \u001b[38;5;28;01mreturn\u001b[39;00m \u001b[38;5;28;43mself\u001b[39;49m\u001b[38;5;241;43m.\u001b[39;49m\u001b[43mcursor\u001b[49m\u001b[38;5;241;43m.\u001b[39;49m\u001b[43mexecute\u001b[49m\u001b[43m(\u001b[49m\u001b[43msql\u001b[49m\u001b[43m,\u001b[49m\u001b[43m \u001b[49m\u001b[43mparams\u001b[49m\u001b[43m)\u001b[49m\n",
      "\u001b[0;31mProgrammingError\u001b[0m: column \"area_score\" does not exist\nLINE 1: SELECT id, rnb_id, area_score + x_score as score, CASE WHEN ...\n                           ^\n"
     ]
    }
   ],
   "source": [
    "q = (\n",
    "    \"SELECT id, rnb_id, area_score + x_score as score, \"\n",
    "    \"CASE WHEN ST_Area(shape) > 100 THEN 1 ELSE 0 END AS area_score, \"\n",
    "    \"CASE WHEN rnb_id LIKE 'PEP' THEN 1 ELSE 0 END AS x_score \"\n",
    "    \"FROM batid_building \"\n",
    "    \"ORDER BY score DESC \"\n",
    "    \"LIMIT 10\"\n",
    ")\n",
    "\n",
    "qs = Building.objects.raw(q)\n",
    "\n",
    "for b in qs:\n",
    "    print(b.rnb_id, b.score)"
   ]
  },
  {
   "cell_type": "code",
   "execution_count": null,
   "id": "351c45b7",
   "metadata": {},
   "outputs": [],
   "source": []
  }
 ],
 "metadata": {
  "kernelspec": {
   "display_name": "Django Shell-Plus",
   "language": "python",
   "name": "django_extensions"
  },
  "language_info": {
   "codemirror_mode": {
    "name": "ipython",
    "version": 3
   },
   "file_extension": ".py",
   "mimetype": "text/x-python",
   "name": "python",
   "nbconvert_exporter": "python",
   "pygments_lexer": "ipython3",
   "version": "3.10.13"
  }
 },
 "nbformat": 4,
 "nbformat_minor": 5
}
