{
 "cells": [
  {
   "cell_type": "markdown",
   "id": "72c76c7f",
   "metadata": {},
   "source": [
    "## Création d'un score et tri par ce score"
   ]
  },
  {
   "cell_type": "code",
   "execution_count": 7,
   "id": "a10dae19",
   "metadata": {},
   "outputs": [],
   "source": [
    "from batid.models import Building\n",
    "\n",
    "os.environ[\"DJANGO_ALLOW_ASYNC_UNSAFE\"] = \"true\""
   ]
  },
  {
   "cell_type": "markdown",
   "id": "efbb159e",
   "metadata": {},
   "source": [
    "## Simple score"
   ]
  },
  {
   "cell_type": "code",
   "execution_count": 15,
   "id": "1b5bc0f6",
   "metadata": {},
   "outputs": [
    {
     "name": "stdout",
     "output_type": "stream",
     "text": [
      "AVANPTEJJDWL 0\n",
      "2GGPWSY7CQFR 0\n",
      "ACSTV78B7VL4 0\n",
      "L76STBERDD5L 1\n",
      "68ZSVVE8E4GU 0\n",
      "XDLW5CC287JX 0\n",
      "NU554C13RCSP 0\n",
      "ZBDD3SEHCM3X 1\n",
      "EGX4GL2VRQE1 0\n",
      "Z1D5LKYPDEF9 1\n"
     ]
    }
   ],
   "source": [
    "q = (\n",
    "    \"SELECT id, rnb_id, \"\n",
    "    \"CASE WHEN ST_Area(shape) > 100 THEN 1 ELSE 0 END AS score \"\n",
    "    \"FROM batid_building \"\n",
    "    \"LIMIT 10\"\n",
    ")\n",
    "\n",
    "qs = Building.objects.raw(q)\n",
    "\n",
    "for b in qs:\n",
    "    print(b.rnb_id, b.score)\n"
   ]
  },
  {
   "cell_type": "markdown",
   "id": "cc43e0f3",
   "metadata": {},
   "source": [
    "## Score avec tri"
   ]
  },
  {
   "cell_type": "code",
   "execution_count": 17,
   "id": "034540f6",
   "metadata": {},
   "outputs": [
    {
     "name": "stdout",
     "output_type": "stream",
     "text": [
      "HUECQFMUPHAT 1\n",
      "6YEJGQ5A1G7C 1\n",
      "A3MAEKZXKJWY 1\n",
      "PEP2FKASPNX7 1\n",
      "X9BW3C451QP7 1\n",
      "7PATPJVCVUST 1\n",
      "ZBDD3SEHCM3X 1\n",
      "L76STBERDD5L 1\n",
      "Z1D5LKYPDEF9 1\n",
      "4LRS74Y8U8SL 1\n"
     ]
    }
   ],
   "source": [
    "q = (\n",
    "    \"SELECT id, rnb_id, \"\n",
    "    \"CASE WHEN ST_Area(shape) > 100 THEN 1 ELSE 0 END AS score \"\n",
    "    \"FROM batid_building \"\n",
    "    \"ORDER BY score DESC \"\n",
    "    \"LIMIT 10\"\n",
    ")\n",
    "\n",
    "qs = Building.objects.raw(q)\n",
    "\n",
    "for b in qs:\n",
    "    print(b.rnb_id, b.score)"
   ]
  },
  {
   "cell_type": "markdown",
   "id": "84b64eed",
   "metadata": {},
   "source": [
    "Ca fonctionne !"
   ]
  },
  {
   "cell_type": "markdown",
   "id": "23a9ddcf",
   "metadata": {},
   "source": [
    "## Combinaison de scores sur plusieurs critères"
   ]
  },
  {
   "cell_type": "code",
   "execution_count": 37,
   "id": "e7c4a672",
   "metadata": {},
   "outputs": [
    {
     "name": "stdout",
     "output_type": "stream",
     "text": [
      "HUECQFMUPHAT 1\n",
      "6YEJGQ5A1G7C 1\n",
      "A3MAEKZXKJWY 1\n",
      "PEP2FKASPNX7 1\n",
      "X9BW3C451QP7 1\n",
      "7PATPJVCVUST 1\n",
      "ZBDD3SEHCM3X 1\n",
      "L76STBERDD5L 1\n",
      "Z1D5LKYPDEF9 1\n",
      "4LRS74Y8U8SL 1\n"
     ]
    }
   ],
   "source": [
    "q = (\n",
    "    \"WITH ScoredBdgs AS (\"\n",
    "        \"SELECT id, rnb_id, \"\n",
    "        \"CASE WHEN ST_Area(shape) > 100 THEN 1 ELSE 0 END AS area_score, \"\n",
    "        \"CASE WHEN rnb_id LIKE 'PEP' THEN 1 ELSE 0 END AS x_score \"\n",
    "        \"FROM batid_building \"\n",
    "    \") \"\n",
    "    \"SELECT *, area_score + x_score as score \"\n",
    "    \"FROM ScoredBdgs \"\n",
    "    \"ORDER BY score DESC \"\n",
    "    \"LIMIT 10\"\n",
    ")\n",
    "\n",
    "qs = Building.objects.raw(q)\n",
    "\n",
    "for b in qs:\n",
    "    print(b.rnb_id, b.score)"
   ]
  },
  {
   "cell_type": "code",
   "execution_count": null,
   "id": "bd917f09",
   "metadata": {},
   "outputs": [],
   "source": []
  },
  {
   "cell_type": "code",
   "execution_count": null,
   "id": "b152001f",
   "metadata": {},
   "outputs": [],
   "source": []
  }
 ],
 "metadata": {
  "kernelspec": {
   "display_name": "Django Shell-Plus",
   "language": "python",
   "name": "django_extensions"
  },
  "language_info": {
   "codemirror_mode": {
    "name": "ipython",
    "version": 3
   },
   "file_extension": ".py",
   "mimetype": "text/x-python",
   "name": "python",
   "nbconvert_exporter": "python",
   "pygments_lexer": "ipython3",
   "version": "3.10.13"
  }
 },
 "nbformat": 4,
 "nbformat_minor": 5
}
