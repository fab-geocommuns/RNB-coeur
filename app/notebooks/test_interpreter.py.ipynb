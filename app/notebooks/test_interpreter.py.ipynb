{
 "cells": [
  {
   "cell_type": "code",
   "execution_count": 4,
   "id": "initial_id",
   "metadata": {
    "collapsed": true,
    "ExecuteTime": {
     "end_time": "2024-02-22T11:12:39.702971Z",
     "start_time": "2024-02-22T11:12:39.641851Z"
    }
   },
   "outputs": [],
   "source": [
    "import os\n",
    "from pprint import pprint\n",
    "from batid.services.geocoders import PhotonGeocoder\n",
    "# necessary for SQL query execution from Jupyter\n",
    "os.environ[\"DJANGO_ALLOW_ASYNC_UNSAFE\"] = \"true\""
   ]
  },
  {
   "cell_type": "code",
   "outputs": [
    {
     "name": "stdout",
     "output_type": "stream",
     "text": [
      "https://photon.komoot.io/api/?q=BIBLIOTHEQUE+DE+SCIENCE+PO+LILLE+%28IEP%29&lat=50.6278146&lon=3.06636349999997&limit=1\n",
      "<Response [200]>\n",
      "{'features': [{'geometry': {'coordinates': [3.134631, 50.6200149], 'type': 'Point'}, 'type': 'Feature', 'properties': {'osm_id': 38445352, 'extent': [3.134631, 50.6200441, 3.1348118, 50.6200149], 'country': 'France', 'city': \"Villeneuve-d'Ascq\", 'countrycode': 'FR', 'postcode': '59491', 'locality': 'Hôtel de Ville', 'county': 'Nord', 'type': 'street', 'osm_type': 'W', 'osm_key': 'highway', 'osm_value': 'tertiary', 'name': 'Pont des Sciences', 'state': 'Hauts-de-France'}}], 'type': 'FeatureCollection'}\n"
     ]
    }
   ],
   "source": [
    "q = \"BIBLIOTHEQUE DE SCIENCE PO LILLE (IEP)\"\n",
    "lat_lng = \"50.6278146,3.06636349999997\"\n",
    "lat_lng = lat_lng.replace(\" \", \"\")\n",
    "lat, lng = lat_lng.split(\",\")\n",
    "\n",
    "params = {\n",
    "    'q': q,\n",
    "    'lat': lat,\n",
    "    'lon': lng,\n",
    "    \"limit\": 1\n",
    "}\n",
    "\n",
    "g = PhotonGeocoder()\n",
    "r = g.geocode(params)\n",
    "print(r.url)\n",
    "pprint(r)\n",
    "print(r.json())"
   ],
   "metadata": {
    "collapsed": false,
    "ExecuteTime": {
     "end_time": "2024-02-22T11:12:48.994039Z",
     "start_time": "2024-02-22T11:12:48.448857Z"
    }
   },
   "id": "4d2904782a972449",
   "execution_count": 5
  },
  {
   "cell_type": "code",
   "outputs": [],
   "source": [],
   "metadata": {
    "collapsed": false
   },
   "id": "b75515772c1651d5"
  }
 ],
 "metadata": {
  "kernelspec": {
   "name": "django_extensions",
   "language": "python",
   "display_name": "Django Shell-Plus"
  },
  "language_info": {
   "codemirror_mode": {
    "name": "ipython",
    "version": 2
   },
   "file_extension": ".py",
   "mimetype": "text/x-python",
   "name": "python",
   "nbconvert_exporter": "python",
   "pygments_lexer": "ipython2",
   "version": "2.7.6"
  }
 },
 "nbformat": 4,
 "nbformat_minor": 5
}
