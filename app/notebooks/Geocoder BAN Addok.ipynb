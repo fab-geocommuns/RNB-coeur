{
 "cells": [
  {
   "cell_type": "code",
   "execution_count": 2,
   "id": "e9b76cb8",
   "metadata": {},
   "outputs": [],
   "source": [
    "import os\n",
    "from pprint import pprint\n",
    "from batid.services.geocoders import BanGeocoder\n",
    "# necessary for SQL query execution from Jupyter\n",
    "os.environ[\"DJANGO_ALLOW_ASYNC_UNSAFE\"] = \"true\""
   ]
  },
  {
   "cell_type": "code",
   "execution_count": 3,
   "id": "c4fff5a8",
   "metadata": {},
   "outputs": [
    {
     "name": "stdout",
     "output_type": "stream",
     "text": [
      "{'attribution': 'BAN',\n",
      " 'features': [{'geometry': {'coordinates': [5.736469, 45.179156],\n",
      "                            'type': 'Point'},\n",
      "               'properties': {'city': 'Grenoble',\n",
      "                              'citycode': '38185',\n",
      "                              'context': '38, Isère, Auvergne-Rhône-Alpes',\n",
      "                              'housenumber': '3',\n",
      "                              'id': '38185_6400_00003',\n",
      "                              'importance': 0.64764,\n",
      "                              'label': '3 Impasse Simard 38100 Grenoble',\n",
      "                              'name': '3 Impasse Simard',\n",
      "                              'postcode': '38100',\n",
      "                              'score': 0.9679672727272727,\n",
      "                              'street': 'Impasse Simard',\n",
      "                              'type': 'housenumber',\n",
      "                              'x': 914899.47,\n",
      "                              'y': 6457040.54},\n",
      "               'type': 'Feature'}],\n",
      " 'licence': 'ETALAB-2.0',\n",
      " 'limit': 5,\n",
      " 'query': '3  impasse simard, Grenoble',\n",
      " 'type': 'FeatureCollection',\n",
      " 'version': 'draft'}\n"
     ]
    }
   ],
   "source": [
    "fetcher = BanGeocoder()\n",
    "results = fetcher.geocode(\"3  impasse simard, Grenoble\")\n",
    "pprint(results)"
   ]
  },
  {
   "cell_type": "code",
   "execution_count": 4,
   "id": "e657f9f3",
   "metadata": {},
   "outputs": [
    {
     "data": {
      "text/plain": [
       "{'type': 'FeatureCollection',\n",
       " 'version': 'draft',\n",
       " 'features': [{'type': 'Feature',\n",
       "   'geometry': {'type': 'Point', 'coordinates': [5.593247, 45.361812]},\n",
       "   'properties': {'label': '14 Rue Alban et Émilienne Fagot 38500 Voiron',\n",
       "    'score': 0.9999997273665291,\n",
       "    'housenumber': '14',\n",
       "    'id': '38563_0018_00014',\n",
       "    'name': '14 Rue Alban et Émilienne Fagot',\n",
       "    'postcode': '38500',\n",
       "    'citycode': '38563',\n",
       "    'x': 902990.08,\n",
       "    'y': 6476935.37,\n",
       "    'city': 'Voiron',\n",
       "    'context': '38, Isère, Auvergne-Rhône-Alpes',\n",
       "    'type': 'housenumber',\n",
       "    'importance': 0.52155,\n",
       "    'street': 'Rue Alban et Émilienne Fagot',\n",
       "    'distance': 26}},\n",
       "  {'type': 'Feature',\n",
       "   'geometry': {'type': 'Point', 'coordinates': [5.593943, 45.361776]},\n",
       "   'properties': {'label': '70 Boulevard Franklin Roosevelt 38500 Voiron',\n",
       "    'score': 0.9999977868299292,\n",
       "    'housenumber': '70',\n",
       "    'id': '38563_0550_00070',\n",
       "    'name': '70 Boulevard Franklin Roosevelt',\n",
       "    'postcode': '38500',\n",
       "    'citycode': '38563',\n",
       "    'x': 903044.67,\n",
       "    'y': 6476933.17,\n",
       "    'city': 'Voiron',\n",
       "    'context': '38, Isère, Auvergne-Rhône-Alpes',\n",
       "    'type': 'housenumber',\n",
       "    'importance': 0.5933,\n",
       "    'street': 'Boulevard Franklin Roosevelt',\n",
       "    'distance': 74}},\n",
       "  {'type': 'Feature',\n",
       "   'geometry': {'type': 'Point', 'coordinates': [5.594034, 45.361382]},\n",
       "   'properties': {'label': '3 Rue Clément Chamarier 38500 Voiron',\n",
       "    'score': 0.9999970842439333,\n",
       "    'housenumber': '3',\n",
       "    'id': '38563_0326_00003',\n",
       "    'name': '3 Rue Clément Chamarier',\n",
       "    'postcode': '38500',\n",
       "    'citycode': '38563',\n",
       "    'x': 903053.23,\n",
       "    'y': 6476889.67,\n",
       "    'city': 'Voiron',\n",
       "    'context': '38, Isère, Auvergne-Rhône-Alpes',\n",
       "    'type': 'housenumber',\n",
       "    'importance': 0.496,\n",
       "    'street': 'Rue Clément Chamarier',\n",
       "    'distance': 85}},\n",
       "  {'type': 'Feature',\n",
       "   'geometry': {'type': 'Point', 'coordinates': [5.591544, 45.361953]},\n",
       "   'properties': {'label': 'Jardin de Ville 38500 Voiron',\n",
       "    'score': 0.999994313040479,\n",
       "    'type': 'locality',\n",
       "    'importance': 0.47573,\n",
       "    'id': '38563_77c2fj',\n",
       "    'name': 'Jardin de Ville',\n",
       "    'postcode': '38500',\n",
       "    'citycode': '38563',\n",
       "    'x': 902856.31,\n",
       "    'y': 6476946.65,\n",
       "    'city': 'Voiron',\n",
       "    'context': '38, Isère, Auvergne-Rhône-Alpes',\n",
       "    'locality': 'Jardin de Ville',\n",
       "    'distance': 119}},\n",
       "  {'type': 'Feature',\n",
       "   'geometry': {'type': 'Point', 'coordinates': [5.59284, 45.36293]},\n",
       "   'properties': {'label': '32 Rue Mainssieux 38500 Voiron',\n",
       "    'score': 0.999991809195023,\n",
       "    'housenumber': '32',\n",
       "    'id': '38563_0987_00032',\n",
       "    'name': '32 Rue Mainssieux',\n",
       "    'postcode': '38500',\n",
       "    'citycode': '38563',\n",
       "    'x': 902954.16,\n",
       "    'y': 6477058.42,\n",
       "    'city': 'Voiron',\n",
       "    'context': '38, Isère, Auvergne-Rhône-Alpes',\n",
       "    'type': 'housenumber',\n",
       "    'importance': 0.55094,\n",
       "    'street': 'Rue Mainssieux',\n",
       "    'distance': 143}}],\n",
       " 'attribution': 'BAN',\n",
       " 'licence': 'ETALAB-2.0',\n",
       " 'center': [5.593008, 45.3616477],\n",
       " 'limit': 1}"
      ]
     },
     "execution_count": 4,
     "metadata": {},
     "output_type": "execute_result"
    }
   ],
   "source": [
    "fetcher.reverse(45.3616477, 5.5930080)"
   ]
  },
  {
   "cell_type": "code",
   "execution_count": null,
   "id": "13cc03d4",
   "metadata": {},
   "outputs": [],
   "source": []
  }
 ],
 "metadata": {
  "kernelspec": {
   "display_name": "Django Shell-Plus",
   "language": "python",
   "name": "django_extensions"
  },
  "language_info": {
   "codemirror_mode": {
    "name": "ipython",
    "version": 3
   },
   "file_extension": ".py",
   "mimetype": "text/x-python",
   "name": "python",
   "nbconvert_exporter": "python",
   "pygments_lexer": "ipython3",
   "version": "3.10.13"
  }
 },
 "nbformat": 4,
 "nbformat_minor": 5
}
