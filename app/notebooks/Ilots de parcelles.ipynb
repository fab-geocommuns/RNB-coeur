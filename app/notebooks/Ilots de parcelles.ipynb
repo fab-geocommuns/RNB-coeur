{
 "cells": [
  {
   "cell_type": "code",
   "execution_count": 3,
   "id": "46f4e2b2",
   "metadata": {},
   "outputs": [
    {
     "data": {
      "text/plain": [
       "1680000"
      ]
     },
     "execution_count": 3,
     "metadata": {},
     "output_type": "execute_result"
    }
   ],
   "source": [
    "from batid.models import Plot\n",
    "import os\n",
    "\n",
    "os.environ[\"DJANGO_ALLOW_ASYNC_UNSAFE\"] = \"true\"\n",
    "\n",
    "Plot.objects.all().count()"
   ]
  },
  {
   "cell_type": "markdown",
   "id": "e78fed22",
   "metadata": {},
   "source": [
    "Après premier import on avait 1680000 parcelles enregistrées en base. Le chiffre rond est très suspect et fait penser à un import qui n'aurait pas été au bout."
   ]
  },
  {
   "cell_type": "markdown",
   "id": "0543b70a",
   "metadata": {},
   "source": [
    "## Nombre de plots ayant une shape invalid"
   ]
  },
  {
   "cell_type": "code",
   "execution_count": 6,
   "id": "9b27fbdf",
   "metadata": {},
   "outputs": [
    {
     "data": {
      "text/plain": [
       "39"
      ]
     },
     "execution_count": 6,
     "metadata": {},
     "output_type": "execute_result"
    }
   ],
   "source": [
    "Plot.objects.filter(shape__isvalid=False).count()"
   ]
  },
  {
   "cell_type": "markdown",
   "id": "6f28d9dc",
   "metadata": {},
   "source": [
    "Il n'y a que 39 formes invalides qui ont été enregistrée en base."
   ]
  }
 ],
 "metadata": {
  "kernelspec": {
   "display_name": "Django Shell-Plus",
   "language": "python",
   "name": "django_extensions"
  },
  "language_info": {
   "codemirror_mode": {
    "name": "ipython",
    "version": 3
   },
   "file_extension": ".py",
   "mimetype": "text/x-python",
   "name": "python",
   "nbconvert_exporter": "python",
   "pygments_lexer": "ipython3",
   "version": "3.10.13"
  }
 },
 "nbformat": 4,
 "nbformat_minor": 5
}
