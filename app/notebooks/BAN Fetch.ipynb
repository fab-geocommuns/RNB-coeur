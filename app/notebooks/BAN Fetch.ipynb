{
 "cells": [
  {
   "cell_type": "code",
   "execution_count": 1,
   "id": "e9b76cb8",
   "metadata": {},
   "outputs": [],
   "source": [
    "import os\n",
    "from pprint import pprint\n",
    "from batid.services.ban import BanFetcher\n",
    "# necessary for SQL query execution from Jupyter\n",
    "os.environ[\"DJANGO_ALLOW_ASYNC_UNSAFE\"] = \"true\""
   ]
  },
  {
   "cell_type": "code",
   "execution_count": 4,
   "id": "c4fff5a8",
   "metadata": {},
   "outputs": [
    {
     "name": "stdout",
     "output_type": "stream",
     "text": [
      "{'attribution': 'BAN',\n",
      " 'features': [{'geometry': {'coordinates': [5.441924, 45.563905],\n",
      "                            'type': 'Point'},\n",
      "               'properties': {'city': 'La Tour-du-Pin',\n",
      "                              'citycode': '38509',\n",
      "                              'context': '38, Isère, Auvergne-Rhône-Alpes',\n",
      "                              'housenumber': '6',\n",
      "                              'id': '38509_0495_00006',\n",
      "                              'importance': 0.52361,\n",
      "                              'label': '6 Rue Justin Vernet 38110 La '\n",
      "                                       'Tour-du-Pin',\n",
      "                              'name': '6 Rue Justin Vernet',\n",
      "                              'postcode': '38110',\n",
      "                              'score': 0.9566918181818181,\n",
      "                              'street': 'Rue Justin Vernet',\n",
      "                              'type': 'housenumber',\n",
      "                              'x': 890455,\n",
      "                              'y': 6498990.24},\n",
      "               'type': 'Feature'}],\n",
      " 'licence': 'ETALAB-2.0',\n",
      " 'limit': 5,\n",
      " 'query': '6 rue justin vernet, 38110 La Tour-du-Pin',\n",
      " 'type': 'FeatureCollection',\n",
      " 'version': 'draft'}\n"
     ]
    }
   ],
   "source": [
    "fetcher = BanFetcher()\n",
    "results = fetcher.geocode(\"6 rue justin vernet, 38110 La Tour-du-Pin\")\n",
    "pprint(results)"
   ]
  },
  {
   "cell_type": "code",
   "execution_count": 5,
   "id": "e657f9f3",
   "metadata": {},
   "outputs": [
    {
     "data": {
      "text/plain": [
       "{'type': 'FeatureCollection',\n",
       " 'version': 'draft',\n",
       " 'features': [{'type': 'Feature',\n",
       "   'geometry': {'type': 'Point', 'coordinates': [5.441924, 45.563905]},\n",
       "   'properties': {'label': '6 Rue Justin Vernet 38110 La Tour-du-Pin',\n",
       "    'score': 0.9999995544763318,\n",
       "    'housenumber': '6',\n",
       "    'id': '38509_0495_00006',\n",
       "    'name': '6 Rue Justin Vernet',\n",
       "    'postcode': '38110',\n",
       "    'citycode': '38509',\n",
       "    'x': 890455,\n",
       "    'y': 6498990.24,\n",
       "    'city': 'La Tour-du-Pin',\n",
       "    'context': '38, Isère, Auvergne-Rhône-Alpes',\n",
       "    'type': 'housenumber',\n",
       "    'importance': 0.52361,\n",
       "    'street': 'Rue Justin Vernet',\n",
       "    'distance': 33}},\n",
       "  {'type': 'Feature',\n",
       "   'geometry': {'type': 'Point', 'coordinates': [5.441742, 45.564598]},\n",
       "   'properties': {'label': '10 Rue Pierre Dupont 38110 La Tour-du-Pin',\n",
       "    'score': 0.9999990595810047,\n",
       "    'housenumber': '10',\n",
       "    'id': '38509_0730_00010',\n",
       "    'name': '10 Rue Pierre Dupont',\n",
       "    'postcode': '38110',\n",
       "    'citycode': '38509',\n",
       "    'x': 890438.43,\n",
       "    'y': 6499066.72,\n",
       "    'city': 'La Tour-du-Pin',\n",
       "    'context': '38, Isère, Auvergne-Rhône-Alpes',\n",
       "    'type': 'housenumber',\n",
       "    'importance': 0.52732,\n",
       "    'street': 'Rue Pierre Dupont',\n",
       "    'distance': 48}},\n",
       "  {'type': 'Feature',\n",
       "   'geometry': {'type': 'Point', 'coordinates': [5.442613, 45.565]},\n",
       "   'properties': {'label': '1 Rue Pierre Vincendon 38110 La Tour-du-Pin',\n",
       "    'score': 0.9999959324495911,\n",
       "    'housenumber': '1',\n",
       "    'id': '38509_0750_00001',\n",
       "    'name': '1 Rue Pierre Vincendon',\n",
       "    'postcode': '38110',\n",
       "    'citycode': '38509',\n",
       "    'x': 890504.96,\n",
       "    'y': 6499113.44,\n",
       "    'city': 'La Tour-du-Pin',\n",
       "    'context': '38, Isère, Auvergne-Rhône-Alpes',\n",
       "    'type': 'housenumber',\n",
       "    'importance': 0.58996,\n",
       "    'street': 'Rue Pierre Vincendon',\n",
       "    'distance': 100}},\n",
       "  {'type': 'Feature',\n",
       "   'geometry': {'type': 'Point', 'coordinates': [5.442067, 45.563231]},\n",
       "   'properties': {'label': '20 Rue Alsace Lorraine 38110 La Tour-du-Pin',\n",
       "    'score': 0.9999953448151614,\n",
       "    'housenumber': '20',\n",
       "    'id': '38509_ktkjot_00020',\n",
       "    'name': '20 Rue Alsace Lorraine',\n",
       "    'postcode': '38110',\n",
       "    'citycode': '38509',\n",
       "    'x': 890468.47,\n",
       "    'y': 6498915.77,\n",
       "    'city': 'La Tour-du-Pin',\n",
       "    'context': '38, Isère, Auvergne-Rhône-Alpes',\n",
       "    'type': 'housenumber',\n",
       "    'importance': 0.60707,\n",
       "    'street': 'Rue Alsace Lorraine',\n",
       "    'distance': 107}},\n",
       "  {'type': 'Feature',\n",
       "   'geometry': {'type': 'Point', 'coordinates': [5.44328, 45.564612]},\n",
       "   'properties': {'label': '5bis Rue Aristide Briand 38110 La Tour-du-Pin',\n",
       "    'score': 0.9999951941617058,\n",
       "    'housenumber': '5bis',\n",
       "    'id': '38509_0080_00005_bis',\n",
       "    'name': '5bis Rue Aristide Briand',\n",
       "    'postcode': '38110',\n",
       "    'citycode': '38509',\n",
       "    'x': 890558.3,\n",
       "    'y': 6499071.99,\n",
       "    'city': 'La Tour-du-Pin',\n",
       "    'context': '38, Isère, Auvergne-Rhône-Alpes',\n",
       "    'type': 'housenumber',\n",
       "    'importance': 0.58787,\n",
       "    'street': 'Rue Aristide Briand',\n",
       "    'distance': 109}}],\n",
       " 'attribution': 'BAN',\n",
       " 'licence': 'ETALAB-2.0',\n",
       " 'center': [5.44199947261743, 45.56420064140873],\n",
       " 'limit': 1}"
      ]
     },
     "execution_count": 5,
     "metadata": {},
     "output_type": "execute_result"
    }
   ],
   "source": [
    "fetcher.reverse(45.56420064140873, 5.44199947261743)"
   ]
  },
  {
   "cell_type": "code",
   "execution_count": null,
   "id": "13cc03d4",
   "metadata": {},
   "outputs": [],
   "source": []
  }
 ],
 "metadata": {
  "kernelspec": {
   "display_name": "Django Shell-Plus",
   "language": "python",
   "name": "django_extensions"
  },
  "language_info": {
   "codemirror_mode": {
    "name": "ipython",
    "version": 3
   },
   "file_extension": ".py",
   "mimetype": "text/x-python",
   "name": "python",
   "nbconvert_exporter": "python",
   "pygments_lexer": "ipython3",
   "version": "3.10.13"
  }
 },
 "nbformat": 4,
 "nbformat_minor": 5
}
