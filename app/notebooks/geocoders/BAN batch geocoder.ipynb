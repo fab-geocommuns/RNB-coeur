{
 "cells": [
  {
   "cell_type": "code",
   "execution_count": 3,
   "id": "00b7450d",
   "metadata": {},
   "outputs": [],
   "source": [
    "import requests"
   ]
  },
  {
   "cell_type": "code",
   "execution_count": 4,
   "id": "7e93a20c",
   "metadata": {},
   "outputs": [],
   "source": [
    "def send_csv_to_api(csv_path, url, columns=None, result_columns=None, citycode_col=None, postcode_col=None):\n",
    "    \"\"\"\n",
    "    Send a CSV file to the specified API and retrieve the result.\n",
    "    \n",
    "    :param csv_path: Path to the CSV file\n",
    "    :param url: API endpoint URL\n",
    "    :param columns: List of column names to use in address construction\n",
    "    :param result_columns: List of result columns to retrieve\n",
    "    :param citycode: Name of the column containing the INSEE code\n",
    "    :param postcode: Name of the column containing the postal code\n",
    "    :return: Response from the API\n",
    "    \"\"\"\n",
    "    # Prepare the file data payload\n",
    "    files = {'data': (csv_path, open(csv_path, 'rb'))}\n",
    "    \n",
    "    # Prepare the form data\n",
    "    data = {}\n",
    "    if columns:\n",
    "        for column in columns:\n",
    "            data.setdefault('columns', []).append(column)\n",
    "    \n",
    "    if result_columns:\n",
    "        for result_column in result_columns:\n",
    "            data.setdefault('result_columns', []).append(result_column)\n",
    "    \n",
    "    if citycode_col:\n",
    "        data['citycode'] = citycode_col\n",
    "    if postcode_col:\n",
    "        data['postcode'] = postcode_col\n",
    "\n",
    "    # Send POST request\n",
    "    response = requests.post(url, files=files, data=data)\n",
    "    \n",
    "    # Close the file\n",
    "    files['data'][1].close()\n",
    "    \n",
    "    return response"
   ]
  },
  {
   "cell_type": "code",
   "execution_count": 15,
   "id": "72b71658",
   "metadata": {},
   "outputs": [
    {
     "name": "stdout",
     "output_type": "stream",
     "text": [
      "<Response [200]>\n",
      "nom,adresse,postcode,city,result_type,result_id,result_score\n",
      "École Claude Déruet,6 Rue Albert 1er,54600,Villers-lès-Nancy,housenumber,54578_0040_00006,0.9623999999999999\n",
      "École Gilberte Monne,6 Rue d'Aquitaine,54500,Vandœuvre-lès-Nancy,housenumber,54547_0058_00006,0.9632236363636364\n",
      "École maternelle Victor Hugo,31 Rue d'Arbois,54180,Heillecourt,housenumber,54257_0008_00031,0.9611654545454545\n",
      "École maternelle Buffon,1 bis Rue de la Papeterie,54250,Champigneulles,housenumber,54115_0109_00001_bis,0.8911114624505929\n",
      "\n"
     ]
    }
   ],
   "source": [
    "\n",
    "\n",
    "csv_file_path = 'search.csv'\n",
    "api_url = 'https://api-adresse.data.gouv.fr/search/csv/'\n",
    "\n",
    "# Adjust parameters as needed\n",
    "response = send_csv_to_api(csv_file_path, api_url, columns=['adresse', 'postcode', 'city'], result_columns=['result_type', 'result_id', 'result_score'])\n",
    "\n",
    "print(response)\n",
    "\n",
    "print(response.text)\n",
    "    \n",
    "    "
   ]
  },
  {
   "cell_type": "code",
   "execution_count": 21,
   "id": "d793883b",
   "metadata": {},
   "outputs": [
    {
     "name": "stdout",
     "output_type": "stream",
     "text": [
      "adresse,latitude,longitude,result_label,result_score,result_score_next,result_type,result_id,result_housenumber,result_name,result_street,result_postcode,result_city,result_context,result_citycode,result_oldcitycode,result_oldcity,result_district,result_status\r\n",
      "52 bis avenue de moutille cénac,44.777765,-0.453223,52bis Avenue de Moutille 33360 Cénac,0.8712889149560117,0.45189132231404955,housenumber,33118_0060_00052_bis,52bis,52bis Avenue de Moutille,Avenue de Moutille,33360,Cénac,\"33, Gironde, Nouvelle-Aquitaine\",33118,,,,ok\r\n",
      "\n"
     ]
    }
   ],
   "source": [
    "from batid.services.geocoders import BanBatchGeocoder\n",
    "\n",
    "\n",
    "data = [{\n",
    "    'adresse': '52 bis avenue de moutille cénac'\n",
    "}]\n",
    "\n",
    "geocoder = BanBatchGeocoder()\n",
    "r = geocoder.geocode(data)\n",
    "\n",
    "print(r.text)\n",
    "\n",
    "\n",
    "\n"
   ]
  },
  {
   "cell_type": "code",
   "execution_count": null,
   "id": "15ac1f86",
   "metadata": {},
   "outputs": [],
   "source": []
  },
  {
   "cell_type": "code",
   "execution_count": null,
   "id": "f70798a1",
   "metadata": {},
   "outputs": [],
   "source": []
  }
 ],
 "metadata": {
  "kernelspec": {
   "display_name": "Django Shell-Plus",
   "language": "python",
   "name": "django_extensions"
  },
  "language_info": {
   "codemirror_mode": {
    "name": "ipython",
    "version": 3
   },
   "file_extension": ".py",
   "mimetype": "text/x-python",
   "name": "python",
   "nbconvert_exporter": "python",
   "pygments_lexer": "ipython3",
   "version": "3.10.14"
  }
 },
 "nbformat": 4,
 "nbformat_minor": 5
}
